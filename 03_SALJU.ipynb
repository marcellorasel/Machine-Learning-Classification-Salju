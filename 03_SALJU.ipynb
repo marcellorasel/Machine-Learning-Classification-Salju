{
  "nbformat": 4,
  "nbformat_minor": 0,
  "metadata": {
    "colab": {
      "name": "03_SALJU.ipynb",
      "provenance": [],
      "collapsed_sections": [],
      "toc_visible": true
    },
    "kernelspec": {
      "name": "python3",
      "display_name": "Python 3"
    },
    "language_info": {
      "name": "python"
    }
  },
  "cells": [
    {
      "cell_type": "markdown",
      "metadata": {
        "id": "BGnPOBM-vqnx"
      },
      "source": [
        "# Tugas Besar Tahap 2 Classification <br>\n",
        "# Nama Anggota Kelompok : <br>\n",
        " **1. Anang Furkon Rifai - 1301180229** <br>\n",
        " **2. Marcello Rasel Hidayatullah - 1301184019**"
      ]
    },
    {
      "cell_type": "markdown",
      "metadata": {
        "id": "TwbholzUwTso"
      },
      "source": [
        "# Import Library"
      ]
    },
    {
      "cell_type": "code",
      "metadata": {
        "id": "qaZNSmbovkcm"
      },
      "source": [
        "import pandas as pd\n",
        "import matplotlib.pyplot as plt\n",
        "import numpy as np\n",
        "import seaborn as sns\n",
        "import random\n",
        "import sklearn as sk\n",
        "from sklearn.preprocessing import LabelEncoder\n",
        "from sklearn import tree\n",
        "from sklearn.linear_model import LogisticRegression\n",
        "from sklearn import metrics\n",
        "from sklearn.metrics import classification_report\n",
        "from sklearn.naive_bayes import GaussianNB"
      ],
      "execution_count": 130,
      "outputs": []
    },
    {
      "cell_type": "markdown",
      "metadata": {
        "id": "ZZX18-hpwYK7"
      },
      "source": [
        "# Load Dataset"
      ]
    },
    {
      "cell_type": "code",
      "metadata": {
        "id": "whV8TOOL3Aci"
      },
      "source": [
        "test = \"https://raw.githubusercontent.com/marcellorasel/Tubes-ML-Classification/main/salju_test.csv\"\n",
        "train = \"https://raw.githubusercontent.com/marcellorasel/Tubes-ML-Classification/main/salju_train.csv\""
      ],
      "execution_count": 131,
      "outputs": []
    },
    {
      "cell_type": "code",
      "metadata": {
        "colab": {
          "base_uri": "https://localhost:8080/",
          "height": 217
        },
        "id": "ql0BQfWjwzGG",
        "outputId": "f5b9f4d9-5846-4967-bdaf-d86f6ebe6b19"
      },
      "source": [
        "# Dataset Test\n",
        "salju_test = pd.read_csv(test) \n",
        "\n",
        "# Mengganti nama kolom \"BersaljuBesok\" menjadi \"Class\"\n",
        "salju_test.rename(columns={'BersaljuBesok':'Class'}, inplace=True)\n",
        "\n",
        "salju_test.head()"
      ],
      "execution_count": 132,
      "outputs": [
        {
          "output_type": "execute_result",
          "data": {
            "text/html": [
              "<div>\n",
              "<style scoped>\n",
              "    .dataframe tbody tr th:only-of-type {\n",
              "        vertical-align: middle;\n",
              "    }\n",
              "\n",
              "    .dataframe tbody tr th {\n",
              "        vertical-align: top;\n",
              "    }\n",
              "\n",
              "    .dataframe thead th {\n",
              "        text-align: right;\n",
              "    }\n",
              "</style>\n",
              "<table border=\"1\" class=\"dataframe\">\n",
              "  <thead>\n",
              "    <tr style=\"text-align: right;\">\n",
              "      <th></th>\n",
              "      <th>Tanggal</th>\n",
              "      <th>KodeLokasi</th>\n",
              "      <th>SuhuMin</th>\n",
              "      <th>SuhuMax</th>\n",
              "      <th>Hujan</th>\n",
              "      <th>Penguapan</th>\n",
              "      <th>SinarMatahari</th>\n",
              "      <th>ArahAnginTerkencang</th>\n",
              "      <th>KecepatanAnginTerkencang</th>\n",
              "      <th>ArahAngin9am</th>\n",
              "      <th>ArahAngin3pm</th>\n",
              "      <th>KecepatanAngin9am</th>\n",
              "      <th>KecepatanAngin3pm</th>\n",
              "      <th>Kelembaban9am</th>\n",
              "      <th>Kelembaban3pm</th>\n",
              "      <th>Tekanan9am</th>\n",
              "      <th>Tekanan3pm</th>\n",
              "      <th>Awan9am</th>\n",
              "      <th>Awan3pm</th>\n",
              "      <th>Suhu9am</th>\n",
              "      <th>Suhu3pm</th>\n",
              "      <th>BersaljuHariIni</th>\n",
              "      <th>Class</th>\n",
              "    </tr>\n",
              "  </thead>\n",
              "  <tbody>\n",
              "    <tr>\n",
              "      <th>0</th>\n",
              "      <td>04/11/2010</td>\n",
              "      <td>C39</td>\n",
              "      <td>11.0</td>\n",
              "      <td>27.5</td>\n",
              "      <td>0.0</td>\n",
              "      <td>NaN</td>\n",
              "      <td>6.4</td>\n",
              "      <td>WSW</td>\n",
              "      <td>46.0</td>\n",
              "      <td>W</td>\n",
              "      <td>W</td>\n",
              "      <td>20.0</td>\n",
              "      <td>28.0</td>\n",
              "      <td>39.0</td>\n",
              "      <td>56.0</td>\n",
              "      <td>1013.0</td>\n",
              "      <td>1012.4</td>\n",
              "      <td>4.0</td>\n",
              "      <td>7.0</td>\n",
              "      <td>25.7</td>\n",
              "      <td>23.6</td>\n",
              "      <td>No</td>\n",
              "      <td>No</td>\n",
              "    </tr>\n",
              "    <tr>\n",
              "      <th>1</th>\n",
              "      <td>26/03/2015</td>\n",
              "      <td>C35</td>\n",
              "      <td>10.0</td>\n",
              "      <td>19.9</td>\n",
              "      <td>0.2</td>\n",
              "      <td>NaN</td>\n",
              "      <td>NaN</td>\n",
              "      <td>WNW</td>\n",
              "      <td>56.0</td>\n",
              "      <td>W</td>\n",
              "      <td>NW</td>\n",
              "      <td>24.0</td>\n",
              "      <td>33.0</td>\n",
              "      <td>76.0</td>\n",
              "      <td>32.0</td>\n",
              "      <td>1017.0</td>\n",
              "      <td>1015.2</td>\n",
              "      <td>8.0</td>\n",
              "      <td>1.0</td>\n",
              "      <td>10.7</td>\n",
              "      <td>18.9</td>\n",
              "      <td>No</td>\n",
              "      <td>Yes</td>\n",
              "    </tr>\n",
              "    <tr>\n",
              "      <th>2</th>\n",
              "      <td>22/03/2016</td>\n",
              "      <td>C18</td>\n",
              "      <td>9.2</td>\n",
              "      <td>27.2</td>\n",
              "      <td>0.0</td>\n",
              "      <td>5.2</td>\n",
              "      <td>10.4</td>\n",
              "      <td>SSW</td>\n",
              "      <td>33.0</td>\n",
              "      <td>NE</td>\n",
              "      <td>N</td>\n",
              "      <td>13.0</td>\n",
              "      <td>19.0</td>\n",
              "      <td>89.0</td>\n",
              "      <td>27.0</td>\n",
              "      <td>1018.6</td>\n",
              "      <td>1015.7</td>\n",
              "      <td>0.0</td>\n",
              "      <td>1.0</td>\n",
              "      <td>13.9</td>\n",
              "      <td>26.3</td>\n",
              "      <td>No</td>\n",
              "      <td>No</td>\n",
              "    </tr>\n",
              "    <tr>\n",
              "      <th>3</th>\n",
              "      <td>09/12/2011</td>\n",
              "      <td>C31</td>\n",
              "      <td>17.7</td>\n",
              "      <td>27.0</td>\n",
              "      <td>0.0</td>\n",
              "      <td>4.6</td>\n",
              "      <td>6.7</td>\n",
              "      <td>SW</td>\n",
              "      <td>35.0</td>\n",
              "      <td>E</td>\n",
              "      <td>SSE</td>\n",
              "      <td>20.0</td>\n",
              "      <td>15.0</td>\n",
              "      <td>55.0</td>\n",
              "      <td>41.0</td>\n",
              "      <td>1010.2</td>\n",
              "      <td>1008.6</td>\n",
              "      <td>7.0</td>\n",
              "      <td>6.0</td>\n",
              "      <td>22.3</td>\n",
              "      <td>26.4</td>\n",
              "      <td>No</td>\n",
              "      <td>No</td>\n",
              "    </tr>\n",
              "    <tr>\n",
              "      <th>4</th>\n",
              "      <td>20/05/2017</td>\n",
              "      <td>C14</td>\n",
              "      <td>2.3</td>\n",
              "      <td>7.9</td>\n",
              "      <td>88.0</td>\n",
              "      <td>NaN</td>\n",
              "      <td>NaN</td>\n",
              "      <td>NW</td>\n",
              "      <td>46.0</td>\n",
              "      <td>W</td>\n",
              "      <td>WNW</td>\n",
              "      <td>13.0</td>\n",
              "      <td>9.0</td>\n",
              "      <td>98.0</td>\n",
              "      <td>95.0</td>\n",
              "      <td>NaN</td>\n",
              "      <td>NaN</td>\n",
              "      <td>NaN</td>\n",
              "      <td>NaN</td>\n",
              "      <td>4.4</td>\n",
              "      <td>6.0</td>\n",
              "      <td>Yes</td>\n",
              "      <td>No</td>\n",
              "    </tr>\n",
              "  </tbody>\n",
              "</table>\n",
              "</div>"
            ],
            "text/plain": [
              "      Tanggal KodeLokasi  SuhuMin  ...  Suhu3pm  BersaljuHariIni  Class\n",
              "0  04/11/2010        C39     11.0  ...     23.6               No     No\n",
              "1  26/03/2015        C35     10.0  ...     18.9               No    Yes\n",
              "2  22/03/2016        C18      9.2  ...     26.3               No     No\n",
              "3  09/12/2011        C31     17.7  ...     26.4               No     No\n",
              "4  20/05/2017        C14      2.3  ...      6.0              Yes     No\n",
              "\n",
              "[5 rows x 23 columns]"
            ]
          },
          "metadata": {
            "tags": []
          },
          "execution_count": 132
        }
      ]
    },
    {
      "cell_type": "code",
      "metadata": {
        "colab": {
          "base_uri": "https://localhost:8080/",
          "height": 217
        },
        "id": "xJurawPwxO2Z",
        "outputId": "5c54b4b7-bdf1-4bd2-ff99-da0d225be479"
      },
      "source": [
        "# Dataset Train\n",
        "salju_train = pd.read_csv(train)\n",
        "\n",
        "# Mengganti nama kolom 'BersaljuBesok' menjadi 'Class'\n",
        "salju_train.rename(columns={'BersaljuBesok':'Class'}, inplace=True)\n",
        "\n",
        "# Drop Kolom id agar jumlah kolom data train & data test sama\n",
        "salju_train = salju_train.drop(columns=['id'])\n",
        "\n",
        "salju_train.head()"
      ],
      "execution_count": 133,
      "outputs": [
        {
          "output_type": "execute_result",
          "data": {
            "text/html": [
              "<div>\n",
              "<style scoped>\n",
              "    .dataframe tbody tr th:only-of-type {\n",
              "        vertical-align: middle;\n",
              "    }\n",
              "\n",
              "    .dataframe tbody tr th {\n",
              "        vertical-align: top;\n",
              "    }\n",
              "\n",
              "    .dataframe thead th {\n",
              "        text-align: right;\n",
              "    }\n",
              "</style>\n",
              "<table border=\"1\" class=\"dataframe\">\n",
              "  <thead>\n",
              "    <tr style=\"text-align: right;\">\n",
              "      <th></th>\n",
              "      <th>Tanggal</th>\n",
              "      <th>KodeLokasi</th>\n",
              "      <th>SuhuMin</th>\n",
              "      <th>SuhuMax</th>\n",
              "      <th>Hujan</th>\n",
              "      <th>Penguapan</th>\n",
              "      <th>SinarMatahari</th>\n",
              "      <th>ArahAnginTerkencang</th>\n",
              "      <th>KecepatanAnginTerkencang</th>\n",
              "      <th>ArahAngin9am</th>\n",
              "      <th>ArahAngin3pm</th>\n",
              "      <th>KecepatanAngin9am</th>\n",
              "      <th>KecepatanAngin3pm</th>\n",
              "      <th>Kelembaban9am</th>\n",
              "      <th>Kelembaban3pm</th>\n",
              "      <th>Tekanan9am</th>\n",
              "      <th>Tekanan3pm</th>\n",
              "      <th>Awan9am</th>\n",
              "      <th>Awan3pm</th>\n",
              "      <th>Suhu9am</th>\n",
              "      <th>Suhu3pm</th>\n",
              "      <th>BersaljuHariIni</th>\n",
              "      <th>Class</th>\n",
              "    </tr>\n",
              "  </thead>\n",
              "  <tbody>\n",
              "    <tr>\n",
              "      <th>0</th>\n",
              "      <td>01/06/2014</td>\n",
              "      <td>C4</td>\n",
              "      <td>10.4</td>\n",
              "      <td>15.5</td>\n",
              "      <td>4.8</td>\n",
              "      <td>NaN</td>\n",
              "      <td>NaN</td>\n",
              "      <td>WSW</td>\n",
              "      <td>24.0</td>\n",
              "      <td>NaN</td>\n",
              "      <td>WSW</td>\n",
              "      <td>0.0</td>\n",
              "      <td>13.0</td>\n",
              "      <td>78.0</td>\n",
              "      <td>76.0</td>\n",
              "      <td>1020.1</td>\n",
              "      <td>1018.5</td>\n",
              "      <td>NaN</td>\n",
              "      <td>NaN</td>\n",
              "      <td>13.1</td>\n",
              "      <td>15.0</td>\n",
              "      <td>Ya</td>\n",
              "      <td>Tidak</td>\n",
              "    </tr>\n",
              "    <tr>\n",
              "      <th>1</th>\n",
              "      <td>15/07/2014</td>\n",
              "      <td>C10</td>\n",
              "      <td>9.0</td>\n",
              "      <td>17.0</td>\n",
              "      <td>8.0</td>\n",
              "      <td>2.6</td>\n",
              "      <td>7.4</td>\n",
              "      <td>NaN</td>\n",
              "      <td>NaN</td>\n",
              "      <td>SW</td>\n",
              "      <td>WNW</td>\n",
              "      <td>13.0</td>\n",
              "      <td>20.0</td>\n",
              "      <td>80.0</td>\n",
              "      <td>61.0</td>\n",
              "      <td>1015.2</td>\n",
              "      <td>1014.6</td>\n",
              "      <td>7.0</td>\n",
              "      <td>5.0</td>\n",
              "      <td>11.9</td>\n",
              "      <td>15.5</td>\n",
              "      <td>Ya</td>\n",
              "      <td>Ya</td>\n",
              "    </tr>\n",
              "    <tr>\n",
              "      <th>2</th>\n",
              "      <td>16/02/2011</td>\n",
              "      <td>C46</td>\n",
              "      <td>18.2</td>\n",
              "      <td>32.0</td>\n",
              "      <td>0.0</td>\n",
              "      <td>NaN</td>\n",
              "      <td>NaN</td>\n",
              "      <td>ESE</td>\n",
              "      <td>44.0</td>\n",
              "      <td>SE</td>\n",
              "      <td>SE</td>\n",
              "      <td>15.0</td>\n",
              "      <td>26.0</td>\n",
              "      <td>62.0</td>\n",
              "      <td>42.0</td>\n",
              "      <td>NaN</td>\n",
              "      <td>NaN</td>\n",
              "      <td>NaN</td>\n",
              "      <td>NaN</td>\n",
              "      <td>23.8</td>\n",
              "      <td>29.6</td>\n",
              "      <td>Tidak</td>\n",
              "      <td>Tidak</td>\n",
              "    </tr>\n",
              "    <tr>\n",
              "      <th>3</th>\n",
              "      <td>08/08/2012</td>\n",
              "      <td>C36</td>\n",
              "      <td>7.3</td>\n",
              "      <td>24.5</td>\n",
              "      <td>0.0</td>\n",
              "      <td>8.4</td>\n",
              "      <td>10.4</td>\n",
              "      <td>SSW</td>\n",
              "      <td>54.0</td>\n",
              "      <td>N</td>\n",
              "      <td>SW</td>\n",
              "      <td>13.0</td>\n",
              "      <td>19.0</td>\n",
              "      <td>25.0</td>\n",
              "      <td>17.0</td>\n",
              "      <td>1019.2</td>\n",
              "      <td>1016.9</td>\n",
              "      <td>1.0</td>\n",
              "      <td>7.0</td>\n",
              "      <td>15.3</td>\n",
              "      <td>23.2</td>\n",
              "      <td>Tidak</td>\n",
              "      <td>Tidak</td>\n",
              "    </tr>\n",
              "    <tr>\n",
              "      <th>4</th>\n",
              "      <td>29/10/2016</td>\n",
              "      <td>C7</td>\n",
              "      <td>5.9</td>\n",
              "      <td>20.3</td>\n",
              "      <td>0.0</td>\n",
              "      <td>3.6</td>\n",
              "      <td>12.6</td>\n",
              "      <td>N</td>\n",
              "      <td>37.0</td>\n",
              "      <td>NNW</td>\n",
              "      <td>ESE</td>\n",
              "      <td>22.0</td>\n",
              "      <td>19.0</td>\n",
              "      <td>55.0</td>\n",
              "      <td>48.0</td>\n",
              "      <td>1019.7</td>\n",
              "      <td>1014.7</td>\n",
              "      <td>2.0</td>\n",
              "      <td>6.0</td>\n",
              "      <td>12.4</td>\n",
              "      <td>18.1</td>\n",
              "      <td>Tidak</td>\n",
              "      <td>Tidak</td>\n",
              "    </tr>\n",
              "  </tbody>\n",
              "</table>\n",
              "</div>"
            ],
            "text/plain": [
              "      Tanggal KodeLokasi  SuhuMin  ...  Suhu3pm  BersaljuHariIni  Class\n",
              "0  01/06/2014         C4     10.4  ...     15.0               Ya  Tidak\n",
              "1  15/07/2014        C10      9.0  ...     15.5               Ya     Ya\n",
              "2  16/02/2011        C46     18.2  ...     29.6            Tidak  Tidak\n",
              "3  08/08/2012        C36      7.3  ...     23.2            Tidak  Tidak\n",
              "4  29/10/2016         C7      5.9  ...     18.1            Tidak  Tidak\n",
              "\n",
              "[5 rows x 23 columns]"
            ]
          },
          "metadata": {
            "tags": []
          },
          "execution_count": 133
        }
      ]
    },
    {
      "cell_type": "markdown",
      "metadata": {
        "id": "dOpMxMiHzibb"
      },
      "source": [
        "# Pre Processing Data"
      ]
    },
    {
      "cell_type": "code",
      "metadata": {
        "colab": {
          "base_uri": "https://localhost:8080/"
        },
        "id": "_n4BdBT0yZMQ",
        "outputId": "38365667-2be6-4015-b6e3-fa42fcbc7228"
      },
      "source": [
        "# Mengecek jumlah data pada kolom 'Class' pada data test\n",
        "salju_test['Class'].value_counts()"
      ],
      "execution_count": 134,
      "outputs": [
        {
          "output_type": "execute_result",
          "data": {
            "text/plain": [
              "No     13824\n",
              "Yes     3939\n",
              "Name: Class, dtype: int64"
            ]
          },
          "metadata": {
            "tags": []
          },
          "execution_count": 134
        }
      ]
    },
    {
      "cell_type": "code",
      "metadata": {
        "colab": {
          "base_uri": "https://localhost:8080/"
        },
        "id": "pyLqBgiXyxYj",
        "outputId": "959794ef-8ff3-4d6b-8260-9f256c96c99c"
      },
      "source": [
        "# Mengecek jumlah data pada kolom 'Class' pada data train\n",
        "salju_train['Class'].value_counts()"
      ],
      "execution_count": 135,
      "outputs": [
        {
          "output_type": "execute_result",
          "data": {
            "text/plain": [
              "Tidak    82701\n",
              "Ya       23963\n",
              "Name: Class, dtype: int64"
            ]
          },
          "metadata": {
            "tags": []
          },
          "execution_count": 135
        }
      ]
    },
    {
      "cell_type": "code",
      "metadata": {
        "colab": {
          "base_uri": "https://localhost:8080/",
          "height": 334
        },
        "id": "jygL_-u-zBCO",
        "outputId": "adef172b-78ce-40bb-869e-48d5711cb968"
      },
      "source": [
        "# Memvisualisasi data pada kolom 'Class' pada data train\n",
        "train_plot = sns.countplot(salju_train['Class'])\n",
        "train_plot.set_xticklabels(['Tidak','Ya'])\n",
        "plt.show()"
      ],
      "execution_count": 136,
      "outputs": [
        {
          "output_type": "stream",
          "text": [
            "/usr/local/lib/python3.7/dist-packages/seaborn/_decorators.py:43: FutureWarning: Pass the following variable as a keyword arg: x. From version 0.12, the only valid positional argument will be `data`, and passing other arguments without an explicit keyword will result in an error or misinterpretation.\n",
            "  FutureWarning\n"
          ],
          "name": "stderr"
        },
        {
          "output_type": "display_data",
          "data": {
            "image/png": "[encoded data removed]",
            "text/plain": [
              "<Figure size 432x288 with 1 Axes>"
            ]
          },
          "metadata": {
            "tags": [],
            "needs_background": "light"
          }
        }
      ]
    },
    {
      "cell_type": "markdown",
      "metadata": {
        "id": "-q9cn0MSTKI9"
      },
      "source": [
        "## Pre Processing Data Train"
      ]
    },
    {
      "cell_type": "code",
      "metadata": {
        "id": "MAZemqsRzm9N",
        "colab": {
          "base_uri": "https://localhost:8080/"
        },
        "outputId": "61947cdc-8649-4d7e-94f7-14449b1cc163"
      },
      "source": [
        "train_0 = salju_train[salju_train['Class'] == 'Tidak']\n",
        "train_1 = salju_train[salju_train['Class'] == 'Ya']\n",
        "\n",
        "print(\"Class 0 :\", train_0.shape)\n",
        "print(\"Class 1 :\", train_1.shape)"
      ],
      "execution_count": 137,
      "outputs": [
        {
          "output_type": "stream",
          "text": [
            "Class 0 : (82701, 23)\n",
            "Class 1 : (23963, 23)\n"
          ],
          "name": "stdout"
        }
      ]
    },
    {
      "cell_type": "code",
      "metadata": {
        "colab": {
          "base_uri": "https://localhost:8080/"
        },
        "id": "tjKjAvSZR55e",
        "outputId": "3504e5f6-d668-40da-9d7f-ef38896e7e4b"
      },
      "source": [
        "# Oversampling Data\n",
        "train_count_0, train_count_1 = salju_train['Class'].value_counts()\n",
        "train_1_over = train_1.sample(train_count_0, replace = True)\n",
        "\n",
        "salju_train_sampling = pd.concat([train_1_over, train_0], axis=0)\n",
        "\n",
        "print(\"Total Class 1 and 0 :\", salju_train_sampling['Class'].value_counts())"
      ],
      "execution_count": 138,
      "outputs": [
        {
          "output_type": "stream",
          "text": [
            "Total Class 1 and 0 : Ya       82701\n",
            "Tidak    82701\n",
            "Name: Class, dtype: int64\n"
          ],
          "name": "stdout"
        }
      ]
    },
    {
      "cell_type": "code",
      "metadata": {
        "colab": {
          "base_uri": "https://localhost:8080/"
        },
        "id": "Yohe98jZS-YK",
        "outputId": "a0778c6e-03f8-4858-cd71-6f65c9cdbce9"
      },
      "source": [
        "# Mengecek missing values\n",
        "salju_train_sampling.isnull().sum()"
      ],
      "execution_count": 139,
      "outputs": [
        {
          "output_type": "execute_result",
          "data": {
            "text/plain": [
              "Tanggal                         0\n",
              "KodeLokasi                      0\n",
              "SuhuMin                       794\n",
              "SuhuMax                       335\n",
              "Hujan                        2318\n",
              "Penguapan                   71359\n",
              "SinarMatahari               78678\n",
              "ArahAnginTerkencang         11594\n",
              "KecepatanAnginTerkencang    11507\n",
              "ArahAngin9am                10999\n",
              "ArahAngin3pm                 4856\n",
              "KecepatanAngin9am            1633\n",
              "KecepatanAngin3pm            3292\n",
              "Kelembaban9am                2320\n",
              "Kelembaban3pm                4523\n",
              "Tekanan9am                  16319\n",
              "Tekanan3pm                  16330\n",
              "Awan9am                     60896\n",
              "Awan3pm                     64208\n",
              "Suhu9am                      1227\n",
              "Suhu3pm                      3445\n",
              "BersaljuHariIni              2318\n",
              "Class                           0\n",
              "dtype: int64"
            ]
          },
          "metadata": {
            "tags": []
          },
          "execution_count": 139
        }
      ]
    },
    {
      "cell_type": "code",
      "metadata": {
        "id": "7c5zY2C4TfOw"
      },
      "source": [
        "# Mengatasi Missing Values\n",
        "salju_train_sampling.fillna(salju_train_sampling.median(), inplace=True)                # Nilai Numeric diisi dengan nilai median\n",
        "salju_train_sampling = salju_train_sampling.fillna(salju_train_sampling.mode().iloc[0]) # Nilai String diisi dengan nilai yang paling sering muncul pada atribut"
      ],
      "execution_count": 140,
      "outputs": []
    },
    {
      "cell_type": "code",
      "metadata": {
        "colab": {
          "base_uri": "https://localhost:8080/"
        },
        "id": "zY4PligBq7et",
        "outputId": "8cf7cabb-9065-4041-a10a-c78f28213c1e"
      },
      "source": [
        "# Mengecek missing values\n",
        "salju_train_sampling.isnull().sum()"
      ],
      "execution_count": 141,
      "outputs": [
        {
          "output_type": "execute_result",
          "data": {
            "text/plain": [
              "Tanggal                     0\n",
              "KodeLokasi                  0\n",
              "SuhuMin                     0\n",
              "SuhuMax                     0\n",
              "Hujan                       0\n",
              "Penguapan                   0\n",
              "SinarMatahari               0\n",
              "ArahAnginTerkencang         0\n",
              "KecepatanAnginTerkencang    0\n",
              "ArahAngin9am                0\n",
              "ArahAngin3pm                0\n",
              "KecepatanAngin9am           0\n",
              "KecepatanAngin3pm           0\n",
              "Kelembaban9am               0\n",
              "Kelembaban3pm               0\n",
              "Tekanan9am                  0\n",
              "Tekanan3pm                  0\n",
              "Awan9am                     0\n",
              "Awan3pm                     0\n",
              "Suhu9am                     0\n",
              "Suhu3pm                     0\n",
              "BersaljuHariIni             0\n",
              "Class                       0\n",
              "dtype: int64"
            ]
          },
          "metadata": {
            "tags": []
          },
          "execution_count": 141
        }
      ]
    },
    {
      "cell_type": "code",
      "metadata": {
        "colab": {
          "base_uri": "https://localhost:8080/"
        },
        "id": "RFlSlnSVnKvd",
        "outputId": "fee25204-c408-4da7-e5b6-9911b8b46f8a"
      },
      "source": [
        "# Mengecek type atribut\n",
        "print(salju_train_sampling.dtypes)"
      ],
      "execution_count": 142,
      "outputs": [
        {
          "output_type": "stream",
          "text": [
            "Tanggal                      object\n",
            "KodeLokasi                   object\n",
            "SuhuMin                     float64\n",
            "SuhuMax                     float64\n",
            "Hujan                       float64\n",
            "Penguapan                   float64\n",
            "SinarMatahari               float64\n",
            "ArahAnginTerkencang          object\n",
            "KecepatanAnginTerkencang    float64\n",
            "ArahAngin9am                 object\n",
            "ArahAngin3pm                 object\n",
            "KecepatanAngin9am           float64\n",
            "KecepatanAngin3pm           float64\n",
            "Kelembaban9am               float64\n",
            "Kelembaban3pm               float64\n",
            "Tekanan9am                  float64\n",
            "Tekanan3pm                  float64\n",
            "Awan9am                     float64\n",
            "Awan3pm                     float64\n",
            "Suhu9am                     float64\n",
            "Suhu3pm                     float64\n",
            "BersaljuHariIni              object\n",
            "Class                        object\n",
            "dtype: object\n"
          ],
          "name": "stdout"
        }
      ]
    },
    {
      "cell_type": "code",
      "metadata": {
        "id": "BBXj6PkpQmoI"
      },
      "source": [
        "# Menentukan Fitur Categorical\n",
        "numerics = ['int8', 'int16', 'int32', 'int64', 'float16', 'float32', 'float64']\n",
        "categorical_columns = []\n",
        "features = salju_train_sampling.columns.values.tolist()\n",
        "for col in features:\n",
        "    if salju_train_sampling[col].dtype in numerics: continue\n",
        "    categorical_columns.append(col)\n",
        "\n",
        "# Encoding Fitur Categorical\n",
        "for col in categorical_columns:\n",
        "    if col in salju_train_sampling.columns:\n",
        "        enco = LabelEncoder()\n",
        "        enco.fit(list(salju_train_sampling[col].astype(str).values))\n",
        "        salju_train_sampling[col] = enco.transform(list(salju_train_sampling[col].astype(str).values))"
      ],
      "execution_count": 143,
      "outputs": []
    },
    {
      "cell_type": "code",
      "metadata": {
        "colab": {
          "base_uri": "https://localhost:8080/"
        },
        "id": "E6ajmut7nJ7b",
        "outputId": "a271ed1a-1f46-484a-9086-00e118910ff8"
      },
      "source": [
        "# Mengecek type atribut\n",
        "print(salju_train_sampling.dtypes)"
      ],
      "execution_count": 144,
      "outputs": [
        {
          "output_type": "stream",
          "text": [
            "Tanggal                       int64\n",
            "KodeLokasi                    int64\n",
            "SuhuMin                     float64\n",
            "SuhuMax                     float64\n",
            "Hujan                       float64\n",
            "Penguapan                   float64\n",
            "SinarMatahari               float64\n",
            "ArahAnginTerkencang           int64\n",
            "KecepatanAnginTerkencang    float64\n",
            "ArahAngin9am                  int64\n",
            "ArahAngin3pm                  int64\n",
            "KecepatanAngin9am           float64\n",
            "KecepatanAngin3pm           float64\n",
            "Kelembaban9am               float64\n",
            "Kelembaban3pm               float64\n",
            "Tekanan9am                  float64\n",
            "Tekanan3pm                  float64\n",
            "Awan9am                     float64\n",
            "Awan3pm                     float64\n",
            "Suhu9am                     float64\n",
            "Suhu3pm                     float64\n",
            "BersaljuHariIni               int64\n",
            "Class                         int64\n",
            "dtype: object\n"
          ],
          "name": "stdout"
        }
      ]
    },
    {
      "cell_type": "code",
      "metadata": {
        "colab": {
          "base_uri": "https://localhost:8080/",
          "height": 217
        },
        "id": "OndySctwQ79I",
        "outputId": "33b59063-3873-44b9-94ae-19afc8a0ab50"
      },
      "source": [
        "salju_train_sampling.head()"
      ],
      "execution_count": 145,
      "outputs": [
        {
          "output_type": "execute_result",
          "data": {
            "text/html": [
              "<div>\n",
              "<style scoped>\n",
              "    .dataframe tbody tr th:only-of-type {\n",
              "        vertical-align: middle;\n",
              "    }\n",
              "\n",
              "    .dataframe tbody tr th {\n",
              "        vertical-align: top;\n",
              "    }\n",
              "\n",
              "    .dataframe thead th {\n",
              "        text-align: right;\n",
              "    }\n",
              "</style>\n",
              "<table border=\"1\" class=\"dataframe\">\n",
              "  <thead>\n",
              "    <tr style=\"text-align: right;\">\n",
              "      <th></th>\n",
              "      <th>Tanggal</th>\n",
              "      <th>KodeLokasi</th>\n",
              "      <th>SuhuMin</th>\n",
              "      <th>SuhuMax</th>\n",
              "      <th>Hujan</th>\n",
              "      <th>Penguapan</th>\n",
              "      <th>SinarMatahari</th>\n",
              "      <th>ArahAnginTerkencang</th>\n",
              "      <th>KecepatanAnginTerkencang</th>\n",
              "      <th>ArahAngin9am</th>\n",
              "      <th>ArahAngin3pm</th>\n",
              "      <th>KecepatanAngin9am</th>\n",
              "      <th>KecepatanAngin3pm</th>\n",
              "      <th>Kelembaban9am</th>\n",
              "      <th>Kelembaban3pm</th>\n",
              "      <th>Tekanan9am</th>\n",
              "      <th>Tekanan3pm</th>\n",
              "      <th>Awan9am</th>\n",
              "      <th>Awan3pm</th>\n",
              "      <th>Suhu9am</th>\n",
              "      <th>Suhu3pm</th>\n",
              "      <th>BersaljuHariIni</th>\n",
              "      <th>Class</th>\n",
              "    </tr>\n",
              "  </thead>\n",
              "  <tbody>\n",
              "    <tr>\n",
              "      <th>23160</th>\n",
              "      <td>2465</td>\n",
              "      <td>18</td>\n",
              "      <td>16.9</td>\n",
              "      <td>32.9</td>\n",
              "      <td>0.0</td>\n",
              "      <td>4.4</td>\n",
              "      <td>6.8</td>\n",
              "      <td>6</td>\n",
              "      <td>89.0</td>\n",
              "      <td>14</td>\n",
              "      <td>1</td>\n",
              "      <td>9.0</td>\n",
              "      <td>17.0</td>\n",
              "      <td>79.0</td>\n",
              "      <td>47.0</td>\n",
              "      <td>1016.8</td>\n",
              "      <td>1012.5</td>\n",
              "      <td>4.0</td>\n",
              "      <td>6.0</td>\n",
              "      <td>22.1</td>\n",
              "      <td>31.3</td>\n",
              "      <td>0</td>\n",
              "      <td>1</td>\n",
              "    </tr>\n",
              "    <tr>\n",
              "      <th>106387</th>\n",
              "      <td>1249</td>\n",
              "      <td>1</td>\n",
              "      <td>16.9</td>\n",
              "      <td>19.4</td>\n",
              "      <td>0.0</td>\n",
              "      <td>5.2</td>\n",
              "      <td>0.4</td>\n",
              "      <td>13</td>\n",
              "      <td>39.0</td>\n",
              "      <td>0</td>\n",
              "      <td>2</td>\n",
              "      <td>22.0</td>\n",
              "      <td>30.0</td>\n",
              "      <td>60.0</td>\n",
              "      <td>76.0</td>\n",
              "      <td>1014.2</td>\n",
              "      <td>1013.3</td>\n",
              "      <td>8.0</td>\n",
              "      <td>8.0</td>\n",
              "      <td>19.3</td>\n",
              "      <td>19.2</td>\n",
              "      <td>0</td>\n",
              "      <td>1</td>\n",
              "    </tr>\n",
              "    <tr>\n",
              "      <th>43405</th>\n",
              "      <td>2448</td>\n",
              "      <td>19</td>\n",
              "      <td>17.8</td>\n",
              "      <td>24.3</td>\n",
              "      <td>0.8</td>\n",
              "      <td>4.4</td>\n",
              "      <td>6.8</td>\n",
              "      <td>3</td>\n",
              "      <td>57.0</td>\n",
              "      <td>3</td>\n",
              "      <td>4</td>\n",
              "      <td>13.0</td>\n",
              "      <td>15.0</td>\n",
              "      <td>72.0</td>\n",
              "      <td>87.0</td>\n",
              "      <td>1013.0</td>\n",
              "      <td>1010.9</td>\n",
              "      <td>8.0</td>\n",
              "      <td>6.0</td>\n",
              "      <td>19.5</td>\n",
              "      <td>19.8</td>\n",
              "      <td>0</td>\n",
              "      <td>1</td>\n",
              "    </tr>\n",
              "    <tr>\n",
              "      <th>15584</th>\n",
              "      <td>3123</td>\n",
              "      <td>12</td>\n",
              "      <td>17.1</td>\n",
              "      <td>26.4</td>\n",
              "      <td>0.0</td>\n",
              "      <td>4.4</td>\n",
              "      <td>6.8</td>\n",
              "      <td>13</td>\n",
              "      <td>52.0</td>\n",
              "      <td>14</td>\n",
              "      <td>7</td>\n",
              "      <td>24.0</td>\n",
              "      <td>24.0</td>\n",
              "      <td>48.0</td>\n",
              "      <td>27.0</td>\n",
              "      <td>1006.5</td>\n",
              "      <td>1002.7</td>\n",
              "      <td>2.0</td>\n",
              "      <td>1.0</td>\n",
              "      <td>18.8</td>\n",
              "      <td>25.7</td>\n",
              "      <td>0</td>\n",
              "      <td>1</td>\n",
              "    </tr>\n",
              "    <tr>\n",
              "      <th>61233</th>\n",
              "      <td>2555</td>\n",
              "      <td>15</td>\n",
              "      <td>9.6</td>\n",
              "      <td>21.3</td>\n",
              "      <td>0.2</td>\n",
              "      <td>4.4</td>\n",
              "      <td>6.8</td>\n",
              "      <td>13</td>\n",
              "      <td>33.0</td>\n",
              "      <td>3</td>\n",
              "      <td>7</td>\n",
              "      <td>7.0</td>\n",
              "      <td>17.0</td>\n",
              "      <td>77.0</td>\n",
              "      <td>57.0</td>\n",
              "      <td>1017.8</td>\n",
              "      <td>1014.8</td>\n",
              "      <td>6.0</td>\n",
              "      <td>6.0</td>\n",
              "      <td>16.4</td>\n",
              "      <td>19.4</td>\n",
              "      <td>0</td>\n",
              "      <td>1</td>\n",
              "    </tr>\n",
              "  </tbody>\n",
              "</table>\n",
              "</div>"
            ],
            "text/plain": [
              "        Tanggal  KodeLokasi  SuhuMin  ...  Suhu3pm  BersaljuHariIni  Class\n",
              "23160      2465          18     16.9  ...     31.3                0      1\n",
              "106387     1249           1     16.9  ...     19.2                0      1\n",
              "43405      2448          19     17.8  ...     19.8                0      1\n",
              "15584      3123          12     17.1  ...     25.7                0      1\n",
              "61233      2555          15      9.6  ...     19.4                0      1\n",
              "\n",
              "[5 rows x 23 columns]"
            ]
          },
          "metadata": {
            "tags": []
          },
          "execution_count": 145
        }
      ]
    },
    {
      "cell_type": "code",
      "metadata": {
        "colab": {
          "base_uri": "https://localhost:8080/",
          "height": 282
        },
        "id": "-IHZ0cApVdol",
        "outputId": "be6435c1-dc69-4a0c-e6d1-ff99ff8af5a0"
      },
      "source": [
        "# Mengecek Outliers\n",
        "f,axes = plt.subplots(1,3)\n",
        "plt.figure(figsize=(20,10))\n",
        "salju_train_sampling['SuhuMin'].plot(kind='box',ax=axes[0])\n",
        "salju_train_sampling['SuhuMax'].plot(kind='box',ax=axes[1])\n",
        "salju_train_sampling['Class'].plot(kind='box',ax=axes[2])\n",
        "\n",
        "plt.show()"
      ],
      "execution_count": 146,
      "outputs": [
        {
          "output_type": "display_data",
          "data": {
            "image/png": "[encoded data removed]",
            "text/plain": [
              "<Figure size 432x288 with 3 Axes>"
            ]
          },
          "metadata": {
            "tags": [],
            "needs_background": "light"
          }
        },
        {
          "output_type": "display_data",
          "data": {
            "text/plain": [
              "<Figure size 1440x720 with 0 Axes>"
            ]
          },
          "metadata": {
            "tags": []
          }
        }
      ]
    },
    {
      "cell_type": "code",
      "metadata": {
        "colab": {
          "base_uri": "https://localhost:8080/"
        },
        "id": "rA_qbpCZTh0d",
        "outputId": "2ef52da2-fd2b-4b2e-c4c8-5670645161e5"
      },
      "source": [
        "#Metode IQR untuk SuhuMin\n",
        "Q1=salju_train_sampling['SuhuMin'].quantile(0.25)\n",
        "Q3=salju_train_sampling['SuhuMin'].quantile(0.75)\n",
        "IQR=Q3-Q1\n",
        "print(Q1)\n",
        "print(Q3)\n",
        "print(IQR)\n",
        "Lower_Whisker = Q1-1.5*IQR\n",
        "Upper_Whisker = Q3+1.5*IQR\n",
        "print(Lower_Whisker, Upper_Whisker)"
      ],
      "execution_count": 147,
      "outputs": [
        {
          "output_type": "stream",
          "text": [
            "8.0\n",
            "17.2\n",
            "9.2\n",
            "-5.799999999999999 31.0\n"
          ],
          "name": "stdout"
        }
      ]
    },
    {
      "cell_type": "code",
      "metadata": {
        "id": "iFi-6gsiZ7rP"
      },
      "source": [
        "salju_train_sampling = salju_train_sampling[salju_train_sampling['SuhuMin']< Upper_Whisker]\n",
        "salju_train_sampling = salju_train_sampling[salju_train_sampling['SuhuMin']> Lower_Whisker]"
      ],
      "execution_count": 148,
      "outputs": []
    },
    {
      "cell_type": "code",
      "metadata": {
        "colab": {
          "base_uri": "https://localhost:8080/"
        },
        "id": "iF6CUL4kciww",
        "outputId": "043543c8-4842-4986-fad1-1fa7d8a10008"
      },
      "source": [
        "#Metode IQR untuk SuhuMax\n",
        "Q1=salju_train_sampling['SuhuMax'].quantile(0.25)\n",
        "Q3=salju_train_sampling['SuhuMax'].quantile(0.75)\n",
        "IQR=Q3-Q1\n",
        "print(Q1)\n",
        "print(Q3)\n",
        "print(IQR)\n",
        "Lower_Whisker = Q1-1.5*IQR\n",
        "Upper_Whisker = Q3+1.5*IQR\n",
        "print(Lower_Whisker, Upper_Whisker)"
      ],
      "execution_count": 149,
      "outputs": [
        {
          "output_type": "stream",
          "text": [
            "17.2\n",
            "27.4\n",
            "10.2\n",
            "1.9000000000000004 42.699999999999996\n"
          ],
          "name": "stdout"
        }
      ]
    },
    {
      "cell_type": "code",
      "metadata": {
        "id": "ZMRmN7asaGbs"
      },
      "source": [
        "salju_train_sampling = salju_train_sampling[salju_train_sampling['SuhuMax']< Upper_Whisker]\n",
        "salju_train_sampling = salju_train_sampling[salju_train_sampling['SuhuMax']> Lower_Whisker]"
      ],
      "execution_count": 150,
      "outputs": []
    },
    {
      "cell_type": "code",
      "metadata": {
        "colab": {
          "base_uri": "https://localhost:8080/",
          "height": 282
        },
        "id": "ubOStJFDdvDN",
        "outputId": "d6f66aaf-1b35-4440-ed18-40e662460452"
      },
      "source": [
        "# Mengecek Outliers setelah menggunakan metode IQR\n",
        "f,axes = plt.subplots(1,3)\n",
        "plt.figure(figsize=(20,10))\n",
        "salju_train_sampling['SuhuMin'].plot(kind='box',ax=axes[0])\n",
        "salju_train_sampling['SuhuMax'].plot(kind='box',ax=axes[1])\n",
        "salju_train_sampling['Class'].plot(kind='box',ax=axes[2])\n",
        "\n",
        "plt.show()"
      ],
      "execution_count": 151,
      "outputs": [
        {
          "output_type": "display_data",
          "data": {
            "image/png": "[encoded data removed]",
            "text/plain": [
              "<Figure size 432x288 with 3 Axes>"
            ]
          },
          "metadata": {
            "tags": [],
            "needs_background": "light"
          }
        },
        {
          "output_type": "display_data",
          "data": {
            "text/plain": [
              "<Figure size 1440x720 with 0 Axes>"
            ]
          },
          "metadata": {
            "tags": []
          }
        }
      ]
    },
    {
      "cell_type": "code",
      "metadata": {
        "colab": {
          "base_uri": "https://localhost:8080/"
        },
        "id": "Mn1pANcPTs9S",
        "outputId": "54d0984e-44f0-4a66-fe04-e79ed2df4d33"
      },
      "source": [
        "# Mengecek Data Unique\n",
        "def check(data):\n",
        "  for col in data.columns:\n",
        "    print(col, data[col].unique())\n",
        "\n",
        "check(salju_train_sampling)"
      ],
      "execution_count": 152,
      "outputs": [
        {
          "output_type": "stream",
          "text": [
            "Tanggal [2465 1249 2448 ... 3010 1002 3153]\n",
            "KodeLokasi [18  1 19 12 15 20  4 24 38 32  9 16 44  6 46 21 27 35 39 25 22 23  8 45\n",
            " 17 41 28 11 26 31 10 40 48  7 33 13 37 29  2  0 14  3 36 47  5 34 42 30\n",
            " 43]\n",
            "SuhuMin [16.9 17.8 17.1  9.6  9.4  6.3 12.7 10.5  7.6 10.9  6.9 17.5 15.1  9.3\n",
            "  4.5  4.   4.9  5.4  7.3 10.8 27.6 12.2  2.3 10.1  6.7 25.9 21.8 12.6\n",
            "  8.1  1.2 20.6 19.9  1.9  9.5  8.   8.5 22.6 11.3 14.5 12.9 24.4  9.8\n",
            " 20.  13.6 23.1 23.   2.9 25.2 16.5 14.  -0.3  1.6 20.5 22.   8.8 25.5\n",
            " 15.8 17.9  7.   6.5 19.8 14.8 12.4 13.8 21.4  7.9 11.6  4.7 14.9 10.3\n",
            " 13.9 24.6 16.7 22.2  6.  15.2  7.4 15.5 19.1 18.8  8.4 11.   4.2  5.1\n",
            " 14.3 13.  25.1  5.3  8.7 26.9 11.4  6.6  9.1 25.8 20.9 22.4 26.7 12.8\n",
            " 16.6 15.7  5.6 22.3  7.8 16.2 17.3 15.4 19.3 17.6 15.3 18.2 22.9 11.2\n",
            "  5.5 11.7 15.  19.2 14.6  1.8 16.4 13.7  8.9 -0.4 10.  13.1 17.  12.\n",
            " 12.3  0.8 13.2 19.5 20.3 24.   6.2 -0.1  0.3 15.6 14.4 22.5 18.6 10.7\n",
            "  1.1 14.1 22.7  3.1 20.1 11.5 14.2 13.5 18.7 11.8 23.5 -2.7 19.7 20.7\n",
            " 19.  23.4 17.7  8.2 13.3 22.8 10.4 11.9  0.6 21.1  5.   2.1  6.8 17.2\n",
            "  9.9  9.2 24.8 11.1  7.5 15.9 23.3 16.8  3.5  4.8  5.8 17.4 18.   8.6\n",
            "  9.7  1.   3.2 18.5 23.2  5.9  1.3 20.2  8.3 25.3  3.7 23.9 21.9 10.6\n",
            " 16.3 21.6 12.1 25.4 23.7 20.4 26.2  4.4  5.2 18.9 14.7 13.4 24.1 10.2\n",
            "  4.3  7.2 19.4  7.1 24.7 27.5  6.4 21.7 23.6 24.2  2.5  0.2  7.7 16.1\n",
            " 22.1 24.3 12.5 18.4 20.8  4.1 23.8 27.8  2.   9.  25.7 19.6 16.   3.3\n",
            "  2.8 21.2 26.3  3.8  0.5  2.6 21.3 -3.7 24.9  6.1 26.  -1.3 25.6 25.\n",
            "  3.6 27.1 18.1  2.2 18.3 24.5  0.  21.5 -0.5  0.9  1.4 -1.4  4.6  3.9\n",
            " 21.  -1.   1.5 28.   1.7 27.2  0.4  2.4  3.   3.4  2.7 -0.7  5.7 -0.9\n",
            " 26.4 -3.  29.1 27.7 -1.1 26.6 -0.8 -2.8 26.8 26.1  0.1 -1.2 27.3 -1.8\n",
            " -0.6  0.7 -3.9 29.  27.4 28.6 -2.9 -1.9 26.5 27.  -4.9 -4.7 28.1 -3.5\n",
            " -1.7 -2.2 -3.3 -2.5 -1.6 -3.4 -2.1 -2.4 -5.6 -1.5 -2.6 28.8 -4.3 27.9\n",
            " 28.3 -3.2 28.2 -4.4 30.2 -2.3 -3.6 28.5 -0.2 -3.8 -5.3 29.3 28.4 29.8\n",
            " -4.5 -2.  29.7 -5.5 -5.  -4.2 -4.8 -4.1 28.7 -5.4 -4.6 -3.1 -5.1 28.9\n",
            " -4.  29.2 -5.2 -5.7 29.4]\n",
            "SuhuMax [32.9 19.4 24.3 26.4 21.3 13.4 17.7 19.3 14.2 12.9 20.1 16.5 28.1 18.4\n",
            " 16.1  9.9 16.2 16.7 32.6 14.3 18.2 41.3 17.6 16.8 25.3 24.7 23.3 14.\n",
            " 32.4 28.9 11.2  9.2 17.2 27.5 31.1 17.9 12.4 19.2 23.4 24.2 18.6 20.\n",
            " 20.7 17.4 30.8 12.3 28.7 29.9 23.  39.8 28.8 24.  34.6 34.1 24.1 17.1\n",
            " 13.9 15.9 26.2 22.4 14.8 33.4 24.4 21.7 32.5 27.  23.9 32.  22.  25.\n",
            " 15.2 32.1 12.5 19.  16.6 11.1 20.3 28.3 18.9 25.9  8.9 21.1 30.2 23.7\n",
            " 13.6 17.  13.7 21.4 30.6 15.7 12.6 18.1 36.  13.5 14.1 23.8 26.9 33.1\n",
            " 34.4 17.3 26.8 21.5 13.8 19.5 27.6 39.3 10.4 20.4 26.3 14.7 29.5 31.\n",
            " 15.6 11.4 24.6 28.6  8.7 17.8 21.8 27.3 11.8 18.7 35.5 13.2 10.1 11.5\n",
            " 10.8 20.6 23.1 28.  30.7 27.2 32.7 21.6 31.4 29.3 16.4 15.3 39.2 25.1\n",
            " 21.2 20.8 31.5 31.9 22.6 31.6 29.8 26.1  3.7 17.5 22.2 21.  22.1 11.\n",
            " 19.8 22.7 20.5 29.4 20.2 19.7 29.1 23.6 18.  22.3 19.6 14.6 18.8 14.9\n",
            " 27.4 19.1 18.3 28.5 25.4 22.8 36.5  8.1  9.4 16.  33.6 27.1 27.7 30.\n",
            " 23.2 14.4 15.5 13.1 21.9 15.1 22.5 33.8 26.5 28.2 20.9 18.5 30.9 31.3\n",
            " 10.7 36.1 22.9 34.9 28.4 30.1 15.4 23.5 16.3 19.9 25.6 26.  30.5 33.7\n",
            " 38.1 34.7 15.   9.8 31.2  5.6  7.  25.2 12.2 33.3 15.8 31.7 13.3 24.9\n",
            " 33.5 14.5 12.7 32.2 31.8 34.3 35.9 39.9 10.6 11.7 24.5 13.  25.8 25.7\n",
            " 33.   9.6 29.  29.6 16.9 27.8 11.9  9.7 33.9 24.8 11.6  6.9  8.8  7.8\n",
            " 36.3 25.5 12.8 26.7 42.  38.  34.2 40.5 10.9 34.  12.  34.8 35.4 33.2\n",
            " 10.3 36.9 35.7 29.7 29.2 37.1  9.1  9.5 11.3 10.2 39.1 12.1 26.6 30.3\n",
            "  6.5 10.  40.4 30.4 41.6 40.  27.9  9.3 39.5  6.4 10.5  4.1 34.5  9.\n",
            " 38.3  7.6 38.6  3.8 37.9 35.8 32.3  6.1  6.8  3.3 39.4 40.1 38.7 37.8\n",
            "  4.7  8.2  8.6 36.2 35.3  2.2 37.2 40.7 35.1 37.5 40.3 38.9 32.8 38.5\n",
            " 36.7  8.5  5.9  6.  38.2 41.5 35.2  6.7 37.  35.  42.5  2.5 40.9  8.\n",
            "  4.8  2.1  7.7  7.9 37.6  4.4 39.6  4.2  2.8  7.1 42.1  6.2  7.5  8.3\n",
            "  5.3 35.6 36.6 38.4 37.3 37.4  4.   7.4 42.3  4.3 39.  38.8  3.  36.4\n",
            "  3.1  4.5 41.2  5.4  5.8 40.6  2.9  2.3  6.3 37.7  3.2 41.9  5.2  4.6\n",
            " 36.8 39.7  2.6  7.3 41.4  8.4 42.4  3.4  4.9  3.5 40.8  6.6  5.1  7.2\n",
            " 41.1 41.  41.7 40.2 41.8  5.   3.9  5.5  2.7 42.2  2.4 42.6  3.6  2.\n",
            "  5.7]\n",
            "Hujan [0.000e+00 8.000e-01 2.000e-01 1.800e+00 3.800e+00 1.220e+01 3.400e+00\n",
            " 4.000e-01 2.480e+01 2.200e+00 1.400e+00 4.260e+01 1.000e+00 1.440e+01\n",
            " 6.600e+00 9.800e+00 7.000e+00 1.920e+01 2.600e+00 4.300e+01 3.200e+00\n",
            " 1.160e+01 6.000e-01 3.000e+00 1.420e+01 1.450e+02 6.700e+01 1.040e+01\n",
            " 1.120e+01 2.300e+00 4.800e+00 2.120e+01 1.020e+01 1.200e+00 1.540e+01\n",
            " 1.960e+01 2.780e+01 1.460e+01 3.800e+01 3.960e+01 5.380e+01 1.080e+01\n",
            " 5.320e+01 2.400e+00 6.200e+00 8.200e+00 1.640e+01 5.400e+00 3.340e+01\n",
            " 4.700e+01 1.940e+01 1.280e+01 2.340e+01 1.860e+01 7.600e+00 4.600e+00\n",
            " 9.000e+00 2.100e+01 4.200e+00 1.260e+01 1.340e+01 8.000e+00 1.180e+01\n",
            " 2.240e+01 3.600e+00 1.580e+01 3.540e+01 1.700e+01 6.800e+00 1.560e+01\n",
            " 1.240e+01 1.820e+01 1.380e+01 5.800e+00 3.440e+01 3.120e+01 1.360e+01\n",
            " 5.200e+00 6.040e+01 6.780e+01 1.780e+01 7.200e+00 8.800e+00 1.600e+00\n",
            " 2.000e+00 9.160e+01 1.840e+01 4.000e+00 9.600e+00 1.200e+01 2.800e+00\n",
            " 2.784e+02 8.860e+01 2.180e+01 1.720e+01 7.400e+00 1.660e+01 3.200e+01\n",
            " 2.400e+01 6.400e+00 8.400e+00 4.800e+01 2.360e+01 5.000e+00 1.400e+01\n",
            " 1.100e+01 1.980e+01 2.440e+01 2.040e+01 4.400e+00 4.940e+01 1.000e+01\n",
            " 3.400e+01 6.000e+00 2.260e+01 1.740e+01 2.140e+01 1.520e+01 1.760e+01\n",
            " 7.800e+00 4.660e+01 2.720e+01 6.360e+01 2.220e+01 2.200e+01 3.140e+01\n",
            " 9.400e+00 1.800e+01 2.820e+01 8.600e+00 4.840e+01 9.000e-01 3.580e+01\n",
            " 2.300e+01 1.680e+01 1.320e+01 2.900e+01 3.460e+01 2.020e+01 3.160e+01\n",
            " 3.260e+01 3.080e+01 4.340e+01 5.600e+00 5.100e+01 1.600e+01 2.580e+01\n",
            " 3.220e+01 4.600e+01 1.062e+02 4.060e+01 2.420e+01 1.134e+02 3.820e+01\n",
            " 8.140e+01 5.820e+01 3.680e+01 5.500e+00 6.140e+01 3.560e+01 1.300e+01\n",
            " 4.420e+01 1.900e+01 2.080e+01 4.320e+01 4.100e+01 3.300e+01 1.326e+02\n",
            " 1.480e+01 1.500e+01 4.040e+01 3.000e-01 3.860e+01 3.110e+01 1.022e+02\n",
            " 7.140e+01 5.760e+01 5.840e+01 5.500e+01 5.040e+01 2.060e+01 2.320e+01\n",
            " 2.660e+01 4.220e+01 2.760e+01 7.100e+01 1.000e-01 3.060e+01 2.740e+01\n",
            " 2.800e+01 9.200e+00 2.000e+01 1.060e+01 3.920e+01 4.640e+01 7.940e+01\n",
            " 3.380e+01 3.000e+01 2.560e+01 5.060e+01 8.320e+01 3.880e+01 4.500e+01\n",
            " 7.080e+01 8.280e+01 3.620e+01 2.540e+01 4.160e+01 4.200e+01 4.080e+01\n",
            " 1.684e+02 2.380e+01 1.890e+02 2.980e+01 6.620e+01 8.560e+01 5.140e+01\n",
            " 2.520e+01 3.100e+01 6.820e+01 6.200e+01 3.320e+01 1.880e+01 9.360e+01\n",
            " 1.616e+02 1.140e+01 2.500e+01 1.152e+02 5.260e+01 3.020e+01 3.640e+01\n",
            " 3.500e+00 3.600e+01 9.820e+01 3.520e+01 1.042e+02 6.120e+01 2.860e+01\n",
            " 4.380e+01 6.560e+01 1.202e+02 8.760e+01 3.980e+01 3.420e+01 2.960e+01\n",
            " 7.840e+01 7.920e+01 5.200e+01 2.940e+01 1.194e+02 3.660e+01 8.500e+00\n",
            " 1.210e+01 4.560e+01 1.620e+01 4.920e+01 5.640e+01 6.800e+01 4.460e+01\n",
            " 1.276e+02 5.000e+01 4.500e+00 5.180e+01 2.880e+01 1.486e+02 4.240e+01\n",
            " 2.700e+01 1.502e+02 9.300e+01 4.740e+01 5.860e+01 1.652e+02 1.120e+02\n",
            " 8.740e+01 1.500e+00 1.570e+01 1.020e+02 2.085e+02 6.540e+01 5.980e+01\n",
            " 3.940e+01 8.160e+01 6.320e+01 8.040e+01 5.400e+01 5.620e+01 3.840e+01\n",
            " 2.680e+01 2.160e+01 3.240e+01 5.740e+01 5.360e+01 3.180e+01 2.280e+01\n",
            " 6.640e+01 4.000e+01 2.900e+00 7.000e+01 5.340e+01 3.280e+01 7.620e+01\n",
            " 4.480e+01 2.620e+01 3.360e+01 1.668e+02 1.002e+02 1.422e+02 6.900e+01\n",
            " 2.920e+01 4.980e+01 6.920e+01 2.840e+01 6.460e+01 4.820e+01 1.058e+02\n",
            " 3.760e+01 2.062e+02 6.960e+01 3.740e+01 6.280e+01 9.580e+01 9.100e+01\n",
            " 2.460e+01 6.020e+01 9.640e+01 6.520e+01 8.800e+01 8.360e+01 1.900e+00\n",
            " 2.950e+01 5.660e+01 6.480e+01 5.960e+01 3.990e+01 1.076e+02 1.580e+02\n",
            " 7.220e+01 6.840e+01 1.100e+00 5.780e+01 1.122e+02 7.500e+01 4.280e+01\n",
            " 6.400e+01 5.900e+01 7.680e+01 1.550e+01 8.220e+01 3.700e+01 7.640e+01\n",
            " 7.160e+01 1.670e+02 4.860e+01 4.880e+01 6.340e+01 9.140e+01 1.250e+01\n",
            " 9.380e+01 8.260e+01 3.900e+01 8.540e+01 6.980e+01 4.580e+01 7.480e+01\n",
            " 7.760e+01 4.520e+01 6.420e+01 1.144e+02 3.040e+01 4.180e+01 6.260e+01\n",
            " 3.720e+01 7.320e+01 8.700e+01 4.900e+01 7.280e+01 1.118e+02 2.640e+01\n",
            " 1.182e+02 1.782e+02 7.600e+01 2.600e+01 3.430e+01 1.004e+02 1.226e+02\n",
            " 4.760e+01 1.108e+02 1.018e+02 5.000e-01 1.230e+01 4.900e+00 5.240e+01\n",
            " 2.650e+01 3.710e+02 1.830e+02 8.780e+01 6.860e+01 5.300e+01 9.340e+01\n",
            " 6.100e+01 3.100e+00 9.060e+01 3.500e+01 1.060e+02 6.180e+01 7.560e+01\n",
            " 4.020e+01 5.080e+01 4.680e+01 7.520e+01 9.920e+01 5.600e+01 5.880e+01\n",
            " 1.294e+02 1.472e+02 4.620e+01 1.150e+01 4.780e+01 5.700e+01 1.208e+02\n",
            " 5.520e+01 8.120e+01 5.480e+01 1.700e+00 5.700e+00 1.418e+02 8.460e+01\n",
            " 2.270e+01 1.130e+02 6.500e+01 5.920e+01 5.420e+01 5.680e+01 6.240e+01\n",
            " 4.140e+01 8.400e+01 1.052e+02 5.460e+01 1.642e+02 9.220e+01 4.360e+01\n",
            " 1.438e+02 5.020e+01 3.070e+01 7.200e+01 9.610e+01 8.380e+01 9.260e+01\n",
            " 3.480e+01 4.960e+01 7.020e+01 1.094e+02 1.300e+00 8.980e+01 4.720e+01\n",
            " 6.950e+01 3.250e+01 5.560e+01 2.250e+02 4.440e+01 1.750e+01 1.054e+02\n",
            " 1.090e+01 3.780e+01 8.900e+01 1.970e+01 4.540e+01 8.240e+01 6.100e+00\n",
            " 1.064e+02 8.700e+00 8.340e+01 7.720e+01 1.190e+01 9.940e+01 1.282e+02\n",
            " 1.752e+02 1.456e+02 7.300e+01 7.580e+01 1.270e+01 7.180e+01 5.540e+01\n",
            " 7.120e+01 2.500e+00 1.412e+02 1.704e+02 4.550e+01 7.340e+01 6.580e+01\n",
            " 2.068e+02 4.120e+01 1.325e+02 7.260e+01 5.580e+01 8.020e+01 9.500e+00\n",
            " 1.050e+02 6.160e+01 7.880e+01 2.070e+01 7.780e+01 7.740e+01 1.010e+01\n",
            " 2.100e+00 1.450e+01 9.280e+01 2.990e+01 2.106e+02 1.330e+01 7.380e+01\n",
            " 2.390e+01 2.290e+01 1.776e+02 6.000e+01 8.920e+01 1.348e+02 2.163e+02\n",
            " 9.560e+01 4.400e+01 8.500e+01 6.700e+00 1.366e+02 8.940e+01 5.940e+01\n",
            " 8.420e+01 5.220e+01 7.000e-01 1.850e+01 3.790e+01 5.120e+01 9.680e+01\n",
            " 8.640e+01 3.676e+02 1.314e+02 1.550e+02 1.746e+02 1.096e+02 8.080e+01\n",
            " 8.680e+01 5.280e+01 1.532e+02 1.176e+02 1.158e+02 1.284e+02 1.364e+02\n",
            " 2.686e+02 1.248e+02 5.440e+01 3.390e+01 1.214e+02 9.440e+01 5.160e+01\n",
            " 2.150e+01 6.880e+01 9.000e+01 8.480e+01 1.048e+02 6.410e+01 4.700e+00\n",
            " 5.800e+01 3.270e+01 8.820e+01 5.900e+00 3.300e+00 1.046e+02 7.800e+01\n",
            " 1.264e+02 7.420e+01 7.660e+01 8.180e+01 8.060e+01 1.568e+02 1.576e+02\n",
            " 5.300e+00 1.826e+02 8.100e+01 1.186e+02 9.800e+01 8.300e+01 2.930e+01\n",
            " 7.980e+01 1.810e+01 9.520e+01 9.700e+01 7.900e+01 1.402e+02 2.700e+00\n",
            " 1.260e+02 1.452e+02 1.150e+02 2.530e+01 1.598e+02 1.390e+01 7.820e+01\n",
            " 2.250e+01 1.478e+02 1.390e+02 6.220e+01 7.100e+00 6.500e+00 2.090e+01\n",
            " 1.074e+02 7.360e+01 2.910e+01 1.106e+02 1.092e+02 7.300e+00 2.196e+02\n",
            " 2.400e+02 1.428e+02 6.600e+01 2.370e+01 8.440e+01 1.110e+01 1.068e+02\n",
            " 6.380e+01 4.100e+00 6.080e+01 1.154e+02 4.150e+01]\n",
            "Penguapan [4.40e+00 5.20e+00 3.80e+00 3.60e+00 2.00e-01 3.40e+00 1.00e+01 2.80e+00\n",
            " 4.00e-01 8.00e-01 1.40e+00 4.00e+00 1.80e+00 3.00e+00 2.40e+00 5.30e+00\n",
            " 8.40e+00 8.00e+00 1.00e+00 2.20e+00 1.60e+00 4.60e+00 5.60e+00 1.20e+00\n",
            " 5.00e+00 2.10e+00 2.60e+00 6.40e+00 7.60e+00 9.00e+00 4.20e+00 6.00e+00\n",
            " 0.00e+00 7.40e+00 2.00e+00 6.80e+00 7.20e+00 7.80e+00 5.40e+00 9.00e-01\n",
            " 4.80e+00 6.20e+00 4.50e+00 9.40e+00 7.00e+00 1.62e+01 1.06e+01 1.20e+01\n",
            " 1.12e+01 1.04e+01 1.50e+01 3.20e+00 9.60e+00 6.00e-01 5.80e+00 8.60e+00\n",
            " 1.24e+01 1.08e+01 6.60e+00 8.80e+00 9.20e+00 9.80e+00 1.22e+01 8.20e+00\n",
            " 3.00e-01 3.64e+01 1.18e+01 1.02e+01 1.14e+01 1.10e+01 1.80e+01 1.34e+01\n",
            " 1.40e+01 5.90e+00 1.54e+01 1.42e+01 3.70e+00 1.74e+01 1.32e+01 1.46e+01\n",
            " 2.30e+00 1.28e+01 1.92e+01 1.68e+01 1.10e+00 2.90e+00 1.38e+01 3.10e+00\n",
            " 1.82e+01 1.76e+01 1.56e+01 4.90e+00 3.30e+00 1.16e+01 1.26e+01 2.30e+01\n",
            " 1.30e+01 2.00e+01 1.58e+01 1.60e+01 2.74e+01 1.66e+01 1.48e+01 1.90e+00\n",
            " 1.36e+01 1.88e+01 2.24e+01 4.23e+01 5.10e+00 1.72e+01 1.50e+00 1.07e+01\n",
            " 2.04e+01 1.94e+01 2.51e+01 1.64e+01 2.50e+00 1.30e+00 4.70e+00 1.44e+01\n",
            " 4.30e+01 3.86e+01 2.70e+00 1.52e+01 8.10e+00 2.38e+01 1.70e+01 7.10e+00\n",
            " 1.78e+01 2.02e+01 2.58e+01 5.00e-01 2.34e+01 2.66e+01 9.70e+00 1.21e+01\n",
            " 3.24e+01 1.53e+01 4.30e+00 3.50e+00 4.10e+00 6.30e+00 5.50e+00 5.56e+01\n",
            " 2.42e+01 1.70e+00 2.44e+01 3.04e+01 1.81e+01 2.20e+01 6.70e+00 2.92e+01\n",
            " 1.98e+01 2.06e+01 7.00e-01 2.56e+01 2.40e+01 1.00e-01 2.14e+01 7.90e+00\n",
            " 1.27e+01 7.48e+01 1.86e+01 2.28e+01 1.96e+01 1.01e+01 3.02e+01 6.10e+00\n",
            " 1.31e+01 7.70e+00 3.08e+01 2.84e+01 9.90e+00 3.54e+01 2.76e+01 3.20e+01\n",
            " 2.88e+01 1.90e+01 3.50e+01 1.03e+01 2.86e+01 2.72e+01 7.50e+00 2.10e+01\n",
            " 3.38e+01 6.90e+00 2.48e+01 1.93e+01 1.84e+01 5.58e+01 2.08e+01 2.22e+01\n",
            " 4.08e+01 2.36e+01 9.10e+00 3.42e+01 1.11e+01 2.68e+01 7.30e+00 2.94e+01\n",
            " 2.16e+01 3.12e+01 3.60e+01 2.26e+01 3.74e+01 3.14e+01 2.12e+01 7.00e+01\n",
            " 3.94e+01 5.62e+01 2.32e+01 2.80e+01 4.18e+01 4.20e+01 1.45e+02 5.94e+01\n",
            " 3.30e+01 2.50e+01 6.50e+00 5.70e+00 1.49e+01 9.50e+00 1.15e+01 2.82e+01\n",
            " 3.52e+01 3.90e+00 8.30e+00 3.44e+01 2.78e+01 3.32e+01 1.77e+01 7.73e+01\n",
            " 2.60e+01 3.56e+01 3.26e+01 6.08e+01 5.36e+01 3.28e+01 8.50e+00 3.70e+01\n",
            " 4.36e+01 3.16e+01 4.32e+01 2.62e+01 3.76e+01 1.05e+01 1.51e+01 6.44e+01\n",
            " 3.84e+01 2.70e+01 3.34e+01 5.76e+01 2.52e+01 6.20e+01 4.84e+01 4.88e+01\n",
            " 9.30e+00 3.40e+01 1.23e+01 2.98e+01 3.62e+01 6.02e+01 3.36e+01 5.66e+01\n",
            " 3.72e+01 2.64e+01 8.62e+01 3.46e+01 5.04e+01 4.00e+01 5.50e+01 5.72e+01\n",
            " 3.80e+01 4.66e+01 5.16e+01 1.09e+01 4.22e+01 4.16e+01 4.70e+01 3.10e+01\n",
            " 5.10e+01 4.26e+01 2.18e+01 1.13e+01 1.39e+01 4.62e+01 2.46e+01 8.70e+00\n",
            " 5.40e+01 1.45e+01 4.72e+01 4.42e+01 4.24e+01 7.22e+01 8.90e+00 5.52e+01\n",
            " 1.25e+01 4.68e+01 5.64e+01 1.35e+01 6.30e+01 5.92e+01 5.48e+01 1.19e+01\n",
            " 3.00e+01 2.31e+01 1.71e+01 6.88e+01 3.88e+01 7.04e+01 3.22e+01 6.54e+01\n",
            " 5.08e+01 5.85e+01 2.25e+01 1.91e+01 1.43e+01 2.54e+01 5.96e+01 6.48e+01\n",
            " 2.05e+01 4.40e+01]\n",
            "SinarMatahari [ 6.8  0.4  4.7  0.5  7.9  4.9  3.9  2.8  3.6  2.3  1.9  6.5  3.8 11.6\n",
            "  4.   8.2  9.5  7.4  4.2  0.1  0.   2.7  5.6  8.   9.6  5.8  0.2  9.7\n",
            "  3.2  9.2 10.2  6.   7.1  6.9  9.3  6.2 11.1  5.4 10.3  1.5  8.8  4.1\n",
            " 11.7 10.1  7.2  0.6  5.   4.3 11.   5.2 10.5 10.   6.4  0.9  1.   6.6\n",
            "  5.5  2.6 10.8  3.7  2.2  1.6  9.1  5.9  1.2  2.9  7.8  1.3  7.7  3.5\n",
            "  5.1  1.7  8.6  9.   1.1  2.1  8.1  7.5  8.5  5.7  8.4  2.5  9.8  7.3\n",
            "  7.   6.1 12.2  8.3  0.7 11.4  0.3  4.4  8.9 11.5  4.8  2.4  6.7  1.4\n",
            "  0.8  8.7  4.5  9.9  3.4  1.8  3.1 10.7  3.   2.  13.2  3.3 12.1  9.4\n",
            "  4.6  5.3 11.8  7.6 11.2 12.6 11.3 10.4  6.3 12.5 13.3 11.9 10.6 10.9\n",
            " 13.  12.7 12.3 12.8 12.  12.4 13.1 13.9 13.4 12.9 13.5 13.8 13.7 13.6\n",
            " 14.  14.2 14.1 14.3]\n",
            "ArahAnginTerkencang [ 6 13  3 10  9  2  7 11  8  5 15  4  1 14 12  0]\n",
            "KecepatanAnginTerkencang [ 89.  39.  57.  52.  33.  61.  26.  28.  50.  48.  72.  41.  59.  30.\n",
            "  35.  17.  37.  44.  63.  67.  20.  31.  65.  78.  81.  24.  56.  46.\n",
            "  43.  70.  76.  54.  94.  69.  15.  96.  83.  13.  91. 106.  22.  80.\n",
            "  74.  93.  19.  85.  98.  87. 102.   7. 104.  11. 124. 100. 107. 117.\n",
            " 111. 122. 115.   9. 120. 113. 109. 135. 130. 126.]\n",
            "ArahAngin9am [14  0  3 12  4  9  6  8 13  1  7 10 11  5 15  2]\n",
            "ArahAngin3pm [ 1  2  4  7 13  3 14 12 11  8  0  9 15  6 10  5]\n",
            "KecepatanAngin9am [  9.  22.  13.  24.   7.  11.   2.  20.  15.  33.   0.  17.  28.   6.\n",
            "  35.  30.  26.   4.  31.  44.  19.  37.  48.  39.  50.  43.  57.  41.\n",
            "  63.  67.  52.  46.  54.  56.  61.  59.  65.  69.  87.  74. 130.]\n",
            "KecepatanAngin3pm [17. 30. 15. 24. 31. 26. 13.  9. 28. 22. 37.  4. 11.  7. 39. 20. 19. 43.\n",
            " 44.  0. 63.  6. 56. 35.  2. 33. 48. 50. 57. 41. 46. 52. 54. 59. 65. 87.\n",
            " 72. 61. 69. 74. 76. 78. 67.]\n",
            "Kelembaban9am [ 79.  60.  72.  48.  77.  68.  94.  96.  92.  55.  93.  87.  70. 100.\n",
            "  98.  89.  90.  71.  86.  99.  27.  73.  65.  84.  83.  82.  50.  61.\n",
            "  76.  81.  75.  53.  85.  63.  80.  42.  66.  67.  88.  69.  52.  74.\n",
            "  95.  59.  78.  97.  21.  64.  58.  41.  56.  62.  91.  36.  37.  39.\n",
            "  38.  25.  45.  40.  44.  54.  35.  28.  18.  57.  51.  43.  47.  46.\n",
            "  49.  34.  22.  23.  14.  32.  29.  24.  33.  30.  31.  17.  26.  16.\n",
            "  13.   5.  15.  19.  20.  11.   9.   8.  10.  12.   2.   7.   4.   3.\n",
            "   6.   1.   0.]\n",
            "Kelembaban3pm [ 47.  76.  87.  27.  57.  71.  73.  84.  55.  53.  91.  50. 100.  59.\n",
            "  95.  80.  61.  70.  45.  43.  88.  79.  16.  67.  63.  46.  51.  56.\n",
            "  86.  82.  94.  65.  75.  58.  52.  89.  48.  78.  81.  99.  74.  62.\n",
            "  68.  66.  93.  42.   9.  77.  37.  38.  97.  33.  54.  96.  90.  98.\n",
            "  60.  40.  32.  49.  92.  69.  85.  72.  31.  29.  41.  25.  64.  35.\n",
            "  83.  44.  15.  39.  14.  30.  24.  28.  18.  36.  20.  34.  26.  17.\n",
            "  10.  23.  12.  19.  13.  21.  22.   6.   1.   8.   4.   5.   7.  11.\n",
            "   3.   2.   0.]\n",
            "Tekanan9am [1016.8 1014.2 1013.  1006.5 1017.8 1018.7 1019.  1023.6 1007.8 1017.9\n",
            " 1018.6 1006.9 1015.2 1016.2 1007.3 1018.3 1009.9 1023.4 1017.  1026.9\n",
            " 1016.7 1012.8 1030.3 1008.2 1015.7 1005.8 1021.6 1013.9 1012.6 1011.6\n",
            " 1009.4 1007.6 1018.1  993.6 1004.4 1006.7 1025.7 1005.2 1005.9 1009.3\n",
            " 1013.8 1013.5 1020.1 1010.6 1015.  1016.5 1000.7  990.9 1021.8 1008.4\n",
            " 1013.1 1000.9  998.4 1006.6 1009.  1010.5 1025.9 1024.1 1023.7 1017.1\n",
            " 1023.2 1011.4 1018.2 1024.2 1010.4 1013.3 1002.3 1003.9 1023.1 1013.4\n",
            " 1009.6 1019.7  995.8 1011.2 1000.6 1006.3 1004.  1021.5 1018.9 1012.9\n",
            " 1012.7 1011.3 1011.9 1001.3 1026.1  999.5 1005.4  998.5 1013.6 1026.\n",
            " 1008.5 1020.2 1016.3 1014.3 1007.7 1019.6  995.  1020.5 1009.8 1001.7\n",
            " 1025.3 1003.4 1004.5 1016.  1007.  1015.5 1014.6 1014.9 1003.3 1005.\n",
            " 1016.9 1010.3 1023.9 1022.   997.5 1008.  1017.2 1029.6  999.4 1002.\n",
            " 1021.  1000.  1020.4 1015.8 1008.3 1004.7 1015.1 1017.7 1015.6 1012.\n",
            " 1015.4 1028.2 1014.1 1019.8 1008.9 1018.8 1032.  1022.3 1027.  1003.8\n",
            " 1011.7 1014.  1016.4 1021.4 1001.2 1001.1 1006.4 1009.7 1003.7 1024.7\n",
            " 1032.6 1008.8 1018.5 1015.3 1024.9 1014.7 1012.2 1020.8 1025.4 1006.\n",
            " 1002.9 1028.  1029.4 1007.5 1007.2 1030.6 1026.4 1027.2 1012.3 1023.8\n",
            " 1010.7 1014.5 1013.2 1024.6 1013.7 1036.9 1022.6 1005.1 1003.1 1016.6\n",
            " 1024.5 1017.6 1020.  1010.2 1009.2 1003.5 1017.3 1010.  1001.8 1025.6\n",
            " 1008.7 1027.1 1019.2  997.7 1008.1 1019.1  988.  1001.6 1017.4 1009.1\n",
            " 1014.4 1012.1 1022.9 1002.4 1019.9 1008.6 1022.4 1027.6 1014.8 1021.3\n",
            " 1004.8 1031.  1021.1 1017.5 1030.  1024.3 1025.1 1026.2 1026.8 1025.8\n",
            " 1018.   996.5 1026.3 1027.8  999.7 1011.5 1031.4 1020.7 1020.9 1011.8\n",
            " 1007.4 1010.9 1004.9 1004.3 1007.1 1023.  1019.3 1002.7 1011.  1025.5\n",
            " 1018.4 1028.9 1009.5 1031.6 1030.1 1025.  1021.2 1001.5 1016.1 1000.1\n",
            "  998.1 1012.5 1021.7 1027.5 1019.4 1024.4  999.6 1010.8  998.7 1001.4\n",
            " 1026.5 1020.6 1025.2 1012.4 1028.8 1000.3 1027.9 1024.  1022.1 1028.1\n",
            " 1006.2 1023.3  999.3  998.9  997.1 1005.7 1031.1 1010.1 1022.5 1020.3\n",
            " 1022.8 1006.8 1019.5 1021.9 1000.5 1007.9  996.4 1022.7 1022.2 1000.8\n",
            "  989.2 1024.8 1005.3 1027.4 1004.1 1002.1 1032.2  997.9  990.6 1002.5\n",
            " 1011.1 1031.9 1005.6  997.2  996.1  984.6  986.9 1015.9  997.6 1031.2\n",
            " 1035.1 1029.5  996.9 1035.8 1030.2 1001.9 1032.8 1030.5 1023.5 1029.9\n",
            " 1002.2 1005.5 1027.7 1002.8 1028.3 1030.8 1037.1  996.7  999.   996.8\n",
            " 1034.1 1032.1 1029.7  999.2 1031.3 1029.2  999.8  995.6 1026.6 1031.5\n",
            "  986.6  997.8 1000.4 1026.7  994.2 1030.9  999.9  998.8  995.7 1028.6\n",
            "  993.5 1004.6 1029.3  992.7 1030.4 1003.6 1003.2  997.  1001.  1031.7\n",
            " 1028.5 1037.8  995.4  993.2 1029.  1004.2  993.9  999.1  994.8  992.3\n",
            " 1002.6 1033.1 1006.1 1037.4 1003.   994.7 1028.4 1032.3  994.9  986.2\n",
            " 1029.1  988.3 1037.   991.7  995.2  998.6  997.3 1034.3 1027.3 1030.7\n",
            " 1034.7  996.6 1029.8 1035.6 1032.5 1000.2  998.   996.3  982.9  993.\n",
            " 1028.7 1032.9 1033.7 1035.4 1032.7 1033.9  991.1  988.5  993.4  994.6\n",
            " 1033.3  995.5 1033.6 1032.4 1033.2 1036.1  991.9  993.3  989.5  986.7\n",
            "  998.3  992.4 1036.3  991.5  995.9  997.4 1034.   992.1  990.3  990.5\n",
            "  994.   995.1  991.  1034.2  994.3 1035.9  991.8  980.5  987.3  993.7\n",
            "  994.4  992.2  991.3  992.9  992.8  988.1  994.5 1036.5  998.2  988.2\n",
            " 1037.9 1031.8  993.8 1036.8  989.7  987.  1033.   988.8  988.9 1035.3\n",
            " 1033.8  991.2  983.9 1039.4  992.6  996.  1035.   989.  1036.6  987.1\n",
            "  989.8  985.   991.6  987.4  989.4 1035.2 1033.5 1035.7  996.2  991.4\n",
            " 1038.1 1034.8  992.5  982.   982.2  983.7  989.9  995.3 1038.2 1039.5\n",
            "  990.8  993.1  989.3 1035.5 1037.3 1034.6 1034.9 1039.1 1037.5 1036.7\n",
            " 1034.4 1033.4 1037.2 1038.8 1036.4 1036.2 1034.5 1036.  1038.  1039.2\n",
            " 1037.6 1037.7 1038.9  994.1  987.2 1038.6 1038.7 1038.4 1040.2 1039.\n",
            " 1040.1 1040.4 1038.3 1040.6 1039.3  992.   990.2 1038.5  989.1 1039.7\n",
            "  985.8 1040.9 1040.3 1040.5 1040.  1041.   986.3]\n",
            "Tekanan3pm [1012.5   1013.3   1010.9   1002.7   1014.8   1019.7   1013.2   1021.1\n",
            " 1006.    1016.2   1017.3   1007.8   1016.9   1002.9   1017.5   1008.3\n",
            " 1019.2   1014.4   1021.5   1012.    1008.    1028.6   1003.9   1012.3\n",
            "  999.    1017.    1008.7   1009.4   1005.7   1004.1   1011.     997.1\n",
            " 1004.4   1006.5   1022.8    996.6   1015.6   1014.5   1004.6   1012.4\n",
            " 1012.2   1019.4   1008.6   1013.9   1014.2   1005.1    993.    1005.2\n",
            " 1011.7   1006.1    996.7   1008.1    998.1   1023.2   1017.4   1014.3\n",
            " 1014.1   1006.7   1008.2   1009.8   1017.2   1020.    1020.4   1015.4\n",
            " 1016.3   1010.4   1007.6   1001.6   1002.2   1007.4   1021.6   1011.2\n",
            "  994.8   1018.4   1003.2    999.5   1005.3   1007.3   1010.8   1003.3\n",
            " 1020.3   1016.4   1008.9   1022.3   1010.6   1014.    1017.1   1022.2\n",
            "  991.1   1002.4   1001.1    988.7   1006.6   1016.5   1014.9   1011.6\n",
            " 1009.3   1004.2   1001.4   1022.7   1018.3   1006.2   1024.9   1009.5\n",
            " 1003.5   1011.5   1009.2   1018.5   1010.7   1020.7   1023.1   1000.7\n",
            " 1010.5   1016.7   1023.6   1028.2    995.5   1019.8   1002.8   1019.6\n",
            "  999.8   1005.6   1009.6   1015.3   1004.7   1002.6   1015.    1011.1\n",
            " 1008.5   1020.9   1012.1   1014.7   1025.8   1018.    1015.1   1030.2\n",
            " 1024.5   1001.2   1016.     997.4    998.2   1006.9   1004.    1009.\n",
            " 1009.1   1008.4   1009.9   1017.6   1012.9   1023.7   1029.8   1014.6\n",
            " 1002.1   1006.4   1015.2   1005.8   1010.2   1018.8   1021.    1022.9\n",
            " 1026.3   1007.1   1018.2   1018.6   1027.2   1027.    1016.6   1001.7\n",
            " 1012.6   1029.7   1020.5   1007.9   1010.1   1011.4   1013.4   1023.\n",
            " 1036.    1012.7   1022.4   1002.5   1003.    1013.1   1021.4   1010.\n",
            " 1022.5   1013.5    999.6   1008.8   1022.    1004.9   1005.    1023.3\n",
            " 1018.7    995.4   1020.2   1004.8   1004.3    992.5   1001.9   1015.9\n",
            " 1013.7   1018.9   1027.9   1013.8    984.    1006.3   1000.5   1019.1\n",
            " 1020.6   1017.9   1020.1   1023.8   1003.4   1029.    1016.8   1015.5\n",
            " 1027.7   1011.3   1024.7   1023.5   1006.8   1015.7   1022.6   1007.2\n",
            " 1024.2    994.1   1026.4   1003.1   1002.    1017.8   1028.5    996.2\n",
            " 1005.5   1024.6    999.4   1007.5   1028.9   1010.3   1017.7   1026.\n",
            " 1001.3   1018.1   1024.8   1027.1   1028.1   1019.5   1000.9   1007.\n",
            " 1021.3   1007.7   1021.7   1020.8   1004.5    997.9   1026.2   1022.1\n",
            "  999.2   1005.9   1013.6   1011.9   1025.9   1011.8   1025.5   1015.8\n",
            " 1003.6   1026.1   1023.4   1027.5   1016.1   1001.5   1013.     996.9\n",
            " 1021.9    992.9   1031.2   1003.7    998.4   1025.2   1025.7   1012.8\n",
            "  993.7    997.3    989.4   1000.4    999.7    999.9   1002.3   1000.8\n",
            " 1028.7   1019.     996.    1001.8   1009.7   1026.8   1019.9   1030.\n",
            "  985.8   1025.     995.3   1028.8    998.8   1024.    1005.4   1021.8\n",
            "  987.1    982.6   1029.2   1032.1   1021.2   1024.1    993.2   1033.8\n",
            " 1030.4   1024.4   1028.    1032.    1027.8    999.1   1025.6   1026.6\n",
            " 1025.3   1026.7   1028.4   1030.7   1035.9    992.     998.7   1019.3\n",
            " 1001.    1029.9   1023.9    996.5   1027.3   1028.3    993.9   1029.4\n",
            "  981.4    997.5    998.9    997.7    994.5    992.4    995.6   1025.1\n",
            "  993.3    995.8   1027.6    998.6    999.3   1030.1    996.3    996.4\n",
            "  988.5   1003.8    993.8   1032.4   1030.8   1030.3   1026.5   1031.1\n",
            "  995.9    995.7   1036.4    997.8    986.5   1029.1    995.2    981.9\n",
            "  995.1    998.     997.     993.4    997.2    990.1    991.5    994.6\n",
            " 1027.4   1031.7   1024.3   1031.4   1000.3   1029.6    985.2   1035.7\n",
            " 1026.9   1025.4   1000.2    998.5   1000.    1032.9    993.1   1032.5\n",
            " 1000.1    997.6    991.9    994.9   1033.6    996.1    981.2   1031.6\n",
            "  990.7   1030.6    991.    1029.3    994.3   1000.6    988.     998.3\n",
            "  992.7    990.3   1032.2   1030.5    994.2   1032.3    989.5   1033.7\n",
            " 1032.8    996.8    991.2    986.1    989.6    991.6    993.5    987.4\n",
            "  985.6    995.    1034.1   1034.7    984.2    986.     992.6    994.7\n",
            "  990.4    985.5    992.8   1032.6   1031.5   1034.4    986.8    993.6\n",
            "  990.8    994.    1035.     979.     992.3    991.3    990.6    989.9\n",
            "  985.     982.2    991.8    987.8   1033.2    989.    1036.3   1031.8\n",
            "  991.4    990.9    994.4   1034.2   1032.7   1030.9    987.     989.3\n",
            "  980.2   1034.5   1035.3    978.2   1035.6    991.7    992.1    986.2\n",
            " 1035.8    990.     982.9   1034.     988.3    990.2    984.4   1033.5\n",
            "  989.8   1033.9    988.4   1033.     977.1    988.6   1035.1    987.3\n",
            " 1033.4    986.4    992.2   1031.9   1029.5    988.8   1031.    1036.9\n",
            "  990.5    989.2    989.1    987.7    988.9    988.2    987.6   1031.3\n",
            " 1034.8   1035.2   1033.1   1035.5   1033.3   1037.    1037.2   1036.6\n",
            " 1037.3   1035.4    985.3   1034.3   1036.8   1034.9    989.7   1037.5\n",
            " 1036.2    983.2   1036.5   1036.1   1037.9   1038.    1034.6   1036.7\n",
            " 1016.777  987.2   1037.1   1037.8   1026.66  1037.7   1038.2   1009.555\n",
            " 1039.6   1038.5   1038.9  ]\n",
            "Awan9am [4. 8. 2. 6. 7. 5. 3. 1. 0. 9.]\n",
            "Awan3pm [6. 8. 1. 7. 5. 4. 3. 2. 0. 9.]\n",
            "Suhu9am [22.1 19.3 19.5 18.8 16.4 10.2 10.  15.1 12.1 10.7 12.5 11.1 20.  16.2\n",
            " 11.5  4.8  5.3  9.7  6.4  9.6 21.1  9.2 13.1 33.  15.5 22.6 20.6 12.3\n",
            " 15.8 12.4 30.  24.4 13.   8.5  7.3  8.7  6.1 23.3 22.2 28.9  6.7 10.3\n",
            " 17.9 23.7 14.7 15.3 17.2 15.   9.4 28.4 10.8 24.5 25.  19.2 18.4 29.1\n",
            " 25.2 19.7 26.5  6.  29.9 18.2  7.2 23.5 17.7 12.9 11.8 13.9 17.4 15.6\n",
            " 17.1 20.3 29.7  8.1 23.1 18.6 20.2 16.  16.9 22.4  7.5 12.8 14.1 18.1\n",
            " 23.9  6.2 12.6 17.5 21.6 19.8 19.  10.4 11.6 27.  31.1  8.9 16.5  9.\n",
            " 22.7 22.9 30.9 22.3 25.1 18.3 10.5 25.3 31.7 18.9 16.6 17.3 18.  16.1\n",
            " 26.6 15.2 31.3 20.7 24.3 24.2 11.3 21.7 13.2 20.9 13.5  6.8  8.   4.2\n",
            " 17.6 14.2 22.  26.9 11.4  5.7  2.8 19.4 26.1 24.1 30.3 21.8 12.  23.8\n",
            " 14.  30.8 19.6 15.7  8.2  7.6 24.  15.4 29.6 28.1  4.7 21.4  3.2 16.8\n",
            " 27.3 15.9 21.   7.4  9.1 14.5 16.3  9.5 26.3 14.9 20.4  8.8 19.9 14.6\n",
            " 13.7  7.8 23.  11.2 14.8  9.8 28.2 12.2 11.9 24.7 10.6  4.5 18.5 27.1\n",
            " 13.8  9.3 20.1 28.5 13.3  3.6 30.7 20.8 28.3 21.9  7.7 23.2  5.9 26.8\n",
            " 14.3 14.4 29.5 27.5 24.6 26.7 22.8 13.6 30.2 32.3 27.9 11.7 25.8 26.\n",
            " 17.  20.5  5.1  5.6  7.  16.7 30.1 13.4 19.1 29.  21.5 12.7 23.4 18.7\n",
            " 25.6 28.   8.4 22.5 27.2 30.4  6.6 25.5 25.4 10.1 32.8  9.9  6.5 28.7\n",
            " 11.  26.4 17.8 24.9 28.8  3.5 10.9  8.6  3.  21.3  1.7  3.3 29.3 33.1\n",
            " 25.7 29.4 23.6 27.4 28.6  5.  31.6  3.1 29.2  4.4 27.7 27.8  5.5  5.8\n",
            " 21.2 27.6 26.2 32.6 30.5  7.9 24.8  4.6  2.4  6.9  2.6  3.9 31.8 31.5\n",
            "  8.3 31.2 25.9  6.3 30.6 33.2  4.1 34.2  4.   1.4  7.1  2.5 -0.2 32.4\n",
            "  2.3  3.4  1.1 36.4 33.7  2.9  5.2 31.   1.   5.4 31.9  1.9  3.8 33.5\n",
            " 29.8  4.3  2.2  4.9 -0.5  2.  34.  31.4 33.3  1.2 32.  -0.7  1.8  3.7\n",
            "  0.7 34.3 35.1  0.6 33.4 36.3 32.2  2.7  0.5  0.1 -0.8 -0.4  0.8 32.1\n",
            " -0.3 34.7 -0.1 32.5 36.  34.9  1.6  0.3 -1.1 -1.2 34.5 -1.3  1.5 34.8\n",
            " 34.4  0.   1.3  2.1  0.2 35.3 32.9 32.7 -1.6 39.  -1.  34.6 -1.4 -1.9\n",
            " -0.6 34.1  0.9  0.4 33.9 35.2 33.8 -1.7 35.7 -0.9 35.  -3.2 -1.8 -1.5\n",
            " 35.5 -2.3 -3.7 -3.6 36.5 -2.6 35.8 -2.  -2.4 -2.2 35.4 33.6 37.2 36.2\n",
            " -2.8 35.9 -2.7 36.8 -2.5 -2.1 -3.3 37.4]\n",
            "Suhu3pm [31.3 19.2 19.8 25.7 19.4 11.9 16.5 18.8 11.  18.6 13.1 25.8 17.3 14.8\n",
            "  8.7 12.6 17.8 14.9 15.4 30.4 12.5 17.7 39.3 23.4 20.7 15.9 21.9 13.4\n",
            " 31.8 28.5  9.2  8.2  7.6 15.3 10.2 25.  22.5 20.1 16.3 11.8 16.1 21.4\n",
            " 24.1 17.6 19.7 13.6 13.  28.4 11.5 26.1 23.5 21.8 24.2 27.4 23.6 32.1\n",
            " 11.7 15.5 24.8 22.2 14.7 15.7 33.3 22.6 19.9 19.6 23.1 16.7 30.  25.5\n",
            " 31.5 21.5 14.1 23.  30.6 11.2 20.8 15.8  8.5 17.9 25.3 24.5  7.3 17.2\n",
            " 28.2 12.1 14.3 16.2 21.2 18.2 13.2 22.9 20.3 28.  13.7 11.3  9.8 35.\n",
            " 17.4 12.2 31.1 33.7 27.  12.8 18.9  9.7 17.  25.4 27.9 25.9 16.8 11.1\n",
            " 16.  14.4 29.7 27.6  6.9 16.9 22.4 18.5 12.9 15.6  7.9 12.  17.1 21.1\n",
            " 10.6  9.9 14.  16.4 11.6 32.7 13.8 13.9 28.9 26.4 15.2 32.4 20.9 10.7\n",
            " 23.7 20.4 16.6 18.1 28.7 20.  26.7  2.9 20.6 23.9 30.9 21.7 14.5 10.1\n",
            " 18.3 13.5 18.4 15.1 29.6 25.1 18.  10.8 19.1 21.3 17.5 10.5 23.3 10.4\n",
            " 29.5 12.3 12.7 18.7 30.3 13.3 22.1 20.2 24.4 35.2  7.5  6.8 25.2 19.\n",
            " 19.3 30.5 14.2 24.9 14.6 31.4  9.5 26.2 26.3 30.2  9.4 34.9 22.  34.8\n",
            " 28.1 29.1 33.1 26.8 15.  22.7 24.  24.6  9.3 29.8 28.3 26.  32.5  5.3\n",
            " 12.4 24.7 37.5 27.7 27.3 29.   4.   6.5 27.2 21.  31.  26.5 22.8 25.6\n",
            " 23.8 33.2 37.4 10.  32.3 27.1 23.2 26.9 20.5 24.3 19.5 29.3  8.8 29.9\n",
            " 11.4 10.3  6.2 27.8 32.2 22.3  6.7 30.1 35.7 28.8 32.9 27.5 40.6 30.8\n",
            " 32.8 38.6 28.6 32.  32.6 31.2  9.  21.6 10.9 30.7  7.8 35.6 31.7 31.6\n",
            "  8.9 29.4  7.7 29.2  9.1 34.   9.6 36.7  8.4 35.8 40.  26.6 37.  38.5\n",
            "  7.   4.9  2.6 36.5  3.   8.6 31.9 33.6 34.7  5.4 35.1  8.1  4.7  0.5\n",
            " 33.9 34.5 33.4  5.  33.  38.  33.8 38.9 35.9  4.1  8.  34.6 38.1 37.1\n",
            "  7.2  1.3  6.6 38.2  8.3 39.5 35.4  5.8  3.4 36.4 35.5 33.5  0.9 35.3\n",
            " 36.1 34.1  4.3  4.2  1.2  7.4  6.3 36.  37.8 38.3  3.7  5.5 37.9 36.8\n",
            "  5.1 36.6 40.3  3.9  6.1  2.5  7.1 39.2  5.6  2.2 40.8 34.2 39.9  2.8\n",
            "  4.6 36.2 36.3 38.8 -1.1  2.  37.3  3.8  5.9 38.4  5.7  2.1  2.3  0.2\n",
            " 39.   0.6  6.  37.7 39.7  0.1  2.4 38.7 40.2  6.4 34.3  0.7  4.8 39.4\n",
            " 36.9  1.8  3.6  1.6  4.4  0.3  3.5  0.  39.1 -0.3  1.7  0.8  4.5  3.3\n",
            "  1.  37.2  5.2 37.6 40.5  3.2 -0.1  1.4 34.4 41.3 40.7 41.2 40.9 41.\n",
            " 42.1 39.6  2.7 39.8 40.4  3.1 41.4 40.1 42.3 41.1 41.9 41.5 41.8 -0.5\n",
            " -0.4 -0.6  1.9  0.4 41.7  1.1  1.5 41.6 -0.8]\n",
            "BersaljuHariIni [0 1]\n",
            "Class [1 0]\n"
          ],
          "name": "stdout"
        }
      ]
    },
    {
      "cell_type": "markdown",
      "metadata": {
        "id": "94SR534aetxl"
      },
      "source": [
        "## Pre Processing Data Test"
      ]
    },
    {
      "cell_type": "code",
      "metadata": {
        "id": "meWwteTjrFCm",
        "colab": {
          "base_uri": "https://localhost:8080/"
        },
        "outputId": "c5abe6eb-d0af-4d10-c6d4-0173a12d740a"
      },
      "source": [
        "test_0 = salju_test[salju_test['Class'] == 'No']\n",
        "test_1 = salju_test[salju_test['Class'] == 'Yes']\n",
        "\n",
        "print(\"Class 0 :\", test_0.shape)\n",
        "print(\"Class 1 :\", test_1.shape)"
      ],
      "execution_count": 153,
      "outputs": [
        {
          "output_type": "stream",
          "text": [
            "Class 0 : (13824, 23)\n",
            "Class 1 : (3939, 23)\n"
          ],
          "name": "stdout"
        }
      ]
    },
    {
      "cell_type": "code",
      "metadata": {
        "colab": {
          "base_uri": "https://localhost:8080/"
        },
        "id": "xM52w5eDgQsJ",
        "outputId": "e26037dd-2a01-420c-8505-0add6ed4782b"
      },
      "source": [
        "# Oversampling Data\n",
        "test_count_0, test_count_1 = salju_test['Class'].value_counts()\n",
        "test_1_over = test_1.sample(test_count_0, replace = True)\n",
        "\n",
        "salju_test_sampling = pd.concat([test_1_over, test_0], axis=0)\n",
        "\n",
        "print(\"Total Class 1 and 0 :\", salju_test_sampling['Class'].value_counts())"
      ],
      "execution_count": 154,
      "outputs": [
        {
          "output_type": "stream",
          "text": [
            "Total Class 1 and 0 : No     13824\n",
            "Yes    13824\n",
            "Name: Class, dtype: int64\n"
          ],
          "name": "stdout"
        }
      ]
    },
    {
      "cell_type": "code",
      "metadata": {
        "colab": {
          "base_uri": "https://localhost:8080/"
        },
        "id": "0zKX3rMugkiM",
        "outputId": "998180e4-f26e-4830-d146-e00ed4bc89ad"
      },
      "source": [
        "# Mengecek missing values\n",
        "salju_test_sampling.isnull().sum()"
      ],
      "execution_count": 155,
      "outputs": [
        {
          "output_type": "execute_result",
          "data": {
            "text/plain": [
              "Tanggal                         0\n",
              "KodeLokasi                      0\n",
              "SuhuMin                       109\n",
              "SuhuMax                        53\n",
              "Hujan                         326\n",
              "Penguapan                   11826\n",
              "SinarMatahari               13015\n",
              "ArahAnginTerkencang          1850\n",
              "KecepatanAnginTerkencang     1840\n",
              "ArahAngin9am                 1881\n",
              "ArahAngin3pm                  710\n",
              "KecepatanAngin9am             264\n",
              "KecepatanAngin3pm             467\n",
              "Kelembaban9am                 408\n",
              "Kelembaban3pm                 694\n",
              "Tekanan9am                   2603\n",
              "Tekanan3pm                   2588\n",
              "Awan9am                     10217\n",
              "Awan3pm                     10732\n",
              "Suhu9am                       230\n",
              "Suhu3pm                       528\n",
              "BersaljuHariIni               326\n",
              "Class                           0\n",
              "dtype: int64"
            ]
          },
          "metadata": {
            "tags": []
          },
          "execution_count": 155
        }
      ]
    },
    {
      "cell_type": "code",
      "metadata": {
        "id": "xx8CqIPahZ1e"
      },
      "source": [
        "# Mengatasi Missing Values\n",
        "salju_test_sampling.fillna(salju_test_sampling.median(), inplace=True)                # Nilai Numeric diisi dengan nilai median\n",
        "salju_test_sampling = salju_test_sampling.fillna(salju_test_sampling.mode().iloc[0]) # Nilai String diisi dengan nilai yang paling sering muncul pada atribut"
      ],
      "execution_count": 156,
      "outputs": []
    },
    {
      "cell_type": "code",
      "metadata": {
        "colab": {
          "base_uri": "https://localhost:8080/"
        },
        "id": "6OC5NB7Vhgrp",
        "outputId": "a3b02e01-1c31-4dc2-927a-e6976cd922d0"
      },
      "source": [
        "salju_test_sampling.isnull().sum()"
      ],
      "execution_count": 157,
      "outputs": [
        {
          "output_type": "execute_result",
          "data": {
            "text/plain": [
              "Tanggal                     0\n",
              "KodeLokasi                  0\n",
              "SuhuMin                     0\n",
              "SuhuMax                     0\n",
              "Hujan                       0\n",
              "Penguapan                   0\n",
              "SinarMatahari               0\n",
              "ArahAnginTerkencang         0\n",
              "KecepatanAnginTerkencang    0\n",
              "ArahAngin9am                0\n",
              "ArahAngin3pm                0\n",
              "KecepatanAngin9am           0\n",
              "KecepatanAngin3pm           0\n",
              "Kelembaban9am               0\n",
              "Kelembaban3pm               0\n",
              "Tekanan9am                  0\n",
              "Tekanan3pm                  0\n",
              "Awan9am                     0\n",
              "Awan3pm                     0\n",
              "Suhu9am                     0\n",
              "Suhu3pm                     0\n",
              "BersaljuHariIni             0\n",
              "Class                       0\n",
              "dtype: int64"
            ]
          },
          "metadata": {
            "tags": []
          },
          "execution_count": 157
        }
      ]
    },
    {
      "cell_type": "code",
      "metadata": {
        "colab": {
          "base_uri": "https://localhost:8080/"
        },
        "id": "BwqoGd5bnEC1",
        "outputId": "e58cac4a-31f1-4118-fe82-00722cea2e21"
      },
      "source": [
        "# Mengecek type atribut\n",
        "print(salju_test_sampling.dtypes)"
      ],
      "execution_count": 158,
      "outputs": [
        {
          "output_type": "stream",
          "text": [
            "Tanggal                      object\n",
            "KodeLokasi                   object\n",
            "SuhuMin                     float64\n",
            "SuhuMax                     float64\n",
            "Hujan                       float64\n",
            "Penguapan                   float64\n",
            "SinarMatahari               float64\n",
            "ArahAnginTerkencang          object\n",
            "KecepatanAnginTerkencang    float64\n",
            "ArahAngin9am                 object\n",
            "ArahAngin3pm                 object\n",
            "KecepatanAngin9am           float64\n",
            "KecepatanAngin3pm           float64\n",
            "Kelembaban9am               float64\n",
            "Kelembaban3pm               float64\n",
            "Tekanan9am                  float64\n",
            "Tekanan3pm                  float64\n",
            "Awan9am                     float64\n",
            "Awan3pm                     float64\n",
            "Suhu9am                     float64\n",
            "Suhu3pm                     float64\n",
            "BersaljuHariIni              object\n",
            "Class                        object\n",
            "dtype: object\n"
          ],
          "name": "stdout"
        }
      ]
    },
    {
      "cell_type": "code",
      "metadata": {
        "id": "oGubEeCLgv2m"
      },
      "source": [
        "# Menentukan Fitur Categorical\n",
        "numerics = ['int8', 'int16', 'int32', 'int64', 'float16', 'float32', 'float64']\n",
        "categorical_columns = []\n",
        "features = salju_test_sampling.columns.values.tolist()\n",
        "for col in features:\n",
        "    if salju_test_sampling[col].dtype in numerics: continue\n",
        "    categorical_columns.append(col)\n",
        "\n",
        "# Encoding Fitur Categorical\n",
        "for col in categorical_columns:\n",
        "    if col in salju_test_sampling.columns:\n",
        "        enco = LabelEncoder()\n",
        "        enco.fit(list(salju_test_sampling[col].astype(str).values))\n",
        "        salju_test_sampling[col] = enco.transform(list(salju_test_sampling[col].astype(str).values))"
      ],
      "execution_count": 159,
      "outputs": []
    },
    {
      "cell_type": "code",
      "metadata": {
        "colab": {
          "base_uri": "https://localhost:8080/"
        },
        "id": "Ikab8873nFPh",
        "outputId": "2d0ce94a-1269-4928-b691-5dbd0bfd4840"
      },
      "source": [
        "# Mengecek type atribut\n",
        "print(salju_test_sampling.dtypes)"
      ],
      "execution_count": 160,
      "outputs": [
        {
          "output_type": "stream",
          "text": [
            "Tanggal                       int64\n",
            "KodeLokasi                    int64\n",
            "SuhuMin                     float64\n",
            "SuhuMax                     float64\n",
            "Hujan                       float64\n",
            "Penguapan                   float64\n",
            "SinarMatahari               float64\n",
            "ArahAnginTerkencang           int64\n",
            "KecepatanAnginTerkencang    float64\n",
            "ArahAngin9am                  int64\n",
            "ArahAngin3pm                  int64\n",
            "KecepatanAngin9am           float64\n",
            "KecepatanAngin3pm           float64\n",
            "Kelembaban9am               float64\n",
            "Kelembaban3pm               float64\n",
            "Tekanan9am                  float64\n",
            "Tekanan3pm                  float64\n",
            "Awan9am                     float64\n",
            "Awan3pm                     float64\n",
            "Suhu9am                     float64\n",
            "Suhu3pm                     float64\n",
            "BersaljuHariIni               int64\n",
            "Class                         int64\n",
            "dtype: object\n"
          ],
          "name": "stdout"
        }
      ]
    },
    {
      "cell_type": "code",
      "metadata": {
        "colab": {
          "base_uri": "https://localhost:8080/",
          "height": 217
        },
        "id": "Wq2OddywhKvI",
        "outputId": "1b2ba717-0370-4c80-e862-e74728c752d3"
      },
      "source": [
        "salju_test_sampling.head()"
      ],
      "execution_count": 161,
      "outputs": [
        {
          "output_type": "execute_result",
          "data": {
            "text/html": [
              "<div>\n",
              "<style scoped>\n",
              "    .dataframe tbody tr th:only-of-type {\n",
              "        vertical-align: middle;\n",
              "    }\n",
              "\n",
              "    .dataframe tbody tr th {\n",
              "        vertical-align: top;\n",
              "    }\n",
              "\n",
              "    .dataframe thead th {\n",
              "        text-align: right;\n",
              "    }\n",
              "</style>\n",
              "<table border=\"1\" class=\"dataframe\">\n",
              "  <thead>\n",
              "    <tr style=\"text-align: right;\">\n",
              "      <th></th>\n",
              "      <th>Tanggal</th>\n",
              "      <th>KodeLokasi</th>\n",
              "      <th>SuhuMin</th>\n",
              "      <th>SuhuMax</th>\n",
              "      <th>Hujan</th>\n",
              "      <th>Penguapan</th>\n",
              "      <th>SinarMatahari</th>\n",
              "      <th>ArahAnginTerkencang</th>\n",
              "      <th>KecepatanAnginTerkencang</th>\n",
              "      <th>ArahAngin9am</th>\n",
              "      <th>ArahAngin3pm</th>\n",
              "      <th>KecepatanAngin9am</th>\n",
              "      <th>KecepatanAngin3pm</th>\n",
              "      <th>Kelembaban9am</th>\n",
              "      <th>Kelembaban3pm</th>\n",
              "      <th>Tekanan9am</th>\n",
              "      <th>Tekanan3pm</th>\n",
              "      <th>Awan9am</th>\n",
              "      <th>Awan3pm</th>\n",
              "      <th>Suhu9am</th>\n",
              "      <th>Suhu3pm</th>\n",
              "      <th>BersaljuHariIni</th>\n",
              "      <th>Class</th>\n",
              "    </tr>\n",
              "  </thead>\n",
              "  <tbody>\n",
              "    <tr>\n",
              "      <th>14328</th>\n",
              "      <td>1210</td>\n",
              "      <td>31</td>\n",
              "      <td>14.1</td>\n",
              "      <td>18.9</td>\n",
              "      <td>7.8</td>\n",
              "      <td>3.0</td>\n",
              "      <td>9.9</td>\n",
              "      <td>11</td>\n",
              "      <td>35.0</td>\n",
              "      <td>14</td>\n",
              "      <td>12</td>\n",
              "      <td>13.0</td>\n",
              "      <td>19.0</td>\n",
              "      <td>73.0</td>\n",
              "      <td>69.0</td>\n",
              "      <td>1020.4</td>\n",
              "      <td>1018.8</td>\n",
              "      <td>2.0</td>\n",
              "      <td>5.0</td>\n",
              "      <td>17.7</td>\n",
              "      <td>18.7</td>\n",
              "      <td>1</td>\n",
              "      <td>1</td>\n",
              "    </tr>\n",
              "    <tr>\n",
              "      <th>14374</th>\n",
              "      <td>210</td>\n",
              "      <td>11</td>\n",
              "      <td>18.9</td>\n",
              "      <td>21.3</td>\n",
              "      <td>5.6</td>\n",
              "      <td>7.2</td>\n",
              "      <td>0.1</td>\n",
              "      <td>11</td>\n",
              "      <td>50.0</td>\n",
              "      <td>8</td>\n",
              "      <td>10</td>\n",
              "      <td>17.0</td>\n",
              "      <td>20.0</td>\n",
              "      <td>81.0</td>\n",
              "      <td>84.0</td>\n",
              "      <td>1014.5</td>\n",
              "      <td>1013.9</td>\n",
              "      <td>6.0</td>\n",
              "      <td>6.0</td>\n",
              "      <td>19.9</td>\n",
              "      <td>19.2</td>\n",
              "      <td>1</td>\n",
              "      <td>1</td>\n",
              "    </tr>\n",
              "    <tr>\n",
              "      <th>9876</th>\n",
              "      <td>2783</td>\n",
              "      <td>40</td>\n",
              "      <td>12.3</td>\n",
              "      <td>18.9</td>\n",
              "      <td>8.8</td>\n",
              "      <td>4.4</td>\n",
              "      <td>6.9</td>\n",
              "      <td>1</td>\n",
              "      <td>57.0</td>\n",
              "      <td>0</td>\n",
              "      <td>13</td>\n",
              "      <td>19.0</td>\n",
              "      <td>7.0</td>\n",
              "      <td>93.0</td>\n",
              "      <td>86.0</td>\n",
              "      <td>1016.3</td>\n",
              "      <td>1014.0</td>\n",
              "      <td>6.0</td>\n",
              "      <td>6.0</td>\n",
              "      <td>12.6</td>\n",
              "      <td>17.4</td>\n",
              "      <td>1</td>\n",
              "      <td>1</td>\n",
              "    </tr>\n",
              "    <tr>\n",
              "      <th>7408</th>\n",
              "      <td>1246</td>\n",
              "      <td>48</td>\n",
              "      <td>23.0</td>\n",
              "      <td>29.0</td>\n",
              "      <td>17.2</td>\n",
              "      <td>36.6</td>\n",
              "      <td>6.9</td>\n",
              "      <td>10</td>\n",
              "      <td>39.0</td>\n",
              "      <td>8</td>\n",
              "      <td>9</td>\n",
              "      <td>13.0</td>\n",
              "      <td>20.0</td>\n",
              "      <td>82.0</td>\n",
              "      <td>73.0</td>\n",
              "      <td>1013.3</td>\n",
              "      <td>1011.5</td>\n",
              "      <td>5.0</td>\n",
              "      <td>8.0</td>\n",
              "      <td>26.0</td>\n",
              "      <td>28.3</td>\n",
              "      <td>1</td>\n",
              "      <td>1</td>\n",
              "    </tr>\n",
              "    <tr>\n",
              "      <th>6981</th>\n",
              "      <td>1908</td>\n",
              "      <td>9</td>\n",
              "      <td>10.0</td>\n",
              "      <td>17.1</td>\n",
              "      <td>2.6</td>\n",
              "      <td>4.4</td>\n",
              "      <td>6.9</td>\n",
              "      <td>14</td>\n",
              "      <td>57.0</td>\n",
              "      <td>14</td>\n",
              "      <td>13</td>\n",
              "      <td>28.0</td>\n",
              "      <td>35.0</td>\n",
              "      <td>80.0</td>\n",
              "      <td>89.0</td>\n",
              "      <td>1014.5</td>\n",
              "      <td>1014.1</td>\n",
              "      <td>8.0</td>\n",
              "      <td>8.0</td>\n",
              "      <td>15.6</td>\n",
              "      <td>14.9</td>\n",
              "      <td>1</td>\n",
              "      <td>1</td>\n",
              "    </tr>\n",
              "  </tbody>\n",
              "</table>\n",
              "</div>"
            ],
            "text/plain": [
              "       Tanggal  KodeLokasi  SuhuMin  ...  Suhu3pm  BersaljuHariIni  Class\n",
              "14328     1210          31     14.1  ...     18.7                1      1\n",
              "14374      210          11     18.9  ...     19.2                1      1\n",
              "9876      2783          40     12.3  ...     17.4                1      1\n",
              "7408      1246          48     23.0  ...     28.3                1      1\n",
              "6981      1908           9     10.0  ...     14.9                1      1\n",
              "\n",
              "[5 rows x 23 columns]"
            ]
          },
          "metadata": {
            "tags": []
          },
          "execution_count": 161
        }
      ]
    },
    {
      "cell_type": "code",
      "metadata": {
        "colab": {
          "base_uri": "https://localhost:8080/",
          "height": 284
        },
        "id": "93ccqHxlhlJF",
        "outputId": "88463211-813c-4187-af8c-f005f559ca13"
      },
      "source": [
        "# Mengecek Outliers\n",
        "f,axes = plt.subplots(1,3)\n",
        "plt.figure(figsize=(20,10))\n",
        "salju_test_sampling['SuhuMin'].plot(kind='box',ax=axes[0])\n",
        "salju_test_sampling['SuhuMax'].plot(kind='box',ax=axes[1])\n",
        "salju_test_sampling['Class'].plot(kind='box',ax=axes[2])\n",
        "\n",
        "plt.show()"
      ],
      "execution_count": 162,
      "outputs": [
        {
          "output_type": "display_data",
          "data": {
            "image/png": "[encoded data removed]",
            "text/plain": [
              "<Figure size 432x288 with 3 Axes>"
            ]
          },
          "metadata": {
            "tags": [],
            "needs_background": "light"
          }
        },
        {
          "output_type": "display_data",
          "data": {
            "text/plain": [
              "<Figure size 1440x720 with 0 Axes>"
            ]
          },
          "metadata": {
            "tags": []
          }
        }
      ]
    },
    {
      "cell_type": "code",
      "metadata": {
        "colab": {
          "base_uri": "https://localhost:8080/"
        },
        "id": "RJQYipyvhunp",
        "outputId": "0a8e300f-688d-4d26-db51-ffc4c8edeaf1"
      },
      "source": [
        "#Metode IQR untuk SuhuMin\n",
        "Q1=salju_test_sampling['SuhuMin'].quantile(0.25)\n",
        "Q3=salju_test_sampling['SuhuMin'].quantile(0.75)\n",
        "IQR=Q3-Q1\n",
        "print(Q1)\n",
        "print(Q3)\n",
        "print(IQR)\n",
        "Lower_Whisker = Q1-1.5*IQR\n",
        "Upper_Whisker = Q3+1.5*IQR\n",
        "print(Lower_Whisker, Upper_Whisker)"
      ],
      "execution_count": 163,
      "outputs": [
        {
          "output_type": "stream",
          "text": [
            "8.0\n",
            "17.2\n",
            "9.2\n",
            "-5.799999999999999 31.0\n"
          ],
          "name": "stdout"
        }
      ]
    },
    {
      "cell_type": "code",
      "metadata": {
        "id": "hSilovYLhzL4"
      },
      "source": [
        "salju_test_sampling = salju_test_sampling[salju_test_sampling['SuhuMin']< Upper_Whisker]\n",
        "salju_test_sampling = salju_test_sampling[salju_test_sampling['SuhuMin']> Lower_Whisker]"
      ],
      "execution_count": 164,
      "outputs": []
    },
    {
      "cell_type": "code",
      "metadata": {
        "colab": {
          "base_uri": "https://localhost:8080/"
        },
        "id": "zbNNRF-wh6IM",
        "outputId": "56ff3b9e-4d30-458b-f52f-9afc5074e05c"
      },
      "source": [
        "#Metode IQR untuk SuhuMax\n",
        "Q1=salju_test_sampling['SuhuMax'].quantile(0.25)\n",
        "Q3=salju_test_sampling['SuhuMax'].quantile(0.75)\n",
        "IQR=Q3-Q1\n",
        "print(Q1)\n",
        "print(Q3)\n",
        "print(IQR)\n",
        "Lower_Whisker = Q1-1.5*IQR\n",
        "Upper_Whisker = Q3+1.5*IQR\n",
        "print(Lower_Whisker, Upper_Whisker)"
      ],
      "execution_count": 165,
      "outputs": [
        {
          "output_type": "stream",
          "text": [
            "17.2\n",
            "27.7\n",
            "10.5\n",
            "1.4499999999999993 43.45\n"
          ],
          "name": "stdout"
        }
      ]
    },
    {
      "cell_type": "code",
      "metadata": {
        "id": "qyT0PNGNiA6W"
      },
      "source": [
        "salju_test_sampling = salju_test_sampling[salju_test_sampling['SuhuMax']< Upper_Whisker]\n",
        "salju_test_sampling = salju_test_sampling[salju_test_sampling['SuhuMax']> Lower_Whisker]"
      ],
      "execution_count": 166,
      "outputs": []
    },
    {
      "cell_type": "code",
      "metadata": {
        "colab": {
          "base_uri": "https://localhost:8080/",
          "height": 282
        },
        "id": "9OTye7CPiFUO",
        "outputId": "05b21805-a8ec-4292-98d4-19ac76378006"
      },
      "source": [
        "# Mengecek Outliers setelah menggunakan metode IQR\n",
        "f,axes = plt.subplots(1,3)\n",
        "plt.figure(figsize=(20,10))\n",
        "salju_test_sampling['SuhuMin'].plot(kind='box',ax=axes[0])\n",
        "salju_test_sampling['SuhuMax'].plot(kind='box',ax=axes[1])\n",
        "salju_test_sampling['Class'].plot(kind='box',ax=axes[2])\n",
        "\n",
        "plt.show()"
      ],
      "execution_count": 167,
      "outputs": [
        {
          "output_type": "display_data",
          "data": {
            "image/png": "[encoded data removed]",
            "text/plain": [
              "<Figure size 432x288 with 3 Axes>"
            ]
          },
          "metadata": {
            "tags": [],
            "needs_background": "light"
          }
        },
        {
          "output_type": "display_data",
          "data": {
            "text/plain": [
              "<Figure size 1440x720 with 0 Axes>"
            ]
          },
          "metadata": {
            "tags": []
          }
        }
      ]
    },
    {
      "cell_type": "code",
      "metadata": {
        "colab": {
          "base_uri": "https://localhost:8080/"
        },
        "id": "zmvW8q2IiJy3",
        "outputId": "6fc3e1cf-1087-4374-e04e-b8f90e95d241"
      },
      "source": [
        "# Mengecek Data Unique\n",
        "def check(data):\n",
        "  for col in data.columns:\n",
        "    print(col, data[col].unique())\n",
        "\n",
        "check(salju_test_sampling)"
      ],
      "execution_count": 168,
      "outputs": [
        {
          "output_type": "stream",
          "text": [
            "Tanggal [1210  210 2783 ...   62 1358  434]\n",
            "KodeLokasi [31 11 40 48  9 28 44  0 14 45 27 35 23 22 26  2 37 15 10  7 17 20  6 47\n",
            "  8 12 13 18  1 19  3 41 38  5 33 36 39  4 46 21 24 32 30 42 16 25 34 29\n",
            " 43]\n",
            "SuhuMin [14.1 18.9 12.3 23.  10.  12.1 10.1 13.1 21.8 26.1  6.8 15.4 -2.8 14.3\n",
            " 16.7  8.7 22.   5.7  2.2 18.3 12.4 17.2 18.8 15.9  7.7 10.9 26.2 18.5\n",
            " 27.  14.7 10.2 13.5 13.  13.6 17.5 24.4 13.7  0.2  8.8 11.  12.7 16.9\n",
            "  5.2 14.8 25.3  8.9 15.3 14.  25.1  4.8 13.4  4.6 10.7 16.  20.1 11.6\n",
            "  9.9 19.6 -1.8 15.2 13.3 23.7 18.6 12.9 10.8 11.3  8.3 23.8  6.6  3.4\n",
            "  4.9  5.8  6.2  8.4 22.8  6.3 15.  14.4 15.5 11.1 15.7  7.2  1.6 23.4\n",
            " 17.  17.4 17.8 16.6 16.5 13.9 16.2 22.6 22.3  5.   8.  17.6 22.1 13.2\n",
            " 12.2  9.6 14.2  2.6  0.9 23.6  5.9  7.9  3.5  9.8  8.2  7.8 18.1  6.7\n",
            " 15.8  4.3 24.6 20.   7.3  9.1 12.5 14.6 19.  18.  14.9 16.4 18.4 26.5\n",
            "  3.6 24.  10.3 11.9 10.4  3.9  5.6 20.8 11.7 23.9  8.1 20.9 21.  10.5\n",
            "  4.7 19.9 17.3 20.3 27.6 -0.5  3.3 11.2 12.   9.7  6.4 -3.4 18.2 12.8\n",
            " 24.5  9.5 24.9  9.4 20.6 18.7  5.3 16.1 19.1  7.1  1.2 13.8  9.2  8.5\n",
            "  9.   6.9 11.5 24.7  4.5  4.4 19.2 20.7 26.6  9.3 23.5 23.1 10.6 22.9\n",
            " 12.6 17.1 24.2 25.9 19.7 21.3 22.2 15.6  4.2  7.   7.5 21.5  7.4  6.1\n",
            " 25.8 21.4 28.   3.7  6.  20.2  2.5 15.1 16.3 11.8 19.5 21.7 19.3 26.\n",
            " 17.9  4.1 22.5  8.6 -0.8 -0.2 27.3  2.1 17.7  7.6 11.4 21.6 19.4  1.9\n",
            "  1.4  1.1 24.1  4.   6.5 25.2 20.5  0.5 20.4 24.3  0.1 23.2 -2.   2.3\n",
            " 28.1 14.5 26.7 16.8 21.2 21.1  3.1 25.6 -3.8  1.5 24.8  5.1  5.4 25.5\n",
            "  3.  25.  22.4  5.5 22.7 -1.2 23.3 -1.3  1.8  2.7  0.4 27.9  2.9 -2.6\n",
            "  0.8 -2.9 -2.5  1.3 -1.5  3.8  1.7 21.9 -1.9  3.2 19.8 25.7  0.6 25.4\n",
            " -1.1 -2.3 26.4 27.8 30.7  0.  -0.4 -1.7  2.  -0.3 28.6  2.8 -1.  27.5\n",
            "  2.4 -4.  27.4 26.8  0.7  1.  -2.1 -0.9 -0.1 -0.6 -4.3  0.3 27.2 -0.7\n",
            " -3.5 26.3 -1.6 -2.4 -1.4 -5.5 -3.9 -3.1 -4.7 28.2 -3.2 -3.3 29.6 -4.1\n",
            " -2.2 28.5 -3.6 -4.9 -5.7 27.7 -4.6 -3.  29.4 -4.5 29.7 26.9 -3.7 -4.2\n",
            " 29.3 -5.1 -4.4 28.3 -2.7 -4.8 28.8 28.4 29.  -5. ]\n",
            "SuhuMax [18.9 21.3 29.  17.1 14.6 19.  25.  28.8 31.8 16.1 23.5 16.8 21.1 19.1\n",
            " 16.7 33.2 12.  13.1 28.2 20.6 28.9 30.9 21.9 11.9 12.5 22.9 31.7 24.8\n",
            " 33.4 27.5 21.6 16.  17.3 19.6 37.  29.5 18.2 17.  15.6 14.7 24.1 35.7\n",
            " 22.2 24.9 36.  31.  14.9 20.1 19.3 35.4 11.2 19.2 13.  28.1 13.8  2.2\n",
            " 22.7 18.6 18.5 29.3 19.4 26.6 26.  33.1 27.2 27.6 17.7 19.5 18.  17.8\n",
            " 18.1 25.2 32.5 13.4 13.7 18.7 14.5 17.5 26.4 31.4 23.9 10.4 41.8 20.9\n",
            " 30.  25.7 37.2 22.5 22.  35.6 12.8 20.  14.1 32.4 16.5 29.9 20.3 21.2\n",
            " 20.7 27.8 18.4 15.1 32.2 14.4 19.8 16.2 23.3 21.5 19.9 24.3 16.9 30.7\n",
            " 26.1 17.9 17.2 14.2 21.7 24.6 28.4 23.7 24.  28.  26.9 21.  23.  10.3\n",
            " 21.4  9.4 38.9 19.7 26.7 32.8 16.3 16.6  9.3 33.  12.7 18.8 18.3 20.2\n",
            " 24.4 23.6  8.1  9.7 12.2 24.7 22.6  3.6 23.1 34.6 31.2 29.8 12.9 17.4\n",
            " 20.5 15.  12.4 27.1 11.8 22.8 11.  32.3  7.4 30.8 15.9 23.2 24.5 10.7\n",
            " 14.  15.7 29.4 30.3 13.6 20.8 30.1 29.7 15.3 14.3 28.3 31.9 31.5 25.4\n",
            " 33.7 21.8 30.4 33.8 20.4 28.7 22.4 17.6  7.9 30.6 38.4 25.5 31.3 25.9\n",
            " 10.2 24.2 12.3 13.5 34.4 38.6 37.7 26.3 36.2 22.1  3.9 32.9 14.8 32.1\n",
            " 25.1 31.6 15.2 37.9 23.4 30.5 13.3 26.5 10.  25.6  4.8 34.7  2.7 34.8\n",
            " 31.1 15.8 34.3 32.7 32.  10.1  3.8  9.5 12.6 26.2 27.3 32.6 29.1 23.8\n",
            " 34.1  2.4 13.9 11.6 15.4 16.4 27.9 11.4 27.  22.3 33.6 28.5 36.5  7.7\n",
            " 26.8 28.6 27.4  5.2 29.6 39.6 38.7 41.2  8.9 34.9 37.1 25.3  2.6 41.6\n",
            " 40.1 10.5 11.3 34.5 11.7  2.3  8.4  8.8 25.8 27.7 29.2 35.  41.5  9.8\n",
            " 35.8 11.5 10.8 37.8 36.9  5.3  4.3 39.8 33.9  5.5  3.4 36.3 34.2 36.6\n",
            "  3.   9.2 33.3 37.5 38.2 35.1 35.5  6.1 12.1  8.7 15.5 42.5  9.6  8.\n",
            " 37.6 10.9 13.2 30.2  7.2 38.5  8.6  9.   2.5 37.3 35.3  6.7 34.  36.4\n",
            " 10.6 33.5 37.4 41.9  4.5  2.8  9.1 35.2  4.  35.9  6.8 11.1  5.7 38.3\n",
            " 36.7  4.7 40.   9.9  6.2 40.8 39.1  6.6 39.3  4.4 40.4 42.6 36.1  8.5\n",
            " 40.2 41.4 38.  39.5 42.8 43.1 40.9 40.7 36.8 38.1  7.   6.9  5.8 43.\n",
            " 39.9 38.8 39.   3.3 39.2 43.4 39.7 41.3  7.6 42.7  4.9 40.6 42.2 40.3\n",
            " 40.5 41.1 42.1  3.7 41.7  4.1 39.4  8.2 41.  42.9  2.   7.5  2.9  7.8\n",
            "  7.3 43.2  1.9 42.3  7.1  3.2 42.  43.3 42.4  8.3]\n",
            "Hujan [7.800e+00 5.600e+00 8.800e+00 1.720e+01 2.600e+00 2.520e+01 0.000e+00\n",
            " 4.000e-01 1.000e+00 8.900e+01 1.200e+00 3.800e+00 6.000e-01 6.400e+00\n",
            " 1.152e+02 1.120e+01 2.000e+00 4.000e+00 2.800e+00 2.400e+00 3.000e+00\n",
            " 7.200e+00 2.580e+01 6.600e+00 5.000e+00 2.000e-01 1.138e+02 9.800e+00\n",
            " 1.600e+00 7.860e+01 1.240e+01 8.000e-01 3.600e+00 2.200e+00 4.540e+01\n",
            " 1.380e+01 5.200e+00 3.200e+00 2.640e+01 4.200e+00 1.620e+01 6.100e+01\n",
            " 1.040e+01 6.800e+00 8.400e+01 1.180e+01 1.100e+01 9.400e+00 4.800e+00\n",
            " 2.420e+01 3.180e+01 9.600e+00 1.680e+01 2.180e+01 1.400e+00 3.400e+00\n",
            " 2.740e+01 8.600e+00 1.600e+01 4.880e+01 1.920e+01 1.960e+01 1.800e+00\n",
            " 4.400e+00 1.080e+01 5.800e+00 9.200e+00 1.060e+01 3.140e+01 4.600e+00\n",
            " 2.600e+01 3.820e+01 1.660e+01 3.080e+01 3.640e+01 3.620e+01 2.280e+01\n",
            " 7.000e+00 8.000e+00 9.000e+00 1.340e+01 1.020e+01 5.500e+01 5.240e+01\n",
            " 4.180e+01 1.780e+01 2.700e+01 6.200e+00 1.400e+01 5.400e+00 3.940e+01\n",
            " 1.090e+02 2.940e+01 1.220e+01 3.240e+01 2.368e+02 1.320e+01 2.060e+01\n",
            " 2.320e+01 1.140e+01 2.960e+01 1.760e+01 3.300e+01 1.480e+01 2.220e+01\n",
            " 2.380e+01 6.140e+01 1.000e+01 1.460e+01 1.500e+01 6.200e+01 1.260e+01\n",
            " 3.100e+01 3.380e+01 1.360e+01 2.100e+01 8.200e+00 3.160e+01 3.280e+01\n",
            " 1.980e+01 2.040e+01 1.840e+01 3.680e+01 1.160e+01 1.200e+01 5.560e+01\n",
            " 6.000e+00 2.720e+01 2.780e+01 3.780e+01 8.360e+01 6.020e+01 2.440e+01\n",
            " 2.980e+01 4.940e+01 1.640e+01 4.660e+01 7.600e+00 1.560e+01 3.500e+01\n",
            " 1.420e+01 2.160e+01 2.660e+01 9.040e+01 2.560e+01 3.120e+01 5.440e+01\n",
            " 7.400e+00 8.400e+00 1.034e+02 1.228e+02 5.120e+01 3.020e+01 3.560e+01\n",
            " 3.220e+01 4.840e+01 1.740e+01 4.380e+01 1.822e+02 1.880e+01 4.820e+01\n",
            " 8.640e+01 2.480e+01 1.300e+01 4.300e+01 1.700e+01 5.960e+01 5.740e+01\n",
            " 2.200e+01 4.040e+01 4.080e+01 1.540e+01 4.460e+01 4.860e+01 3.420e+01\n",
            " 7.960e+01 1.500e+00 3.980e+01 9.260e+01 7.680e+01 3.300e+00 3.740e+01\n",
            " 4.100e+01 1.520e+01 4.240e+01 1.216e+02 6.440e+01 7.100e+00 8.380e+01\n",
            " 3.880e+01 1.900e+01 4.620e+01 1.440e+01 2.680e+01 1.300e+00 2.860e+01\n",
            " 3.760e+01 1.154e+02 2.400e+01 2.340e+01 2.080e+01 2.000e+01 1.580e+01\n",
            " 2.880e+01 1.280e+01 1.800e+01 2.900e+01 1.000e-01 2.260e+01 1.940e+01\n",
            " 3.360e+01 2.120e+01 2.540e+01 3.440e+01 4.420e+01 4.700e+01 3.260e+01\n",
            " 4.960e+01 7.100e+01 5.100e+01 2.800e+01 2.760e+01 3.580e+01 2.020e+01\n",
            " 5.780e+01 2.360e+01 3.700e+01 3.460e+01 4.900e+01 3.340e+01 1.820e+01\n",
            " 6.460e+01 2.620e+01 6.340e+01 2.300e+01 1.442e+02 3.920e+01 4.600e+01\n",
            " 1.900e+00 2.472e+02 7.260e+01 4.920e+01 4.320e+01 7.400e+01 3.400e+01\n",
            " 3.660e+01 5.820e+01 6.700e+01 1.070e+01 7.900e+00 2.840e+01 8.060e+01\n",
            " 4.340e+01 5.800e+01 7.060e+01 1.860e+01 2.500e+01 7.620e+01 5.140e+01\n",
            " 6.220e+01 4.060e+01 6.280e+01 6.060e+01 2.140e+01 5.880e+01 6.600e+01\n",
            " 4.020e+01 3.540e+01 3.520e+01 7.800e+01 6.400e+01 3.860e+01 3.320e+01\n",
            " 3.900e+01 4.640e+01 4.440e+01 6.380e+01 7.160e+01 6.420e+01 1.846e+02\n",
            " 4.980e+01 5.060e+01 6.160e+01 6.620e+01 4.800e+01 5.620e+01 5.580e+01\n",
            " 5.600e+01 8.800e+01 5.000e-01 4.760e+01 7.080e+01 8.240e+01 7.500e+01\n",
            " 4.200e+01 1.590e+01 3.960e+01 4.900e+00 4.740e+01 4.700e+00 5.320e+01\n",
            " 6.500e+00 4.120e+01 7.000e-01 3.200e+01 6.900e+00 9.320e+01 3.000e-01\n",
            " 2.460e+01 2.240e+01 3.040e+01 2.300e+00 5.420e+01 2.900e+00 7.420e+01\n",
            " 6.300e+00 5.160e+01 6.520e+01 3.720e+01 3.900e+00 2.100e+00 4.500e+00\n",
            " 1.180e+02 1.110e+02 4.220e+01 1.700e+00 1.050e+02 5.300e+01 6.000e+01\n",
            " 2.820e+01 4.000e+01 2.920e+01 1.100e+00 4.140e+01 1.834e+02 7.520e+01\n",
            " 8.180e+01 6.780e+01]\n",
            "Penguapan [ 3.   7.2  4.4 36.6  2.6  5.   5.4  2.   6.4  1.   3.6  2.4  1.8 11.2\n",
            "  4.6 30.4  9.4  4.   3.8  3.2  0.8  3.4  8.   1.4  2.8  0.6  7.4  1.2\n",
            "  8.2  4.2 10.4  4.8  7.6  0.2  6.8 10.6 14.8  5.8 17.6  1.9  6.6  2.2\n",
            "  8.4  1.6  0.4 12.8  7.  10.2  5.2  9.2  6.   7.8  8.6  6.7  6.2 12.6\n",
            "  9.  12.   5.6 14.2  0.   9.6 14.4  8.8 17.  11.6  9.8  7.7 11.  10.\n",
            " 10.8 13.  22.4 16.   1.1 14.   6.5 12.2  2.1 14.6 11.8  2.9  9.1  2.7\n",
            " 10.1  8.5  2.3 10.5 11.4 18.6  5.3 20.6 12.4  3.5 13.4 15.  36.8 23.6\n",
            "  4.3 13.8 15.6 15.2 13.6 28.6  5.1 15.4 21.  26.   5.7  3.7  3.1 19.2\n",
            " 35.8  3.3  8.7 15.8 13.2 16.2 16.6 14.5 35.4 33.6  2.5 52.4  1.3  7.5\n",
            " 32.  24.   4.1  1.7 18.8 19.  17.4 21.6 16.4 14.7 20.8 24.6 18.4 11.9\n",
            " 30.8 18.  20.  28.   4.7 19.8 27.8 56.   0.3 25.4 19.6 36.   7.9 32.2\n",
            " 40.4 54.  23.   1.5 22.6  6.3 24.2 25.  16.8 19.1 68.8  0.9 12.1 35.\n",
            "  9.3  7.1  4.9 22.1 23.2 21.2 22.   6.9  0.7 34.2 21.4 32.8  5.9 19.7\n",
            "  5.5  8.3 17.8 20.2  0.1 18.2 17.2 22.2 13.3 20.4 39.2 42.8 44.4 22.8\n",
            " 13.1 29.8 23.3 25.6 64.   6.1 37.6 34.  34.5  3.9 38.4 11.1 31.  59.8\n",
            " 13.9 46.6 37.4  0.5 41.2 11.7 23.4]\n",
            "SinarMatahari [ 9.9  0.1  6.9  7.   4.7  6.5  3.9  0.   9.6  7.7  2.1  3.5  0.5  3.7\n",
            "  9.2  0.3  9.   2.7  4.2  2.5  4.4 10.4  6.1  6.6  2.2  7.3  1.4  9.8\n",
            "  2.   5.3  0.7  0.9  5.5  8.3  2.6  3.8  9.3  4.3  8.7  5.8  3.6  7.2\n",
            "  7.6  6.3  8.2  0.4  1.2  8.9  5.  10.1  4.9  0.8 11.4  0.2  8.5  1.\n",
            "  0.6  1.5  5.9  1.7  1.1  5.6  3.4  6.   6.4  3.   7.4  5.7  9.1  1.6\n",
            "  9.5  4.6  4.   5.4 12.1  8.6 10.9  5.2  1.3  3.2 10.8 10.7  4.5  1.9\n",
            " 11.7  7.8 12.5  6.2  6.7 11.1  2.9  6.8  1.8  9.7  2.3  7.5  3.3 10.\n",
            " 11.   4.8  5.1 10.3  9.4 13.  12.6  8.  11.3 12.   7.1 12.7 12.4  2.8\n",
            "  4.1 13.2  3.1  8.8 12.3 12.9 11.2  8.4 10.5  7.9 11.5  8.1 10.6 12.8\n",
            " 10.2 12.2 11.9  2.4 11.8 11.6 13.8 13.4 13.1 13.9 13.3 13.6 13.7 13.5\n",
            " 14.3 14.  14.5 14.1]\n",
            "ArahAnginTerkencang [11  1 10 14 12  6  7  4 15  2  3  0  9  8 13  5]\n",
            "KecepatanAnginTerkencang [ 35.  50.  57.  39.  33.  46.  59.  72.  43.  31.  44.  54.  52.  28.\n",
            "  37.  24.  13.  20.  41.  70.  83.  61.  91.  76.  30.  48.  19.  56.\n",
            "  69.  67.  81.  63.  22.  85.  65.  78.  26.  17.  74.  98.  80.  93.\n",
            "  94.  15. 104. 106.  89.  96.  87.  11.   9. 109. 100. 107.   7. 102.\n",
            " 115.   6. 122.]\n",
            "ArahAngin9am [14  8  0 13 15  2  1  6  7 12  9  3 11 10  4  5]\n",
            "ArahAngin3pm [12 10 13  9  8 15  4  7 14  6  2  1  3  5  0 11]\n",
            "KecepatanAngin9am [13. 17. 19. 28. 15.  4. 26. 11. 22. 31.  7.  9.  6. 24. 20. 30.  0. 35.\n",
            " 48. 33.  2. 61. 39. 52. 50. 43. 41. 46. 65. 54. 37. 63. 44. 57. 83. 56.\n",
            " 59.]\n",
            "KecepatanAngin3pm [19. 20.  7. 35. 22.  9. 15. 11. 24. 26. 17. 13. 37.  4. 31. 28.  6. 30.\n",
            " 33. 44. 46. 39. 41. 43. 48.  2. 50.  0. 61. 56. 57. 52. 59. 65. 83. 54.]\n",
            "Kelembaban9am [ 73.  81.  93.  82.  80.  97.  70.  88.  68.  60.  86.  89.  79.  71.\n",
            "  99.  74.  63.  84.  98.  85.  48.  83.  40.  87.  75.  72.  94.  92.\n",
            "  96.  33.  61.  66.  90.  76.  69.  54. 100.  67.  78.  58.  31.  91.\n",
            "  52.  77.  55.  45.  41.  65.  64.  57.  49.  46.  62.  95.  56.  47.\n",
            "  39.  35.  50.  24.  51.  22.  44.  16.  43.  26.  53.  38.  59.  37.\n",
            "  42.  25.  13.  23.  15.  36.  28.  21.   6.  18.  32.  19.  17.  14.\n",
            "  27.  12.  20.  11.  34.  30.   8.   9.  29.   4.  10.   5.   3.   7.\n",
            "   2.]\n",
            "Kelembaban3pm [ 69.  84.  86.  73.  89.  94.  38.  46.  63.  58.  51.  87.  45.  88.\n",
            "  99.  70.  66.  36.  92.  95.  20.  80.  32.  82.  60.  47.  74.  28.\n",
            "  52.  62.  68.  54.  64.  59.  83.  91. 100.  81.  22.  57.  76.  77.\n",
            "  39.  71.  65.  67.  78.  61.  49.  97.  37.  23.  85.  53.  48.  79.\n",
            "  41.  90.  56.  30.  33.  96.  34.  15.  75.  93.  72.  24.  55.  43.\n",
            "  50.  98.  26.  35.  44.  31.  13.  18.  19.  40.  29.  11.  21.  14.\n",
            "  42.  27.   9.  17.   7.  16.  12.  25.   4.   6.   5.  10.   8.   3.\n",
            "   2.   1.]\n",
            "Tekanan9am [1020.4 1014.5 1016.3 1013.3 1010.7 1025.6 1015.4 1012.4 1011.3 1013.7\n",
            " 1017.7 1025.7 1013.1 1016.5 1009.5 1011.  1010.5 1018.4 1018.1 1020.9\n",
            " 1021.7 1019.7 1013.2 1026.5 1007.2 1011.2 1007.1 1014.2 1016.2 1014.8\n",
            " 1030.5 1016.  1007.6 1002.2 1018.3  998.5 1009.7 1000.6 1009.  1013.9\n",
            " 1016.7 1007.  1006.7 1020.7 1007.9 1019.3 1001.3 1010.1 1006.6 1017.4\n",
            " 1014.6 1021.3 1023.5 1015.  1012.6 1023.8 1023.6 1010.  1019.2 1013.5\n",
            " 1021.6 1008.8 1012.3 1016.6 1018.7 1005.4 1028.9 1017.5 1024.3 1009.2\n",
            "  997.9 1026.4 1022.3 1006.1 1023.4 1029.5 1009.9 1034.2 1008.9 1025.4\n",
            " 1019.8 1012.2 1012.5 1014.7 1008.2 1013.  1014.4 1024.5 1012.9  985.9\n",
            " 1013.4 1017.8 1008.3 1003.3 1030.1 1021.  1017.2 1011.1 1019.5 1015.1\n",
            " 1021.2 1005.2 1022.  1026.1 1019.1 1016.4 1022.6 1025.5 1021.1 1002.5\n",
            " 1028.4 1012.7 1029.9 1015.8 1016.1  996.8 1009.3 1012.  1014.9 1019.6\n",
            " 1012.8 1008.7 1000.3 1003.4 1004.  1028.  1007.3 1017.3 1021.9 1020.5\n",
            " 1015.2 1017.9 1023.2  995.9 1018.8 1027.7 1015.3 1008.1 1003.8 1017.6\n",
            " 1008.5 1005.7 1019.9 1027.1 1004.1 1005.3 1010.4 1002.7 1014.3 1003.7\n",
            " 1011.4 1022.5 1024.6 1011.5 1005.8 1026.7 1027.2 1004.7 1029.8 1003.\n",
            " 1017.  1028.6 1006.3  994.7 1010.3 1018.5 1010.6 1019.4 1018.2 1009.8\n",
            " 1004.3 1035.7 1016.9 1018.6 1036.1 1027.6 1025.8 1021.5 1020.1 1024.8\n",
            "  997.4 1020.3 1028.3 1025.  1011.8 1023.  1011.9 1003.5 1016.8 1011.6\n",
            " 1006.4 1023.3  997.2 1015.5 1026.  1004.5 1023.7 1001.5 1014.1 1021.4\n",
            " 1010.9 1014.  1002.8 1006.  1012.1  992.8 1002.3 1020.  1004.8 1018.\n",
            " 1003.2 1009.4 1002.  1018.9 1008.  1007.5 1001.6 1006.8 1028.7 1007.4\n",
            " 1006.5 1024.4 1029.4 1007.8 1009.1 1027.9 1020.2 1015.9 1029.1 1015.6\n",
            " 1026.2 1001.8 1001.2 1022.4 1021.8  982.3 1005.6 1010.2 1010.8 1028.8\n",
            " 1002.9 1022.2 1020.8 1005.  1003.9 1011.7  999.8 1006.2 1007.7 1030.3\n",
            " 1013.8 1019.  1015.7 1009.6 1029.  1022.8 1013.6 1022.1 1004.2 1023.1\n",
            " 1003.6 1024.1  994.9 1002.1  999.4 1030.4  991.1 1027.  1001.1 1031.3\n",
            " 1001.7 1001.9 1032.3 1026.3 1004.6 1022.9 1023.9 1024.2 1031.5 1026.9\n",
            "  998.9  994.6 1017.1 1022.7 1028.2 1008.6 1025.1 1030.9 1030.2 1005.5\n",
            "  992.1  999.2 1024.7 1027.4  997.8 1032.7 1025.9  998.1  996.6 1000.9\n",
            "  998.3  998.4  987.3 1030.6 1006.9 1004.4  999.1  996.7 1000.2  995.8\n",
            " 1005.1 1026.6 1033.5 1000.1 1029.3 1025.3  996.1  995.5 1030.7 1000.\n",
            " 1020.6  994.3 1008.4 1003.1  995.1  997.  1031.   998.7  994.1  996.3\n",
            "  992.9 1000.7  992.7 1002.6  995.3 1004.9 1034.   998.8 1026.8 1032.1\n",
            " 1028.5 1034.9 1005.9  995.2 1027.5  984.4 1002.4  985.1 1027.8 1028.1\n",
            " 1024.   991.9 1029.7 1036.2 1027.3  999.  1024.9 1001.4  997.1  992.\n",
            "  998.6 1031.6 1029.2  989.6 1001.   997.5 1032.   987.2  995.   995.6\n",
            "  990.8 1031.1 1030.  1036.8  990.2 1025.2  989.7 1038.   999.5 1000.5\n",
            "  999.7  986.7 1031.7  992.3  992.6  997.3 1031.4  999.9  989.4  996.\n",
            "  993.3  999.3  991.8  991.6  996.5 1030.8  991.3 1000.8 1032.6 1034.3\n",
            " 1037.  1034.8 1036.4 1033.9 1031.9 1029.6 1033.3 1033.1 1034.4 1032.9\n",
            " 1033.6 1032.8 1032.2 1031.8 1033.2 1031.2 1034.7 1035.4 1039.9  996.4\n",
            " 1032.5 1035.  1033.8 1037.8 1035.1 1037.7  993.1 1035.8 1033.7 1033.4\n",
            " 1032.4 1037.9 1035.6 1037.1 1034.5  994.2 1037.4 1040.3 1037.6 1035.5\n",
            " 1035.2 1036.6 1037.5 1038.5  997.6 1036.5 1036.3 1039.2 1035.9 1034.1\n",
            "  996.9  993.7  999.6 1035.3 1033.   998.2 1039.  1040.6 1037.3 1034.6\n",
            " 1036.   988.9 1039.3  994.   995.4 1036.7 1038.8  987.9 1037.2 1039.6\n",
            " 1036.9  989.8]\n",
            "Tekanan3pm [1018.8 1013.9 1014.  1011.5 1014.1 1011.8 1023.8 1013.2 1007.8 1010.2\n",
            " 1011.  1011.3 1024.7 1008.7 1012.3 1005.5 1007.3 1009.2 1013.8 1013.6\n",
            " 1017.9 1018.2 1010.7 1025.5 1015.5 1006.1 1008.5 1003.8 1012.6 1027.6\n",
            " 1015.3 1001.5  998.6 1016.2 1007.9  998.  1008.2 1011.6 1014.7 1006.4\n",
            " 1009.6 1005.9 1016.8 1003.3 1016.6  999.6 1013.7 1001.6 1016.5 1015.6\n",
            " 1019.7 1022.8 1008.4 1023.3 1021.1 1007.4 1017.4 1019.9 1009.5 1011.7\n",
            " 1013.1 1002.5 1026.8 1025.1 1007.2 1000.8 1022.4 1024.  1006.9 1022.9\n",
            " 1026.5 1007.1 1006.5 1031.  1008.  1007.  1021.8 1014.4 1009.8 1016.4\n",
            " 1004.2 1004.1 1002.2 1012.8 1016.3 1008.6 1022.1 1017.1 1011.9  985.4\n",
            " 1016.9 1013.3 1001.7 1027.8 1021.3 1017.7 1013.4 1018.  1016.1 1011.2\n",
            " 1018.9 1019.2 1017.3 1018.1 1008.1 1014.3 1012.  1009.1 1007.5 1018.7\n",
            " 1018.3 1017.5 1002.6 1024.5 1006.3 1030.7 1009.9 1012.4  994.7 1010.8\n",
            " 1006.6  998.5 1005.6 1011.1 1003.9  996.3 1004.8 1003.4 1024.6 1004.6\n",
            " 1005.7 1012.2 1019.5  996.1 1016.  1015.4 1015.7 1012.9 1003.  1014.6\n",
            " 1005.2 1006.7 1005.3 1020.7 1010.6 1012.7 1019.3 1000.2  999.5 1010.5\n",
            " 1009.3 1015.8 1010.4 1007.6 1026.3 1011.4 1025.3 1024.4 1028.  1003.6\n",
            " 1025.8 1005.  1008.8 1020.  1008.3  991.5 1005.8  992.4 1009.  1014.2\n",
            " 1010.  1014.5 1004.5 1003.5 1032.6 1032.7 1026.6 1022.7 1016.7 1020.6\n",
            " 1000.6 1023.9 1019.4 1019.6 1009.7 1001.9 1021.2 1005.4 1028.9 1013.5\n",
            " 1009.4 1021.6  998.9 1023.5 1021.4 1018.6 1020.2 1023.7 1015.  1008.9\n",
            " 1012.1 1002.7 1002.1 1014.8 1023.6  995.7 1006.  1014.9  996.8 1003.2\n",
            "  997.9 1006.2 1017.  1018.4 1023.4 1004.9 1015.2 1002.  1020.1 1022.6\n",
            " 1026.1 1026.4 1019.  1027.4  999.4 1017.2 1002.8 1004.7 1001.8  986.4\n",
            " 1024.1 1020.4 1000.1 1027.3 1004.3 1019.1 1000.7 1000.4 1004.4 1015.9\n",
            " 1007.7 1025.4  997.7  997.4 1017.6 1028.4 1021.7 1010.9 1017.8 1020.9\n",
            " 1028.2 1010.3 1001.  1021.   995.2 1020.8  999.1 1028.6  995.1 1024.9\n",
            " 1013.  1029.6 1027.9 1030.5 1005.1 1024.3 1010.1 1029.4 1020.5 1023.1\n",
            " 1030.1 1019.8 1024.2 1002.4 1028.1 1026.9 1000.9 1020.3 1022.2 1029.\n",
            " 1015.1 1012.5  994.9 1006.8 1033.1 1000.3  986.9  993.9  998.3  986.2\n",
            " 1022.5 1023.2 1003.7  999.8 1028.3 1027.7 1021.9  993.5 1030.3  997.6\n",
            " 1001.3  998.8 1026.2 1003.1  995.  1002.3 1001.2  997.   989.2 1002.9\n",
            " 1022.3 1021.5 1022.   990.1  994.6  999.9  992.2  998.1  993.3 1025.6\n",
            "  988.3 1001.1  996.2 1029.7 1000.  1033.4 1000.5  998.2  988.   984.9\n",
            " 1025.7 1027.5 1018.5  996.7  997.1  989.  1027.  1004.  1033.8  997.8\n",
            "  992.8  989.8 1023.  1025.2 1024.8  999.3 1026.7 1028.5 1030.9  991.6\n",
            " 1001.4  999.   999.7  995.9 1025.9  991.8  996.9 1032.9  996.6  994.5\n",
            " 1032.1  998.4  997.5  994.3  994.  1028.7 1030.4 1029.3 1035.   997.3\n",
            "  996.4  994.1  985.1 1025.  1034.9 1026.   984.5  992.9  998.7  993.\n",
            "  991.  1029.1  989.7  997.2 1027.1 1031.4  994.2  987.3  995.6  986.6\n",
            " 1027.2  995.5  987.7  999.2 1035.6 1030.6 1032.2  991.3 1029.9 1031.6\n",
            " 1035.7 1030.2 1034.1 1033.5 1029.5 1031.3 1029.2 1031.2  992.1 1031.1\n",
            " 1028.8 1032.4 1029.8 1031.5 1030.8 1034.2 1035.3 1036.  1032.3 1034.5\n",
            " 1031.8 1031.9 1035.1  993.7 1030.  1031.7 1034.6 1036.4  996.  1034.\n",
            " 1033.9  995.3 1032.5 1037.6  994.8 1032.  1033.7 1035.9 1034.4 1035.4\n",
            " 1034.7 1033.2  990.6  995.8 1033.6 1037.8 1037.7 1033.3 1032.8 1034.3\n",
            " 1037.9  995.4 1033.  1036.7 1038.4 1035.5 1034.8 1037.3 1036.2  990.8\n",
            "  992.3]\n",
            "Awan9am [2. 6. 5. 8. 7. 1. 4. 3. 0.]\n",
            "Awan3pm [5. 6. 8. 7. 1. 4. 2. 3. 0.]\n",
            "Suhu9am [17.7 19.9 12.6 26.  15.6 12.4 11.8 18.  24.1 28.9 17.9  4.5 16.  17.4\n",
            " 12.7 27.5  9.2 16.5 20.7 18.3 23.  19.1 16.1  8.1  9.7 16.9 28.8 21.4\n",
            " 29.  16.7 15.5 13.  14.4 14.8 23.1 16.4  8.5 14.1 12.1 11.5 13.1 23.6\n",
            " 27.2 15.9 18.7 30.8 22.  11.6 17.1 17.5 28.6  7.6  8.8 20.9 13.9 20.2\n",
            " 11.1 19.7 14.5 22.8 17.8 20.4 26.3 22.5 17.6 17.3 13.3 15.8 12.8  7.4\n",
            "  8.2  9.5  9.1 28.3 15.4 20.6 25.8 19.8 16.2 16.6 15.3  5.2 31.6 19.\n",
            " 26.8 14.6 18.6 22.6 27.3 19.5 14.3 21.6 25.6 12.3  8.   7.9 23.2 12.\n",
            " 26.6 18.4 13.5  9.4  9.3 26.5 25.   5.7 14.7 13.8 16.8 21.5 20.8 20.1\n",
            " 13.6 29.1 21.1 10.2 11.3 17.  23.8 21.2 24.5 19.6  5.1 27.1 10.8 30.4\n",
            " 15.7 11.7 23.7 29.3 29.2 23.4 22.3 16.3  8.9  5.5 11.4 23.5 21.7 29.8\n",
            " 31.2 20.3  3.8  4.4 13.7 21.3  1.3 24.8 11.2 28.  20.  10.4  9.9 15.1\n",
            " 25.3  8.4  5.6  8.7  4.8 14.2 28.1  7.3 27.9 12.2 15.  10.9 28.7 20.5\n",
            " 31.3  9.6 24.6 15.2 24.2 18.1  6.8 13.2 29.9 26.2 10.5 14.9  4.6 24.7\n",
            " 11.  30.1 19.4 10.  24.   7.1 18.5 21.8  5.8 27.  26.1 31.8  6.  21.9\n",
            " 18.9 14.  22.1 22.2 24.4 24.9 10.6  3.3 27.7 13.4  8.6 28.5 29.6  6.4\n",
            " 19.3 24.3  2.5 10.3  5.9 30.   3.6 28.2  2.7 12.5  7.8 32.2 18.8 30.3\n",
            "  7.  18.2 22.4  3.7  1.4  6.5 27.4 19.2 10.7 25.7  9.  22.9 12.9 29.5\n",
            " 11.9 21.  25.1 29.4 25.2 17.2  6.2 27.6 28.4  1.5 26.9  2.1  9.8 33.2\n",
            "  8.3  7.7  3.5 22.7  0.8  6.1 23.3  0.  33.6  6.6  7.5  5.   6.7 31.\n",
            "  7.2 25.9 30.2  5.4 27.8 -0.9 25.4  3.  26.7 31.5 23.9 10.1  2.4 29.7\n",
            "  4.9  4.3  4.1 30.9 34.4  4.7 25.5 34.3 30.5  4.2  6.3  3.4  0.7 30.6\n",
            " 32.6 32.8  2.6  1.   1.2  6.9  1.6 30.7  4.  -1.  32.   3.9 26.4 34.2\n",
            "  2.2  3.1 33.  32.5 32.7  5.3 31.1 31.7  2.8 32.3 33.1 34.  -1.3  2.9\n",
            "  0.9 32.4  2.  -0.1  3.2 33.5 -0.3  0.3 31.9  1.8 33.8 33.3  0.6 -0.6\n",
            " 35.2 31.4 37.7  1.1  1.7 34.5 33.7 -0.5 34.8 32.9 33.4 -2.   1.9 32.1\n",
            " -0.4 34.1 -0.7  0.2  2.3 -1.5 35.5 34.7 -2.4  0.1 35.3 -1.1  0.5 37.6\n",
            " 34.9 -2.9 35.1 -0.2  0.4 35.7 36.2]\n",
            "Suhu3pm [18.7 19.2 17.4 28.3 14.9 14.  22.7 24.9 29.6 12.5 22.4 16.4 20.4 18.6\n",
            " 14.5 32.4 11.2  9.7 23.4 18.2 27.8 27.7 19.  16.2 10.5 11.1 19.9 25.4\n",
            " 20.7 32.6 26.6 15.  12.  17.5 34.  17.3 15.3 20.1 12.4 12.7 21.8 34.3\n",
            " 21.6 22.3 33.4 30.1 13.8 18.4 17.9 35.  11.  16.8  8.8 20.3 13.4 21.9\n",
            " 18.1 11.8  0.7 17.2 16.  27.6 17.7 25.  31.2 23.5 22.9 26.1 15.5 23.2\n",
            "  8.3 30.9 16.9 11.9 14.4 32.1  9.1 15.8 25.3 20.9 24.5 20.6 10.2 25.1\n",
            " 28.1 28.5 19.1 23.  35.4 16.1 31.9 21.7 15.1  9.3 17.8 30.8 22.1 17.\n",
            " 13.9 15.7 18.  29.7 22.  13.6 15.6 25.8 22.5 23.1 15.4 29.4 20.8 12.8\n",
            " 20.5 13.1 19.8 26.7 21.5 17.1 28.9 30.3  7.1 37.3 18.3 18.9 34.8 15.9\n",
            " 27.  25.7 27.4 15.2 13.5 12.9  8.9 11.4 11.6 21.2 25.2 21.1 27.3 32.3\n",
            " 19.5 21.3  7.6  8.5 10.  20.   2.  31.6 27.9 30.4 17.6 26.5 20.2 29.5\n",
            " 11.7 16.3 27.1 24.3 14.7 18.8 10.8 10.7 14.2  6.3 19.7 29.8 14.8  8.1\n",
            " 13.3 23.9 13.  28.2 12.3 29.2  9.2 26.4 31.7 10.4 25.5 19.6 22.2 30.\n",
            " 31.4 24.8 32.2 24.4 21.4 29.3 26.8  6.8 16.7 31.   9.9 19.4 14.3 10.1\n",
            " 16.5 28.6 12.6 12.2 34.2 38.1 36.9  7.5 18.5 19.3 13.7 35.7  6.  36.1\n",
            " 26.9 24.7 25.6 32.9  4.3  0.2 23.8 24.2 28.4 26.  31.1 13.2  1.6 11.5\n",
            " 29.9 27.2 21.   8.4 24.1 29.1 16.6 14.1 30.2 11.3 35.2 27.5 14.6 22.6\n",
            " 32.5 31.3 23.7 31.8 31.5 12.1  6.1  9.6 10.9 24.   4.1 37.7 24.6  6.7\n",
            "  5.  33.6  8.  25.9  2.2 38.9 38.7 28.8 28.7 30.5 10.6  0.9 33.7 22.8\n",
            " 23.3  7.9  8.6  7.8 29.  33.2  9.5 33.1 34.5 30.7 32.8 37.1 28.   5.3\n",
            " 26.2  0.8  3.9  8.7 26.3 36.6 32.   6.9  9.8  2.7 34.9 36.7 34.4 35.6\n",
            "  1.1 23.6  9.4 37.5  9.  33.5 36.8  5.4  8.2 41.3 33.9  5.2 10.3 35.5\n",
            " 32.7  7.2 37.6 36.  33.8  6.2  2.5 35.1 30.6  7.7 37.2 33.3  2.8 37.\n",
            " 41.5 34.1  3.   4.8 -1.2 34.6  5.1  7.  38.   4.4  2.4 39.8  6.6 35.9\n",
            " 40.4  1.8 42.3 37.4 39.5 39.  36.2 40.1 38.2 39.1 33.  40.5 42.1 35.3\n",
            " 38.8  4.6  5.8 36.5 37.8 38.3  3.5  4.7  4.5 39.4 39.2 41.1 35.8 38.4\n",
            " 34.7  0.1 40.8 42.  38.6  6.5 38.5  7.3 40.9  4.2 41.2 39.7 37.9 36.4\n",
            " 36.3 40.6 39.9  2.6  3.4  2.3 41.  40.  39.6 42.2  1.   5.6  5.7  4.9\n",
            " 40.7 39.3 41.8  4.  41.9  3.7 40.3 41.6  5.9  5.5  1.3  3.2 43.  -0.7\n",
            "  3.8  3.1 40.2  7.4 41.7  2.9]\n",
            "BersaljuHariIni [1 0]\n",
            "Class [1 0]\n"
          ],
          "name": "stdout"
        }
      ]
    },
    {
      "cell_type": "markdown",
      "metadata": {
        "id": "cFABqPyGijeD"
      },
      "source": [
        "# Data Preparation\n",
        "x = Feature<br>\n",
        "y = Class Target"
      ]
    },
    {
      "cell_type": "code",
      "metadata": {
        "id": "wRfqixkain78"
      },
      "source": [
        "#Data train\n",
        "x_train = salju_train_sampling.drop(['Class'], axis=1)\n",
        "y_train = salju_train_sampling['Class'].values"
      ],
      "execution_count": 169,
      "outputs": []
    },
    {
      "cell_type": "code",
      "metadata": {
        "id": "oMYFOZhkglJU"
      },
      "source": [
        "x_train = x_train.values"
      ],
      "execution_count": 170,
      "outputs": []
    },
    {
      "cell_type": "code",
      "metadata": {
        "id": "tHRzpEPcgV9j"
      },
      "source": [
        "#Data test\n",
        "x_test = salju_test_sampling.drop(['Class'], axis=1)\n",
        "y_test = salju_test_sampling['Class'].values"
      ],
      "execution_count": 171,
      "outputs": []
    },
    {
      "cell_type": "code",
      "metadata": {
        "id": "gGupf6zAgiQI"
      },
      "source": [
        "x_test = x_test.values"
      ],
      "execution_count": 172,
      "outputs": []
    },
    {
      "cell_type": "code",
      "metadata": {
        "colab": {
          "base_uri": "https://localhost:8080/"
        },
        "id": "mQiEu6Zgrpqt",
        "outputId": "aec5ad43-c9e0-405d-ffb7-5979da44dc01"
      },
      "source": [
        "len(salju_train_sampling.columns)"
      ],
      "execution_count": 173,
      "outputs": [
        {
          "output_type": "execute_result",
          "data": {
            "text/plain": [
              "23"
            ]
          },
          "metadata": {
            "tags": []
          },
          "execution_count": 173
        }
      ]
    },
    {
      "cell_type": "code",
      "metadata": {
        "colab": {
          "base_uri": "https://localhost:8080/"
        },
        "id": "E5iNV2hErymd",
        "outputId": "a23216f6-0c59-41f8-ccc8-7c8077292677"
      },
      "source": [
        "len(salju_train_sampling.columns)"
      ],
      "execution_count": 174,
      "outputs": [
        {
          "output_type": "execute_result",
          "data": {
            "text/plain": [
              "23"
            ]
          },
          "metadata": {
            "tags": []
          },
          "execution_count": 174
        }
      ]
    },
    {
      "cell_type": "markdown",
      "metadata": {
        "id": "f-dq2cATg0Hq"
      },
      "source": [
        "# Model"
      ]
    },
    {
      "cell_type": "markdown",
      "metadata": {
        "id": "IuILCzy7g7qa"
      },
      "source": [
        "## Decision Tree"
      ]
    },
    {
      "cell_type": "code",
      "metadata": {
        "colab": {
          "base_uri": "https://localhost:8080/"
        },
        "id": "KV4BJvYThAA4",
        "outputId": "7e8d6a6c-daec-4c57-b39b-406e3a251402"
      },
      "source": [
        "clf =  tree.DecisionTreeClassifier(class_weight = 'balanced', min_samples_leaf = 15, random_state = 32)\n",
        "clf.fit(x_train, y_train)"
      ],
      "execution_count": 175,
      "outputs": [
        {
          "output_type": "execute_result",
          "data": {
            "text/plain": [
              "DecisionTreeClassifier(ccp_alpha=0.0, class_weight='balanced', criterion='gini',\n",
              "                       max_depth=None, max_features=None, max_leaf_nodes=None,\n",
              "                       min_impurity_decrease=0.0, min_impurity_split=None,\n",
              "                       min_samples_leaf=15, min_samples_split=2,\n",
              "                       min_weight_fraction_leaf=0.0, presort='deprecated',\n",
              "                       random_state=32, splitter='best')"
            ]
          },
          "metadata": {
            "tags": []
          },
          "execution_count": 175
        }
      ]
    },
    {
      "cell_type": "code",
      "metadata": {
        "id": "o87j862_hhg0"
      },
      "source": [
        "y_pred_clf = clf.predict(x_test)"
      ],
      "execution_count": 176,
      "outputs": []
    },
    {
      "cell_type": "code",
      "metadata": {
        "id": "BYyTv42V0NHg",
        "colab": {
          "base_uri": "https://localhost:8080/"
        },
        "outputId": "ab617885-fc77-45fa-ecc3-9d5cd72654db"
      },
      "source": [
        "#Showing Confusion Matrix to know True Positive, False Positive, True Negative and False Negative\n",
        "cm = metrics.confusion_matrix(y_test, y_pred_clf)\n",
        "cm_df = pd.DataFrame(cm,\n",
        "                      columns = ['Predicted Negative', 'Predicted Positive'], \n",
        "                      index = ['Actual Negative', 'Actual Positive'])\n",
        "\n",
        "#Assign True Positive, False Positive, True Negative and False Negative intu variable\n",
        "TN = cm_df.loc['Actual Negative','Predicted Negative']\n",
        "FN = cm_df.loc['Actual Positive','Predicted Negative']\n",
        "FP = cm_df.loc['Actual Negative','Predicted Positive']\n",
        "TP = cm_df.loc['Actual Positive','Predicted Positive']\n",
        "ACC = (TP+TN)/(TP+TN+FP+FN)\n",
        "print('Accuracy       : ',ACC)\n",
        "print('')\n",
        "print(classification_report(y_test,y_pred_clf))"
      ],
      "execution_count": 177,
      "outputs": [
        {
          "output_type": "stream",
          "text": [
            "Accuracy       :  0.7276158676006242\n",
            "\n",
            "              precision    recall  f1-score   support\n",
            "\n",
            "           0       0.70      0.81      0.75     13780\n",
            "           1       0.77      0.65      0.70     13773\n",
            "\n",
            "    accuracy                           0.73     27553\n",
            "   macro avg       0.73      0.73      0.73     27553\n",
            "weighted avg       0.73      0.73      0.73     27553\n",
            "\n"
          ],
          "name": "stdout"
        }
      ]
    },
    {
      "cell_type": "markdown",
      "metadata": {
        "id": "mPeIq67puG0j"
      },
      "source": [
        "## Logistic Regression"
      ]
    },
    {
      "cell_type": "code",
      "metadata": {
        "id": "kEFspLhTkHRI",
        "colab": {
          "base_uri": "https://localhost:8080/"
        },
        "outputId": "cd8984bc-a6e6-40bb-f526-b3aa9bfe6c78"
      },
      "source": [
        "logreg = LogisticRegression()\n",
        "logreg.fit(x_train, y_train)"
      ],
      "execution_count": 178,
      "outputs": [
        {
          "output_type": "stream",
          "text": [
            "/usr/local/lib/python3.7/dist-packages/sklearn/linear_model/_logistic.py:940: ConvergenceWarning: lbfgs failed to converge (status=1):\n",
            "STOP: TOTAL NO. of ITERATIONS REACHED LIMIT.\n",
            "\n",
            "Increase the number of iterations (max_iter) or scale the data as shown in:\n",
            "    https://scikit-learn.org/stable/modules/preprocessing.html\n",
            "Please also refer to the documentation for alternative solver options:\n",
            "    https://scikit-learn.org/stable/modules/linear_model.html#logistic-regression\n",
            "  extra_warning_msg=_LOGISTIC_SOLVER_CONVERGENCE_MSG)\n"
          ],
          "name": "stderr"
        },
        {
          "output_type": "execute_result",
          "data": {
            "text/plain": [
              "LogisticRegression(C=1.0, class_weight=None, dual=False, fit_intercept=True,\n",
              "                   intercept_scaling=1, l1_ratio=None, max_iter=100,\n",
              "                   multi_class='auto', n_jobs=None, penalty='l2',\n",
              "                   random_state=None, solver='lbfgs', tol=0.0001, verbose=0,\n",
              "                   warm_start=False)"
            ]
          },
          "metadata": {
            "tags": []
          },
          "execution_count": 178
        }
      ]
    },
    {
      "cell_type": "code",
      "metadata": {
        "id": "ZyqGMfoKkKJ7",
        "colab": {
          "base_uri": "https://localhost:8080/"
        },
        "outputId": "b1b22628-6f8e-499d-c057-f61ad987bed5"
      },
      "source": [
        "y_pred = logreg.predict(x_test)\n",
        "print('Accuracy: {:.2f}'.format(logreg.score(x_test, y_test)))\n",
        "print('')\n",
        "print(classification_report(y_test,y_pred))"
      ],
      "execution_count": 179,
      "outputs": [
        {
          "output_type": "stream",
          "text": [
            "Accuracy: 0.77\n",
            "\n",
            "              precision    recall  f1-score   support\n",
            "\n",
            "           0       0.76      0.78      0.77     13780\n",
            "           1       0.77      0.75      0.76     13773\n",
            "\n",
            "    accuracy                           0.77     27553\n",
            "   macro avg       0.77      0.77      0.77     27553\n",
            "weighted avg       0.77      0.77      0.77     27553\n",
            "\n"
          ],
          "name": "stdout"
        }
      ]
    },
    {
      "cell_type": "markdown",
      "metadata": {
        "id": "vF4_w2g9uPMV"
      },
      "source": [
        "## Naive Bayes"
      ]
    },
    {
      "cell_type": "code",
      "metadata": {
        "id": "G0YaW_02uSx7"
      },
      "source": [
        "gnb = GaussianNB()\n",
        "gnb.fit(x_train, y_train.ravel())\n",
        "y_pred = gnb.predict(x_test)"
      ],
      "execution_count": 180,
      "outputs": []
    },
    {
      "cell_type": "code",
      "metadata": {
        "id": "q-V8xj98ujqg",
        "colab": {
          "base_uri": "https://localhost:8080/"
        },
        "outputId": "9e18599a-fa8b-41db-8db0-412f7a437b17"
      },
      "source": [
        "print(\"Accuracy :\",metrics.accuracy_score(y_test, y_pred))\n",
        "print('')\n",
        "print(classification_report(y_test,y_pred))"
      ],
      "execution_count": 181,
      "outputs": [
        {
          "output_type": "stream",
          "text": [
            "Accuracy : 0.7435125031756977\n",
            "\n",
            "              precision    recall  f1-score   support\n",
            "\n",
            "           0       0.73      0.78      0.75     13780\n",
            "           1       0.76      0.71      0.73     13773\n",
            "\n",
            "    accuracy                           0.74     27553\n",
            "   macro avg       0.74      0.74      0.74     27553\n",
            "weighted avg       0.74      0.74      0.74     27553\n",
            "\n"
          ],
          "name": "stdout"
        }
      ]
    },
    {
      "cell_type": "markdown",
      "metadata": {
        "id": "3zkCOWIGu0hK"
      },
      "source": [
        "# Kesimpulan Akurasi"
      ]
    },
    {
      "cell_type": "code",
      "metadata": {
        "id": "AEJbkEniu4zi",
        "colab": {
          "base_uri": "https://localhost:8080/"
        },
        "outputId": "749aafe9-005d-432b-b4cd-887d9036858d"
      },
      "source": [
        "print('Decision Tree')\n",
        "print('Accuracy       : ',ACC)\n",
        "print('')\n",
        "print('Logistic Regression')\n",
        "print('Accuracy       : {:.2f}'.format(logreg.score(x_test, y_test)))\n",
        "print('')\n",
        "print('Naive bayes')\n",
        "print('Accuracy       :',metrics.accuracy_score(y_test, y_pred))"
      ],
      "execution_count": 182,
      "outputs": [
        {
          "output_type": "stream",
          "text": [
            "Decision Tree\n",
            "Accuracy       :  0.7276158676006242\n",
            "\n",
            "Logistic Regression\n",
            "Accuracy       : 0.77\n",
            "\n",
            "Naive bayes\n",
            "Accuracy       : 0.7435125031756977\n"
          ],
          "name": "stdout"
        }
      ]
    }
  ]
}