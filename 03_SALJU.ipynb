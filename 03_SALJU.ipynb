{
  "nbformat": 4,
  "nbformat_minor": 0,
  "metadata": {
    "colab": {
      "name": "03_SALJU.ipynb",
      "provenance": [],
      "collapsed_sections": [],
      "toc_visible": true
    },
    "kernelspec": {
      "name": "python3",
      "display_name": "Python 3"
    },
    "language_info": {
      "name": "python"
    }
  },
  "cells": [
    {
      "cell_type": "markdown",
      "metadata": {
        "id": "BGnPOBM-vqnx"
      },
      "source": [
        "# Tugas Besar Tahap 2 Classification <br>\n",
        "# Nama Anggota Kelompok : <br>\n",
        " **1. Anang Furkon Rifai - 1301180229** <br>\n",
        " **2. Marcello Rasel Hidayatullah - 1301184019**"
      ]
    },
    {
      "cell_type": "markdown",
      "metadata": {
        "id": "TwbholzUwTso"
      },
      "source": [
        "# Import Library"
      ]
    },
    {
      "cell_type": "code",
      "metadata": {
        "id": "qaZNSmbovkcm"
      },
      "source": [
        "import pandas as pd\n",
        "import matplotlib.pyplot as plt\n",
        "import numpy as np\n",
        "import seaborn as sns\n",
        "import random\n",
        "import sklearn as sk\n",
        "from sklearn.preprocessing import LabelEncoder\n",
        "from sklearn import tree\n",
        "from sklearn.linear_model import LogisticRegression\n",
        "from sklearn import metrics\n",
        "from sklearn.metrics import classification_report\n",
        "from sklearn.naive_bayes import GaussianNB"
      ],
      "execution_count": 222,
      "outputs": []
    },
    {
      "cell_type": "markdown",
      "metadata": {
        "id": "ZZX18-hpwYK7"
      },
      "source": [
        "# Load Dataset"
      ]
    },
    {
      "cell_type": "code",
      "metadata": {
        "id": "eQrJn7OcwbWk"
      },
      "source": [
        "train = \"https://raw.githubusercontent.com/marcellorasel/Tubes-ML-Classification/main/salju_train.csv\"\n",
        "test = \"https://raw.githubusercontent.com/marcellorasel/Tubes-ML-Classification/main/salju_test.csv\""
      ],
      "execution_count": 223,
      "outputs": []
    },
    {
      "cell_type": "code",
      "metadata": {
        "colab": {
          "base_uri": "https://localhost:8080/",
          "height": 217
        },
        "id": "ql0BQfWjwzGG",
        "outputId": "721b7769-6f08-4642-850a-179e11f17013"
      },
      "source": [
        "# Dataset Test\n",
        "salju_test = pd.read_csv(test) \n",
        "\n",
        "# Mengganti nama kolom \"BersaljuBesok\" menjadi \"Class\"\n",
        "salju_test.rename(columns={'BersaljuBesok':'Class'}, inplace=True)\n",
        "\n",
        "salju_test.head()"
      ],
      "execution_count": 224,
      "outputs": [
        {
          "output_type": "execute_result",
          "data": {
            "text/html": [
              "<div>\n",
              "<style scoped>\n",
              "    .dataframe tbody tr th:only-of-type {\n",
              "        vertical-align: middle;\n",
              "    }\n",
              "\n",
              "    .dataframe tbody tr th {\n",
              "        vertical-align: top;\n",
              "    }\n",
              "\n",
              "    .dataframe thead th {\n",
              "        text-align: right;\n",
              "    }\n",
              "</style>\n",
              "<table border=\"1\" class=\"dataframe\">\n",
              "  <thead>\n",
              "    <tr style=\"text-align: right;\">\n",
              "      <th></th>\n",
              "      <th>Tanggal</th>\n",
              "      <th>KodeLokasi</th>\n",
              "      <th>SuhuMin</th>\n",
              "      <th>SuhuMax</th>\n",
              "      <th>Hujan</th>\n",
              "      <th>Penguapan</th>\n",
              "      <th>SinarMatahari</th>\n",
              "      <th>ArahAnginTerkencang</th>\n",
              "      <th>KecepatanAnginTerkencang</th>\n",
              "      <th>ArahAngin9am</th>\n",
              "      <th>ArahAngin3pm</th>\n",
              "      <th>KecepatanAngin9am</th>\n",
              "      <th>KecepatanAngin3pm</th>\n",
              "      <th>Kelembaban9am</th>\n",
              "      <th>Kelembaban3pm</th>\n",
              "      <th>Tekanan9am</th>\n",
              "      <th>Tekanan3pm</th>\n",
              "      <th>Awan9am</th>\n",
              "      <th>Awan3pm</th>\n",
              "      <th>Suhu9am</th>\n",
              "      <th>Suhu3pm</th>\n",
              "      <th>BersaljuHariIni</th>\n",
              "      <th>Class</th>\n",
              "    </tr>\n",
              "  </thead>\n",
              "  <tbody>\n",
              "    <tr>\n",
              "      <th>0</th>\n",
              "      <td>04/11/2010</td>\n",
              "      <td>C39</td>\n",
              "      <td>11.0</td>\n",
              "      <td>27.5</td>\n",
              "      <td>0.0</td>\n",
              "      <td>NaN</td>\n",
              "      <td>6.4</td>\n",
              "      <td>WSW</td>\n",
              "      <td>46.0</td>\n",
              "      <td>W</td>\n",
              "      <td>W</td>\n",
              "      <td>20.0</td>\n",
              "      <td>28.0</td>\n",
              "      <td>39.0</td>\n",
              "      <td>56.0</td>\n",
              "      <td>1013.0</td>\n",
              "      <td>1012.4</td>\n",
              "      <td>4.0</td>\n",
              "      <td>7.0</td>\n",
              "      <td>25.7</td>\n",
              "      <td>23.6</td>\n",
              "      <td>No</td>\n",
              "      <td>No</td>\n",
              "    </tr>\n",
              "    <tr>\n",
              "      <th>1</th>\n",
              "      <td>26/03/2015</td>\n",
              "      <td>C35</td>\n",
              "      <td>10.0</td>\n",
              "      <td>19.9</td>\n",
              "      <td>0.2</td>\n",
              "      <td>NaN</td>\n",
              "      <td>NaN</td>\n",
              "      <td>WNW</td>\n",
              "      <td>56.0</td>\n",
              "      <td>W</td>\n",
              "      <td>NW</td>\n",
              "      <td>24.0</td>\n",
              "      <td>33.0</td>\n",
              "      <td>76.0</td>\n",
              "      <td>32.0</td>\n",
              "      <td>1017.0</td>\n",
              "      <td>1015.2</td>\n",
              "      <td>8.0</td>\n",
              "      <td>1.0</td>\n",
              "      <td>10.7</td>\n",
              "      <td>18.9</td>\n",
              "      <td>No</td>\n",
              "      <td>Yes</td>\n",
              "    </tr>\n",
              "    <tr>\n",
              "      <th>2</th>\n",
              "      <td>22/03/2016</td>\n",
              "      <td>C18</td>\n",
              "      <td>9.2</td>\n",
              "      <td>27.2</td>\n",
              "      <td>0.0</td>\n",
              "      <td>5.2</td>\n",
              "      <td>10.4</td>\n",
              "      <td>SSW</td>\n",
              "      <td>33.0</td>\n",
              "      <td>NE</td>\n",
              "      <td>N</td>\n",
              "      <td>13.0</td>\n",
              "      <td>19.0</td>\n",
              "      <td>89.0</td>\n",
              "      <td>27.0</td>\n",
              "      <td>1018.6</td>\n",
              "      <td>1015.7</td>\n",
              "      <td>0.0</td>\n",
              "      <td>1.0</td>\n",
              "      <td>13.9</td>\n",
              "      <td>26.3</td>\n",
              "      <td>No</td>\n",
              "      <td>No</td>\n",
              "    </tr>\n",
              "    <tr>\n",
              "      <th>3</th>\n",
              "      <td>09/12/2011</td>\n",
              "      <td>C31</td>\n",
              "      <td>17.7</td>\n",
              "      <td>27.0</td>\n",
              "      <td>0.0</td>\n",
              "      <td>4.6</td>\n",
              "      <td>6.7</td>\n",
              "      <td>SW</td>\n",
              "      <td>35.0</td>\n",
              "      <td>E</td>\n",
              "      <td>SSE</td>\n",
              "      <td>20.0</td>\n",
              "      <td>15.0</td>\n",
              "      <td>55.0</td>\n",
              "      <td>41.0</td>\n",
              "      <td>1010.2</td>\n",
              "      <td>1008.6</td>\n",
              "      <td>7.0</td>\n",
              "      <td>6.0</td>\n",
              "      <td>22.3</td>\n",
              "      <td>26.4</td>\n",
              "      <td>No</td>\n",
              "      <td>No</td>\n",
              "    </tr>\n",
              "    <tr>\n",
              "      <th>4</th>\n",
              "      <td>20/05/2017</td>\n",
              "      <td>C14</td>\n",
              "      <td>2.3</td>\n",
              "      <td>7.9</td>\n",
              "      <td>88.0</td>\n",
              "      <td>NaN</td>\n",
              "      <td>NaN</td>\n",
              "      <td>NW</td>\n",
              "      <td>46.0</td>\n",
              "      <td>W</td>\n",
              "      <td>WNW</td>\n",
              "      <td>13.0</td>\n",
              "      <td>9.0</td>\n",
              "      <td>98.0</td>\n",
              "      <td>95.0</td>\n",
              "      <td>NaN</td>\n",
              "      <td>NaN</td>\n",
              "      <td>NaN</td>\n",
              "      <td>NaN</td>\n",
              "      <td>4.4</td>\n",
              "      <td>6.0</td>\n",
              "      <td>Yes</td>\n",
              "      <td>No</td>\n",
              "    </tr>\n",
              "  </tbody>\n",
              "</table>\n",
              "</div>"
            ],
            "text/plain": [
              "      Tanggal KodeLokasi  SuhuMin  ...  Suhu3pm  BersaljuHariIni  Class\n",
              "0  04/11/2010        C39     11.0  ...     23.6               No     No\n",
              "1  26/03/2015        C35     10.0  ...     18.9               No    Yes\n",
              "2  22/03/2016        C18      9.2  ...     26.3               No     No\n",
              "3  09/12/2011        C31     17.7  ...     26.4               No     No\n",
              "4  20/05/2017        C14      2.3  ...      6.0              Yes     No\n",
              "\n",
              "[5 rows x 23 columns]"
            ]
          },
          "metadata": {
            "tags": []
          },
          "execution_count": 224
        }
      ]
    },
    {
      "cell_type": "code",
      "metadata": {
        "colab": {
          "base_uri": "https://localhost:8080/",
          "height": 217
        },
        "id": "xJurawPwxO2Z",
        "outputId": "9e363ea3-6230-441a-fc81-1755e104d310"
      },
      "source": [
        "# Dataset Train\n",
        "salju_train = pd.read_csv(train)\n",
        "\n",
        "# Mengganti nama kolom 'BersaljuBesok' menjadi 'Class'\n",
        "salju_train.rename(columns={'BersaljuBesok':'Class'}, inplace=True)\n",
        "\n",
        "# Drop Kolom id agar jumlah kolom data train & data test sama\n",
        "salju_train = salju_train.drop(columns=['id'])\n",
        "\n",
        "salju_train.head()"
      ],
      "execution_count": 225,
      "outputs": [
        {
          "output_type": "execute_result",
          "data": {
            "text/html": [
              "<div>\n",
              "<style scoped>\n",
              "    .dataframe tbody tr th:only-of-type {\n",
              "        vertical-align: middle;\n",
              "    }\n",
              "\n",
              "    .dataframe tbody tr th {\n",
              "        vertical-align: top;\n",
              "    }\n",
              "\n",
              "    .dataframe thead th {\n",
              "        text-align: right;\n",
              "    }\n",
              "</style>\n",
              "<table border=\"1\" class=\"dataframe\">\n",
              "  <thead>\n",
              "    <tr style=\"text-align: right;\">\n",
              "      <th></th>\n",
              "      <th>Tanggal</th>\n",
              "      <th>KodeLokasi</th>\n",
              "      <th>SuhuMin</th>\n",
              "      <th>SuhuMax</th>\n",
              "      <th>Hujan</th>\n",
              "      <th>Penguapan</th>\n",
              "      <th>SinarMatahari</th>\n",
              "      <th>ArahAnginTerkencang</th>\n",
              "      <th>KecepatanAnginTerkencang</th>\n",
              "      <th>ArahAngin9am</th>\n",
              "      <th>ArahAngin3pm</th>\n",
              "      <th>KecepatanAngin9am</th>\n",
              "      <th>KecepatanAngin3pm</th>\n",
              "      <th>Kelembaban9am</th>\n",
              "      <th>Kelembaban3pm</th>\n",
              "      <th>Tekanan9am</th>\n",
              "      <th>Tekanan3pm</th>\n",
              "      <th>Awan9am</th>\n",
              "      <th>Awan3pm</th>\n",
              "      <th>Suhu9am</th>\n",
              "      <th>Suhu3pm</th>\n",
              "      <th>BersaljuHariIni</th>\n",
              "      <th>Class</th>\n",
              "    </tr>\n",
              "  </thead>\n",
              "  <tbody>\n",
              "    <tr>\n",
              "      <th>0</th>\n",
              "      <td>01/06/2014</td>\n",
              "      <td>C4</td>\n",
              "      <td>10.4</td>\n",
              "      <td>15.5</td>\n",
              "      <td>4.8</td>\n",
              "      <td>NaN</td>\n",
              "      <td>NaN</td>\n",
              "      <td>WSW</td>\n",
              "      <td>24.0</td>\n",
              "      <td>NaN</td>\n",
              "      <td>WSW</td>\n",
              "      <td>0.0</td>\n",
              "      <td>13.0</td>\n",
              "      <td>78.0</td>\n",
              "      <td>76.0</td>\n",
              "      <td>1020.1</td>\n",
              "      <td>1018.5</td>\n",
              "      <td>NaN</td>\n",
              "      <td>NaN</td>\n",
              "      <td>13.1</td>\n",
              "      <td>15.0</td>\n",
              "      <td>Ya</td>\n",
              "      <td>Tidak</td>\n",
              "    </tr>\n",
              "    <tr>\n",
              "      <th>1</th>\n",
              "      <td>15/07/2014</td>\n",
              "      <td>C10</td>\n",
              "      <td>9.0</td>\n",
              "      <td>17.0</td>\n",
              "      <td>8.0</td>\n",
              "      <td>2.6</td>\n",
              "      <td>7.4</td>\n",
              "      <td>NaN</td>\n",
              "      <td>NaN</td>\n",
              "      <td>SW</td>\n",
              "      <td>WNW</td>\n",
              "      <td>13.0</td>\n",
              "      <td>20.0</td>\n",
              "      <td>80.0</td>\n",
              "      <td>61.0</td>\n",
              "      <td>1015.2</td>\n",
              "      <td>1014.6</td>\n",
              "      <td>7.0</td>\n",
              "      <td>5.0</td>\n",
              "      <td>11.9</td>\n",
              "      <td>15.5</td>\n",
              "      <td>Ya</td>\n",
              "      <td>Ya</td>\n",
              "    </tr>\n",
              "    <tr>\n",
              "      <th>2</th>\n",
              "      <td>16/02/2011</td>\n",
              "      <td>C46</td>\n",
              "      <td>18.2</td>\n",
              "      <td>32.0</td>\n",
              "      <td>0.0</td>\n",
              "      <td>NaN</td>\n",
              "      <td>NaN</td>\n",
              "      <td>ESE</td>\n",
              "      <td>44.0</td>\n",
              "      <td>SE</td>\n",
              "      <td>SE</td>\n",
              "      <td>15.0</td>\n",
              "      <td>26.0</td>\n",
              "      <td>62.0</td>\n",
              "      <td>42.0</td>\n",
              "      <td>NaN</td>\n",
              "      <td>NaN</td>\n",
              "      <td>NaN</td>\n",
              "      <td>NaN</td>\n",
              "      <td>23.8</td>\n",
              "      <td>29.6</td>\n",
              "      <td>Tidak</td>\n",
              "      <td>Tidak</td>\n",
              "    </tr>\n",
              "    <tr>\n",
              "      <th>3</th>\n",
              "      <td>08/08/2012</td>\n",
              "      <td>C36</td>\n",
              "      <td>7.3</td>\n",
              "      <td>24.5</td>\n",
              "      <td>0.0</td>\n",
              "      <td>8.4</td>\n",
              "      <td>10.4</td>\n",
              "      <td>SSW</td>\n",
              "      <td>54.0</td>\n",
              "      <td>N</td>\n",
              "      <td>SW</td>\n",
              "      <td>13.0</td>\n",
              "      <td>19.0</td>\n",
              "      <td>25.0</td>\n",
              "      <td>17.0</td>\n",
              "      <td>1019.2</td>\n",
              "      <td>1016.9</td>\n",
              "      <td>1.0</td>\n",
              "      <td>7.0</td>\n",
              "      <td>15.3</td>\n",
              "      <td>23.2</td>\n",
              "      <td>Tidak</td>\n",
              "      <td>Tidak</td>\n",
              "    </tr>\n",
              "    <tr>\n",
              "      <th>4</th>\n",
              "      <td>29/10/2016</td>\n",
              "      <td>C7</td>\n",
              "      <td>5.9</td>\n",
              "      <td>20.3</td>\n",
              "      <td>0.0</td>\n",
              "      <td>3.6</td>\n",
              "      <td>12.6</td>\n",
              "      <td>N</td>\n",
              "      <td>37.0</td>\n",
              "      <td>NNW</td>\n",
              "      <td>ESE</td>\n",
              "      <td>22.0</td>\n",
              "      <td>19.0</td>\n",
              "      <td>55.0</td>\n",
              "      <td>48.0</td>\n",
              "      <td>1019.7</td>\n",
              "      <td>1014.7</td>\n",
              "      <td>2.0</td>\n",
              "      <td>6.0</td>\n",
              "      <td>12.4</td>\n",
              "      <td>18.1</td>\n",
              "      <td>Tidak</td>\n",
              "      <td>Tidak</td>\n",
              "    </tr>\n",
              "  </tbody>\n",
              "</table>\n",
              "</div>"
            ],
            "text/plain": [
              "      Tanggal KodeLokasi  SuhuMin  ...  Suhu3pm  BersaljuHariIni  Class\n",
              "0  01/06/2014         C4     10.4  ...     15.0               Ya  Tidak\n",
              "1  15/07/2014        C10      9.0  ...     15.5               Ya     Ya\n",
              "2  16/02/2011        C46     18.2  ...     29.6            Tidak  Tidak\n",
              "3  08/08/2012        C36      7.3  ...     23.2            Tidak  Tidak\n",
              "4  29/10/2016         C7      5.9  ...     18.1            Tidak  Tidak\n",
              "\n",
              "[5 rows x 23 columns]"
            ]
          },
          "metadata": {
            "tags": []
          },
          "execution_count": 225
        }
      ]
    },
    {
      "cell_type": "markdown",
      "metadata": {
        "id": "dOpMxMiHzibb"
      },
      "source": [
        "# Pre Processing Data"
      ]
    },
    {
      "cell_type": "code",
      "metadata": {
        "colab": {
          "base_uri": "https://localhost:8080/"
        },
        "id": "_n4BdBT0yZMQ",
        "outputId": "4fb5f190-27a6-4652-9f1d-d12a48e5c91e"
      },
      "source": [
        "# Mengecek jumlah data pada kolom 'Class' pada data test\n",
        "salju_test['Class'].value_counts()"
      ],
      "execution_count": 226,
      "outputs": [
        {
          "output_type": "execute_result",
          "data": {
            "text/plain": [
              "No     13824\n",
              "Yes     3939\n",
              "Name: Class, dtype: int64"
            ]
          },
          "metadata": {
            "tags": []
          },
          "execution_count": 226
        }
      ]
    },
    {
      "cell_type": "code",
      "metadata": {
        "colab": {
          "base_uri": "https://localhost:8080/"
        },
        "id": "pyLqBgiXyxYj",
        "outputId": "5020ece7-dd8e-46eb-bb0e-1c17887cf360"
      },
      "source": [
        "# Mengecek jumlah data pada kolom 'Class' pada data train\n",
        "salju_train['Class'].value_counts()"
      ],
      "execution_count": 227,
      "outputs": [
        {
          "output_type": "execute_result",
          "data": {
            "text/plain": [
              "Tidak    82701\n",
              "Ya       23963\n",
              "Name: Class, dtype: int64"
            ]
          },
          "metadata": {
            "tags": []
          },
          "execution_count": 227
        }
      ]
    },
    {
      "cell_type": "code",
      "metadata": {
        "colab": {
          "base_uri": "https://localhost:8080/",
          "height": 334
        },
        "id": "jygL_-u-zBCO",
        "outputId": "95b0bdbf-fa2a-4e7b-e0fb-9fbe33c9ac85"
      },
      "source": [
        "# Memvisualisasi data pada kolom 'Class' pada data train\n",
        "train_plot = sns.countplot(salju_train['Class'])\n",
        "train_plot.set_xticklabels(['Tidak','Ya'])\n",
        "plt.show()"
      ],
      "execution_count": 228,
      "outputs": [
        {
          "output_type": "stream",
          "text": [
            "/usr/local/lib/python3.7/dist-packages/seaborn/_decorators.py:43: FutureWarning: Pass the following variable as a keyword arg: x. From version 0.12, the only valid positional argument will be `data`, and passing other arguments without an explicit keyword will result in an error or misinterpretation.\n",
            "  FutureWarning\n"
          ],
          "name": "stderr"
        },
        {
          "output_type": "display_data",
          "data": {
            "image/png": "[encoded data removed]",
            "text/plain": [
              "<Figure size 432x288 with 1 Axes>"
            ]
          },
          "metadata": {
            "tags": [],
            "needs_background": "light"
          }
        }
      ]
    },
    {
      "cell_type": "markdown",
      "metadata": {
        "id": "-q9cn0MSTKI9"
      },
      "source": [
        "## Pre Processing Data Train"
      ]
    },
    {
      "cell_type": "code",
      "metadata": {
        "id": "MAZemqsRzm9N",
        "colab": {
          "base_uri": "https://localhost:8080/"
        },
        "outputId": "f2f96cc2-c3f2-44d7-84b8-18ffb9a82b9d"
      },
      "source": [
        "train_0 = salju_train[salju_train['Class'] == 'Tidak']\n",
        "train_1 = salju_train[salju_train['Class'] == 'Ya']\n",
        "\n",
        "print(\"Class 0 :\", train_0.shape)\n",
        "print(\"Class 1 :\", train_1.shape)"
      ],
      "execution_count": 229,
      "outputs": [
        {
          "output_type": "stream",
          "text": [
            "Class 0 : (82701, 23)\n",
            "Class 1 : (23963, 23)\n"
          ],
          "name": "stdout"
        }
      ]
    },
    {
      "cell_type": "code",
      "metadata": {
        "colab": {
          "base_uri": "https://localhost:8080/"
        },
        "id": "tjKjAvSZR55e",
        "outputId": "20d6e51a-0f84-42d5-de57-93631ef3caa1"
      },
      "source": [
        "# Oversampling Data\n",
        "train_count_0, train_count_1 = salju_train['Class'].value_counts()\n",
        "train_1_over = train_1.sample(train_count_0, replace = True)\n",
        "\n",
        "salju_train_sampling = pd.concat([train_1_over, train_0], axis=0)\n",
        "\n",
        "print(\"Total Class 1 and 0 :\", salju_train_sampling['Class'].value_counts())"
      ],
      "execution_count": 230,
      "outputs": [
        {
          "output_type": "stream",
          "text": [
            "Total Class 1 and 0 : Ya       82701\n",
            "Tidak    82701\n",
            "Name: Class, dtype: int64\n"
          ],
          "name": "stdout"
        }
      ]
    },
    {
      "cell_type": "code",
      "metadata": {
        "colab": {
          "base_uri": "https://localhost:8080/"
        },
        "id": "Yohe98jZS-YK",
        "outputId": "2a4ebf8e-8ef1-4b8c-dbba-d14a272a8aa6"
      },
      "source": [
        "# Mengecek missing values\n",
        "salju_train_sampling.isnull().sum()"
      ],
      "execution_count": 231,
      "outputs": [
        {
          "output_type": "execute_result",
          "data": {
            "text/plain": [
              "Tanggal                         0\n",
              "KodeLokasi                      0\n",
              "SuhuMin                       819\n",
              "SuhuMax                       370\n",
              "Hujan                        2246\n",
              "Penguapan                   71320\n",
              "SinarMatahari               78618\n",
              "ArahAnginTerkencang         11674\n",
              "KecepatanAnginTerkencang    11585\n",
              "ArahAngin9am                11071\n",
              "ArahAngin3pm                 4872\n",
              "KecepatanAngin9am            1683\n",
              "KecepatanAngin3pm            3272\n",
              "Kelembaban9am                2287\n",
              "Kelembaban3pm                4538\n",
              "Tekanan9am                  16308\n",
              "Tekanan3pm                  16312\n",
              "Awan9am                     60889\n",
              "Awan3pm                     64222\n",
              "Suhu9am                      1224\n",
              "Suhu3pm                      3488\n",
              "BersaljuHariIni              2246\n",
              "Class                           0\n",
              "dtype: int64"
            ]
          },
          "metadata": {
            "tags": []
          },
          "execution_count": 231
        }
      ]
    },
    {
      "cell_type": "code",
      "metadata": {
        "id": "7c5zY2C4TfOw"
      },
      "source": [
        "# Mengatasi Missing Values\n",
        "salju_train_sampling.fillna(salju_train_sampling.median(), inplace=True)                # Nilai Numeric diisi dengan nilai median\n",
        "salju_train_sampling = salju_train_sampling.fillna(salju_train_sampling.mode().iloc[0]) # Nilai String diisi dengan nilai yang paling sering muncul pada atribut"
      ],
      "execution_count": 232,
      "outputs": []
    },
    {
      "cell_type": "code",
      "metadata": {
        "colab": {
          "base_uri": "https://localhost:8080/"
        },
        "id": "zY4PligBq7et",
        "outputId": "b947d794-fbb8-44d3-f745-6ce990e2d19c"
      },
      "source": [
        "# Mengecek missing values\n",
        "salju_train_sampling.isnull().sum()"
      ],
      "execution_count": 233,
      "outputs": [
        {
          "output_type": "execute_result",
          "data": {
            "text/plain": [
              "Tanggal                     0\n",
              "KodeLokasi                  0\n",
              "SuhuMin                     0\n",
              "SuhuMax                     0\n",
              "Hujan                       0\n",
              "Penguapan                   0\n",
              "SinarMatahari               0\n",
              "ArahAnginTerkencang         0\n",
              "KecepatanAnginTerkencang    0\n",
              "ArahAngin9am                0\n",
              "ArahAngin3pm                0\n",
              "KecepatanAngin9am           0\n",
              "KecepatanAngin3pm           0\n",
              "Kelembaban9am               0\n",
              "Kelembaban3pm               0\n",
              "Tekanan9am                  0\n",
              "Tekanan3pm                  0\n",
              "Awan9am                     0\n",
              "Awan3pm                     0\n",
              "Suhu9am                     0\n",
              "Suhu3pm                     0\n",
              "BersaljuHariIni             0\n",
              "Class                       0\n",
              "dtype: int64"
            ]
          },
          "metadata": {
            "tags": []
          },
          "execution_count": 233
        }
      ]
    },
    {
      "cell_type": "code",
      "metadata": {
        "colab": {
          "base_uri": "https://localhost:8080/"
        },
        "id": "RFlSlnSVnKvd",
        "outputId": "c22f7611-ce86-49b2-9133-03a3a88e4bda"
      },
      "source": [
        "# Mengecek type atribut\n",
        "print(salju_train_sampling.dtypes)"
      ],
      "execution_count": 234,
      "outputs": [
        {
          "output_type": "stream",
          "text": [
            "Tanggal                      object\n",
            "KodeLokasi                   object\n",
            "SuhuMin                     float64\n",
            "SuhuMax                     float64\n",
            "Hujan                       float64\n",
            "Penguapan                   float64\n",
            "SinarMatahari               float64\n",
            "ArahAnginTerkencang          object\n",
            "KecepatanAnginTerkencang    float64\n",
            "ArahAngin9am                 object\n",
            "ArahAngin3pm                 object\n",
            "KecepatanAngin9am           float64\n",
            "KecepatanAngin3pm           float64\n",
            "Kelembaban9am               float64\n",
            "Kelembaban3pm               float64\n",
            "Tekanan9am                  float64\n",
            "Tekanan3pm                  float64\n",
            "Awan9am                     float64\n",
            "Awan3pm                     float64\n",
            "Suhu9am                     float64\n",
            "Suhu3pm                     float64\n",
            "BersaljuHariIni              object\n",
            "Class                        object\n",
            "dtype: object\n"
          ],
          "name": "stdout"
        }
      ]
    },
    {
      "cell_type": "code",
      "metadata": {
        "id": "BBXj6PkpQmoI"
      },
      "source": [
        "# Menentukan Fitur Categorical\n",
        "numerics = ['int8', 'int16', 'int32', 'int64', 'float16', 'float32', 'float64']\n",
        "categorical_columns = []\n",
        "features = salju_train_sampling.columns.values.tolist()\n",
        "for col in features:\n",
        "    if salju_train_sampling[col].dtype in numerics: continue\n",
        "    categorical_columns.append(col)\n",
        "\n",
        "# Encoding Fitur Categorical\n",
        "for col in categorical_columns:\n",
        "    if col in salju_train_sampling.columns:\n",
        "        enco = LabelEncoder()\n",
        "        enco.fit(list(salju_train_sampling[col].astype(str).values))\n",
        "        salju_train_sampling[col] = enco.transform(list(salju_train_sampling[col].astype(str).values))"
      ],
      "execution_count": 235,
      "outputs": []
    },
    {
      "cell_type": "code",
      "metadata": {
        "colab": {
          "base_uri": "https://localhost:8080/"
        },
        "id": "E6ajmut7nJ7b",
        "outputId": "b9a118b7-3db9-48cc-9e12-9d8e2679ad3e"
      },
      "source": [
        "# Mengecek type atribut\n",
        "print(salju_train_sampling.dtypes)"
      ],
      "execution_count": 236,
      "outputs": [
        {
          "output_type": "stream",
          "text": [
            "Tanggal                       int64\n",
            "KodeLokasi                    int64\n",
            "SuhuMin                     float64\n",
            "SuhuMax                     float64\n",
            "Hujan                       float64\n",
            "Penguapan                   float64\n",
            "SinarMatahari               float64\n",
            "ArahAnginTerkencang           int64\n",
            "KecepatanAnginTerkencang    float64\n",
            "ArahAngin9am                  int64\n",
            "ArahAngin3pm                  int64\n",
            "KecepatanAngin9am           float64\n",
            "KecepatanAngin3pm           float64\n",
            "Kelembaban9am               float64\n",
            "Kelembaban3pm               float64\n",
            "Tekanan9am                  float64\n",
            "Tekanan3pm                  float64\n",
            "Awan9am                     float64\n",
            "Awan3pm                     float64\n",
            "Suhu9am                     float64\n",
            "Suhu3pm                     float64\n",
            "BersaljuHariIni               int64\n",
            "Class                         int64\n",
            "dtype: object\n"
          ],
          "name": "stdout"
        }
      ]
    },
    {
      "cell_type": "code",
      "metadata": {
        "colab": {
          "base_uri": "https://localhost:8080/",
          "height": 217
        },
        "id": "OndySctwQ79I",
        "outputId": "b847c48c-5232-493c-a3dc-c65990aecc55"
      },
      "source": [
        "salju_train_sampling.head()"
      ],
      "execution_count": 237,
      "outputs": [
        {
          "output_type": "execute_result",
          "data": {
            "text/html": [
              "<div>\n",
              "<style scoped>\n",
              "    .dataframe tbody tr th:only-of-type {\n",
              "        vertical-align: middle;\n",
              "    }\n",
              "\n",
              "    .dataframe tbody tr th {\n",
              "        vertical-align: top;\n",
              "    }\n",
              "\n",
              "    .dataframe thead th {\n",
              "        text-align: right;\n",
              "    }\n",
              "</style>\n",
              "<table border=\"1\" class=\"dataframe\">\n",
              "  <thead>\n",
              "    <tr style=\"text-align: right;\">\n",
              "      <th></th>\n",
              "      <th>Tanggal</th>\n",
              "      <th>KodeLokasi</th>\n",
              "      <th>SuhuMin</th>\n",
              "      <th>SuhuMax</th>\n",
              "      <th>Hujan</th>\n",
              "      <th>Penguapan</th>\n",
              "      <th>SinarMatahari</th>\n",
              "      <th>ArahAnginTerkencang</th>\n",
              "      <th>KecepatanAnginTerkencang</th>\n",
              "      <th>ArahAngin9am</th>\n",
              "      <th>ArahAngin3pm</th>\n",
              "      <th>KecepatanAngin9am</th>\n",
              "      <th>KecepatanAngin3pm</th>\n",
              "      <th>Kelembaban9am</th>\n",
              "      <th>Kelembaban3pm</th>\n",
              "      <th>Tekanan9am</th>\n",
              "      <th>Tekanan3pm</th>\n",
              "      <th>Awan9am</th>\n",
              "      <th>Awan3pm</th>\n",
              "      <th>Suhu9am</th>\n",
              "      <th>Suhu3pm</th>\n",
              "      <th>BersaljuHariIni</th>\n",
              "      <th>Class</th>\n",
              "    </tr>\n",
              "  </thead>\n",
              "  <tbody>\n",
              "    <tr>\n",
              "      <th>61105</th>\n",
              "      <td>3329</td>\n",
              "      <td>44</td>\n",
              "      <td>10.2</td>\n",
              "      <td>25.2</td>\n",
              "      <td>0.0</td>\n",
              "      <td>3.6</td>\n",
              "      <td>9.7</td>\n",
              "      <td>6</td>\n",
              "      <td>59.0</td>\n",
              "      <td>14</td>\n",
              "      <td>6</td>\n",
              "      <td>13.0</td>\n",
              "      <td>26.0</td>\n",
              "      <td>59.0</td>\n",
              "      <td>24.0</td>\n",
              "      <td>1010.7</td>\n",
              "      <td>1005.5</td>\n",
              "      <td>6.0</td>\n",
              "      <td>6.0</td>\n",
              "      <td>14.6</td>\n",
              "      <td>24.3</td>\n",
              "      <td>0</td>\n",
              "      <td>1</td>\n",
              "    </tr>\n",
              "    <tr>\n",
              "      <th>15940</th>\n",
              "      <td>872</td>\n",
              "      <td>28</td>\n",
              "      <td>4.2</td>\n",
              "      <td>14.1</td>\n",
              "      <td>0.8</td>\n",
              "      <td>3.0</td>\n",
              "      <td>10.2</td>\n",
              "      <td>9</td>\n",
              "      <td>37.0</td>\n",
              "      <td>12</td>\n",
              "      <td>9</td>\n",
              "      <td>15.0</td>\n",
              "      <td>22.0</td>\n",
              "      <td>79.0</td>\n",
              "      <td>52.0</td>\n",
              "      <td>1027.5</td>\n",
              "      <td>1027.9</td>\n",
              "      <td>4.0</td>\n",
              "      <td>5.0</td>\n",
              "      <td>9.3</td>\n",
              "      <td>12.7</td>\n",
              "      <td>0</td>\n",
              "      <td>1</td>\n",
              "    </tr>\n",
              "    <tr>\n",
              "      <th>65306</th>\n",
              "      <td>210</td>\n",
              "      <td>31</td>\n",
              "      <td>14.0</td>\n",
              "      <td>21.9</td>\n",
              "      <td>3.6</td>\n",
              "      <td>3.2</td>\n",
              "      <td>10.0</td>\n",
              "      <td>5</td>\n",
              "      <td>30.0</td>\n",
              "      <td>5</td>\n",
              "      <td>3</td>\n",
              "      <td>13.0</td>\n",
              "      <td>17.0</td>\n",
              "      <td>76.0</td>\n",
              "      <td>73.0</td>\n",
              "      <td>1013.1</td>\n",
              "      <td>1010.9</td>\n",
              "      <td>3.0</td>\n",
              "      <td>4.0</td>\n",
              "      <td>19.2</td>\n",
              "      <td>20.9</td>\n",
              "      <td>1</td>\n",
              "      <td>1</td>\n",
              "    </tr>\n",
              "    <tr>\n",
              "      <th>276</th>\n",
              "      <td>1115</td>\n",
              "      <td>10</td>\n",
              "      <td>17.8</td>\n",
              "      <td>20.2</td>\n",
              "      <td>0.0</td>\n",
              "      <td>4.4</td>\n",
              "      <td>6.8</td>\n",
              "      <td>11</td>\n",
              "      <td>59.0</td>\n",
              "      <td>10</td>\n",
              "      <td>10</td>\n",
              "      <td>44.0</td>\n",
              "      <td>37.0</td>\n",
              "      <td>77.0</td>\n",
              "      <td>80.0</td>\n",
              "      <td>1008.6</td>\n",
              "      <td>1010.8</td>\n",
              "      <td>8.0</td>\n",
              "      <td>7.0</td>\n",
              "      <td>20.1</td>\n",
              "      <td>18.5</td>\n",
              "      <td>0</td>\n",
              "      <td>1</td>\n",
              "    </tr>\n",
              "    <tr>\n",
              "      <th>81608</th>\n",
              "      <td>1752</td>\n",
              "      <td>24</td>\n",
              "      <td>5.4</td>\n",
              "      <td>16.9</td>\n",
              "      <td>16.0</td>\n",
              "      <td>3.4</td>\n",
              "      <td>7.1</td>\n",
              "      <td>15</td>\n",
              "      <td>52.0</td>\n",
              "      <td>15</td>\n",
              "      <td>13</td>\n",
              "      <td>19.0</td>\n",
              "      <td>19.0</td>\n",
              "      <td>63.0</td>\n",
              "      <td>77.0</td>\n",
              "      <td>1018.7</td>\n",
              "      <td>1017.4</td>\n",
              "      <td>6.0</td>\n",
              "      <td>5.0</td>\n",
              "      <td>14.0</td>\n",
              "      <td>13.6</td>\n",
              "      <td>1</td>\n",
              "      <td>1</td>\n",
              "    </tr>\n",
              "  </tbody>\n",
              "</table>\n",
              "</div>"
            ],
            "text/plain": [
              "       Tanggal  KodeLokasi  SuhuMin  ...  Suhu3pm  BersaljuHariIni  Class\n",
              "61105     3329          44     10.2  ...     24.3                0      1\n",
              "15940      872          28      4.2  ...     12.7                0      1\n",
              "65306      210          31     14.0  ...     20.9                1      1\n",
              "276       1115          10     17.8  ...     18.5                0      1\n",
              "81608     1752          24      5.4  ...     13.6                1      1\n",
              "\n",
              "[5 rows x 23 columns]"
            ]
          },
          "metadata": {
            "tags": []
          },
          "execution_count": 237
        }
      ]
    },
    {
      "cell_type": "code",
      "metadata": {
        "colab": {
          "base_uri": "https://localhost:8080/",
          "height": 282
        },
        "id": "-IHZ0cApVdol",
        "outputId": "6c816e06-e33e-4800-e568-14ffbbc1f1f3"
      },
      "source": [
        "# Mengecek Outliers\n",
        "f,axes = plt.subplots(1,3)\n",
        "plt.figure(figsize=(20,10))\n",
        "salju_train_sampling['SuhuMin'].plot(kind='box',ax=axes[0])\n",
        "salju_train_sampling['SuhuMax'].plot(kind='box',ax=axes[1])\n",
        "salju_train_sampling['Class'].plot(kind='box',ax=axes[2])\n",
        "\n",
        "plt.show()"
      ],
      "execution_count": 238,
      "outputs": [
        {
          "output_type": "display_data",
          "data": {
            "image/png": "[encoded data removed]",
            "text/plain": [
              "<Figure size 432x288 with 3 Axes>"
            ]
          },
          "metadata": {
            "tags": [],
            "needs_background": "light"
          }
        },
        {
          "output_type": "display_data",
          "data": {
            "text/plain": [
              "<Figure size 1440x720 with 0 Axes>"
            ]
          },
          "metadata": {
            "tags": []
          }
        }
      ]
    },
    {
      "cell_type": "code",
      "metadata": {
        "colab": {
          "base_uri": "https://localhost:8080/"
        },
        "id": "rA_qbpCZTh0d",
        "outputId": "262c77ce-7a78-4494-a7b4-1dcd3f0cc240"
      },
      "source": [
        "#Metode IQR untuk SuhuMin\n",
        "Q1=salju_train_sampling['SuhuMin'].quantile(0.25)\n",
        "Q3=salju_train_sampling['SuhuMin'].quantile(0.75)\n",
        "IQR=Q3-Q1\n",
        "print(Q1)\n",
        "print(Q3)\n",
        "print(IQR)\n",
        "Lower_Whisker = Q1-1.5*IQR\n",
        "Upper_Whisker = Q3+1.5*IQR\n",
        "print(Lower_Whisker, Upper_Whisker)"
      ],
      "execution_count": 239,
      "outputs": [
        {
          "output_type": "stream",
          "text": [
            "8.0\n",
            "17.2\n",
            "9.2\n",
            "-5.799999999999999 31.0\n"
          ],
          "name": "stdout"
        }
      ]
    },
    {
      "cell_type": "code",
      "metadata": {
        "id": "iFi-6gsiZ7rP"
      },
      "source": [
        "salju_train_sampling = salju_train_sampling[salju_train_sampling['SuhuMin']< Upper_Whisker]\n",
        "salju_train_sampling = salju_train_sampling[salju_train_sampling['SuhuMin']> Lower_Whisker]"
      ],
      "execution_count": 240,
      "outputs": []
    },
    {
      "cell_type": "code",
      "metadata": {
        "colab": {
          "base_uri": "https://localhost:8080/"
        },
        "id": "iF6CUL4kciww",
        "outputId": "f02c8c34-127a-48cf-e13b-456ca76fe90f"
      },
      "source": [
        "#Metode IQR untuk SuhuMax\n",
        "Q1=salju_train_sampling['SuhuMax'].quantile(0.25)\n",
        "Q3=salju_train_sampling['SuhuMax'].quantile(0.75)\n",
        "IQR=Q3-Q1\n",
        "print(Q1)\n",
        "print(Q3)\n",
        "print(IQR)\n",
        "Lower_Whisker = Q1-1.5*IQR\n",
        "Upper_Whisker = Q3+1.5*IQR\n",
        "print(Lower_Whisker, Upper_Whisker)"
      ],
      "execution_count": 241,
      "outputs": [
        {
          "output_type": "stream",
          "text": [
            "17.2\n",
            "27.4\n",
            "10.2\n",
            "1.9000000000000004 42.699999999999996\n"
          ],
          "name": "stdout"
        }
      ]
    },
    {
      "cell_type": "code",
      "metadata": {
        "id": "ZMRmN7asaGbs"
      },
      "source": [
        "salju_train_sampling = salju_train_sampling[salju_train_sampling['SuhuMax']< Upper_Whisker]\n",
        "salju_train_sampling = salju_train_sampling[salju_train_sampling['SuhuMax']> Lower_Whisker]"
      ],
      "execution_count": 242,
      "outputs": []
    },
    {
      "cell_type": "code",
      "metadata": {
        "colab": {
          "base_uri": "https://localhost:8080/",
          "height": 282
        },
        "id": "ubOStJFDdvDN",
        "outputId": "27187b5e-4ad8-4e53-be6e-7534c0bb4d9b"
      },
      "source": [
        "# Mengecek Outliers setelah menggunakan metode IQR\n",
        "f,axes = plt.subplots(1,3)\n",
        "plt.figure(figsize=(20,10))\n",
        "salju_train_sampling['SuhuMin'].plot(kind='box',ax=axes[0])\n",
        "salju_train_sampling['SuhuMax'].plot(kind='box',ax=axes[1])\n",
        "salju_train_sampling['Class'].plot(kind='box',ax=axes[2])\n",
        "\n",
        "plt.show()"
      ],
      "execution_count": 243,
      "outputs": [
        {
          "output_type": "display_data",
          "data": {
            "image/png": "[encoded data removed]",
            "text/plain": [
              "<Figure size 432x288 with 3 Axes>"
            ]
          },
          "metadata": {
            "tags": [],
            "needs_background": "light"
          }
        },
        {
          "output_type": "display_data",
          "data": {
            "text/plain": [
              "<Figure size 1440x720 with 0 Axes>"
            ]
          },
          "metadata": {
            "tags": []
          }
        }
      ]
    },
    {
      "cell_type": "code",
      "metadata": {
        "colab": {
          "base_uri": "https://localhost:8080/"
        },
        "id": "Mn1pANcPTs9S",
        "outputId": "b0f8592b-34ef-4f46-dedb-fe56d27e25ad"
      },
      "source": [
        "# Mengecek Data Unique\n",
        "def check(data):\n",
        "  for col in data.columns:\n",
        "    print(col, data[col].unique())\n",
        "\n",
        "check(salju_train_sampling)"
      ],
      "execution_count": 244,
      "outputs": [
        {
          "output_type": "stream",
          "text": [
            "Tanggal [3329  872  210 ... 3009 1002 3152]\n",
            "KodeLokasi [44 28 31 10 24  4  2 22 40  5 13  7 19  0 20  9 38 26 21  8 30 39  1 48\n",
            " 18 15 23  6 45 35 32 12 27 29 42 14 11 25 37 47 41 16 46 17 34  3 33 43\n",
            " 36]\n",
            "SuhuMin [10.2  4.2 14.  17.8  5.4 21.7 23.   8.2 20.7 13.8  9.4  7.2 12.3 16.8\n",
            " 10.9  7.   8.7 17.9 23.5 17.1 20.   2.8 13.1 12.6 23.1 11.7 18.6 15.5\n",
            " 13.4  7.4 14.3 12.9  4.3 10.6 16.1  8.4 26.7 26.9 15.9 20.5 12.   2.1\n",
            "  6.7  6.8 21.  10.4 27.3 11.3  2.9 10.7 17.3 11.1 21.6 24.1 24.8 13.2\n",
            " 18.  11.2  9.1 20.9  6.1 18.7  5.3  9.7 24.3  5.1 10.  13.5 24.7  7.3\n",
            " 17.   7.5 11.  22.3  3.   8.5 14.2 19.1 12.5 11.5 13.  19.8 24.2  9.3\n",
            " 14.8 15.7 21.5 13.7  5.7  3.8  6.3 22.6  7.9 17.2  4.6  2.7 21.9 20.2\n",
            " 14.7 12.4 10.8  8.9  8.6 14.4 19.9  9.8 12.1 16.2 24.  12.8  8.3  6.6\n",
            " 10.5  5.8 22.8 13.9 22.4  8.1 15.1 18.5 14.9 22.9 17.7  9.9  1.4 16.4\n",
            " 17.6  9.  -0.8 22.5 16.  19.   8.  25.1 14.5 10.1  9.2 19.3  2.3 25.7\n",
            " 19.7 23.8 18.8 10.3 23.4 16.5 23.6 11.8  7.6  1.  21.8  1.8 19.2 21.4\n",
            " 22.  24.9 27.7 12.2 17.5 11.6 28.   5.2  1.9  4.5 13.6  9.6 15.6  6.9\n",
            "  5.5 20.1  1.1 22.1 20.4  6.5 14.1 15.  21.3  7.1 23.2  1.2  3.6 -2.5\n",
            " 15.4 19.6 18.4 24.5  9.5  3.3  7.7 24.4  4.7 18.9 12.7  5.6 16.9  2.6\n",
            " 22.7  8.8 25.8 16.7  7.8  4.  -0.1  2.5 11.9 20.3 25.  15.8 16.6  3.2\n",
            " -1.1 21.1  0.6 23.9  6.   1.6 19.5 18.3  3.7  1.7 23.3 26.2 20.6  3.4\n",
            "  0.9 21.2 17.4 18.1 15.2 13.3 27.9  1.5 15.3 25.2 26.8 19.4 27.1  6.2\n",
            "  6.4  0.3 -1.4 -0.6  5.9 22.2 20.8 14.6 18.2 11.4 25.3  2.2 -1.5 -3.7\n",
            "  0.2  4.4  4.8  3.9 26.1  4.1 24.6 -0.9 -0.3  3.1 25.4 16.3  3.5  4.9\n",
            " 26.  29.1  5.   0.  25.6 27.5 28.2 -0.5 25.5 23.7  2.4 -4.3  1.3 28.1\n",
            " 27.  -0.7 -2.4 -1.8  0.8 -2.1  0.7  0.5 27.4 26.6 25.9 -2.2 -3.8 -4.5\n",
            "  2.  -1.3 -0.2 26.4 26.5 -0.4 -3.4  0.1 27.2 30.2  0.4 28.3 -1.  28.8\n",
            " 27.8 -2.3 -3.  -2.8 -1.9 -1.6 26.3 29.3 -3.6 28.5 -1.7 -3.5 -5.3 -5.6\n",
            " 28.6 -2.7 -3.9 -2.6 -1.2 27.6 28.4 -2.9 29.8 -3.3 -3.2 -4.7 29.7 -2.\n",
            " -4.4 -4.9 29.  -5.5 -5.  -4.2 -4.8 -4.1 28.7 -5.4 -4.6 -3.1 -5.1 28.9\n",
            " -4.  29.2 -5.2 -5.7 29.4]\n",
            "SuhuMax [25.2 14.1 21.9 20.2 16.9 29.  33.2 22.3 28.6 16.2 13.9 16.6 19.8 20.1\n",
            " 18.6 30.5 18.3 14.8 18.1 30.7 30.3 36.9 14.4 17.6 30.6 21.3 18.4 19.2\n",
            " 20.8 11.7 16.5 23.8 24.5 34.4 40.3 37.2 24.1 21.2  5.4 23.2 25.  17.4\n",
            " 17.9 31.6 21.8 32.7 20.9 18.5 20.7 25.4 30.2 27.3 28.  31.  35.8 21.4\n",
            " 25.3 12.4 12.9 27.7 29.9 25.1 12.7 31.9 24.6 11.3 13.3 19.1 34.2 15.9\n",
            " 20.3 27.  13.4 30.1 10.2 18.  26.  19.4 22.  30.9 15.2 15.1 24.8 21.\n",
            " 29.1 26.3 30.  20.  15.6 25.9 35.4 28.1 34.9 12.2 12.6 29.4 27.1 11.8\n",
            " 28.5 34.5 29.5 22.9 18.8 17.8 20.5 28.7 11.6 13.1 15.8 21.6 19.6 23.9\n",
            " 40.9 17.3 23.4 13.7  9.7 14.9 15.3 28.8 14.3 25.8 17.7 31.1 17.5 31.2\n",
            " 33.5 10.1 22.8 21.7 26.2 21.5 19.  11.9 23.5 18.2 31.4 14.5 33.7 32.4\n",
            " 24.  12.8 32.  29.2 19.5 15.7 20.4 18.9 23.7 17.2 26.7 38.  37.4 16.3\n",
            " 15.4 19.7 12.5 40.4 14.7 19.9 16.  22.1 19.3 23.6 20.6 26.6  9.4 22.7\n",
            " 24.9 16.1 36.1 17.1 26.5 15.  24.2 35.3 13.2 25.6 14.  37.5 12.  14.2\n",
            " 31.7 14.6 26.9 13.  29.3 31.5 29.6 25.7 31.8 24.4 24.7 27.6 11.1 23.\n",
            " 36.4 27.5 23.3 40.5 21.1 24.3 22.5 26.1 28.9 27.4 29.7 13.8 32.3 10.7\n",
            " 10.3 33.4 18.7 30.8 27.9 32.8  8.7 28.4 33.  13.5 36.3 15.5 22.4 33.3\n",
            " 27.8 26.4 13.6 25.5  9.6 29.8 31.3 22.2 16.4 23.1 34.3 30.4 37.6 10.8\n",
            " 11.   9.9 16.7  8.   9.1  4.7 12.3 33.1 16.8  5.6 35.7  6.1 35.9 33.9\n",
            "  8.9 12.1  9.2 17.  32.2  7.2 35.   8.5 28.3 36.5 28.2 32.5 22.6 33.8\n",
            "  3.8  5.5 10.  34.  32.6 26.8  8.1 40.   4.1  6.   7.9 11.2 32.9 40.1\n",
            " 38.2  9.  42.1  9.8 11.5 10.6 10.9 38.9 34.1  7.8 33.6  6.5 34.7 38.6\n",
            " 39.2 35.5 40.2 36.  32.1 38.4 36.7 11.4 10.5  2.3 38.1  6.3 10.4  2.1\n",
            " 34.8  5.2 38.8 38.7 42.  27.2 39.   9.5 39.4 42.4  9.3  8.4  7.4 36.8\n",
            "  2.5 37.1 37.7  7.6  5.9 40.6  7.7  8.6 37.   8.2 35.6 35.1  8.8  5.8\n",
            "  3.5 40.8  4.2 36.2  6.4  3.   3.7 40.7  7.1 39.7  4.3 39.8 39.9 34.6\n",
            " 39.5  4.8 35.2  4.9 41.2  4.5 41.5  2.7  6.7  4.  38.3  4.4  3.3  4.6\n",
            " 37.3 37.9  3.1 41.  42.3  7.   6.9  7.5 36.6  7.3 39.3 41.6 41.3 39.1\n",
            "  2.6 37.8  3.2 41.1 41.7 41.8  3.9 42.5 39.6  2.9 42.2 38.5  3.4 41.4\n",
            "  8.3  2.8  5.3  5.   6.8  2.2  5.1  6.6 41.9  6.2  2.4 42.6  3.6  2.\n",
            "  5.7]\n",
            "Hujan [0.000e+00 8.000e-01 3.600e+00 1.600e+01 1.000e+00 4.000e-01 1.540e+01\n",
            " 4.800e+00 9.000e+00 2.000e-01 1.600e+00 3.400e+00 2.200e+01 2.600e+01\n",
            " 2.200e+00 3.740e+01 2.980e+01 1.020e+01 5.400e+00 1.720e+01 3.120e+01\n",
            " 3.600e+01 1.064e+02 1.800e+00 8.400e+00 1.300e+01 3.200e+00 2.620e+01\n",
            " 2.140e+01 1.400e+00 7.260e+01 6.000e-01 9.600e+00 6.400e+00 9.000e-01\n",
            " 3.000e+00 1.200e+00 1.180e+01 3.800e+00 1.900e+01 3.980e+01 6.780e+01\n",
            " 6.180e+01 1.060e+01 2.800e+00 1.020e+02 8.600e+00 4.200e+00 6.600e+00\n",
            " 4.320e+01 3.860e+01 4.000e+00 2.000e+00 2.340e+01 5.000e+00 7.480e+01\n",
            " 7.800e+00 7.400e+00 4.400e+00 1.220e+01 4.220e+01 1.022e+02 1.160e+01\n",
            " 8.800e+00 6.480e+01 1.140e+01 1.200e+01 2.600e+00 2.020e+01 6.560e+01\n",
            " 8.200e+00 2.400e+00 5.200e+00 1.400e+01 3.260e+01 1.880e+01 7.200e+00\n",
            " 2.040e+01 4.600e+00 1.980e+01 1.760e+01 5.040e+01 1.380e+01 1.340e+01\n",
            " 7.000e+00 1.240e+01 1.500e+01 3.420e+01 1.100e+01 5.600e+00 1.680e+01\n",
            " 3.800e+01 7.640e+01 2.640e+01 3.140e+01 4.880e+01 4.900e+00 3.560e+01\n",
            " 2.800e+01 5.800e+00 1.620e+01 4.260e+01 1.500e+00 8.000e+00 9.340e+01\n",
            " 5.200e+01 2.920e+01 1.000e-01 9.200e+00 6.200e+00 6.000e+00 2.940e+01\n",
            " 3.220e+01 1.080e+01 4.340e+01 5.840e+01 1.120e+01 1.700e+01 9.800e+00\n",
            " 2.780e+01 6.800e+00 9.400e+00 1.320e+01 3.460e+01 2.480e+01 1.040e+01\n",
            " 2.060e+01 2.000e+01 1.840e+01 1.920e+01 4.600e+01 6.800e+01 1.740e+01\n",
            " 4.860e+01 6.980e+01 8.920e+01 2.380e+01 2.520e+01 4.920e+01 1.000e+01\n",
            " 2.120e+01 2.160e+01 1.780e+01 4.940e+01 2.700e+01 1.580e+01 8.860e+01\n",
            " 1.280e+01 1.420e+01 5.000e-01 2.760e+01 5.320e+01 7.920e+01 1.100e+00\n",
            " 3.000e-01 3.100e+01 8.160e+01 3.000e+01 1.360e+01 1.800e+01 9.500e+00\n",
            " 4.280e+01 4.420e+01 1.460e+01 7.600e+01 1.260e+01 4.100e+01 3.320e+01\n",
            " 1.480e+01 3.020e+01 1.560e+01 2.420e+01 3.060e+01 4.400e+01 2.820e+01\n",
            " 1.940e+01 2.163e+02 2.100e+01 2.080e+01 1.366e+02 2.360e+01 3.300e+01\n",
            " 5.680e+01 2.660e+01 1.700e+00 3.940e+01 4.020e+01 1.300e+00 7.340e+01\n",
            " 2.240e+01 2.062e+02 4.580e+01 4.380e+01 5.380e+01 5.620e+01 5.000e+01\n",
            " 7.600e+00 1.440e+01 3.640e+01 5.060e+01 2.784e+02 4.820e+01 2.740e+01\n",
            " 6.420e+01 2.840e+01 1.960e+01 2.500e+01 3.540e+01 8.220e+01 1.330e+01\n",
            " 4.460e+01 3.380e+01 2.320e+01 1.150e+01 4.520e+01 2.460e+01 4.240e+01\n",
            " 5.900e+01 1.820e+01 2.720e+01 1.520e+01 9.440e+01 6.320e+01 2.400e+01\n",
            " 3.840e+01 4.700e+01 7.780e+01 2.180e+01 1.314e+02 2.680e+01 1.640e+01\n",
            " 4.500e+00 7.380e+01 4.540e+01 3.180e+01 3.360e+01 1.660e+01 7.080e+01\n",
            " 2.440e+01 9.280e+01 4.660e+01 2.860e+01 2.560e+01 9.610e+01 8.980e+01\n",
            " 3.100e+00 2.540e+01 2.900e+01 5.400e+01 3.700e+01 1.860e+01 3.340e+01\n",
            " 5.340e+01 6.120e+01 8.500e+01 6.360e+01 6.240e+01 2.880e+01 6.960e+01\n",
            " 2.280e+01 2.220e+01 3.200e+01 4.740e+01 1.056e+02 3.160e+01 4.680e+01\n",
            " 8.680e+01 1.642e+02 7.100e+01 5.260e+01 3.440e+01 3.500e+01 6.540e+01\n",
            " 2.960e+01 1.122e+02 6.400e+01 8.320e+01 3.680e+01 7.200e+01 7.000e+01\n",
            " 5.140e+01 2.300e+01 5.700e+00 6.620e+01 8.740e+01 3.280e+01 4.800e+01\n",
            " 7.020e+01 1.052e+02 6.260e+01 4.980e+01 3.780e+01 5.960e+01 4.620e+01\n",
            " 3.430e+01 9.140e+01 1.348e+02 6.040e+01 5.640e+01 2.580e+01 4.060e+01\n",
            " 3.900e+01 5.740e+01 3.620e+01 1.060e+02 1.096e+02 4.760e+01 4.160e+01\n",
            " 1.325e+02 4.560e+01 3.110e+01 6.500e+01 4.720e+01 8.360e+01 1.438e+02\n",
            " 1.018e+02 8.400e+01 8.260e+01 1.120e+02 3.790e+01 4.040e+01 8.380e+01\n",
            " 3.520e+01 1.270e+01 2.290e+01 3.960e+01 9.000e+01 3.500e+00 1.202e+02\n",
            " 4.440e+01 1.002e+02 3.920e+01 9.060e+01 1.364e+02 4.080e+01 5.300e+01\n",
            " 2.250e+02 4.180e+01 7.220e+01 5.500e+01 5.500e+00 8.040e+01 3.480e+01\n",
            " 3.710e+02 9.160e+01 8.940e+01 2.260e+01 3.080e+01 3.880e+01 4.000e+01\n",
            " 7.120e+01 7.620e+01 4.500e+01 5.180e+01 6.100e+01 1.900e+00 4.840e+01\n",
            " 6.860e+01 1.970e+01 3.400e+01 1.076e+02 8.800e+01 7.940e+01 5.080e+01\n",
            " 1.580e+02 3.820e+01 5.360e+01 5.760e+01 1.550e+02 2.150e+01 9.260e+01\n",
            " 1.422e+02 8.280e+01 4.360e+01 1.284e+02 1.502e+02 5.660e+01 2.068e+02\n",
            " 2.100e+00 3.040e+01 5.860e+01 9.640e+01 7.840e+01 1.782e+02 1.450e+02\n",
            " 1.890e+02 6.900e+01 2.070e+01 3.240e+01 1.750e+01 6.500e+00 8.500e+00\n",
            " 9.300e+01 1.042e+02 6.700e+00 1.412e+02 9.220e+01 6.820e+01 8.700e+00\n",
            " 9.580e+01 5.580e+01 3.660e+01 5.600e+01 2.650e+01 5.780e+01 2.106e+02\n",
            " 5.480e+01 8.780e+01 1.118e+02 7.520e+01 7.760e+01 1.144e+02 6.140e+01\n",
            " 7.580e+01 6.580e+01 4.200e+01 1.472e+02 9.360e+01 5.560e+01 5.920e+01\n",
            " 3.720e+01 4.120e+01 8.900e+01 5.240e+01 1.230e+01 4.480e+01 4.140e+01\n",
            " 5.700e+01 8.140e+01 1.062e+02 7.000e-01 7.500e+01 7.740e+01 1.418e+02\n",
            " 7.300e+01 1.616e+02 3.760e+01 5.020e+01 1.276e+02 6.900e+00 2.300e+00\n",
            " 4.780e+01 3.580e+01 7.720e+01 4.960e+01 8.700e+01 4.300e+01 1.094e+02\n",
            " 8.540e+01 1.158e+02 5.820e+01 4.640e+01 1.532e+02 6.920e+01 4.900e+01\n",
            " 5.280e+01 1.830e+02 6.700e+01 1.776e+02 1.550e+01 8.240e+01 9.680e+01\n",
            " 7.560e+01 2.390e+01 8.120e+01 7.880e+01 5.420e+01 1.058e+02 5.120e+01\n",
            " 1.130e+02 6.200e+01 6.160e+01 5.880e+01 1.054e+02 9.820e+01 7.280e+01\n",
            " 1.282e+02 1.208e+02 1.670e+02 1.570e+01 7.460e+01 1.248e+02 1.226e+02\n",
            " 1.622e+02 4.550e+01 6.100e+00 1.752e+02 2.950e+01 3.676e+02 1.486e+02\n",
            " 1.294e+02 1.182e+02 3.390e+01 5.540e+01 8.640e+01 7.140e+01 1.704e+02\n",
            " 5.460e+01 6.520e+01 1.134e+02 5.980e+01 2.990e+01 7.680e+01 1.194e+02\n",
            " 9.100e+01 2.500e+00 2.900e+00 5.100e+01 8.340e+01 7.320e+01 5.520e+01\n",
            " 8.480e+01 1.214e+02 2.686e+02 9.380e+01 8.080e+01 8.020e+01 1.250e+01\n",
            " 7.180e+01 2.270e+01 9.400e+01 6.640e+01 1.004e+02 1.684e+02 1.176e+02\n",
            " 6.300e+01 1.456e+02 1.090e+01 7.160e+01 1.450e+01 8.420e+01 6.950e+01\n",
            " 6.880e+01 1.152e+02 8.460e+01 3.990e+01 1.108e+02 1.326e+02 5.940e+01\n",
            " 1.652e+02 3.070e+01 6.020e+01 9.940e+01 1.746e+02 6.280e+01 4.730e+01\n",
            " 1.050e+02 1.010e+01 6.340e+01 6.460e+01 5.220e+01 8.760e+01 3.250e+01\n",
            " 9.920e+01 6.000e+01 1.850e+01 9.560e+01 1.048e+02 6.410e+01 4.700e+00\n",
            " 5.800e+01 3.270e+01 8.820e+01 5.900e+00 3.300e+00 1.046e+02 7.800e+01\n",
            " 1.264e+02 7.420e+01 7.660e+01 8.180e+01 8.060e+01 1.568e+02 1.576e+02\n",
            " 5.300e+00 1.826e+02 8.100e+01 1.186e+02 1.210e+01 9.800e+01 8.300e+01\n",
            " 2.930e+01 7.980e+01 1.810e+01 9.520e+01 8.560e+01 9.700e+01 7.900e+01\n",
            " 1.402e+02 2.700e+00 1.260e+02 1.452e+02 1.150e+02 2.530e+01 1.598e+02\n",
            " 1.390e+01 7.820e+01 2.250e+01 1.478e+02 1.390e+02 6.220e+01 7.100e+00\n",
            " 6.840e+01 2.090e+01 1.074e+02 7.360e+01 2.910e+01 1.106e+02 1.092e+02\n",
            " 7.300e+00 2.196e+02 2.400e+02 1.428e+02 6.600e+01 2.370e+01 8.440e+01\n",
            " 1.110e+01 1.068e+02 6.380e+01 4.100e+00 6.080e+01 1.154e+02 4.150e+01]\n",
            "Penguapan [3.60e+00 3.00e+00 3.20e+00 4.40e+00 3.40e+00 1.28e+01 8.00e+00 1.20e+00\n",
            " 7.40e+00 1.58e+01 4.00e+00 4.60e+00 6.00e+00 6.40e+00 8.00e-01 6.00e-01\n",
            " 6.60e+00 4.50e+00 1.56e+01 1.38e+01 1.24e+01 1.60e+00 2.80e+00 8.80e+00\n",
            " 4.20e+00 6.80e+00 2.40e+00 1.80e+00 5.40e+00 1.18e+01 1.00e+00 2.20e+00\n",
            " 2.00e+00 1.50e+01 7.80e+00 7.20e+00 1.40e+00 2.60e+00 2.00e-01 8.40e+00\n",
            " 7.60e+00 3.80e+00 5.80e+00 1.30e+01 9.40e+00 6.20e+00 4.80e+00 1.22e+01\n",
            " 5.00e+00 1.16e+01 5.60e+00 9.00e+00 1.06e+01 4.00e-01 1.60e+01 5.20e+00\n",
            " 1.20e+01 2.70e+00 7.00e+00 1.04e+01 8.20e+00 9.60e+00 1.50e+00 1.26e+01\n",
            " 1.02e+01 0.00e+00 1.14e+01 2.10e+00 1.00e+01 1.12e+01 1.32e+01 1.90e+01\n",
            " 1.34e+01 1.08e+01 4.30e+00 2.88e+01 8.60e+00 5.90e+00 1.62e+01 1.94e+01\n",
            " 9.20e+00 6.30e+00 1.52e+01 2.20e+01 3.04e+01 3.54e+01 1.44e+01 9.80e+00\n",
            " 3.10e+00 1.10e+00 2.50e+00 1.36e+01 3.30e+00 3.70e+00 1.42e+01 2.38e+01\n",
            " 2.06e+01 1.46e+01 7.00e-01 7.48e+01 1.10e+01 1.31e+01 9.70e+00 1.68e+01\n",
            " 1.54e+01 2.90e+00 2.14e+01 2.74e+01 1.40e+01 6.70e+00 5.10e+00 2.30e+00\n",
            " 4.90e+00 1.03e+01 2.86e+01 1.98e+01 8.70e+00 3.64e+01 2.44e+01 1.48e+01\n",
            " 1.74e+01 4.10e+00 1.80e+01 1.72e+01 1.27e+01 2.24e+01 5.00e-01 7.10e+00\n",
            " 1.92e+01 3.38e+01 1.70e+00 3.50e+00 2.30e+01 1.78e+01 1.01e+01 1.64e+01\n",
            " 2.04e+01 2.02e+01 7.70e+00 1.88e+01 5.56e+01 6.10e+00 2.66e+01 1.11e+01\n",
            " 1.70e+01 9.00e-01 2.28e+01 9.90e+00 2.58e+01 3.00e-01 1.90e+00 1.30e+00\n",
            " 2.56e+01 1.66e+01 1.96e+01 2.40e+01 2.10e+01 1.21e+01 3.02e+01 1.07e+01\n",
            " 1.81e+01 2.00e+01 5.50e+00 8.10e+00 1.82e+01 1.86e+01 3.50e+01 2.72e+01\n",
            " 3.20e+01 1.00e-01 2.76e+01 7.50e+00 3.24e+01 4.23e+01 2.92e+01 2.51e+01\n",
            " 4.70e+00 2.42e+01 2.34e+01 1.53e+01 2.84e+01 4.30e+01 3.08e+01 7.90e+00\n",
            " 3.86e+01 6.90e+00 2.48e+01 5.30e+00 1.93e+01 1.84e+01 5.58e+01 2.08e+01\n",
            " 2.22e+01 4.08e+01 1.76e+01 2.36e+01 9.10e+00 3.42e+01 2.68e+01 7.30e+00\n",
            " 2.94e+01 2.16e+01 3.12e+01 3.60e+01 2.26e+01 3.74e+01 3.14e+01 2.12e+01\n",
            " 7.00e+01 3.94e+01 5.62e+01 2.32e+01 2.80e+01 4.18e+01 4.20e+01 1.45e+02\n",
            " 5.94e+01 3.30e+01 2.50e+01 6.50e+00 5.70e+00 1.49e+01 9.50e+00 1.15e+01\n",
            " 2.82e+01 3.52e+01 3.90e+00 8.30e+00 3.44e+01 2.78e+01 3.32e+01 1.77e+01\n",
            " 7.73e+01 2.60e+01 3.56e+01 3.26e+01 6.08e+01 5.36e+01 3.28e+01 8.50e+00\n",
            " 3.70e+01 4.36e+01 3.16e+01 4.32e+01 2.62e+01 3.76e+01 1.05e+01 1.51e+01\n",
            " 6.44e+01 3.84e+01 2.70e+01 3.34e+01 5.76e+01 2.52e+01 6.20e+01 4.84e+01\n",
            " 4.88e+01 9.30e+00 3.40e+01 1.23e+01 2.98e+01 3.62e+01 6.02e+01 3.36e+01\n",
            " 5.66e+01 3.72e+01 2.64e+01 8.62e+01 3.46e+01 5.04e+01 4.00e+01 5.50e+01\n",
            " 5.72e+01 3.80e+01 4.66e+01 5.16e+01 1.09e+01 4.22e+01 4.16e+01 4.70e+01\n",
            " 3.10e+01 5.10e+01 4.26e+01 2.18e+01 1.13e+01 1.39e+01 4.62e+01 2.46e+01\n",
            " 5.40e+01 1.45e+01 4.72e+01 4.42e+01 4.24e+01 7.22e+01 8.90e+00 5.52e+01\n",
            " 1.25e+01 4.68e+01 5.64e+01 1.35e+01 6.30e+01 5.92e+01 5.48e+01 1.19e+01\n",
            " 3.00e+01 2.31e+01 1.71e+01 6.88e+01 3.88e+01 7.04e+01 3.22e+01 6.54e+01\n",
            " 5.08e+01 5.85e+01 2.25e+01 1.91e+01 1.43e+01 2.54e+01 5.96e+01 6.48e+01\n",
            " 2.05e+01 4.40e+01]\n",
            "SinarMatahari [ 9.7 10.2 10.   6.8  7.1  0.5  6.6  2.9 10.5 10.1  0.7  4.   2.5  5.1\n",
            "  1.9  7.3  7.7  4.4  8.3  3.5  3.8  1.7  0.   0.9  8.2  2.1 10.3  2.2\n",
            "  6.1  6.2  5.6  2.3  3.4  1.3  1.5  0.2  3.1  2.7  9.2  1.2  5.   6.3\n",
            "  6.9  2.   3.3 11.5  6.5  8.   5.7  0.6  8.4 10.8  1.4  5.5  3.   6.7\n",
            "  1.1  8.6  0.3  8.9  8.7  4.1 11.9  3.7  0.4  9.6  8.1  9.3  5.3  2.8\n",
            "  5.4  5.8  2.6  0.1  7.6  4.2 11.6  7.   5.2  1.6  6.   4.9  3.2  4.8\n",
            "  3.9  2.4  4.7  7.5  4.3 12.2 10.6  7.4  3.6  9.  10.7  5.9  8.5  4.6\n",
            "  6.4 10.9  4.5  9.1  1.8  7.8  9.4  8.8 11.8  7.9  9.8 11.1 11.3  9.5\n",
            "  1.  10.4  0.8 11.2  7.2 12.1  9.9 12.6 12.5 13.  12.7 12.  12.3 11.\n",
            " 11.7 13.1 11.4 12.9 12.4 13.3 13.8 13.2 13.5 12.8 13.9 13.4 13.7 13.6\n",
            " 14.  14.2 14.1 14.3]\n",
            "ArahAnginTerkencang [ 6  9  5 11 15 13  0 10  8  1  3 14  2 12  4  7]\n",
            "KecepatanAnginTerkencang [ 59.  37.  30.  52.  61.  69.  41.  31.  50.  44.  39.  35.  46.  48.\n",
            "  57.  54.  17.  20.  91.  72.  43.  78.  56.  28.  63.  24.  94.  33.\n",
            "  13.  26.  65.  70.  67.  87.  93.  89.  80.  22.  74.  76.  11.  85.\n",
            "  81.  83.  96.  19.  15.  98.   7. 104. 109. 102. 126. 107.   9. 117.\n",
            " 135. 100. 106. 120. 115. 113. 130. 122. 111. 124.]\n",
            "ArahAngin9am [14 12  5 10 15  3  2 13  1  8  7  0  6 11  9  4]\n",
            "ArahAngin3pm [ 6  9  3 10 13  1 12  7  8 14  4 15  2 11  0  5]\n",
            "KecepatanAngin9am [ 13.  15.  44.  19.  28.  11.  17.  26.   4.   0.  22.  20.  31.   7.\n",
            "  24.   9.  33.  43.  30.   2.  39.   6.  35.  48.  46.  37.  54.  50.\n",
            "  61.  56.  41.  52.  57.  65.  63.  59.  87.  67.  69.  74. 130.]\n",
            "KecepatanAngin3pm [26. 22. 17. 37. 19. 33. 11.  7. 15. 28.  4.  0.  2. 24. 20. 30.  9. 13.\n",
            " 41. 31. 35. 39. 46. 44. 54.  6. 63. 43. 50. 48. 52. 61. 56. 59. 57. 69.\n",
            " 74. 65. 87. 72. 76. 78. 67.]\n",
            "Kelembaban9am [ 59.  79.  76.  77.  63.  35.  57.  81.  74.  92.  88.  71. 100.  56.\n",
            "  67.  69.  93.  53.  60.  44.  95.  97.  94.  80.  64.  98.  96.  99.\n",
            "  68.  43.  21.  65.  85.  66.  83.  84.  73.  91.  87.  89.  72.  36.\n",
            "  51.  75.  70.  54.  90.  45.  50.  62.  15.  86.  82.  46.  52.  40.\n",
            "  58.  39.  49.  78.  61.  25.  47.  26.  55.  34.  23.  28.  48.  32.\n",
            "  30.  22.  41.  31.  11.  19.  27.  37.  18.  13.  38.  42.  24.  33.\n",
            "  20.  29.  14.   8.  16.  17.   5.  10.  12.   9.   2.   7.   4.   3.\n",
            "   6.   1.   0.]\n",
            "Kelembaban3pm [ 24.  52.  73.  80.  77.  42.  37.  74.  56.  88. 100.  92.  61.  32.\n",
            "  76.  89.  62.  59.  58.  29.  72.  55.  84.  67.  71.  99.  94.  98.\n",
            "  79.  53.  46.  54.  91.  16.  82.  68.  90.  60.  95.  36.  39.  65.\n",
            "  41.  69.  30.  87.  44.  70.  19.  25.  81.  34.  86.  93.  78.  85.\n",
            "  28.  83.  64.  57.  10.  97.  50.  63.  75.  51.  45.  26.  48.  35.\n",
            "  66.  27.  96.  17.  38.  43.  33.  31.  23.  47.  49.  22.  13.  21.\n",
            "  40.  14.  15.   6.  18.  20.  12.   7.   9.   1.   4.   3.  11.   8.\n",
            "   5.   2.   0.]\n",
            "Tekanan9am [1010.7 1027.5 1013.1 1008.6 1018.7  995.8 1009.3 1019.2 1018.  1016.5\n",
            " 1022.9 1029.5 1010.8 1010.2 1003.2 1013.2 1018.5 1016.2 1012.2 1012.7\n",
            " 1016.  1014.8 1031.1 1021.7 1012.1 1015.1 1013.7 1020.5 1020.9 1017.5\n",
            " 1022.7 1025.2  997.8 1015.  1014.1 1007.7 1013.  1005.1 1013.6 1018.8\n",
            " 1017.6 1019.  1012.8 1008.8 1006.7 1011.6 1014.3 1002.5 1019.5 1021.\n",
            " 1008.2 1015.2 1009.  1010.1 1031.6 1022.6 1009.7 1008.5 1014.2 1005.9\n",
            " 1015.7 1024.2 1006.6 1016.7 1011.9 1018.4 1020.8 1014.5 1015.9 1006.8\n",
            " 1019.8 1019.4 1010.5 1006.2 1013.8 1013.4 1026.5 1011.1 1015.3 1017.\n",
            " 1010.4 1008.1 1009.6 1012.4 1004.1 1030.  1017.8 1025.7 1000.2 1008.4\n",
            " 1007.8 1029.6 1011.7 1018.1 1007.5 1029.7 1024.7 1017.7 1024.8 1018.6\n",
            " 1016.1 1008.9 1010.9 1006.3 1005.6 1000.5 1010.3 1003.8 1004.7 1016.6\n",
            " 1012.3 1025.4 1007.6 1020.4 1028.8 1014.4 1021.5 1023.2 1002.9 1017.9\n",
            " 1021.9 1020.3 1014.6 1004.2 1020.  1007.2 1009.4 1017.3 1019.6 1028.\n",
            " 1009.9 1016.4 1015.8 1021.6 1011.5 1025.6 1016.8 1002.6 1023.4 1013.3\n",
            " 1019.1 1003.1 1009.5 1008.3 1014.  1022.8 1022.5 1025.5 1025.3 1003.4\n",
            " 1023.7  991.7 1012.5 1024.1  991.  1020.6 1027.1 1011.   997.  1011.3\n",
            " 1002.7 1014.9 1007.9 1018.2 1033.1 1005.5 1033.9 1020.1 1019.7 1015.5\n",
            " 1007.1 1024.  1004.6 1011.8 1007.  1013.9 1030.4 1019.9 1006.9 1005.2\n",
            " 1023.  1005.  1001.9 1014.7 1013.5 1012.9 1001.7 1018.3  998.  1001.3\n",
            " 1025.8 1004.9 1007.4 1025.1 1012.   998.8 1020.7 1018.9 1027.7 1023.5\n",
            "  990.8 1021.8 1021.2 1023.9 1001.2 1022.2 1022.1 1023.3 1009.1 1000.3\n",
            " 1000.8 1003.6 1017.2 1002.2 1037.4 1017.1 1006.5 1003.  1029.  1021.1\n",
            " 1027.9 1012.6 1015.4 1009.2 1022.4 1008.  1034.  1004.  1022.  1024.4\n",
            " 1026.  1000.6 1003.3 1019.3 1028.2 1016.9 1017.4 1006.1 1036.9 1023.8\n",
            " 1007.3 1035.  1030.7 1000.   998.4 1001.4 1031.8 1030.9 1024.3 1010.6\n",
            " 1001.5  996.7 1026.4 1026.2 1009.8 1011.2 1031.2  996.8 1023.1 1004.5\n",
            "  998.7 1024.5 1010.   987.  1033.5 1020.2  996.5 1004.3 1030.2 1002.1\n",
            " 1031.3 1027.2 1005.8 1000.1 1021.3 1028.6 1015.6 1006.   996.9  999.3\n",
            " 1028.9  994.4  992.5 1027.4 1026.3 1016.3 1011.4 1032.1 1028.1  998.9\n",
            " 1002.  1027.   991.1 1004.8 1031.  1000.7 1024.6 1008.7 1029.2 1022.3\n",
            "  994.8 1031.4 1004.4 1028.3 1028.5  992.1 1001.   999.4 1034.2  997.3\n",
            " 1026.9 1003.9 1002.4 1030.6 1002.3  993.6 1028.7  998.6 1003.5 1026.6\n",
            " 1026.7  999.1 1021.4  996.4 1037.9  992.7 1003.7  994.2  992.9 1001.6\n",
            " 1032.  1025.   993.  1036.3 1026.1 1005.7 1034.7 1005.4 1030.1 1006.4\n",
            " 1032.9  998.1  999.5 1030.5 1002.8  997.1 1029.4  995.9 1032.4 1005.3\n",
            " 1001.8 1027.8 1027.6  999.8  995.7 1031.5 1023.6 1031.7  992.8 1033.8\n",
            " 1029.8 1035.4 1036.6 1029.9  990.3 1000.9  995.2 1033.6  995.   989.4\n",
            "  987.4 1024.9 1030.3 1037.8  999.7  997.2  987.1  997.7 1001.1  993.8\n",
            " 1026.8 1029.3 1028.4  999.6 1036.5  982.2  999.9 1032.7 1031.9 1029.1\n",
            "  988.8 1025.9  994.9  993.3 1036.1  995.5  996.   988.5  988.1  998.3\n",
            " 1037.   997.9  994.5  993.7  984.6 1030.8  986.7  997.6  997.5  994.7\n",
            "  993.1  998.2 1032.5 1038.2  994.6  995.1 1000.4  989.7 1027.3  996.3\n",
            "  993.5  992.2  999.  1035.1  996.6  995.4  980.5  992.4 1039.5  993.4\n",
            " 1035.7  996.1 1033.2  999.2 1033.3 1032.6  991.2 1033.7  989.3 1035.8\n",
            "  991.3 1032.2  998.5  997.4  988.9  994.3 1033.   993.2 1035.2  989.5\n",
            "  991.8 1032.8  988.   990.5  995.3 1032.3  982.9 1034.3  993.9  992.3\n",
            "  991.5  982.   983.7  996.2  988.3  986.9  986.6 1034.1  989.8  989.9\n",
            " 1035.9  995.6  989.  1036.8  983.9 1038.1  990.9  989.2  991.6 1035.3\n",
            "  991.9 1035.6  985.   991.4 1033.4  988.2  992.6 1037.1  990.6 1034.8\n",
            " 1039.4  986.2  987.3  994.  1035.5 1037.3 1034.6 1034.9 1039.1 1037.5\n",
            " 1036.7 1034.4 1037.2 1038.8 1036.4 1036.2 1034.5 1036.  1038.  1039.2\n",
            " 1037.6 1037.7 1038.9  994.1  987.2 1038.6 1038.7 1038.4 1040.2 1039.\n",
            " 1040.1 1040.4 1038.3 1040.6 1039.3  992.   990.2 1038.5  989.1 1039.7\n",
            "  985.8 1040.9 1040.3 1040.5 1040.  1041.   986.3]\n",
            "Tekanan3pm [1005.5   1027.9   1010.9   1010.8   1017.4    996.2   1005.9   1015.5\n",
            " 1014.1   1019.2   1005.6   1008.9    999.8   1013.9   1016.7   1015.7\n",
            " 1012.4   1007.7   1013.    1012.5   1030.3   1020.7   1009.9   1018.7\n",
            " 1020.    1020.4   1024.4    989.9   1004.2   1013.5   1000.2   1007.2\n",
            " 1017.2   1017.9   1011.8   1016.1   1009.1   1012.8   1008.2   1012.3\n",
            " 1014.2   1007.8   1004.6   1009.5   1007.9    998.8   1015.6   1019.5\n",
            " 1018.4   1009.    1006.6   1011.7   1030.6   1018.    1005.8   1001.4\n",
            " 1006.2   1004.3   1010.3   1007.    1022.2   1003.2   1016.4   1010.7\n",
            " 1012.7   1016.3   1004.9   1018.6   1017.     996.1   1021.8   1011.5\n",
            " 1006.4   1002.8   1026.2   1006.5   1011.4   1015.    1014.9   1006.9\n",
            " 1002.1   1010.6   1023.8   1014.3   1023.5   1017.1   1005.    1004.7\n",
            " 1014.    1027.6   1010.4   1011.9   1018.5   1008.    1029.1   1022.1\n",
            " 1017.6   1016.8   1024.3   1008.4   1009.8   1011.3   1011.2   1029.4\n",
            " 1002.9    999.4   1006.    1009.7   1018.9   1015.4   1010.5   1008.6\n",
            " 1019.6   1026.7   1019.7   1020.6   1000.    1007.1   1013.1   1022.3\n",
            " 1020.8   1019.9   1005.1   1014.4   1025.2   1015.8   1005.7   1015.2\n",
            " 1006.1   1006.3   1024.6    999.7   1010.2   1016.5    997.4   1022.5\n",
            " 1019.3   1020.5   1007.4   1023.7   1024.2   1002.5   1022.7   1017.5\n",
            " 1008.1    997.    1009.6   1023.     993.6    995.4   1009.3   1015.3\n",
            " 1009.2   1012.6   1004.5   1031.4   1007.5   1011.    1015.1   1016.2\n",
            " 1028.5   1017.3   1012.    1010.     998.7   1007.3   1013.8   1006.7\n",
            " 1024.    1004.4    998.4   1005.4   1028.2   1014.5   1010.1   1003.7\n",
            " 1009.4   1005.2   1003.5   1014.6   1008.5   1012.2    999.1   1013.3\n",
            " 1008.7   1013.7   1018.1   1002.3    998.1   1024.7   1008.3   1000.5\n",
            " 1003.4   1020.9   1007.6    998.9   1014.7   1017.7   1026.8    987.8\n",
            " 1021.7   1016.9   1023.4   1001.1   1021.3   1018.2   1027.5   1015.9\n",
            " 1019.4   1002.6    995.8   1014.8    999.9   1011.1   1002.    1004.\n",
            " 1026.3   1036.4   1005.3   1006.8   1026.5   1023.3   1025.5   1019.1\n",
            " 1011.6   1027.2   1001.7   1021.1   1003.8   1030.7   1002.7   1021.6\n",
            " 1020.3   1023.9   1003.9   1000.6    991.5   1013.6   1012.1   1027.4\n",
            " 1035.9   1020.1   1018.3   1031.8   1016.     991.8   1001.2   1025.9\n",
            "  999.5   1002.4   1025.8   1028.7   1012.9   1028.8    998.3   1013.4\n",
            " 1022.6   1000.1   1022.9   1031.7    996.4   1018.8   1025.4   1021.4\n",
            " 1022.8   1021.2   1024.9   1001.5    987.    1021.     994.4   1002.2\n",
            " 1001.3   1029.    1001.9   1023.6   1001.    1019.8   1003.6   1003.3\n",
            " 1028.    1022.     993.2   1019.    1027.     996.3    997.1   1025.\n",
            "  996.7   1028.3   1030.8   1029.8   1021.5    999.3   1029.2   1017.8\n",
            " 1020.2   1028.1    992.    1016.6   1030.1   1026.4   1013.2   1033.6\n",
            " 1004.8    993.5    995.9   1024.8   1003.     987.1    997.8   1000.3\n",
            " 1031.    1001.6   1029.7   1008.8   1004.1   1024.1   1000.7    991.2\n",
            "  999.6   1024.5    995.5   1029.9   1001.8    991.6   1036.3    990.9\n",
            " 1028.6    990.6   1027.8   1030.     998.2    988.8    994.9   1034.1\n",
            " 1023.1   1033.9   1021.9    994.8   1027.1   1030.9    997.5   1029.3\n",
            " 1025.6    992.5    994.7   1030.4   1027.7   1026.    1025.1    999.2\n",
            "  994.5    995.3   1026.9    996.     995.7   1000.9   1003.1    993.1\n",
            "  994.     997.3   1034.2    997.7    996.9    986.1    998.    1028.9\n",
            " 1032.8   1022.4   1026.1   1026.6    993.9   1029.6    995.1    997.2\n",
            "  997.6    999.     994.1   1027.3    998.6    984.2    995.6    994.3\n",
            " 1025.7   1023.2   1033.2    996.5    991.4   1033.4    989.3   1028.4\n",
            "  994.2    995.     990.5   1033.7    991.7    986.2    982.2   1035.7\n",
            "  992.2   1000.4   1025.3    990.     993.7   1000.8    985.6    996.6\n",
            "  998.5    993.3    987.7    985.5   1031.5   1036.9   1034.4   1031.2\n",
            "  990.4    988.2    992.8   1030.2    997.9   1032.2    993.8   1033.5\n",
            "  987.3    992.4    979.    1030.5    990.1    995.2   1029.5    987.4\n",
            " 1032.5   1032.6   1032.4    992.7   1032.3   1033.8    991.3    988.4\n",
            "  986.5    994.6    992.6    985.     988.7    989.6    993.     992.9\n",
            "  984.     989.2   1034.7    986.     996.8   1031.1    981.2   1032.9\n",
            " 1033.     989.1    993.4    986.4   1032.1    988.3    982.6    981.9\n",
            "  981.4    982.9    991.1    989.4    988.    1035.     990.8   1035.8\n",
            " 1032.    1034.5    990.7    988.5    984.4    989.8   1032.7    978.2\n",
            " 1035.1    991.9    989.5    990.2    980.2    988.6   1031.6    989.\n",
            "  990.3   1035.3    985.8   1034.     991.    1036.     992.1    987.6\n",
            "  992.3   1031.9    988.9   1035.6    985.2    986.8   1031.3   1034.8\n",
            " 1035.2   1033.1   1035.5   1033.3   1037.    1037.2   1036.6   1037.3\n",
            " 1035.4    985.3   1034.3   1036.8   1034.9    989.7   1037.5   1036.2\n",
            "  983.2   1036.5   1036.1   1037.9   1038.    1034.6   1036.7   1016.777\n",
            "  987.2   1037.1   1037.8   1026.66  1037.7   1038.2   1009.555 1039.6\n",
            " 1038.5   1038.9  ]\n",
            "Awan9am [6. 4. 3. 8. 7. 5. 1. 2. 0. 9.]\n",
            "Awan3pm [6. 5. 4. 7. 8. 2. 1. 3. 0. 9.]\n",
            "Suhu9am [14.6  9.3 19.2 20.1 14.  25.9 26.3 15.3 25.  11.1 11.5 12.8 18.6 15.\n",
            " 20.5 12.7  9.5 13.1 28.3 29.4  9.2 14.5 14.3 26.5 14.9 19.9 16.5 15.1\n",
            " 15.8  8.1 11.7 17.  15.5 30.9 34.3 28.8 22.7 16.3  2.7 16.2 21.9 10.4\n",
            " 12.6 21.  29.3  8.8 15.6 19.6 16.7 25.3 23.8 26.4 27.4 19.7 15.4 26.7\n",
            "  7.4 22.2 22.4 12.1 13.2 11.  13.3 27.9 18.8  5.9 10.3 17.6 19.  29.1\n",
            "  9.6 26.  17.7 22.5 11.6 12.  27.   5.  13.5 23.2 13.7 20.4 15.9 26.6\n",
            " 27.6 12.9 23.1 20.8 22.9 21.6  5.8  7.1 10.2 24.3 21.1 22.8 17.8 10.8\n",
            "  4.9 12.5 13.8 11.9 22.3 14.2 23.9 33.5 10.9 20.2 24.8 10.7 11.3  7.8\n",
            " 15.7 25.2 19.1  8.5  9.4 26.1 17.2 24.4 10.6 24.2 18.  30.3  4.  13.\n",
            " 21.2  9.1 18.9 13.9 10.5 27.8 23.4 19.4 20.9  9.8 19.5 28.1 17.4 12.3\n",
            " 29.2 18.1 18.7 26.2  8.6  5.2 14.8 17.3 24.  29.  31.3 18.2 17.5 16.9\n",
            "  9.  31.8  5.7 12.2 16.6  7.6 28.9 18.3 19.3 22.1  7.5  6.3 21.5 14.1\n",
            "  5.3 20.3 14.7  8.4 23.5 11.8 33.1 25.5 16.8  7.9  5.5 18.5 21.8 10.\n",
            " 23.6 16.1 24.1 28.4  4.7 26.9  6.6  7.7 21.3 20.6  8.7 23.   7.  25.1\n",
            " 28.6 16.4  1.8  6.7 22.  29.5 31.5 24.9 13.6 17.1 10.1  9.7 21.7 23.7\n",
            " 32.3 18.4 20.  22.6 11.2  7.2 15.2 24.5  2.4  8.9 27.5 25.6  7.3 31.2\n",
            " 14.4  3.3 25.7 24.6 19.8 30.2 20.7  6.9 17.9  8.3 13.4 31.  28.5 21.4\n",
            " 32.4 11.4  4.8  4.6 27.1  3.8  3.9  6.  26.8  6.2 30.   8.  24.7 27.7\n",
            "  6.5  1.9 23.3 16.   2.   5.1 25.4  2.8 12.4 32.8 30.7 28.  25.8  4.4\n",
            "  8.2  0.6  3.7 28.7  1.4 27.3  3.5  9.9 29.9 27.2  5.6  5.4 29.8  6.8\n",
            "  3.1 30.4 30.1 30.6 31.4  4.5 -0.8 30.8 32.6 29.7  6.1 29.6 30.5 31.1\n",
            " -0.4  3.6 31.6  2.5  1.3  2.2 33.2 34.9  6.4 32.  28.2  0.1  4.3 31.9\n",
            "  2.9  3.2 34.   4.2  3.4 -0.2 35.1  2.6 36.  -1.3 33.4  2.3  3.   4.1\n",
            "  1.7 32.1 34.5 32.9 33.  -0.5 33.7  0.5 34.8 36.3 32.7 -1.2  1.1  1.6\n",
            " 32.2 31.7  2.1 32.5  0.3 36.4  1.5 34.4 33.3  0.8 -0.7 33.6 -1.1 -0.1\n",
            " 35.3  1.2  0.2  0.7 -0.3  1.  34.2  0.  -1.6 39.  -1.  34.6 -1.4 -1.9\n",
            " -0.6 34.1  0.9  0.4 33.9 35.2 33.8 -1.7 35.7 -0.9 35.  -3.2 -1.8 -1.5\n",
            " 35.5 -2.3 -3.7 -3.6 34.7 36.5 -2.6 35.8 -2.  -2.4 -2.2 35.4 37.2 36.2\n",
            " -2.8 35.9 -2.7 36.8 -2.5 -2.1 -3.3 37.4]\n",
            "Suhu3pm [24.3 12.7 20.9 18.5 13.6 21.1 31.7 21.2 28.4 15.5 11.  12.5 18.2 19.9\n",
            " 17.4 29.4 18.1 14.5 14.6 26.2 28.9 21.  36.1 17.5 16.  16.6 28.8 15.\n",
            " 20.4 17.3 14.9 11.1 13.  22.4 23.7 33.7 25.2 35.3 22.7 19.3 20.2 21.6\n",
            " 23.6 13.1 16.5 32.  15.3 18.4 15.9 23.  28.6 26.5 26.4 29.7 35.8 18.9\n",
            " 24.1 14.  11.7 27.9 12.4 22.3 21.5 28.7 10.2 12.2 30.9 20.5  8.6 11.4\n",
            " 20.7 17.6 24.5 13.5 19.  26.8  9.6 17.2 22.6 11.8 12.6 22.  27.  13.2\n",
            " 27.4 13.9 22.1 34.5 26.3 33.6 18.6 23.1  8.  27.3 28.2 17.8 18.7 16.1\n",
            " 19.7 17.7 19.1 15.6 12.  19.6 14.8 13.3 24.7 40.  11.3 10.5 16.9 11.9\n",
            "  7.6 14.2 13.7 24.  20.6 30.7 19.5 25.3 13.4 16.7 23.9 29.8 16.4 32.7\n",
            "  9.5 15.2 21.4 10.4 21.3 29.  20.8 14.3 16.8 30.4 15.4 10.9 27.7 17.\n",
            " 19.2 30.8 29.2 20.1 22.2 31.3 23.3 29.9  9.7 24.8 14.1 17.9 32.3 11.6\n",
            " 27.5 25.9 25.1 36.  15.1 16.2 13.8  6.9  9.4 18.8 26.6 12.8 25.8 28.1\n",
            " 21.7 16.3 26.  19.8 24.6 25.5 20.3  9.1 19.4 24.2 39.9 23.8 11.5 20.\n",
            " 29.1 25.  10.8  6.4 28.5  9.  22.9 10.6 29.5 22.8 23.5 27.1 15.8  9.3\n",
            " 18.  27.8 26.7 10.7 21.8 24.9 17.1 25.6  7.8 35.1 29.6 24.4  8.7 12.1\n",
            " 18.3  8.9 23.2 31.5 32.8 31.1 12.3 32.6  7.9 32.5 35.  23.4 26.1 22.5\n",
            " 15.7 14.7 30.3 31.  25.7 31.2 31.6 33.9 37.4 30.6 25.4 31.9 28.  27.2\n",
            " 34.1 14.4  4.8 33.8  9.9  5.4  8.2 30.2  8.8  6.1  8.1 33.  12.9 27.6\n",
            " 21.9 33.3 10.   8.4 11.2  6.5 10.1 28.3 30.1 31.4  7.5  3.4  5.  26.9\n",
            "  2.6  6.8 32.4 34.8 30.5 38.9 29.3 36.4 10.3 33.4 38.7 32.1  8.5  7.7\n",
            "  7.2 34.   4.  37.3  0.2 38.4  7.4 38.8 30.  31.8 39.3  7.3  0.6  5.6\n",
            " 40.6 33.2 35.4  4.9 32.2 35.7  9.8  4.5 33.1  3.8 36.8 37.7  6.3  6.7\n",
            " 36.9  9.2 35.5 33.5  8.3 39.1 32.9  5.3 35.2  5.9  2.3  7.1  5.8 34.3\n",
            "  6.2  3.  -0.3  2.4  6.6 38.2 36.2 39.5  3.7  2.9 40.2 35.9 38.1  5.1\n",
            " 37.5  4.2  3.6 34.9 39.7  3.5  4.1  3.2  5.2 34.7  7.   0.3 37.   1.\n",
            "  6.   1.7 37.1  0.9 38.5 37.2 40.5  5.7  5.5 34.6 34.2 37.8  1.2 37.9\n",
            " -0.1 40.8  1.4 39.2  0.5 36.6 39.   0.8  4.3  2.  34.4 36.3 38.   0.\n",
            " 37.6  4.6 36.5  2.8 35.6  2.2 39.4  1.3 40.3  0.7  2.5  1.8 36.7 38.3\n",
            " 41.3  0.1  4.4 38.6  4.7  1.6  3.9  2.1  3.3 40.7 41.2 40.9 41.  42.1\n",
            " 39.6  2.7 39.8 40.4  3.1 41.4 40.1 42.3 41.1 41.9 41.5 41.8 -0.5 -0.4\n",
            " -0.6  1.9  0.4 41.7  1.1  1.5 41.6 -0.8]\n",
            "BersaljuHariIni [0 1]\n",
            "Class [1 0]\n"
          ],
          "name": "stdout"
        }
      ]
    },
    {
      "cell_type": "markdown",
      "metadata": {
        "id": "94SR534aetxl"
      },
      "source": [
        "## Pre Processing Data Test"
      ]
    },
    {
      "cell_type": "code",
      "metadata": {
        "id": "meWwteTjrFCm",
        "colab": {
          "base_uri": "https://localhost:8080/"
        },
        "outputId": "3c7f56c8-69bc-48b4-bf54-c527287bf482"
      },
      "source": [
        "test_0 = salju_test[salju_test['Class'] == 'No']\n",
        "test_1 = salju_test[salju_test['Class'] == 'Yes']\n",
        "\n",
        "print(\"Class 0 :\", test_0.shape)\n",
        "print(\"Class 1 :\", test_1.shape)"
      ],
      "execution_count": 245,
      "outputs": [
        {
          "output_type": "stream",
          "text": [
            "Class 0 : (13824, 23)\n",
            "Class 1 : (3939, 23)\n"
          ],
          "name": "stdout"
        }
      ]
    },
    {
      "cell_type": "code",
      "metadata": {
        "colab": {
          "base_uri": "https://localhost:8080/"
        },
        "id": "xM52w5eDgQsJ",
        "outputId": "c7c1d193-1c35-4ee7-aa96-29718dccf6a9"
      },
      "source": [
        "# Oversampling Data\n",
        "test_count_0, test_count_1 = salju_test['Class'].value_counts()\n",
        "test_1_over = test_1.sample(test_count_0, replace = True)\n",
        "\n",
        "salju_test_sampling = pd.concat([test_1_over, test_0], axis=0)\n",
        "\n",
        "print(\"Total Class 1 and 0 :\", salju_test_sampling['Class'].value_counts())"
      ],
      "execution_count": 246,
      "outputs": [
        {
          "output_type": "stream",
          "text": [
            "Total Class 1 and 0 : No     13824\n",
            "Yes    13824\n",
            "Name: Class, dtype: int64\n"
          ],
          "name": "stdout"
        }
      ]
    },
    {
      "cell_type": "code",
      "metadata": {
        "colab": {
          "base_uri": "https://localhost:8080/"
        },
        "id": "0zKX3rMugkiM",
        "outputId": "87dbe2e0-9f00-44f0-a42e-433b91c3c355"
      },
      "source": [
        "# Mengecek missing values\n",
        "salju_test_sampling.isnull().sum()"
      ],
      "execution_count": 247,
      "outputs": [
        {
          "output_type": "execute_result",
          "data": {
            "text/plain": [
              "Tanggal                         0\n",
              "KodeLokasi                      0\n",
              "SuhuMin                       121\n",
              "SuhuMax                        51\n",
              "Hujan                         356\n",
              "Penguapan                   11871\n",
              "SinarMatahari               13008\n",
              "ArahAnginTerkencang          1979\n",
              "KecepatanAnginTerkencang     1968\n",
              "ArahAngin9am                 1861\n",
              "ArahAngin3pm                  760\n",
              "KecepatanAngin9am             271\n",
              "KecepatanAngin3pm             523\n",
              "Kelembaban9am                 404\n",
              "Kelembaban3pm                 726\n",
              "Tekanan9am                   2638\n",
              "Tekanan3pm                   2630\n",
              "Awan9am                     10193\n",
              "Awan3pm                     10702\n",
              "Suhu9am                       223\n",
              "Suhu3pm                       554\n",
              "BersaljuHariIni               356\n",
              "Class                           0\n",
              "dtype: int64"
            ]
          },
          "metadata": {
            "tags": []
          },
          "execution_count": 247
        }
      ]
    },
    {
      "cell_type": "code",
      "metadata": {
        "id": "xx8CqIPahZ1e"
      },
      "source": [
        "# Mengatasi Missing Values\n",
        "salju_test_sampling.fillna(salju_test_sampling.median(), inplace=True)                # Nilai Numeric diisi dengan nilai median\n",
        "salju_test_sampling = salju_test_sampling.fillna(salju_test_sampling.mode().iloc[0]) # Nilai String diisi dengan nilai yang paling sering muncul pada atribut"
      ],
      "execution_count": 248,
      "outputs": []
    },
    {
      "cell_type": "code",
      "metadata": {
        "colab": {
          "base_uri": "https://localhost:8080/"
        },
        "id": "6OC5NB7Vhgrp",
        "outputId": "ee3829a8-e4b4-4403-be73-c401494d866f"
      },
      "source": [
        "salju_test_sampling.isnull().sum()"
      ],
      "execution_count": 249,
      "outputs": [
        {
          "output_type": "execute_result",
          "data": {
            "text/plain": [
              "Tanggal                     0\n",
              "KodeLokasi                  0\n",
              "SuhuMin                     0\n",
              "SuhuMax                     0\n",
              "Hujan                       0\n",
              "Penguapan                   0\n",
              "SinarMatahari               0\n",
              "ArahAnginTerkencang         0\n",
              "KecepatanAnginTerkencang    0\n",
              "ArahAngin9am                0\n",
              "ArahAngin3pm                0\n",
              "KecepatanAngin9am           0\n",
              "KecepatanAngin3pm           0\n",
              "Kelembaban9am               0\n",
              "Kelembaban3pm               0\n",
              "Tekanan9am                  0\n",
              "Tekanan3pm                  0\n",
              "Awan9am                     0\n",
              "Awan3pm                     0\n",
              "Suhu9am                     0\n",
              "Suhu3pm                     0\n",
              "BersaljuHariIni             0\n",
              "Class                       0\n",
              "dtype: int64"
            ]
          },
          "metadata": {
            "tags": []
          },
          "execution_count": 249
        }
      ]
    },
    {
      "cell_type": "code",
      "metadata": {
        "colab": {
          "base_uri": "https://localhost:8080/"
        },
        "id": "BwqoGd5bnEC1",
        "outputId": "9e3afbcd-9144-4e7b-9a75-22db17733018"
      },
      "source": [
        "# Mengecek type atribut\n",
        "print(salju_test_sampling.dtypes)"
      ],
      "execution_count": 250,
      "outputs": [
        {
          "output_type": "stream",
          "text": [
            "Tanggal                      object\n",
            "KodeLokasi                   object\n",
            "SuhuMin                     float64\n",
            "SuhuMax                     float64\n",
            "Hujan                       float64\n",
            "Penguapan                   float64\n",
            "SinarMatahari               float64\n",
            "ArahAnginTerkencang          object\n",
            "KecepatanAnginTerkencang    float64\n",
            "ArahAngin9am                 object\n",
            "ArahAngin3pm                 object\n",
            "KecepatanAngin9am           float64\n",
            "KecepatanAngin3pm           float64\n",
            "Kelembaban9am               float64\n",
            "Kelembaban3pm               float64\n",
            "Tekanan9am                  float64\n",
            "Tekanan3pm                  float64\n",
            "Awan9am                     float64\n",
            "Awan3pm                     float64\n",
            "Suhu9am                     float64\n",
            "Suhu3pm                     float64\n",
            "BersaljuHariIni              object\n",
            "Class                        object\n",
            "dtype: object\n"
          ],
          "name": "stdout"
        }
      ]
    },
    {
      "cell_type": "code",
      "metadata": {
        "id": "oGubEeCLgv2m"
      },
      "source": [
        "# Menentukan Fitur Categorical\n",
        "numerics = ['int8', 'int16', 'int32', 'int64', 'float16', 'float32', 'float64']\n",
        "categorical_columns = []\n",
        "features = salju_test_sampling.columns.values.tolist()\n",
        "for col in features:\n",
        "    if salju_test_sampling[col].dtype in numerics: continue\n",
        "    categorical_columns.append(col)\n",
        "\n",
        "# Encoding Fitur Categorical\n",
        "for col in categorical_columns:\n",
        "    if col in salju_test_sampling.columns:\n",
        "        enco = LabelEncoder()\n",
        "        enco.fit(list(salju_test_sampling[col].astype(str).values))\n",
        "        salju_test_sampling[col] = enco.transform(list(salju_test_sampling[col].astype(str).values))"
      ],
      "execution_count": 251,
      "outputs": []
    },
    {
      "cell_type": "code",
      "metadata": {
        "colab": {
          "base_uri": "https://localhost:8080/"
        },
        "id": "Ikab8873nFPh",
        "outputId": "177a7740-c33e-48b5-ee20-8b558b4159fc"
      },
      "source": [
        "# Mengecek type atribut\n",
        "print(salju_test_sampling.dtypes)"
      ],
      "execution_count": 252,
      "outputs": [
        {
          "output_type": "stream",
          "text": [
            "Tanggal                       int64\n",
            "KodeLokasi                    int64\n",
            "SuhuMin                     float64\n",
            "SuhuMax                     float64\n",
            "Hujan                       float64\n",
            "Penguapan                   float64\n",
            "SinarMatahari               float64\n",
            "ArahAnginTerkencang           int64\n",
            "KecepatanAnginTerkencang    float64\n",
            "ArahAngin9am                  int64\n",
            "ArahAngin3pm                  int64\n",
            "KecepatanAngin9am           float64\n",
            "KecepatanAngin3pm           float64\n",
            "Kelembaban9am               float64\n",
            "Kelembaban3pm               float64\n",
            "Tekanan9am                  float64\n",
            "Tekanan3pm                  float64\n",
            "Awan9am                     float64\n",
            "Awan3pm                     float64\n",
            "Suhu9am                     float64\n",
            "Suhu3pm                     float64\n",
            "BersaljuHariIni               int64\n",
            "Class                         int64\n",
            "dtype: object\n"
          ],
          "name": "stdout"
        }
      ]
    },
    {
      "cell_type": "code",
      "metadata": {
        "colab": {
          "base_uri": "https://localhost:8080/",
          "height": 217
        },
        "id": "Wq2OddywhKvI",
        "outputId": "47549538-adad-429b-ecd9-3a54da7d1b5a"
      },
      "source": [
        "salju_test_sampling.head()"
      ],
      "execution_count": 253,
      "outputs": [
        {
          "output_type": "execute_result",
          "data": {
            "text/html": [
              "<div>\n",
              "<style scoped>\n",
              "    .dataframe tbody tr th:only-of-type {\n",
              "        vertical-align: middle;\n",
              "    }\n",
              "\n",
              "    .dataframe tbody tr th {\n",
              "        vertical-align: top;\n",
              "    }\n",
              "\n",
              "    .dataframe thead th {\n",
              "        text-align: right;\n",
              "    }\n",
              "</style>\n",
              "<table border=\"1\" class=\"dataframe\">\n",
              "  <thead>\n",
              "    <tr style=\"text-align: right;\">\n",
              "      <th></th>\n",
              "      <th>Tanggal</th>\n",
              "      <th>KodeLokasi</th>\n",
              "      <th>SuhuMin</th>\n",
              "      <th>SuhuMax</th>\n",
              "      <th>Hujan</th>\n",
              "      <th>Penguapan</th>\n",
              "      <th>SinarMatahari</th>\n",
              "      <th>ArahAnginTerkencang</th>\n",
              "      <th>KecepatanAnginTerkencang</th>\n",
              "      <th>ArahAngin9am</th>\n",
              "      <th>ArahAngin3pm</th>\n",
              "      <th>KecepatanAngin9am</th>\n",
              "      <th>KecepatanAngin3pm</th>\n",
              "      <th>Kelembaban9am</th>\n",
              "      <th>Kelembaban3pm</th>\n",
              "      <th>Tekanan9am</th>\n",
              "      <th>Tekanan3pm</th>\n",
              "      <th>Awan9am</th>\n",
              "      <th>Awan3pm</th>\n",
              "      <th>Suhu9am</th>\n",
              "      <th>Suhu3pm</th>\n",
              "      <th>BersaljuHariIni</th>\n",
              "      <th>Class</th>\n",
              "    </tr>\n",
              "  </thead>\n",
              "  <tbody>\n",
              "    <tr>\n",
              "      <th>9232</th>\n",
              "      <td>506</td>\n",
              "      <td>48</td>\n",
              "      <td>23.5</td>\n",
              "      <td>32.7</td>\n",
              "      <td>0.0</td>\n",
              "      <td>8.0</td>\n",
              "      <td>10.7</td>\n",
              "      <td>9</td>\n",
              "      <td>37.0</td>\n",
              "      <td>2</td>\n",
              "      <td>9</td>\n",
              "      <td>22.0</td>\n",
              "      <td>30.0</td>\n",
              "      <td>52.0</td>\n",
              "      <td>48.0</td>\n",
              "      <td>1015.6</td>\n",
              "      <td>1011.3</td>\n",
              "      <td>3.0</td>\n",
              "      <td>1.0</td>\n",
              "      <td>29.6</td>\n",
              "      <td>30.3</td>\n",
              "      <td>0</td>\n",
              "      <td>1</td>\n",
              "    </tr>\n",
              "    <tr>\n",
              "      <th>10243</th>\n",
              "      <td>2317</td>\n",
              "      <td>33</td>\n",
              "      <td>12.9</td>\n",
              "      <td>16.7</td>\n",
              "      <td>0.0</td>\n",
              "      <td>4.4</td>\n",
              "      <td>0.4</td>\n",
              "      <td>4</td>\n",
              "      <td>54.0</td>\n",
              "      <td>4</td>\n",
              "      <td>5</td>\n",
              "      <td>17.0</td>\n",
              "      <td>24.0</td>\n",
              "      <td>42.0</td>\n",
              "      <td>56.0</td>\n",
              "      <td>1014.6</td>\n",
              "      <td>1010.2</td>\n",
              "      <td>6.0</td>\n",
              "      <td>6.0</td>\n",
              "      <td>14.9</td>\n",
              "      <td>13.9</td>\n",
              "      <td>0</td>\n",
              "      <td>1</td>\n",
              "    </tr>\n",
              "    <tr>\n",
              "      <th>10120</th>\n",
              "      <td>3094</td>\n",
              "      <td>13</td>\n",
              "      <td>22.9</td>\n",
              "      <td>30.5</td>\n",
              "      <td>0.0</td>\n",
              "      <td>4.4</td>\n",
              "      <td>6.9</td>\n",
              "      <td>13</td>\n",
              "      <td>41.0</td>\n",
              "      <td>6</td>\n",
              "      <td>9</td>\n",
              "      <td>9.0</td>\n",
              "      <td>9.0</td>\n",
              "      <td>75.0</td>\n",
              "      <td>79.0</td>\n",
              "      <td>1016.4</td>\n",
              "      <td>1014.1</td>\n",
              "      <td>7.0</td>\n",
              "      <td>8.0</td>\n",
              "      <td>27.5</td>\n",
              "      <td>25.0</td>\n",
              "      <td>0</td>\n",
              "      <td>1</td>\n",
              "    </tr>\n",
              "    <tr>\n",
              "      <th>17861</th>\n",
              "      <td>361</td>\n",
              "      <td>12</td>\n",
              "      <td>9.8</td>\n",
              "      <td>14.9</td>\n",
              "      <td>11.6</td>\n",
              "      <td>4.4</td>\n",
              "      <td>6.9</td>\n",
              "      <td>9</td>\n",
              "      <td>30.0</td>\n",
              "      <td>9</td>\n",
              "      <td>9</td>\n",
              "      <td>13.0</td>\n",
              "      <td>15.0</td>\n",
              "      <td>95.0</td>\n",
              "      <td>92.0</td>\n",
              "      <td>1015.2</td>\n",
              "      <td>1008.3</td>\n",
              "      <td>8.0</td>\n",
              "      <td>8.0</td>\n",
              "      <td>11.6</td>\n",
              "      <td>13.5</td>\n",
              "      <td>1</td>\n",
              "      <td>1</td>\n",
              "    </tr>\n",
              "    <tr>\n",
              "      <th>13347</th>\n",
              "      <td>2748</td>\n",
              "      <td>24</td>\n",
              "      <td>8.0</td>\n",
              "      <td>21.8</td>\n",
              "      <td>0.0</td>\n",
              "      <td>2.0</td>\n",
              "      <td>6.3</td>\n",
              "      <td>7</td>\n",
              "      <td>61.0</td>\n",
              "      <td>3</td>\n",
              "      <td>3</td>\n",
              "      <td>13.0</td>\n",
              "      <td>28.0</td>\n",
              "      <td>77.0</td>\n",
              "      <td>57.0</td>\n",
              "      <td>1013.1</td>\n",
              "      <td>1007.2</td>\n",
              "      <td>1.0</td>\n",
              "      <td>7.0</td>\n",
              "      <td>14.2</td>\n",
              "      <td>20.3</td>\n",
              "      <td>0</td>\n",
              "      <td>1</td>\n",
              "    </tr>\n",
              "  </tbody>\n",
              "</table>\n",
              "</div>"
            ],
            "text/plain": [
              "       Tanggal  KodeLokasi  SuhuMin  ...  Suhu3pm  BersaljuHariIni  Class\n",
              "9232       506          48     23.5  ...     30.3                0      1\n",
              "10243     2317          33     12.9  ...     13.9                0      1\n",
              "10120     3094          13     22.9  ...     25.0                0      1\n",
              "17861      361          12      9.8  ...     13.5                1      1\n",
              "13347     2748          24      8.0  ...     20.3                0      1\n",
              "\n",
              "[5 rows x 23 columns]"
            ]
          },
          "metadata": {
            "tags": []
          },
          "execution_count": 253
        }
      ]
    },
    {
      "cell_type": "code",
      "metadata": {
        "colab": {
          "base_uri": "https://localhost:8080/",
          "height": 284
        },
        "id": "93ccqHxlhlJF",
        "outputId": "b9b9313f-542a-46c4-bd9a-367931a4a6da"
      },
      "source": [
        "# Mengecek Outliers\n",
        "f,axes = plt.subplots(1,3)\n",
        "plt.figure(figsize=(20,10))\n",
        "salju_test_sampling['SuhuMin'].plot(kind='box',ax=axes[0])\n",
        "salju_test_sampling['SuhuMax'].plot(kind='box',ax=axes[1])\n",
        "salju_test_sampling['Class'].plot(kind='box',ax=axes[2])\n",
        "\n",
        "plt.show()"
      ],
      "execution_count": 254,
      "outputs": [
        {
          "output_type": "display_data",
          "data": {
            "image/png": "[encoded data removed]",
            "text/plain": [
              "<Figure size 432x288 with 3 Axes>"
            ]
          },
          "metadata": {
            "tags": [],
            "needs_background": "light"
          }
        },
        {
          "output_type": "display_data",
          "data": {
            "text/plain": [
              "<Figure size 1440x720 with 0 Axes>"
            ]
          },
          "metadata": {
            "tags": []
          }
        }
      ]
    },
    {
      "cell_type": "code",
      "metadata": {
        "colab": {
          "base_uri": "https://localhost:8080/"
        },
        "id": "RJQYipyvhunp",
        "outputId": "680b781a-1e80-4cce-a3b2-05f9b17c9659"
      },
      "source": [
        "#Metode IQR untuk SuhuMin\n",
        "Q1=salju_test_sampling['SuhuMin'].quantile(0.25)\n",
        "Q3=salju_test_sampling['SuhuMin'].quantile(0.75)\n",
        "IQR=Q3-Q1\n",
        "print(Q1)\n",
        "print(Q3)\n",
        "print(IQR)\n",
        "Lower_Whisker = Q1-1.5*IQR\n",
        "Upper_Whisker = Q3+1.5*IQR\n",
        "print(Lower_Whisker, Upper_Whisker)"
      ],
      "execution_count": 255,
      "outputs": [
        {
          "output_type": "stream",
          "text": [
            "8.1\n",
            "17.3\n",
            "9.200000000000001\n",
            "-5.700000000000001 31.1\n"
          ],
          "name": "stdout"
        }
      ]
    },
    {
      "cell_type": "code",
      "metadata": {
        "id": "hSilovYLhzL4"
      },
      "source": [
        "salju_test_sampling = salju_test_sampling[salju_test_sampling['SuhuMin']< Upper_Whisker]\n",
        "salju_test_sampling = salju_test_sampling[salju_test_sampling['SuhuMin']> Lower_Whisker]"
      ],
      "execution_count": 256,
      "outputs": []
    },
    {
      "cell_type": "code",
      "metadata": {
        "colab": {
          "base_uri": "https://localhost:8080/"
        },
        "id": "zbNNRF-wh6IM",
        "outputId": "4478ce4e-252c-4277-94dc-ba53e454b47a"
      },
      "source": [
        "#Metode IQR untuk SuhuMax\n",
        "Q1=salju_test_sampling['SuhuMax'].quantile(0.25)\n",
        "Q3=salju_test_sampling['SuhuMax'].quantile(0.75)\n",
        "IQR=Q3-Q1\n",
        "print(Q1)\n",
        "print(Q3)\n",
        "print(IQR)\n",
        "Lower_Whisker = Q1-1.5*IQR\n",
        "Upper_Whisker = Q3+1.5*IQR\n",
        "print(Lower_Whisker, Upper_Whisker)"
      ],
      "execution_count": 257,
      "outputs": [
        {
          "output_type": "stream",
          "text": [
            "17.3\n",
            "27.7\n",
            "10.399999999999999\n",
            "1.7000000000000028 43.3\n"
          ],
          "name": "stdout"
        }
      ]
    },
    {
      "cell_type": "code",
      "metadata": {
        "id": "qyT0PNGNiA6W"
      },
      "source": [
        "salju_test_sampling = salju_test_sampling[salju_test_sampling['SuhuMax']< Upper_Whisker]\n",
        "salju_test_sampling = salju_test_sampling[salju_test_sampling['SuhuMax']> Lower_Whisker]"
      ],
      "execution_count": 258,
      "outputs": []
    },
    {
      "cell_type": "code",
      "metadata": {
        "colab": {
          "base_uri": "https://localhost:8080/",
          "height": 282
        },
        "id": "9OTye7CPiFUO",
        "outputId": "0408da77-fdb5-47cf-8bcd-a7009253a8b3"
      },
      "source": [
        "# Mengecek Outliers setelah menggunakan metode IQR\n",
        "f,axes = plt.subplots(1,3)\n",
        "plt.figure(figsize=(20,10))\n",
        "salju_test_sampling['SuhuMin'].plot(kind='box',ax=axes[0])\n",
        "salju_test_sampling['SuhuMax'].plot(kind='box',ax=axes[1])\n",
        "salju_test_sampling['Class'].plot(kind='box',ax=axes[2])\n",
        "\n",
        "plt.show()"
      ],
      "execution_count": 259,
      "outputs": [
        {
          "output_type": "display_data",
          "data": {
            "image/png": "[encoded data removed]",
            "text/plain": [
              "<Figure size 432x288 with 3 Axes>"
            ]
          },
          "metadata": {
            "tags": [],
            "needs_background": "light"
          }
        },
        {
          "output_type": "display_data",
          "data": {
            "text/plain": [
              "<Figure size 1440x720 with 0 Axes>"
            ]
          },
          "metadata": {
            "tags": []
          }
        }
      ]
    },
    {
      "cell_type": "code",
      "metadata": {
        "colab": {
          "base_uri": "https://localhost:8080/"
        },
        "id": "zmvW8q2IiJy3",
        "outputId": "ff87b417-18e3-48e3-bd82-381f462b5995"
      },
      "source": [
        "# Mengecek Data Unique\n",
        "def check(data):\n",
        "  for col in data.columns:\n",
        "    print(col, data[col].unique())\n",
        "\n",
        "check(salju_test_sampling)"
      ],
      "execution_count": 260,
      "outputs": [
        {
          "output_type": "stream",
          "text": [
            "Tanggal [ 506 2317 3094 ...   62 1359  435]\n",
            "KodeLokasi [48 33 13 12 24 19 17 36 28 31 20 45  6  3 47  8 42 37 26 40 15  0 18 35\n",
            " 11 46 39 38 16 27 34  9  1  4 14 25 29  7 22  5 44 21 30 23 10 41 32  2\n",
            " 43]\n",
            "SuhuMin [23.5 12.9 22.9  9.8  8.  19.4  7.8 12.4  7.4 15.1 19.   8.1 26.5  5.2\n",
            " 24.1  7.3 11.9  5.7  4.8 11.4 12.3 10.5 18.   4.7  9.2  8.2  8.9 11.8\n",
            " 15.5 19.1 21.1 22.1 16.2 17.6  6.6 10.  15.8 12.1 23.7 24.7 12.7 16.7\n",
            "  9.7 12.5 17.1 16.3 11.6 10.2  4.9 14.6 10.4 25.3 20.5 11.5 17.9 13.4\n",
            " 20.3 23.1  6.1  7.  13.6 16.6  9.5 12.2 15.7 19.2 18.6  7.6 14.8  9.3\n",
            "  1.3 13.9 18.1 14.9 23.9 25.7 18.4 18.3 18.8 14.4 18.5 17.  11.7  4.1\n",
            "  9.6  4.2  7.5 10.7 16.  21.   9.1 19.5 -2.  14.1 16.8 13.5 12.  19.8\n",
            " 16.4  8.5 12.8  4.6  6.2 20.6 10.1  9.9 16.1 23.  20.1 15.9 22.7 14.5\n",
            " 22.4  5.9 18.2 17.4 23.6 -0.8 16.5  1.4 19.6  2.9  8.7  2.  17.2 24.5\n",
            "  1.5  8.3 21.4  8.4 14.2 11.   5.4 10.3 13.3  4.4 17.8 11.3 27.8 23.3\n",
            " 13.  18.7 28.6  6.8 20.9  2.2  7.9 20.7 13.7  5.8 21.7  5.5  0.   8.6\n",
            "  6.7 17.3 12.6 13.8 23.8 19.9 13.2 14.7  7.1 15.  10.9  2.5  8.8 19.7\n",
            " 10.6 21.5 20.4  1.9  0.8 18.9  4.  -1.3 11.1 14.3  3.9 21.9 -0.3 22.\n",
            " 24.3 21.6  7.7  2.7  7.2 16.9 26.1 -0.2 20.8 15.3  9.  24.9  6.   2.1\n",
            " 25.6 26.2  5.6 24.2  6.3  0.5 20.  24.8  6.5 25.5  9.4 25.  24.6 13.1\n",
            " 10.8 28.  14.  24.  22.2 20.2 26.7 11.2 15.6 19.3 21.8 22.5 26.4  1.1\n",
            "  1.6  4.5  6.9 25.4 24.4  5.1  1.8  5.3  3.8 25.9 25.1  3.7 17.5 15.2\n",
            "  5.  23.4 21.2  2.4 26.8 21.3 25.2  3.4 26.  22.6  0.1 23.2  2.6  3.5\n",
            "  3.2 28.1  6.4 27.   2.3 17.7 -3.8 -1.8  3.6 -0.5 22.8  4.3 -1.1 15.4\n",
            "  0.2 27.6  3.1  3.   2.8 27.4 -0.4  0.9  3.3 25.8 22.3 27.3 27.9 -1.9\n",
            " 26.6  0.4  1.7  0.6 -2.6 -2.8 -1.   1.2 -2.9 27.5 -2.3 -1.2 -1.5 -4.\n",
            " -2.5 -1.7 -3.4 30.7  0.7  1.  -2.1 -0.9 -0.1 -0.6 -4.3  0.3 27.2 -0.7\n",
            " -3.5 26.3 -1.6 -2.4 -1.4 -5.5 -3.9 -3.1 -4.7 28.2 -3.2 -3.3 29.6 -4.1\n",
            " -2.2 28.5 -3.6 -4.9 -5.7 27.7 -4.6 -3.  29.4 -4.5 29.7 26.9 -3.7 -4.2\n",
            " 29.3 -5.1 -4.4 28.3 -2.7 -4.8 28.8 28.4 29.  -5. ]\n",
            "SuhuMax [32.7 16.7 30.5 14.9 21.8 26.  19.4 14.2 11.2 19.6 27.  19.1 34.8 10.9\n",
            " 31.1 18.5 17.2 22.4 17.4 18.7 22.3 12.7 13.4 17.3 24.9 23.5 29.7 26.6\n",
            " 10.4 14.1 18.8 25.2 26.9 23.4 25.7 32.4 13.9 22.9 27.5 18.3 21.4 19.\n",
            " 18.4 22.6 23.  33.1 20.  16.2 30.3 27.3 14.  28.8 31.2 12.  22.  16.9\n",
            " 15.  37.2 24.2 32.  28.3  9.2 19.9 17.  30.4 15.4 23.8  7.2 24.3 19.3\n",
            " 33.3 34.9 25.5 31.  20.1 29.3 22.7 17.6 11.7 16.8 12.3 14.6 29.4 25.6\n",
            " 29.5 11.8  2.4 33.6 28.5 15.7 14.4 10.1 17.9 17.8 20.5 10.2 29.8 25.8\n",
            " 20.7 27.6 21.1 28.6 19.8 16.4 27.2 34.6 32.5 22.2 16.5 29.6  3.8 18.1\n",
            "  6.2 18.6 20.2 22.1 30.8 15.8 33.  34.1 15.2 19.2 21.7 15.3  8.8 15.6\n",
            " 12.8 13.6 23.2 13.1 37.3 11.4 36.  21.3 14.5 21.5 28.1 22.5 21.6 33.5\n",
            " 15.1 24.1 20.3 12.1 34.3 26.4 16.  14.3 32.6 24.8 27.4 21.2 25.3 20.9\n",
            " 15.5 15.9 16.6 27.8 12.4 14.8  2.5 31.9 18.9 17.1 17.7 26.3 21.  31.3\n",
            " 18.2  8.  18.  38.5 26.1 16.1 10.  22.8  4.7  4.5 23.6 12.5 20.8 28.\n",
            " 30.1  2.3 27.7 28.4 14.7 32.3 23.7  2.8 37.1 24.6 23.3 32.2 12.6 10.8\n",
            " 30.  31.7 20.4 26.5 31.4  5.7 17.5 13.8 11.1 31.8 25.9 21.9 24.4 29.1\n",
            " 24.5 26.8 29.  37.8 28.7 29.2 13.7 30.7 33.4 37.4 19.7 25.  19.5 34.7\n",
            " 20.6  6.8 11.9 37.9  4.  38.4 34.4 39.1 24.7 24.  37.7 36.5 31.6 11.6\n",
            " 27.9 37.5 16.3 31.5 29.9 10.7 32.1 30.9 38.9 40.4 12.9 13.3 33.9 10.3\n",
            " 35.7 40.8 26.7 33.7 32.8  9.3 23.9 13.2 28.2 30.6 25.1 11.  30.2 41.8\n",
            " 38.6 27.1 36.9 34.  13.5  9.5 11.5  9.  38.3 35.  25.4 28.9 12.2  9.6\n",
            " 41.9 35.4 41.5 37.  23.1  2.2 38.2 11.3 35.5  7.9  7.4 13.   9.8 35.1\n",
            "  9.4 36.3 32.9  8.6 39.3  4.3  9.1 38.7 35.6 36.6  6.1 33.8 36.7 35.2\n",
            " 40.1 26.2  7.7  2.7 35.8  3.  39.6 41.2 34.2 34.5  8.7 42.5 37.6 41.6\n",
            "  8.4 10.6 40.  10.5  6.7  5.2  4.4 33.2  9.7  2.6 36.2  4.8 35.3 39.8\n",
            "  3.9  3.4  5.3  9.9  8.1  3.6 42.6 36.4 42.1  6.6 35.9  8.9 36.1  8.5\n",
            " 40.2 41.4 38.  39.5 42.8 43.1 40.9 40.7 36.8 38.1  7.   6.9  5.8 43.\n",
            " 39.9 38.8 39.   3.3 39.2 39.7 41.3  7.6 42.7  4.9 40.6 42.2 40.3 40.5\n",
            " 41.1  3.7 41.7  4.1 39.4  8.2 41.  42.9  2.   7.5  2.9  7.8  7.3 43.2\n",
            "  1.9 42.3  7.1  3.2 42.  42.4  8.3]\n",
            "Hujan [0.000e+00 1.160e+01 4.400e+00 1.200e+00 2.800e+00 1.000e+00 1.100e+01\n",
            " 4.000e-01 3.420e+01 1.600e+00 1.040e+01 2.000e-01 1.200e+01 7.100e+01\n",
            " 3.000e+00 1.420e+01 6.000e-01 6.200e+00 4.040e+01 2.780e+01 1.620e+01\n",
            " 1.800e+00 3.600e+00 6.600e+00 3.100e+01 4.200e+00 3.800e+00 1.180e+01\n",
            " 9.600e+00 1.540e+01 5.200e+00 7.400e+00 6.000e+00 8.000e-01 1.220e+01\n",
            " 1.480e+01 8.400e+00 7.000e+00 3.620e+01 1.140e+01 2.540e+01 9.260e+01\n",
            " 3.200e+00 3.400e+00 7.620e+01 9.800e+00 2.200e+00 2.000e+00 7.260e+01\n",
            " 1.260e+01 5.800e+00 5.600e+00 9.000e+00 5.400e+00 5.240e+01 3.260e+01\n",
            " 1.020e+01 1.440e+01 1.000e+01 5.060e+01 1.500e+01 3.540e+01 1.900e+01\n",
            " 4.860e+01 4.100e+01 8.000e+00 7.800e+00 1.740e+01 2.600e+00 8.200e+00\n",
            " 4.420e+01 4.000e+00 1.960e+01 4.600e+00 9.200e+00 7.200e+00 2.680e+01\n",
            " 9.040e+01 1.700e+01 6.620e+01 1.280e+01 1.400e+00 4.660e+01 7.600e+00\n",
            " 1.980e+01 2.180e+01 1.070e+01 7.680e+01 2.400e+00 2.380e+01 5.000e+00\n",
            " 4.540e+01 1.680e+01 4.800e+00 1.880e+01 2.280e+01 6.400e+00 3.940e+01\n",
            " 2.720e+01 1.060e+01 9.400e+00 3.000e-01 8.800e+00 1.640e+01 3.280e+01\n",
            " 1.380e+01 3.160e+01 3.120e+01 8.600e+00 3.980e+01 2.560e+01 4.840e+01\n",
            " 2.300e+01 1.320e+01 8.360e+01 1.840e+01 1.400e+01 6.800e+00 2.620e+01\n",
            " 2.880e+01 2.120e+01 5.580e+01 2.260e+01 5.120e+01 1.800e+01 3.020e+01\n",
            " 2.520e+01 1.090e+02 2.640e+01 4.060e+01 2.320e+01 2.800e+01 3.660e+01\n",
            " 4.340e+01 1.138e+02 1.780e+01 4.180e+01 4.300e+01 1.900e+00 1.920e+01\n",
            " 1.300e+01 2.940e+01 1.120e+01 8.900e+01 1.080e+01 2.420e+01 2.080e+01\n",
            " 4.880e+01 3.740e+01 3.820e+01 2.060e+01 3.080e+01 1.560e+01 2.580e+01\n",
            " 1.034e+02 2.760e+01 2.020e+01 2.100e+01 4.080e+01 6.420e+01 3.400e+01\n",
            " 7.860e+01 3.440e+01 1.216e+02 6.160e+01 3.520e+01 3.300e+01 3.380e+01\n",
            " 2.960e+01 3.340e+01 2.160e+01 5.960e+01 1.822e+02 1.846e+02 1.820e+01\n",
            " 1.442e+02 1.340e+01 2.840e+01 2.600e+01 1.360e+01 1.520e+01 1.720e+01\n",
            " 2.040e+01 2.200e+01 3.700e+01 1.000e-01 5.800e+01 2.400e+01 1.154e+02\n",
            " 3.860e+01 4.960e+01 1.760e+01 3.640e+01 2.980e+01 1.860e+01 1.240e+01\n",
            " 6.340e+01 3.180e+01 2.360e+01 6.020e+01 3.220e+01 2.440e+01 2.140e+01\n",
            " 4.380e+01 5.440e+01 3.500e+01 7.900e+00 6.140e+01 2.340e+01 2.700e+01\n",
            " 4.620e+01 4.440e+01 3.300e+00 2.368e+02 2.220e+01 1.660e+01 7.160e+01\n",
            " 7.400e+01 7.960e+01 5.500e+01 1.580e+01 6.400e+01 5.880e+01 5.140e+01\n",
            " 3.900e+01 3.880e+01 6.700e+01 2.480e+01 2.000e+01 3.920e+01 1.152e+02\n",
            " 6.280e+01 3.460e+01 7.060e+01 3.320e+01 4.640e+01 2.740e+01 5.560e+01\n",
            " 4.320e+01 5.780e+01 6.200e+01 4.980e+01 8.060e+01 8.380e+01 5.600e+01\n",
            " 8.400e+01 6.460e+01 2.860e+01 6.380e+01 3.680e+01 3.600e+01 3.760e+01\n",
            " 4.800e+01 2.660e+01 2.472e+02 1.460e+01 4.820e+01 3.360e+01 4.240e+01\n",
            " 6.440e+01 5.620e+01 5.100e+01 2.500e+01 1.500e+00 1.940e+01 1.600e+01\n",
            " 8.640e+01 4.600e+01 7.100e+00 6.060e+01 4.940e+01 4.460e+01 4.700e+01\n",
            " 2.900e+01 6.600e+01 3.580e+01 3.560e+01 1.300e+00 5.740e+01 4.920e+01\n",
            " 4.900e+01 6.100e+01 3.140e+01 8.800e+01 5.000e-01 4.760e+01 7.080e+01\n",
            " 8.240e+01 7.500e+01 4.200e+01 1.590e+01 3.960e+01 4.900e+00 4.740e+01\n",
            " 4.700e+00 5.320e+01 6.500e+00 4.120e+01 7.000e-01 3.200e+01 6.900e+00\n",
            " 9.320e+01 2.460e+01 2.240e+01 3.040e+01 2.300e+00 5.420e+01 2.900e+00\n",
            " 7.420e+01 6.300e+00 5.160e+01 4.020e+01 6.520e+01 3.720e+01 3.900e+00\n",
            " 2.100e+00 4.500e+00 1.180e+02 1.110e+02 4.220e+01 1.700e+00 1.050e+02\n",
            " 5.300e+01 6.000e+01 2.820e+01 4.000e+01 2.920e+01 1.100e+00 4.140e+01\n",
            " 1.834e+02 7.520e+01 8.180e+01 6.780e+01]\n",
            "Penguapan [ 8.   4.4  2.  11.   1.8  1.   9.4  4.6  7.6  4.8  3.6  6.   3.2  2.8\n",
            "  3.   3.1  0.8  5.4  0.4  5.6  6.6  6.4  8.8 11.8  6.2  9.8  9.2  2.2\n",
            " 14.8  4.2  6.5 10.6  4.   5.2  3.4 15.2  1.4  1.2  8.2  5.8  8.4  0.2\n",
            " 14.6  7.4  7.8  2.3  1.6  2.4  5.   8.6 10.2  3.8  2.6  9.6  9.   7.\n",
            " 10.9  0.6 10.   6.8  7.2 13.  10.8 14.2 11.4 19.2 11.2 17.  14.4 15.4\n",
            " 12.  14.  13.8  0.   3.3  7.7 15.6 20.6 12.2 10.1 36.6 12.6 27.2 30.4\n",
            "  3.5 10.4  2.7 11.6  2.1 12.8 22.4 16.  12.4  6.7 13.4 13.6 18.6  1.9\n",
            " 17.6 36.8  3.7 28.6 35.8  8.5  4.3  5.7 23.6 10.5  2.9  5.1 21.   1.1\n",
            "  5.3 26.  15.   8.7 15.8 13.2 16.2 16.6 14.5 35.4 33.6  2.5 52.4  1.3\n",
            "  7.5 32.  24.   4.1  1.7 18.8 19.  17.4 21.6 16.4 14.7 20.8 24.6 18.4\n",
            " 11.9 30.8 18.  20.  28.   4.7 19.8 27.8 56.   0.3 25.4 19.6 36.   7.9\n",
            " 32.2 40.4 54.  23.   1.5 22.6  6.3 24.2 25.  16.8 19.1 68.8  0.9 12.1\n",
            " 35.   9.3  7.1  4.9 22.1 23.2 21.2 22.   6.9  0.7 34.2 21.4 32.8  5.9\n",
            " 19.7  5.5  8.3 17.8 20.2  0.1 18.2 17.2 22.2 13.3 20.4 39.2 42.8 44.4\n",
            " 22.8 13.1 29.8 23.3 25.6 64.   6.1 37.6 34.  34.5  3.9 38.4 11.1 31.\n",
            " 59.8 13.9 46.6 37.4  0.5 41.2 11.7 23.4]\n",
            "SinarMatahari [10.7  0.4  6.9  6.3  2.4  4.2  5.   7.4  8.1  7.6  3.8  7.2 10.1  7.1\n",
            "  3.2  1.8  7.7  2.9  6.2  4.5  0.   8.9  6.5  5.7  2.5  0.3  0.7  2.2\n",
            "  0.2  6.7  1.   2.1  4.8  8.2  5.9  0.5  9.8  1.4  7.3 11.2  9.6  1.7\n",
            "  3.9  9.   5.3  4.6  6.6  3.4  0.1  8.6  3.6  5.4  1.1  6.  10.9  3.1\n",
            "  4.1  7.   4.7  2.8  1.9  0.9 10.5  9.1 12.6  4.4  3.5  2.7  9.7  4.\n",
            "  0.6  9.5  0.8  5.6  1.3  9.9  9.3  3.   5.5  6.4 10.4 11.8  6.8 10.3\n",
            "  3.3 11.7  6.1  8.   1.6  2.6  5.2  7.5 12.4  5.8  1.2 11.3  7.8  9.4\n",
            "  2.3  1.5  3.7 10.8  4.3  5.1  8.4 12.2  2.  11.5  9.2  8.7  4.9 10.\n",
            " 11.   8.3  8.8 12.5  8.5 12.1 11.4 11.6 10.6 13.4  7.9 10.2 11.1 12.3\n",
            " 12.8 13.2 11.9 13.  12.  12.7 12.9 13.8 13.1 13.9 13.3 13.6 13.7 13.5\n",
            " 14.3 14.  14.5 14.1]\n",
            "ArahAnginTerkencang [ 9  4 13  7  5  1 12 10  0 14  3  8 15  6  2 11]\n",
            "KecepatanAnginTerkencang [ 37.  54.  41.  30.  61.  44.  24.  59.  52.  35.  63.  33.  48.  72.\n",
            "  39.  43.  46.  80.  56.  31.  50.  70.  57.  28.  89.  76.  81.  69.\n",
            "  19.  78.  26.  67.  65.  13.  22.  17.  93.  20.  74.  83.  91.  94.\n",
            "  98.  87.  11.  15. 100. 104. 109.  85.  96. 106.   9. 107.   7. 102.\n",
            " 115.   6. 122.]\n",
            "ArahAngin9am [ 2  4  6  9  3  7  1 13  8  5 14 11 12  0 10 15]\n",
            "ArahAngin3pm [ 9  5  3  1 11 13  6  7  8 15 14 12  4  2  0 10]\n",
            "KecepatanAngin9am [22. 17.  9. 13. 24. 15. 20. 11. 31.  7. 19.  0.  4.  6. 28. 33.  2. 61.\n",
            " 30. 26. 35. 39. 37. 46. 50. 43. 41. 44. 48. 63. 57. 54. 52. 65. 83. 56.\n",
            " 59.]\n",
            "KecepatanAngin3pm [30. 24.  9. 15. 28. 20. 26. 22. 37. 19. 13. 17.  7.  6. 31. 35. 11. 41.\n",
            " 44.  0.  2. 33. 56. 39. 50. 43.  4. 46. 48. 57. 52. 61. 59. 65. 83. 54.]\n",
            "Kelembaban9am [ 52.  42.  75.  95.  77.  74.  82.  94.  84.  70.  73.  99.  62.  92.\n",
            "  88.  55. 100.  69.  86.  91.  87.  50.  58.  83.  72.  85.  63.  64.\n",
            "  96.  79.  90.  54.  65.  89.  78.  68.  76.  93.  71.  53.  81.  40.\n",
            "  59.  66.  60.  56.  97.  67.  61.  98.  80.  37.  28.  36.  15.  51.\n",
            "  45.  27.  43.  49.  38.  57.  21.  31.  12.  24.  47.  48.  22.  33.\n",
            "  46.  32.  41.  20.  26.  44.  35.  39.  23.  13.  25.  17.  18.  16.\n",
            "   6.  14.  19.  11.  34.  30.   8.   9.  29.   4.  10.   5.   3.   7.\n",
            "   2.]\n",
            "Kelembaban3pm [ 48.  56.  79.  92.  57.  86.  61.  76.  64.  88.  72.  54.  82.  59.\n",
            "  24.  75.  78.  80.  52.  58.  96.  22.  30.  89.  70.  60.  47.  37.\n",
            "  87.  63.  45.  91.  62.  71.  83.  36.  67.  43.  23.  46.  99.  81.\n",
            "  66.  49.  84.  73.  68.  50.  69.  93.  55.  65.  42. 100.  40.  90.\n",
            "  18.  77.  41.  94.  98.  85.  53.  51.  25.  15.  27.  97.  34.  74.\n",
            "  95.  32.  31.  35.  33.  39.  19.  29.   5.  38.  44.   6.  28.  13.\n",
            "  16.  21.  26.  20.  17.  11.  12.  14.   4.   9.   7.  10.   8.   3.\n",
            "   2.   1.]\n",
            "Tekanan9am [1015.6 1014.6 1016.4 1015.2 1013.1 1008.1 1026.7 1019.2 1020.  1011.5\n",
            " 1020.4 1012.5 1020.3 1010.1 1032.  1016.8 1013.  1014.2 1012.3 1005.3\n",
            " 1010.9 1022.6 1016.1 1020.1 1013.7 1014.8 1013.8 1005.1 1016.2 1020.6\n",
            " 1031.4 1007.8 1017.6 1007.2 1006.4 1019.8 1019.4 1018.9 1008.3 1016.7\n",
            " 1012.2 1013.4 1022.9 1016.9 1023.8 1005.9  987.2 1010.2 1021.4 1003.7\n",
            " 1019.3 1014.3 1021.3 1010.  1009.5 1018.4 1009.2 1012.9 1021.1 1010.5\n",
            " 1008.4 1011.9 1009.4 1018.7 1017.7 1012.1 1009.3 1022.7 1019.6 1010.6\n",
            " 1014.1 1016.6 1018.5 1024.1 1023.3 1017.1 1011.8 1013.2 1018.3 1015.9\n",
            " 1014.5 1011.4 1013.6 1019.7 1007.7 1013.3 1006.9 1023.  1018.  1003.6\n",
            " 1029.8 1008.8 1012.6 1019.9 1006.7 1021.8 1009.1 1008.  1017.8 1004.1\n",
            " 1011.2 1011.1 1023.5 1005.  1013.5 1018.8 1017.4 1023.2 1017.2 1019.1\n",
            "  997.4 1008.7 1038.  1020.7 1008.5 1024.5 1001.5 1024.7 1026.  1012.8\n",
            " 1015.5 1004.  1025.4 1009.8 1016.3 1010.7 1019.  1013.9 1006.1 1004.2\n",
            " 1026.2 1020.5 1017.3 1003.2 1007.3 1017.5 1003.3 1023.4 1015.8 1020.2\n",
            " 1004.9 1005.2 1010.8  999.7 1006.5 1017.  1024.6 1015.1 1003.8 1012.7\n",
            " 1018.2 1014.4 1018.1 1030.5 1023.1  990.8 1025.  1007.5 1030.6 1027.9\n",
            " 1005.8 1005.5 1018.6 1002.2 1009.9 1017.9 1009.7 1010.4 1035.7 1006.6\n",
            " 1002.7 1002.  1027.7 1015.  1012.4 1027.   997.8 1021.7 1015.4 1015.3\n",
            " 1011.3 1001.8  998.5 1020.8 1019.5 1036.2 1004.3 1029.9 1022.1 1020.9\n",
            " 1025.8 1024.3 1002.4 1000.6 1001.2 1016.   991.3 1011.  1015.7 1007.4\n",
            " 1014.9 1014.  1008.9 1026.9 1008.2 1024.2  998.6 1022.8 1011.6 1030.9\n",
            " 1027.2 1026.6 1023.7 1016.5 1025.9  996.   999.8 1030.7 1014.7 1004.5\n",
            " 1023.6 1031.5 1001.7 1002.5  999.1 1025.6 1004.6 1005.7 1023.9 1007.6\n",
            " 1029.7 1027.5 1000.5 1007.  1033.5 1005.6 1008.6 1028.8 1003.5 1029.1\n",
            " 1021.5 1002.9 1010.3 1030.4  995.2 1025.5 1002.1 1021.2  995.6 1029.5\n",
            " 1026.3  995.5  993.3 1003.  1028.2 1009.  1006.8  994.7 1022.2 1028.5\n",
            " 1021.6 1003.9 1000.3 1024.9 1024.  1030.1 1021.  1000.7 1006.2 1009.6\n",
            " 1001.  1030.2 1022.3 1012.  1011.7 1026.1 1026.5 1029.   990.2 1028.6\n",
            "  985.9 1005.4  995.9 1021.9 1001.9 1032.7 1002.3 1026.8  991.9 1029.3\n",
            " 1024.4  989.4 1001.6  995.3 1025.7 1004.4  997.3 1000.9  998.9 1024.8\n",
            " 1004.7 1028.4 1006.  1025.1 1007.1 1028.7 1030.   992.1 1022.  1031.3\n",
            "  996.5 1004.8  994.3 1028.3  996.1 1026.4 1001.4 1030.8  994.6 1025.3\n",
            "  998.7 1007.9  999.4  999.2  997.1 1027.8 1027.4  997.2  992.  1002.6\n",
            " 1006.3  998.4 1027.3 1002.8 1027.1  998.8  995.   989.7  995.1 1030.3\n",
            " 1029.4 1034.   986.7  992.7 1036.8  996.8  996.3  999.   992.6  996.7\n",
            "  984.4  999.5 1022.5 1025.2 1001.3 1034.2 1032.1  987.3  998.3  997.5\n",
            "  994.9  992.3 1001.1  996.6  999.9 1000.1 1028.1 1031.7 1031.   992.8\n",
            "  999.3 1028.  1036.7  998.1 1022.4 1036.1 1028.9  991.1  989.6 1003.4\n",
            " 1031.1 1032.3 1003.1  994.1 1029.2  997.   985.1 1000.8  991.6  992.9\n",
            " 1000.  1031.6  991.8  997.9  995.8 1034.9 1032.6 1034.3 1037.  1034.8\n",
            " 1036.4 1033.9 1031.9 1029.6 1033.3 1033.1 1034.4 1032.9 1033.6 1032.8\n",
            " 1027.6 1032.2 1031.8 1033.2 1031.2 1034.7 1035.4 1039.9  996.4 1032.5\n",
            " 1035.  1033.8 1037.8 1035.1 1037.7  993.1 1035.8 1033.7 1033.4 1032.4\n",
            " 1037.9 1035.6 1037.1 1034.5  994.2 1037.4 1040.3 1037.6 1035.5 1035.2\n",
            " 1036.6 1037.5 1038.5  997.6 1036.5 1036.3 1039.2 1035.9 1034.1  996.9\n",
            "  993.7  999.6 1035.3 1033.   998.2 1039.  1040.6 1037.3 1034.6 1036.\n",
            "  988.9 1039.3  994.   995.4 1038.8  987.9 1037.2 1039.6 1036.9  989.8]\n",
            "Tekanan3pm [1011.3 1010.2 1014.1 1008.3 1007.2 1005.  1020.9 1016.6 1019.8 1019.2\n",
            " 1010.6 1018.8 1008.4 1016.1 1007.8 1014.8 1028.3 1015.  1009.2 1012.3\n",
            " 1013.3 1002.6 1011.7 1018.7 1016.7 1017.9 1010.5 1014.5 1004.7 1020.4\n",
            " 1029.3 1009.3 1014.2 1003.7 1016.4 1017.1 1015.9 1007.6 1018.4 1014.7\n",
            " 1019.5 1011.5 1020.7 1012.2 1009.7 1006.3 1012.4  984.5 1008.1 1015.1\n",
            "  998.9 1006.9 1006.4 1018.3 1006.  1010.3 1009.6 1016.3 1014.6 1006.2\n",
            " 1021.9 1021.5 1006.8 1010.1 1015.6 1024.5 1018.1 1018.9 1011.9 1009.5\n",
            " 1013.6 1008.  1017.4 1013.1 1005.5 1012.7 1016.2 1004.1 1021.7 1016.9\n",
            " 1012.9 1000.8 1016.5 1008.9 1027.6 1008.6 1008.2 1019.6 1009.8 1006.6\n",
            " 1004.2 1001.5 1007.9 1020.6 1014.9 1014.4 1017.7 1006.1 1009.4 1034.9\n",
            " 1017.8 1021.6 1016.   997.7 1004.6 1021.8 1023.7 1010.  1012.1 1002.4\n",
            " 1025.1 1013.7 1005.3 1003.6 1015.5 1008.8 1009.   999.5 1019.  1003.9\n",
            " 1008.7 1001.3  997.6 1025.5 1017.  1003.5 1011.8 1013.2 1004.5 1013.\n",
            " 1022.9 1012.6 1023.8 1002.8 1003.2 1007.1 1013.9 1018.6 1013.8 1017.2\n",
            " 1007.4 1028.  1023.5 1001.6 1021.1  993.3 1010.7 1010.9 1022.8 1007.5\n",
            " 1005.9 1020.2 1004.9 1003.  1014.  1012.8 1011.  1021.3 1014.3 1027.9\n",
            " 1003.4 1020.3  995.1 1026.9 1026.4 1005.4 1005.1 1015.2 1005.8  998.7\n",
            " 1008.5 1032.6 1000.9 1005.2 1009.1 1024.3 1011.1 1021.  1006.7 1012.\n",
            " 1022.1 1006.5 1023.4 1007.7  999.4 1010.4  999.  1021.2 1033.8 1002.\n",
            " 1022.  1030.7 1019.4 1007.  1023.9  997.8 1011.6  997.3  999.1 1004.8\n",
            "  987.7 1015.7 1002.3 1017.3 1004.3 1022.6  999.3 1025.7 1030.4 1015.4\n",
            " 1025.3 1010.8 1022.7 1024.7 1000.3 1026.5  997.4 1000.1 1029.7 1009.9\n",
            " 1024.8 1002.2 1030.1 1002.5 1023.6 1000.2 1019.1 1019.9 1024.4 1017.6\n",
            " 1026.7 1016.8  993.  1030.3 1015.8 1026.  1001.9 1028.7 1020.8 1018.5\n",
            " 1012.5 1015.3 1028.4  998.2 1005.7 1019.7  994.  1020.  1029.4  997.\n",
            "  998.  1000.  1024.9  992.4  999.8 1021.4 1002.7 1013.5 1017.5 1013.4\n",
            "  996.3 1011.4 1028.9 1000.4 1007.3  994.5 1020.5 1023.2 1025.8 1024.6\n",
            " 1027.7  994.1  991.8  985.4  991.5 1001.  1000.7 1032.9 1025.6 1027.1\n",
            "  989.  1023.  1024.2 1003.8 1024.1 1004.   987.3  996.2 1026.2 1003.3\n",
            " 1001.7 1020.1 1024.  1018.   993.9  995.5 1005.6 1022.2 1026.3 1011.2\n",
            "  995.6 1002.9 1028.2  994.9 1023.3 1029.6  999.7 1023.1  991.6 1018.2\n",
            " 1027.4  996.7  995.2  998.1 1004.4  997.2 1025.4 1022.5  985.1 1025.\n",
            "  995.  1027.3 1003.1  992.8  991.3  994.2  996.8  999.9  998.3 1001.8\n",
            " 1000.5 1025.9 1026.8  998.6 1028.1 1001.2 1000.6  994.3  988.3  992.2\n",
            " 1001.1 1002.1 1030.6 1032.7  997.9  991.  1027.8 1035.   998.5 1001.4\n",
            " 1019.3  989.7  988.   989.8 1026.1  996.4 1031.   986.2 1035.6 1027.\n",
            "  997.5  997.1  996.1 1022.4 1031.4  999.6  994.7  986.9  995.9 1029.\n",
            "  992.9  989.2  994.6 1022.3  998.8 1029.1 1027.2  995.7  996.6 1034.1\n",
            " 1032.1  996.9 1032.2 1027.5  990.1 1030.5  984.9  998.4 1028.6 1033.1\n",
            "  999.2  986.6 1028.5 1025.2 1030.9  993.5 1033.4 1029.9 1031.6 1035.7\n",
            " 1030.2 1033.5 1029.5 1031.3 1029.2 1031.2  992.1 1031.1 1028.8 1032.4\n",
            " 1029.8 1031.5 1030.8 1034.2 1035.3 1026.6 1036.  1032.3 1034.5 1031.8\n",
            " 1031.9 1035.1  993.7 1030.  1031.7 1034.6 1036.4  996.  1034.  1033.9\n",
            "  995.3 1032.5 1037.6  994.8 1032.  1033.7 1035.9 1034.4 1035.4 1034.7\n",
            " 1033.2  990.6  995.8 1033.6 1037.8 1037.7 1033.3 1032.8 1034.3 1037.9\n",
            "  995.4 1033.  1036.7 1038.4 1035.5 1034.8 1037.3 1036.2  990.8  992.3]\n",
            "Awan9am [3. 6. 7. 8. 1. 4. 5. 2. 0.]\n",
            "Awan3pm [1. 6. 8. 7. 3. 5. 2. 4. 0.]\n",
            "Suhu9am [29.6 14.9 27.5 11.6 14.2 22.7 11.1 13.5  8.8 17.4 23.4 12.8 30.5  8.\n",
            " 27.  10.3 13.2 13.6 12.2 20.7  9.3 13.1 17.6 16.6 11.2 18.8  8.6 18.1\n",
            "  8.3 10.7 14.8 21.3 20.9 22.9 23.9 19.2 23.2  8.7 17.7 16.9 24.7 32.2\n",
            " 15.4 19.8 15.3 17.1 22.2  7.8 14.  28.3 22.6 13.4 18.3 23.8 26.6 10.6\n",
            " 12.7 11.8 15.1 27.3 17.  20.3 26.8 17.3 16.2 24.9 12.5 19.6  4.5 18.5\n",
            " 28.7 10.5 15.5 26.  30.3 20.  23.5 19.1 17.5 27.1 19.9 14.4  8.5 14.7\n",
            "  7.2  8.9 23.6 21.  27.2 23.7 25.3 14.3 21.7  9.9 12.4 28.  25.2 22.5\n",
            " 18.7 11.4 25.4 20.5 21.2 26.5  2.5 14.5 19.  23.3 22.8  1.4 22.4  7.9\n",
            " 10.2  2.2 18.6 28.1 20.6 10.8 25.5 33.6 20.8 16.7 16.1 11.   6.7 25.\n",
            " 18.9 12.9 26.3 13.3 30.9 16.8 15.9 10.1 25.6  7.6 11.7 13.   6.4 20.2\n",
            "  9.5 21.1 24.  16.4  9.6 23.  14.1  6.9 11.9 16.  10.4 19.7 21.9 13.8\n",
            " 28.9 15.  12.  19.5 30.6 10.9  5.  28.2 17.2 17.9 25.1 20.4 11.5  6.2\n",
            " 28.5 12.6  3.9  3.3 26.2  6.8 19.4 18.4  0.  22.1 24.4 25.8 12.3 13.9\n",
            "  1.2 21.6 13.7 22.   6.3 16.5 21.8 28.6  9.8 19.3 17.8  9.  26.1 27.7\n",
            "  4.8  9.4  7.4 14.6  5.9 21.5 21.4 26.9 16.3 25.7 20.1 26.7 24.2 30.4\n",
            " 15.6 23.1 15.7  7.3 28.4 28.8 29.4 15.2 29.   2.7  9.7  8.1  8.2 22.3\n",
            "  1.6 30.1 18.   6.6 31.8 29.5  7.1 24.8 10.   9.2 29.3 18.2 27.9 12.1\n",
            " 15.8  9.1 30.7  5.4  4.  33.  26.4  8.4  6.5 31.6 25.9 32.  11.3  5.8\n",
            " 30.   3.6 24.1 29.7 30.8 24.3 27.6  5.2 24.6  5.1  4.9 29.2 27.4  5.7\n",
            "  7.   4.6 32.6  6.   2.6  1.5  5.5  5.6  4.3 29.1 30.2  6.1 31.2  2.4\n",
            " 29.8 24.5 29.9 31.   3.5 33.2  3.   4.1  2.1 27.8  4.7 31.3  3.7 34.4\n",
            "  3.8  7.7  4.2  1.3 34.2 32.5  7.5  1.  -1.   0.8 32.8  3.4 31.5 32.7\n",
            " -0.9  3.1  0.7 34.3  4.4  5.3 31.1 31.7  2.8 32.3 33.1 34.  -1.3  2.9\n",
            "  0.9 32.4  2.  -0.1  3.2 33.5 -0.3  0.3 31.9  1.8 33.8  0.6 -0.6 35.2\n",
            " 31.4 37.7  1.1 33.3  1.7 34.5 33.7 -0.5 34.8 32.9 33.4 -2.   1.9 32.1\n",
            " -0.4 34.1 -0.7  0.2  2.3 -1.5 35.5 34.7 -2.4  0.1 35.3 -1.1  0.5 37.6\n",
            " 34.9 -2.9 35.1 -0.2  0.4 35.7 36.2]\n",
            "Suhu3pm [30.3 13.9 25.  13.5 20.3 22.3 18.6 13.   8.3 17.8 21.2 17.2 32.6 10.2\n",
            " 29.5 17.5 15.5 21.3 18.3 19.8 10.5 12.3 22.9 20.2 13.6 18.8 28.6  9.\n",
            " 17.  24.1 24.3 18.2 24.8 22.5 30.8 13.4 14.5 20.8 15.9 26.  31.7 15.7\n",
            " 19.3 17.3 30.9 15.4 17.9 15.1 29.3 27.  14.9 18.4 12.6 29.9 11.6 21.5\n",
            " 16.3 17.1 35.4 16.8 15.8 30.1 28.8 27.5  8.8 18.9 16.5 25.9 21.6 22.8\n",
            "  6.6 22.1 18.7 21.4 22.7 25.1 16.  16.4 26.5 33.1 24.9 20.  25.3 10.6\n",
            " 12.5 28.3 13.2 28.5 10.8 23.2 27.8 31.8 27.7 14.3 26.2  8.5 14.7 17.7\n",
            " 10.1 23.9 18.5 24.5 20.1 27.9 14.4  5.3 25.8 31.6 29.7 10.7 19.4 15.2\n",
            " 23.7  1.6 22.  13.8  2.4 19.2 28.4 30.6 13.1 22.2 16.2  7.8 16.6 36.\n",
            " 34.2 20.9 26.7 15.3 34.  28.7 31.2 14.6 19.6  8.7 33.4  9.7 19.7 12.\n",
            " 14.  11.8 26.6 25.5 13.7 14.8 16.7 21.  25.7 19.  11.  15.  25.6 16.9\n",
            " 24.7 33.5 27.1  3.9 20.6 28.2 11.2 17.6 19.9 30.2 18.  24.4  8.  26.9\n",
            " 31.5 20.7 10.4 24.6  4.4  3.  21.1 11.9 14.2 26.8 29.   0.9  9.3 26.1\n",
            " 23.6 15.6 23.5 22.6 -1.2 16.1 21.9 11.4 35.9 20.4 13.3 21.8 23.  31.\n",
            " 12.2  8.9 18.1 12.9 31.1 17.4  5.1 10.3 29.6 31.4 27.3 21.7 29.2 11.5\n",
            " 35.6 20.5 19.1 30.  37.  12.8 25.4 34.4 12.7 33.6  9.5 36.8 24.  31.9\n",
            " 38.7 23.4  9.6 36.9 36.1 11.3 29.4 27.2 26.3 30.4 22.4 12.4 23.3 28.1\n",
            "  7.5 32.7 37.1 37.2 19.5  9.8 32.   7.6 37.5 39.8  6.9 26.4 34.3 23.1\n",
            " 10.9 23.8  9.4 11.7 27.4 27.6 38.  10.  25.2 33.2  8.4 14.1 24.2 29.1\n",
            " 28.9  7.  30.7 29.8  7.2 32.4 32.9 35.5  9.1 32.5 41.5 11.1  2.5  0.7\n",
            " 34.6  5.   7.9 32.1  6.3 32.3  8.6 34.9 35.2 12.1 32.2 33.7 31.3 37.7\n",
            " 35.7  5.4 37.3 28.   4.8  7.1  6.8  0.2 34.8  1.1 37.4 33.9 38.1  2.\n",
            "  8.1  9.9 41.3 33.3 38.9  6.  32.8 35.1 35.   6.7  6.2  4.1  1.8 40.4\n",
            "  8.2 34.5  9.2  2.2  6.1 34.1  4.3 33.8 36.6  2.7  0.8  2.8 42.3 41.2\n",
            "  5.2 36.7 37.6 30.5 39.5 39.  36.2 40.1 38.2 39.1 33.  40.5 42.1 35.3\n",
            " 38.8  4.6  5.8 36.5 37.8 38.3  3.5  4.7  4.5 39.4 39.2 41.1 35.8 38.4\n",
            " 34.7  0.1 40.8 38.6  6.5 38.5  7.3 40.9  4.2 39.7 37.9 36.4 36.3 40.6\n",
            " 39.9  2.6  3.4  2.3 42.  41.  40.  39.6 42.2  1.   5.6  5.7  4.9 40.7\n",
            " 39.3 41.8  4.  41.9  3.7 40.3  5.9  5.5  1.3  3.2  7.7 43.  -0.7  3.8\n",
            "  3.1 40.2  7.4 41.7  2.9]\n",
            "BersaljuHariIni [0 1]\n",
            "Class [1 0]\n"
          ],
          "name": "stdout"
        }
      ]
    },
    {
      "cell_type": "markdown",
      "metadata": {
        "id": "cFABqPyGijeD"
      },
      "source": [
        "# Data Preparation\n",
        "x = Feature<br>\n",
        "y = Class Target"
      ]
    },
    {
      "cell_type": "code",
      "metadata": {
        "id": "wRfqixkain78"
      },
      "source": [
        "#Data train\n",
        "x_train = salju_train_sampling.drop(['Class'], axis=1)\n",
        "y_train = salju_train_sampling['Class'].values"
      ],
      "execution_count": 261,
      "outputs": []
    },
    {
      "cell_type": "code",
      "metadata": {
        "id": "oMYFOZhkglJU"
      },
      "source": [
        "x_train = x_train.values"
      ],
      "execution_count": 262,
      "outputs": []
    },
    {
      "cell_type": "code",
      "metadata": {
        "id": "tHRzpEPcgV9j"
      },
      "source": [
        "#Data test\n",
        "x_test = salju_test_sampling.drop(['Class'], axis=1)\n",
        "y_test = salju_test_sampling['Class'].values"
      ],
      "execution_count": 263,
      "outputs": []
    },
    {
      "cell_type": "code",
      "metadata": {
        "id": "gGupf6zAgiQI"
      },
      "source": [
        "x_test = x_test.values"
      ],
      "execution_count": 264,
      "outputs": []
    },
    {
      "cell_type": "code",
      "metadata": {
        "colab": {
          "base_uri": "https://localhost:8080/"
        },
        "id": "mQiEu6Zgrpqt",
        "outputId": "f2a5fed5-9585-4f2d-a947-7826f3ab5def"
      },
      "source": [
        "len(salju_train_sampling.columns)"
      ],
      "execution_count": 265,
      "outputs": [
        {
          "output_type": "execute_result",
          "data": {
            "text/plain": [
              "23"
            ]
          },
          "metadata": {
            "tags": []
          },
          "execution_count": 265
        }
      ]
    },
    {
      "cell_type": "code",
      "metadata": {
        "colab": {
          "base_uri": "https://localhost:8080/"
        },
        "id": "E5iNV2hErymd",
        "outputId": "fc1e82d7-5aee-4b79-9be0-87c533b23366"
      },
      "source": [
        "len(salju_train_sampling.columns)"
      ],
      "execution_count": 266,
      "outputs": [
        {
          "output_type": "execute_result",
          "data": {
            "text/plain": [
              "23"
            ]
          },
          "metadata": {
            "tags": []
          },
          "execution_count": 266
        }
      ]
    },
    {
      "cell_type": "markdown",
      "metadata": {
        "id": "f-dq2cATg0Hq"
      },
      "source": [
        "# Model"
      ]
    },
    {
      "cell_type": "markdown",
      "metadata": {
        "id": "IuILCzy7g7qa"
      },
      "source": [
        "## Decision Tree"
      ]
    },
    {
      "cell_type": "code",
      "metadata": {
        "colab": {
          "base_uri": "https://localhost:8080/"
        },
        "id": "KV4BJvYThAA4",
        "outputId": "d4e529b3-8146-4c27-e1a4-21fc725ed829"
      },
      "source": [
        "clf =  tree.DecisionTreeClassifier(class_weight = 'balanced', min_samples_leaf = 15, random_state = 32)\n",
        "clf.fit(x_train, y_train)"
      ],
      "execution_count": 267,
      "outputs": [
        {
          "output_type": "execute_result",
          "data": {
            "text/plain": [
              "DecisionTreeClassifier(ccp_alpha=0.0, class_weight='balanced', criterion='gini',\n",
              "                       max_depth=None, max_features=None, max_leaf_nodes=None,\n",
              "                       min_impurity_decrease=0.0, min_impurity_split=None,\n",
              "                       min_samples_leaf=15, min_samples_split=2,\n",
              "                       min_weight_fraction_leaf=0.0, presort='deprecated',\n",
              "                       random_state=32, splitter='best')"
            ]
          },
          "metadata": {
            "tags": []
          },
          "execution_count": 267
        }
      ]
    },
    {
      "cell_type": "code",
      "metadata": {
        "id": "o87j862_hhg0"
      },
      "source": [
        "y_pred_clf = clf.predict(x_test)"
      ],
      "execution_count": 268,
      "outputs": []
    },
    {
      "cell_type": "code",
      "metadata": {
        "id": "BYyTv42V0NHg",
        "colab": {
          "base_uri": "https://localhost:8080/"
        },
        "outputId": "25855c18-35fc-4c63-e162-3dc15dc0c38f"
      },
      "source": [
        "#Showing Confusion Matrix to know True Positive, False Positive, True Negative and False Negative\n",
        "cm_df = pd.DataFrame(cm, \n",
        "                      columns = ['Predicted Negative', 'Predicted Positive'], \n",
        "                      index = ['Actual Negative', 'Actual Positive'])\n",
        "\n",
        "#Assign True Positive, False Positive, True Negative and False Negative intu variable\n",
        "TN = cm_df.loc['Actual Negative','Predicted Negative']\n",
        "FN = cm_df.loc['Actual Positive','Predicted Negative']\n",
        "FP = cm_df.loc['Actual Negative','Predicted Positive']\n",
        "TP = cm_df.loc['Actual Positive','Predicted Positive']\n",
        "ACC = (TP+TN)/(TP+TN+FP+FN)\n",
        "print('Accuracy       : ',ACC)\n",
        "print('')\n",
        "print(classification_report(y_test,y_pred_clf))"
      ],
      "execution_count": 269,
      "outputs": [
        {
          "output_type": "stream",
          "text": [
            "Accuracy       :  0.7355633035519721\n",
            "\n",
            "              precision    recall  f1-score   support\n",
            "\n",
            "           0       0.71      0.81      0.75     13776\n",
            "           1       0.77      0.66      0.71     13757\n",
            "\n",
            "    accuracy                           0.74     27533\n",
            "   macro avg       0.74      0.74      0.73     27533\n",
            "weighted avg       0.74      0.74      0.73     27533\n",
            "\n"
          ],
          "name": "stdout"
        }
      ]
    },
    {
      "cell_type": "markdown",
      "metadata": {
        "id": "mPeIq67puG0j"
      },
      "source": [
        "## Logistic Regression"
      ]
    },
    {
      "cell_type": "code",
      "metadata": {
        "id": "kEFspLhTkHRI",
        "colab": {
          "base_uri": "https://localhost:8080/"
        },
        "outputId": "4acb2edc-d0dd-46c2-b7c7-045a4defe17a"
      },
      "source": [
        "logreg = LogisticRegression()\n",
        "logreg.fit(x_train, y_train)"
      ],
      "execution_count": 270,
      "outputs": [
        {
          "output_type": "stream",
          "text": [
            "/usr/local/lib/python3.7/dist-packages/sklearn/linear_model/_logistic.py:940: ConvergenceWarning: lbfgs failed to converge (status=1):\n",
            "STOP: TOTAL NO. of ITERATIONS REACHED LIMIT.\n",
            "\n",
            "Increase the number of iterations (max_iter) or scale the data as shown in:\n",
            "    https://scikit-learn.org/stable/modules/preprocessing.html\n",
            "Please also refer to the documentation for alternative solver options:\n",
            "    https://scikit-learn.org/stable/modules/linear_model.html#logistic-regression\n",
            "  extra_warning_msg=_LOGISTIC_SOLVER_CONVERGENCE_MSG)\n"
          ],
          "name": "stderr"
        },
        {
          "output_type": "execute_result",
          "data": {
            "text/plain": [
              "LogisticRegression(C=1.0, class_weight=None, dual=False, fit_intercept=True,\n",
              "                   intercept_scaling=1, l1_ratio=None, max_iter=100,\n",
              "                   multi_class='auto', n_jobs=None, penalty='l2',\n",
              "                   random_state=None, solver='lbfgs', tol=0.0001, verbose=0,\n",
              "                   warm_start=False)"
            ]
          },
          "metadata": {
            "tags": []
          },
          "execution_count": 270
        }
      ]
    },
    {
      "cell_type": "code",
      "metadata": {
        "id": "ZyqGMfoKkKJ7",
        "colab": {
          "base_uri": "https://localhost:8080/"
        },
        "outputId": "c1755327-80d5-4e47-f190-0fbe69daaa64"
      },
      "source": [
        "y_pred = logreg.predict(x_test)\n",
        "print('Accuracy: {:.2f}'.format(logreg.score(x_test, y_test)))\n",
        "print('')\n",
        "print(classification_report(y_test,y_pred))"
      ],
      "execution_count": 271,
      "outputs": [
        {
          "output_type": "stream",
          "text": [
            "Accuracy: 0.77\n",
            "\n",
            "              precision    recall  f1-score   support\n",
            "\n",
            "           0       0.77      0.78      0.78     13776\n",
            "           1       0.78      0.76      0.77     13757\n",
            "\n",
            "    accuracy                           0.77     27533\n",
            "   macro avg       0.77      0.77      0.77     27533\n",
            "weighted avg       0.77      0.77      0.77     27533\n",
            "\n"
          ],
          "name": "stdout"
        }
      ]
    },
    {
      "cell_type": "markdown",
      "metadata": {
        "id": "vF4_w2g9uPMV"
      },
      "source": [
        "## Naive Bayes"
      ]
    },
    {
      "cell_type": "code",
      "metadata": {
        "id": "G0YaW_02uSx7"
      },
      "source": [
        "gnb = GaussianNB()\n",
        "gnb.fit(x_train, y_train.ravel())\n",
        "y_pred = gnb.predict(x_test)"
      ],
      "execution_count": 272,
      "outputs": []
    },
    {
      "cell_type": "code",
      "metadata": {
        "id": "q-V8xj98ujqg",
        "colab": {
          "base_uri": "https://localhost:8080/"
        },
        "outputId": "06474fea-0b5d-4c87-9c10-91690bfd3762"
      },
      "source": [
        "print(\"Accuracy :\",metrics.accuracy_score(y_test, y_pred))\n",
        "print('')\n",
        "print(classification_report(y_test,y_pred))"
      ],
      "execution_count": 273,
      "outputs": [
        {
          "output_type": "stream",
          "text": [
            "Accuracy : 0.7434714705989177\n",
            "\n",
            "              precision    recall  f1-score   support\n",
            "\n",
            "           0       0.73      0.78      0.75     13776\n",
            "           1       0.76      0.70      0.73     13757\n",
            "\n",
            "    accuracy                           0.74     27533\n",
            "   macro avg       0.75      0.74      0.74     27533\n",
            "weighted avg       0.75      0.74      0.74     27533\n",
            "\n"
          ],
          "name": "stdout"
        }
      ]
    },
    {
      "cell_type": "markdown",
      "metadata": {
        "id": "3zkCOWIGu0hK"
      },
      "source": [
        "# Kesimpulan Akurasi"
      ]
    },
    {
      "cell_type": "code",
      "metadata": {
        "id": "AEJbkEniu4zi",
        "colab": {
          "base_uri": "https://localhost:8080/"
        },
        "outputId": "ab188e33-9cfc-4a5e-f4cd-fe7b21800378"
      },
      "source": [
        "print('Decision Tree')\n",
        "print('Accuracy       : ',ACC)\n",
        "print('')\n",
        "print('Logistic Regression')\n",
        "print('Accuracy       : {:.2f}'.format(logreg.score(x_test, y_test)))\n",
        "print('')\n",
        "print('Naive bayes')\n",
        "print('Accuracy       :',metrics.accuracy_score(y_test, y_pred))"
      ],
      "execution_count": 274,
      "outputs": [
        {
          "output_type": "stream",
          "text": [
            "Decision Tree\n",
            "Accuracy       :  0.7355633035519721\n",
            "\n",
            "Logistic Regression\n",
            "Accuracy       : 0.77\n",
            "\n",
            "Naive bayes\n",
            "Accuracy       : 0.7434714705989177\n"
          ],
          "name": "stdout"
        }
      ]
    }
  ]
}