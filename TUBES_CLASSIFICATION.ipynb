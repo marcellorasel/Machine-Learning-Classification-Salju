{
  "nbformat": 4,
  "nbformat_minor": 0,
  "metadata": {
    "colab": {
      "name": "TUBES CLASSIFICATION.ipynb",
      "provenance": [],
      "collapsed_sections": [],
      "toc_visible": true
    },
    "kernelspec": {
      "name": "python3",
      "display_name": "Python 3"
    },
    "language_info": {
      "name": "python"
    }
  },
  "cells": [
    {
      "cell_type": "markdown",
      "metadata": {
        "id": "BGnPOBM-vqnx"
      },
      "source": [
        "# Tugas Besar Tahap 2 Classification <br>\n",
        "# Nama Anggota Kelompok : <br>\n",
        " **1. Anang Furkon Rifai - 1301180229** <br>\n",
        " **2. Marcello Rasel Hidayatullah - 1301184019**"
      ]
    },
    {
      "cell_type": "markdown",
      "metadata": {
        "id": "TwbholzUwTso"
      },
      "source": [
        "# Import Library"
      ]
    },
    {
      "cell_type": "code",
      "metadata": {
        "id": "qaZNSmbovkcm"
      },
      "source": [
        "import pandas as pd\n",
        "import matplotlib.pyplot as plt\n",
        "import numpy as np\n",
        "import seaborn as sns\n",
        "import random"
      ],
      "execution_count": 83,
      "outputs": []
    },
    {
      "cell_type": "markdown",
      "metadata": {
        "id": "ZZX18-hpwYK7"
      },
      "source": [
        "# Load Dataset"
      ]
    },
    {
      "cell_type": "code",
      "metadata": {
        "colab": {
          "resources": {
            "http://localhost:8080/nbextensions/google.colab/files.js": {
              "data": "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",
              "ok": true,
              "headers": [
                [
                  "content-type",
                  "application/javascript"
                ]
              ],
              "status": 200,
              "status_text": ""
            }
          },
          "base_uri": "https://localhost:8080/",
          "height": 107
        },
        "id": "eQrJn7OcwbWk",
        "outputId": "915726c7-9dbc-401b-f0df-aaadff37e84a"
      },
      "source": [
        "from google.colab import files\n",
        "file = files.upload()"
      ],
      "execution_count": 62,
      "outputs": [
        {
          "output_type": "display_data",
          "data": {
            "text/html": [
              "\n",
              "     <input type=\"file\" id=\"files-f8accb25-5a2f-422d-9f38-cacd789dc8c8\" name=\"files[]\" multiple disabled\n",
              "        style=\"border:none\" />\n",
              "     <output id=\"result-f8accb25-5a2f-422d-9f38-cacd789dc8c8\">\n",
              "      Upload widget is only available when the cell has been executed in the\n",
              "      current browser session. Please rerun this cell to enable.\n",
              "      </output>\n",
              "      <script src=\"/nbextensions/google.colab/files.js\"></script> "
            ],
            "text/plain": [
              "<IPython.core.display.HTML object>"
            ]
          },
          "metadata": {
            "tags": []
          }
        },
        {
          "output_type": "stream",
          "text": [
            "Saving salju_test.csv to salju_test (1).csv\n",
            "Saving salju_train.csv to salju_train (1).csv\n"
          ],
          "name": "stdout"
        }
      ]
    },
    {
      "cell_type": "code",
      "metadata": {
        "colab": {
          "base_uri": "https://localhost:8080/",
          "height": 217
        },
        "id": "ql0BQfWjwzGG",
        "outputId": "d56b6a2d-5115-4a88-96eb-17b2c0455192"
      },
      "source": [
        "# Dataset Test\n",
        "salju_test = pd.read_csv('salju_test.csv') \n",
        "\n",
        "# Mengganti nama kolom \"BersaljuBesok\" menjadi \"Class\"\n",
        "salju_test.rename(columns={'BersaljuBesok':'Class'}, inplace=True)\n",
        "\n",
        "salju_test.head()"
      ],
      "execution_count": 84,
      "outputs": [
        {
          "output_type": "execute_result",
          "data": {
            "text/html": [
              "<div>\n",
              "<style scoped>\n",
              "    .dataframe tbody tr th:only-of-type {\n",
              "        vertical-align: middle;\n",
              "    }\n",
              "\n",
              "    .dataframe tbody tr th {\n",
              "        vertical-align: top;\n",
              "    }\n",
              "\n",
              "    .dataframe thead th {\n",
              "        text-align: right;\n",
              "    }\n",
              "</style>\n",
              "<table border=\"1\" class=\"dataframe\">\n",
              "  <thead>\n",
              "    <tr style=\"text-align: right;\">\n",
              "      <th></th>\n",
              "      <th>Tanggal</th>\n",
              "      <th>KodeLokasi</th>\n",
              "      <th>SuhuMin</th>\n",
              "      <th>SuhuMax</th>\n",
              "      <th>Hujan</th>\n",
              "      <th>Penguapan</th>\n",
              "      <th>SinarMatahari</th>\n",
              "      <th>ArahAnginTerkencang</th>\n",
              "      <th>KecepatanAnginTerkencang</th>\n",
              "      <th>ArahAngin9am</th>\n",
              "      <th>ArahAngin3pm</th>\n",
              "      <th>KecepatanAngin9am</th>\n",
              "      <th>KecepatanAngin3pm</th>\n",
              "      <th>Kelembaban9am</th>\n",
              "      <th>Kelembaban3pm</th>\n",
              "      <th>Tekanan9am</th>\n",
              "      <th>Tekanan3pm</th>\n",
              "      <th>Awan9am</th>\n",
              "      <th>Awan3pm</th>\n",
              "      <th>Suhu9am</th>\n",
              "      <th>Suhu3pm</th>\n",
              "      <th>BersaljuHariIni</th>\n",
              "      <th>Class</th>\n",
              "    </tr>\n",
              "  </thead>\n",
              "  <tbody>\n",
              "    <tr>\n",
              "      <th>0</th>\n",
              "      <td>04/11/2010</td>\n",
              "      <td>C39</td>\n",
              "      <td>11.0</td>\n",
              "      <td>27.5</td>\n",
              "      <td>0.0</td>\n",
              "      <td>NaN</td>\n",
              "      <td>6.4</td>\n",
              "      <td>WSW</td>\n",
              "      <td>46.0</td>\n",
              "      <td>W</td>\n",
              "      <td>W</td>\n",
              "      <td>20.0</td>\n",
              "      <td>28.0</td>\n",
              "      <td>39.0</td>\n",
              "      <td>56.0</td>\n",
              "      <td>1013.0</td>\n",
              "      <td>1012.4</td>\n",
              "      <td>4.0</td>\n",
              "      <td>7.0</td>\n",
              "      <td>25.7</td>\n",
              "      <td>23.6</td>\n",
              "      <td>No</td>\n",
              "      <td>No</td>\n",
              "    </tr>\n",
              "    <tr>\n",
              "      <th>1</th>\n",
              "      <td>26/03/2015</td>\n",
              "      <td>C35</td>\n",
              "      <td>10.0</td>\n",
              "      <td>19.9</td>\n",
              "      <td>0.2</td>\n",
              "      <td>NaN</td>\n",
              "      <td>NaN</td>\n",
              "      <td>WNW</td>\n",
              "      <td>56.0</td>\n",
              "      <td>W</td>\n",
              "      <td>NW</td>\n",
              "      <td>24.0</td>\n",
              "      <td>33.0</td>\n",
              "      <td>76.0</td>\n",
              "      <td>32.0</td>\n",
              "      <td>1017.0</td>\n",
              "      <td>1015.2</td>\n",
              "      <td>8.0</td>\n",
              "      <td>1.0</td>\n",
              "      <td>10.7</td>\n",
              "      <td>18.9</td>\n",
              "      <td>No</td>\n",
              "      <td>Yes</td>\n",
              "    </tr>\n",
              "    <tr>\n",
              "      <th>2</th>\n",
              "      <td>22/03/2016</td>\n",
              "      <td>C18</td>\n",
              "      <td>9.2</td>\n",
              "      <td>27.2</td>\n",
              "      <td>0.0</td>\n",
              "      <td>5.2</td>\n",
              "      <td>10.4</td>\n",
              "      <td>SSW</td>\n",
              "      <td>33.0</td>\n",
              "      <td>NE</td>\n",
              "      <td>N</td>\n",
              "      <td>13.0</td>\n",
              "      <td>19.0</td>\n",
              "      <td>89.0</td>\n",
              "      <td>27.0</td>\n",
              "      <td>1018.6</td>\n",
              "      <td>1015.7</td>\n",
              "      <td>0.0</td>\n",
              "      <td>1.0</td>\n",
              "      <td>13.9</td>\n",
              "      <td>26.3</td>\n",
              "      <td>No</td>\n",
              "      <td>No</td>\n",
              "    </tr>\n",
              "    <tr>\n",
              "      <th>3</th>\n",
              "      <td>09/12/2011</td>\n",
              "      <td>C31</td>\n",
              "      <td>17.7</td>\n",
              "      <td>27.0</td>\n",
              "      <td>0.0</td>\n",
              "      <td>4.6</td>\n",
              "      <td>6.7</td>\n",
              "      <td>SW</td>\n",
              "      <td>35.0</td>\n",
              "      <td>E</td>\n",
              "      <td>SSE</td>\n",
              "      <td>20.0</td>\n",
              "      <td>15.0</td>\n",
              "      <td>55.0</td>\n",
              "      <td>41.0</td>\n",
              "      <td>1010.2</td>\n",
              "      <td>1008.6</td>\n",
              "      <td>7.0</td>\n",
              "      <td>6.0</td>\n",
              "      <td>22.3</td>\n",
              "      <td>26.4</td>\n",
              "      <td>No</td>\n",
              "      <td>No</td>\n",
              "    </tr>\n",
              "    <tr>\n",
              "      <th>4</th>\n",
              "      <td>20/05/2017</td>\n",
              "      <td>C14</td>\n",
              "      <td>2.3</td>\n",
              "      <td>7.9</td>\n",
              "      <td>88.0</td>\n",
              "      <td>NaN</td>\n",
              "      <td>NaN</td>\n",
              "      <td>NW</td>\n",
              "      <td>46.0</td>\n",
              "      <td>W</td>\n",
              "      <td>WNW</td>\n",
              "      <td>13.0</td>\n",
              "      <td>9.0</td>\n",
              "      <td>98.0</td>\n",
              "      <td>95.0</td>\n",
              "      <td>NaN</td>\n",
              "      <td>NaN</td>\n",
              "      <td>NaN</td>\n",
              "      <td>NaN</td>\n",
              "      <td>4.4</td>\n",
              "      <td>6.0</td>\n",
              "      <td>Yes</td>\n",
              "      <td>No</td>\n",
              "    </tr>\n",
              "  </tbody>\n",
              "</table>\n",
              "</div>"
            ],
            "text/plain": [
              "      Tanggal KodeLokasi  SuhuMin  ...  Suhu3pm  BersaljuHariIni  Class\n",
              "0  04/11/2010        C39     11.0  ...     23.6               No     No\n",
              "1  26/03/2015        C35     10.0  ...     18.9               No    Yes\n",
              "2  22/03/2016        C18      9.2  ...     26.3               No     No\n",
              "3  09/12/2011        C31     17.7  ...     26.4               No     No\n",
              "4  20/05/2017        C14      2.3  ...      6.0              Yes     No\n",
              "\n",
              "[5 rows x 23 columns]"
            ]
          },
          "metadata": {
            "tags": []
          },
          "execution_count": 84
        }
      ]
    },
    {
      "cell_type": "code",
      "metadata": {
        "colab": {
          "base_uri": "https://localhost:8080/",
          "height": 217
        },
        "id": "xJurawPwxO2Z",
        "outputId": "ef9b809d-eb31-4846-ed91-53eaafecba36"
      },
      "source": [
        "# Dataset Train\n",
        "salju_train = pd.read_csv('salju_train.csv')\n",
        "\n",
        "# Mengganti nama kolom 'BersaljuBesok' menjadi 'Class'\n",
        "salju_train.rename(columns={'BersaljuBesok':'Class'}, inplace=True)\n",
        "\n",
        "salju_train.head()"
      ],
      "execution_count": 85,
      "outputs": [
        {
          "output_type": "execute_result",
          "data": {
            "text/html": [
              "<div>\n",
              "<style scoped>\n",
              "    .dataframe tbody tr th:only-of-type {\n",
              "        vertical-align: middle;\n",
              "    }\n",
              "\n",
              "    .dataframe tbody tr th {\n",
              "        vertical-align: top;\n",
              "    }\n",
              "\n",
              "    .dataframe thead th {\n",
              "        text-align: right;\n",
              "    }\n",
              "</style>\n",
              "<table border=\"1\" class=\"dataframe\">\n",
              "  <thead>\n",
              "    <tr style=\"text-align: right;\">\n",
              "      <th></th>\n",
              "      <th>id</th>\n",
              "      <th>Tanggal</th>\n",
              "      <th>KodeLokasi</th>\n",
              "      <th>SuhuMin</th>\n",
              "      <th>SuhuMax</th>\n",
              "      <th>Hujan</th>\n",
              "      <th>Penguapan</th>\n",
              "      <th>SinarMatahari</th>\n",
              "      <th>ArahAnginTerkencang</th>\n",
              "      <th>KecepatanAnginTerkencang</th>\n",
              "      <th>ArahAngin9am</th>\n",
              "      <th>ArahAngin3pm</th>\n",
              "      <th>KecepatanAngin9am</th>\n",
              "      <th>KecepatanAngin3pm</th>\n",
              "      <th>Kelembaban9am</th>\n",
              "      <th>Kelembaban3pm</th>\n",
              "      <th>Tekanan9am</th>\n",
              "      <th>Tekanan3pm</th>\n",
              "      <th>Awan9am</th>\n",
              "      <th>Awan3pm</th>\n",
              "      <th>Suhu9am</th>\n",
              "      <th>Suhu3pm</th>\n",
              "      <th>BersaljuHariIni</th>\n",
              "      <th>Class</th>\n",
              "    </tr>\n",
              "  </thead>\n",
              "  <tbody>\n",
              "    <tr>\n",
              "      <th>0</th>\n",
              "      <td>1</td>\n",
              "      <td>01/06/2014</td>\n",
              "      <td>C4</td>\n",
              "      <td>10.4</td>\n",
              "      <td>15.5</td>\n",
              "      <td>4.8</td>\n",
              "      <td>NaN</td>\n",
              "      <td>NaN</td>\n",
              "      <td>WSW</td>\n",
              "      <td>24.0</td>\n",
              "      <td>NaN</td>\n",
              "      <td>WSW</td>\n",
              "      <td>0.0</td>\n",
              "      <td>13.0</td>\n",
              "      <td>78.0</td>\n",
              "      <td>76.0</td>\n",
              "      <td>1020.1</td>\n",
              "      <td>1018.5</td>\n",
              "      <td>NaN</td>\n",
              "      <td>NaN</td>\n",
              "      <td>13.1</td>\n",
              "      <td>15.0</td>\n",
              "      <td>Ya</td>\n",
              "      <td>Tidak</td>\n",
              "    </tr>\n",
              "    <tr>\n",
              "      <th>1</th>\n",
              "      <td>2</td>\n",
              "      <td>15/07/2014</td>\n",
              "      <td>C10</td>\n",
              "      <td>9.0</td>\n",
              "      <td>17.0</td>\n",
              "      <td>8.0</td>\n",
              "      <td>2.6</td>\n",
              "      <td>7.4</td>\n",
              "      <td>NaN</td>\n",
              "      <td>NaN</td>\n",
              "      <td>SW</td>\n",
              "      <td>WNW</td>\n",
              "      <td>13.0</td>\n",
              "      <td>20.0</td>\n",
              "      <td>80.0</td>\n",
              "      <td>61.0</td>\n",
              "      <td>1015.2</td>\n",
              "      <td>1014.6</td>\n",
              "      <td>7.0</td>\n",
              "      <td>5.0</td>\n",
              "      <td>11.9</td>\n",
              "      <td>15.5</td>\n",
              "      <td>Ya</td>\n",
              "      <td>Ya</td>\n",
              "    </tr>\n",
              "    <tr>\n",
              "      <th>2</th>\n",
              "      <td>3</td>\n",
              "      <td>16/02/2011</td>\n",
              "      <td>C46</td>\n",
              "      <td>18.2</td>\n",
              "      <td>32.0</td>\n",
              "      <td>0.0</td>\n",
              "      <td>NaN</td>\n",
              "      <td>NaN</td>\n",
              "      <td>ESE</td>\n",
              "      <td>44.0</td>\n",
              "      <td>SE</td>\n",
              "      <td>SE</td>\n",
              "      <td>15.0</td>\n",
              "      <td>26.0</td>\n",
              "      <td>62.0</td>\n",
              "      <td>42.0</td>\n",
              "      <td>NaN</td>\n",
              "      <td>NaN</td>\n",
              "      <td>NaN</td>\n",
              "      <td>NaN</td>\n",
              "      <td>23.8</td>\n",
              "      <td>29.6</td>\n",
              "      <td>Tidak</td>\n",
              "      <td>Tidak</td>\n",
              "    </tr>\n",
              "    <tr>\n",
              "      <th>3</th>\n",
              "      <td>4</td>\n",
              "      <td>08/08/2012</td>\n",
              "      <td>C36</td>\n",
              "      <td>7.3</td>\n",
              "      <td>24.5</td>\n",
              "      <td>0.0</td>\n",
              "      <td>8.4</td>\n",
              "      <td>10.4</td>\n",
              "      <td>SSW</td>\n",
              "      <td>54.0</td>\n",
              "      <td>N</td>\n",
              "      <td>SW</td>\n",
              "      <td>13.0</td>\n",
              "      <td>19.0</td>\n",
              "      <td>25.0</td>\n",
              "      <td>17.0</td>\n",
              "      <td>1019.2</td>\n",
              "      <td>1016.9</td>\n",
              "      <td>1.0</td>\n",
              "      <td>7.0</td>\n",
              "      <td>15.3</td>\n",
              "      <td>23.2</td>\n",
              "      <td>Tidak</td>\n",
              "      <td>Tidak</td>\n",
              "    </tr>\n",
              "    <tr>\n",
              "      <th>4</th>\n",
              "      <td>5</td>\n",
              "      <td>29/10/2016</td>\n",
              "      <td>C7</td>\n",
              "      <td>5.9</td>\n",
              "      <td>20.3</td>\n",
              "      <td>0.0</td>\n",
              "      <td>3.6</td>\n",
              "      <td>12.6</td>\n",
              "      <td>N</td>\n",
              "      <td>37.0</td>\n",
              "      <td>NNW</td>\n",
              "      <td>ESE</td>\n",
              "      <td>22.0</td>\n",
              "      <td>19.0</td>\n",
              "      <td>55.0</td>\n",
              "      <td>48.0</td>\n",
              "      <td>1019.7</td>\n",
              "      <td>1014.7</td>\n",
              "      <td>2.0</td>\n",
              "      <td>6.0</td>\n",
              "      <td>12.4</td>\n",
              "      <td>18.1</td>\n",
              "      <td>Tidak</td>\n",
              "      <td>Tidak</td>\n",
              "    </tr>\n",
              "  </tbody>\n",
              "</table>\n",
              "</div>"
            ],
            "text/plain": [
              "   id     Tanggal KodeLokasi  SuhuMin  ...  Suhu9am  Suhu3pm  BersaljuHariIni  Class\n",
              "0   1  01/06/2014         C4     10.4  ...     13.1     15.0               Ya  Tidak\n",
              "1   2  15/07/2014        C10      9.0  ...     11.9     15.5               Ya     Ya\n",
              "2   3  16/02/2011        C46     18.2  ...     23.8     29.6            Tidak  Tidak\n",
              "3   4  08/08/2012        C36      7.3  ...     15.3     23.2            Tidak  Tidak\n",
              "4   5  29/10/2016         C7      5.9  ...     12.4     18.1            Tidak  Tidak\n",
              "\n",
              "[5 rows x 24 columns]"
            ]
          },
          "metadata": {
            "tags": []
          },
          "execution_count": 85
        }
      ]
    },
    {
      "cell_type": "markdown",
      "metadata": {
        "id": "dOpMxMiHzibb"
      },
      "source": [
        "# Pre Processing Data"
      ]
    },
    {
      "cell_type": "code",
      "metadata": {
        "colab": {
          "base_uri": "https://localhost:8080/"
        },
        "id": "_n4BdBT0yZMQ",
        "outputId": "7989dfb5-ea02-4361-dc1f-f7809ad162db"
      },
      "source": [
        "# Mengecek jumlah data pada kolom 'Class' pada data test\n",
        "salju_test['Class'].value_counts()"
      ],
      "execution_count": 86,
      "outputs": [
        {
          "output_type": "execute_result",
          "data": {
            "text/plain": [
              "No     13824\n",
              "Yes     3939\n",
              "Name: Class, dtype: int64"
            ]
          },
          "metadata": {
            "tags": []
          },
          "execution_count": 86
        }
      ]
    },
    {
      "cell_type": "code",
      "metadata": {
        "colab": {
          "base_uri": "https://localhost:8080/"
        },
        "id": "pyLqBgiXyxYj",
        "outputId": "b993e28c-1c87-4808-ab11-cdea18dc1424"
      },
      "source": [
        "# Mengecek jumlah data pada kolom 'Class' pada data train\n",
        "salju_train['Class'].value_counts()"
      ],
      "execution_count": 87,
      "outputs": [
        {
          "output_type": "execute_result",
          "data": {
            "text/plain": [
              "Tidak    82701\n",
              "Ya       23963\n",
              "Name: Class, dtype: int64"
            ]
          },
          "metadata": {
            "tags": []
          },
          "execution_count": 87
        }
      ]
    },
    {
      "cell_type": "code",
      "metadata": {
        "colab": {
          "base_uri": "https://localhost:8080/",
          "height": 334
        },
        "id": "jygL_-u-zBCO",
        "outputId": "f82469fe-1712-4834-c8cc-b9da35023852"
      },
      "source": [
        "# Memvisualisasi data pada kolom 'Class' pada data train\n",
        "train_plot = sns.countplot(salju_train['Class'])\n",
        "train_plot.set_xticklabels(['Tidak','Ya'])\n",
        "plt.show()"
      ],
      "execution_count": 88,
      "outputs": [
        {
          "output_type": "stream",
          "text": [
            "/usr/local/lib/python3.7/dist-packages/seaborn/_decorators.py:43: FutureWarning: Pass the following variable as a keyword arg: x. From version 0.12, the only valid positional argument will be `data`, and passing other arguments without an explicit keyword will result in an error or misinterpretation.\n",
            "  FutureWarning\n"
          ],
          "name": "stderr"
        },
        {
          "output_type": "display_data",
          "data": {
            "image/png": "[encoded data removed]",
            "text/plain": [
              "<Figure size 432x288 with 1 Axes>"
            ]
          },
          "metadata": {
            "tags": [],
            "needs_background": "light"
          }
        }
      ]
    },
    {
      "cell_type": "markdown",
      "metadata": {
        "id": "-q9cn0MSTKI9"
      },
      "source": [
        "## Pre Processing Data Train"
      ]
    },
    {
      "cell_type": "code",
      "metadata": {
        "id": "MAZemqsRzm9N",
        "colab": {
          "base_uri": "https://localhost:8080/"
        },
        "outputId": "f707e26f-fc02-4cef-a73c-a5eccf20b998"
      },
      "source": [
        "train_0 = salju_train[salju_train['Class'] == 'Tidak']\n",
        "train_1 = salju_train[salju_train['Class'] == 'Ya']\n",
        "\n",
        "print(\"Class 0 :\", train_0.shape)\n",
        "print(\"Class 1 :\", train_1.shape)"
      ],
      "execution_count": 89,
      "outputs": [
        {
          "output_type": "stream",
          "text": [
            "Class 0 : (82701, 24)\n",
            "Class 1 : (23963, 24)\n"
          ],
          "name": "stdout"
        }
      ]
    },
    {
      "cell_type": "code",
      "metadata": {
        "colab": {
          "base_uri": "https://localhost:8080/"
        },
        "id": "tjKjAvSZR55e",
        "outputId": "296dba9b-8b51-4d7b-8b30-d2cf79d4c148"
      },
      "source": [
        "# Oversampling Data\n",
        "train_count_0, train_count_1 = salju_train['Class'].value_counts()\n",
        "train_1_over = train_1.sample(train_count_0, replace = True)\n",
        "\n",
        "salju_train_sampling = pd.concat([train_1_over, train_0], axis=0)\n",
        "\n",
        "print(\"Total Class 1 and 0 :\", salju_train_sampling['Class'].value_counts())"
      ],
      "execution_count": 90,
      "outputs": [
        {
          "output_type": "stream",
          "text": [
            "Total Class 1 and 0 : Tidak    82701\n",
            "Ya       82701\n",
            "Name: Class, dtype: int64\n"
          ],
          "name": "stdout"
        }
      ]
    },
    {
      "cell_type": "code",
      "metadata": {
        "colab": {
          "base_uri": "https://localhost:8080/"
        },
        "id": "Yohe98jZS-YK",
        "outputId": "7b0efbac-adf3-473d-87f0-219c0d0838ed"
      },
      "source": [
        "# Mengecek missing values\n",
        "salju_train_sampling.isnull().sum()"
      ],
      "execution_count": 91,
      "outputs": [
        {
          "output_type": "execute_result",
          "data": {
            "text/plain": [
              "id                              0\n",
              "Tanggal                         0\n",
              "KodeLokasi                      0\n",
              "SuhuMin                       787\n",
              "SuhuMax                       342\n",
              "Hujan                        2272\n",
              "Penguapan                   71254\n",
              "SinarMatahari               78488\n",
              "ArahAnginTerkencang         11604\n",
              "KecepatanAnginTerkencang    11510\n",
              "ArahAngin9am                10917\n",
              "ArahAngin3pm                 4793\n",
              "KecepatanAngin9am            1595\n",
              "KecepatanAngin3pm            3203\n",
              "Kelembaban9am                2298\n",
              "Kelembaban3pm                4499\n",
              "Tekanan9am                  16295\n",
              "Tekanan3pm                  16291\n",
              "Awan9am                     60861\n",
              "Awan3pm                     64054\n",
              "Suhu9am                      1220\n",
              "Suhu3pm                      3396\n",
              "BersaljuHariIni              2272\n",
              "Class                           0\n",
              "dtype: int64"
            ]
          },
          "metadata": {
            "tags": []
          },
          "execution_count": 91
        }
      ]
    },
    {
      "cell_type": "code",
      "metadata": {
        "id": "7c5zY2C4TfOw"
      },
      "source": [
        "# Mengatasi Missing Values\n",
        "salju_train_sampling.fillna(salju_train_sampling.median(), inplace=True)                # Nilai Numeric diisi dengan nilai median\n",
        "salju_train_sampling = salju_train_sampling.fillna(salju_train_sampling.mode().iloc[0]) # Nilai String diisi dengan nilai yang paling sering muncul pada atribut"
      ],
      "execution_count": 92,
      "outputs": []
    },
    {
      "cell_type": "code",
      "metadata": {
        "colab": {
          "base_uri": "https://localhost:8080/"
        },
        "id": "zY4PligBq7et",
        "outputId": "88fceaba-e80d-4215-debe-0ceff5c53877"
      },
      "source": [
        "# Mengecek missing values\n",
        "salju_train_sampling.isnull().sum()"
      ],
      "execution_count": 93,
      "outputs": [
        {
          "output_type": "execute_result",
          "data": {
            "text/plain": [
              "id                          0\n",
              "Tanggal                     0\n",
              "KodeLokasi                  0\n",
              "SuhuMin                     0\n",
              "SuhuMax                     0\n",
              "Hujan                       0\n",
              "Penguapan                   0\n",
              "SinarMatahari               0\n",
              "ArahAnginTerkencang         0\n",
              "KecepatanAnginTerkencang    0\n",
              "ArahAngin9am                0\n",
              "ArahAngin3pm                0\n",
              "KecepatanAngin9am           0\n",
              "KecepatanAngin3pm           0\n",
              "Kelembaban9am               0\n",
              "Kelembaban3pm               0\n",
              "Tekanan9am                  0\n",
              "Tekanan3pm                  0\n",
              "Awan9am                     0\n",
              "Awan3pm                     0\n",
              "Suhu9am                     0\n",
              "Suhu3pm                     0\n",
              "BersaljuHariIni             0\n",
              "Class                       0\n",
              "dtype: int64"
            ]
          },
          "metadata": {
            "tags": []
          },
          "execution_count": 93
        }
      ]
    },
    {
      "cell_type": "code",
      "metadata": {
        "id": "BBXj6PkpQmoI"
      },
      "source": [
        "# Menentukan Fitur Categorical\n",
        "import sklearn as sk\n",
        "from sklearn.preprocessing import LabelEncoder\n",
        "numerics = ['int8', 'int16', 'int32', 'int64', 'float16', 'float32', 'float64']\n",
        "categorical_columns = []\n",
        "features = salju_train_sampling.columns.values.tolist()\n",
        "for col in features:\n",
        "    if salju_train_sampling[col].dtype in numerics: continue\n",
        "    categorical_columns.append(col)\n",
        "\n",
        "# Encoding Fitur Categorical\n",
        "for col in categorical_columns:\n",
        "    if col in salju_train_sampling.columns:\n",
        "        enco = LabelEncoder()\n",
        "        enco.fit(list(salju_train_sampling[col].astype(str).values))\n",
        "        salju_train_sampling[col] = enco.transform(list(salju_train_sampling[col].astype(str).values))"
      ],
      "execution_count": 94,
      "outputs": []
    },
    {
      "cell_type": "code",
      "metadata": {
        "colab": {
          "base_uri": "https://localhost:8080/",
          "height": 217
        },
        "id": "OndySctwQ79I",
        "outputId": "9ed6623d-964e-4845-c624-5f57f390464b"
      },
      "source": [
        "salju_train_sampling.head()"
      ],
      "execution_count": 95,
      "outputs": [
        {
          "output_type": "execute_result",
          "data": {
            "text/html": [
              "<div>\n",
              "<style scoped>\n",
              "    .dataframe tbody tr th:only-of-type {\n",
              "        vertical-align: middle;\n",
              "    }\n",
              "\n",
              "    .dataframe tbody tr th {\n",
              "        vertical-align: top;\n",
              "    }\n",
              "\n",
              "    .dataframe thead th {\n",
              "        text-align: right;\n",
              "    }\n",
              "</style>\n",
              "<table border=\"1\" class=\"dataframe\">\n",
              "  <thead>\n",
              "    <tr style=\"text-align: right;\">\n",
              "      <th></th>\n",
              "      <th>id</th>\n",
              "      <th>Tanggal</th>\n",
              "      <th>KodeLokasi</th>\n",
              "      <th>SuhuMin</th>\n",
              "      <th>SuhuMax</th>\n",
              "      <th>Hujan</th>\n",
              "      <th>Penguapan</th>\n",
              "      <th>SinarMatahari</th>\n",
              "      <th>ArahAnginTerkencang</th>\n",
              "      <th>KecepatanAnginTerkencang</th>\n",
              "      <th>ArahAngin9am</th>\n",
              "      <th>ArahAngin3pm</th>\n",
              "      <th>KecepatanAngin9am</th>\n",
              "      <th>KecepatanAngin3pm</th>\n",
              "      <th>Kelembaban9am</th>\n",
              "      <th>Kelembaban3pm</th>\n",
              "      <th>Tekanan9am</th>\n",
              "      <th>Tekanan3pm</th>\n",
              "      <th>Awan9am</th>\n",
              "      <th>Awan3pm</th>\n",
              "      <th>Suhu9am</th>\n",
              "      <th>Suhu3pm</th>\n",
              "      <th>BersaljuHariIni</th>\n",
              "      <th>Class</th>\n",
              "    </tr>\n",
              "  </thead>\n",
              "  <tbody>\n",
              "    <tr>\n",
              "      <th>62608</th>\n",
              "      <td>62609</td>\n",
              "      <td>521</td>\n",
              "      <td>28</td>\n",
              "      <td>8.8</td>\n",
              "      <td>17.1</td>\n",
              "      <td>0.4</td>\n",
              "      <td>2.2</td>\n",
              "      <td>6.2</td>\n",
              "      <td>6</td>\n",
              "      <td>57.0</td>\n",
              "      <td>7</td>\n",
              "      <td>7</td>\n",
              "      <td>24.0</td>\n",
              "      <td>31.0</td>\n",
              "      <td>61.0</td>\n",
              "      <td>50.0</td>\n",
              "      <td>1011.4</td>\n",
              "      <td>1008.2</td>\n",
              "      <td>7.0</td>\n",
              "      <td>4.0</td>\n",
              "      <td>13.9</td>\n",
              "      <td>15.7</td>\n",
              "      <td>0</td>\n",
              "      <td>1</td>\n",
              "    </tr>\n",
              "    <tr>\n",
              "      <th>5133</th>\n",
              "      <td>5134</td>\n",
              "      <td>2805</td>\n",
              "      <td>2</td>\n",
              "      <td>22.2</td>\n",
              "      <td>29.6</td>\n",
              "      <td>7.8</td>\n",
              "      <td>7.0</td>\n",
              "      <td>6.8</td>\n",
              "      <td>3</td>\n",
              "      <td>41.0</td>\n",
              "      <td>5</td>\n",
              "      <td>3</td>\n",
              "      <td>20.0</td>\n",
              "      <td>24.0</td>\n",
              "      <td>76.0</td>\n",
              "      <td>59.0</td>\n",
              "      <td>1007.9</td>\n",
              "      <td>1004.7</td>\n",
              "      <td>7.0</td>\n",
              "      <td>8.0</td>\n",
              "      <td>25.1</td>\n",
              "      <td>28.6</td>\n",
              "      <td>1</td>\n",
              "      <td>1</td>\n",
              "    </tr>\n",
              "    <tr>\n",
              "      <th>65500</th>\n",
              "      <td>65501</td>\n",
              "      <td>2733</td>\n",
              "      <td>26</td>\n",
              "      <td>12.6</td>\n",
              "      <td>16.4</td>\n",
              "      <td>0.2</td>\n",
              "      <td>4.4</td>\n",
              "      <td>6.8</td>\n",
              "      <td>3</td>\n",
              "      <td>30.0</td>\n",
              "      <td>3</td>\n",
              "      <td>5</td>\n",
              "      <td>13.0</td>\n",
              "      <td>13.0</td>\n",
              "      <td>85.0</td>\n",
              "      <td>90.0</td>\n",
              "      <td>1019.6</td>\n",
              "      <td>1016.7</td>\n",
              "      <td>6.0</td>\n",
              "      <td>6.0</td>\n",
              "      <td>13.0</td>\n",
              "      <td>13.9</td>\n",
              "      <td>0</td>\n",
              "      <td>1</td>\n",
              "    </tr>\n",
              "    <tr>\n",
              "      <th>92602</th>\n",
              "      <td>92603</td>\n",
              "      <td>3179</td>\n",
              "      <td>48</td>\n",
              "      <td>21.9</td>\n",
              "      <td>29.0</td>\n",
              "      <td>0.4</td>\n",
              "      <td>5.6</td>\n",
              "      <td>9.6</td>\n",
              "      <td>9</td>\n",
              "      <td>46.0</td>\n",
              "      <td>10</td>\n",
              "      <td>9</td>\n",
              "      <td>20.0</td>\n",
              "      <td>28.0</td>\n",
              "      <td>80.0</td>\n",
              "      <td>61.0</td>\n",
              "      <td>1019.3</td>\n",
              "      <td>1016.5</td>\n",
              "      <td>7.0</td>\n",
              "      <td>6.0</td>\n",
              "      <td>24.9</td>\n",
              "      <td>27.1</td>\n",
              "      <td>0</td>\n",
              "      <td>1</td>\n",
              "    </tr>\n",
              "    <tr>\n",
              "      <th>107190</th>\n",
              "      <td>107191</td>\n",
              "      <td>3159</td>\n",
              "      <td>14</td>\n",
              "      <td>17.8</td>\n",
              "      <td>27.4</td>\n",
              "      <td>3.0</td>\n",
              "      <td>4.4</td>\n",
              "      <td>6.8</td>\n",
              "      <td>8</td>\n",
              "      <td>19.0</td>\n",
              "      <td>10</td>\n",
              "      <td>9</td>\n",
              "      <td>6.0</td>\n",
              "      <td>4.0</td>\n",
              "      <td>98.0</td>\n",
              "      <td>55.0</td>\n",
              "      <td>1016.5</td>\n",
              "      <td>1014.2</td>\n",
              "      <td>6.0</td>\n",
              "      <td>6.0</td>\n",
              "      <td>20.0</td>\n",
              "      <td>26.8</td>\n",
              "      <td>1</td>\n",
              "      <td>1</td>\n",
              "    </tr>\n",
              "  </tbody>\n",
              "</table>\n",
              "</div>"
            ],
            "text/plain": [
              "            id  Tanggal  KodeLokasi  ...  Suhu3pm  BersaljuHariIni  Class\n",
              "62608    62609      521          28  ...     15.7                0      1\n",
              "5133      5134     2805           2  ...     28.6                1      1\n",
              "65500    65501     2733          26  ...     13.9                0      1\n",
              "92602    92603     3179          48  ...     27.1                0      1\n",
              "107190  107191     3159          14  ...     26.8                1      1\n",
              "\n",
              "[5 rows x 24 columns]"
            ]
          },
          "metadata": {
            "tags": []
          },
          "execution_count": 95
        }
      ]
    },
    {
      "cell_type": "code",
      "metadata": {
        "colab": {
          "base_uri": "https://localhost:8080/",
          "height": 282
        },
        "id": "-IHZ0cApVdol",
        "outputId": "b6173513-2cd4-4823-9816-d099c9730252"
      },
      "source": [
        "# Mengecek Outliers\n",
        "f,axes = plt.subplots(1,3)\n",
        "plt.figure(figsize=(20,10))\n",
        "salju_train_sampling['SuhuMin'].plot(kind='box',ax=axes[0])\n",
        "salju_train_sampling['SuhuMax'].plot(kind='box',ax=axes[1])\n",
        "salju_train_sampling['Class'].plot(kind='box',ax=axes[2])\n",
        "\n",
        "plt.show()"
      ],
      "execution_count": 96,
      "outputs": [
        {
          "output_type": "display_data",
          "data": {
            "image/png": "[encoded data removed]",
            "text/plain": [
              "<Figure size 432x288 with 3 Axes>"
            ]
          },
          "metadata": {
            "tags": [],
            "needs_background": "light"
          }
        },
        {
          "output_type": "display_data",
          "data": {
            "text/plain": [
              "<Figure size 1440x720 with 0 Axes>"
            ]
          },
          "metadata": {
            "tags": []
          }
        }
      ]
    },
    {
      "cell_type": "code",
      "metadata": {
        "colab": {
          "base_uri": "https://localhost:8080/"
        },
        "id": "rA_qbpCZTh0d",
        "outputId": "12669d24-ba48-4e0d-ea5f-ac73fc285a1e"
      },
      "source": [
        "#Metode IQR untuk SuhuMin\n",
        "Q1=salju_train_sampling['SuhuMin'].quantile(0.25)\n",
        "Q3=salju_train_sampling['SuhuMin'].quantile(0.75)\n",
        "IQR=Q3-Q1\n",
        "print(Q1)\n",
        "print(Q3)\n",
        "print(IQR)\n",
        "Lower_Whisker = Q1-1.5*IQR\n",
        "Upper_Whisker = Q3+1.5*IQR\n",
        "print(Lower_Whisker, Upper_Whisker)"
      ],
      "execution_count": 97,
      "outputs": [
        {
          "output_type": "stream",
          "text": [
            "8.0\n",
            "17.2\n",
            "9.2\n",
            "-5.799999999999999 31.0\n"
          ],
          "name": "stdout"
        }
      ]
    },
    {
      "cell_type": "code",
      "metadata": {
        "id": "iFi-6gsiZ7rP"
      },
      "source": [
        "salju_train_sampling = salju_train_sampling[salju_train_sampling['SuhuMin']< Upper_Whisker]\n",
        "salju_train_sampling = salju_train_sampling[salju_train_sampling['SuhuMin']> Lower_Whisker]"
      ],
      "execution_count": 98,
      "outputs": []
    },
    {
      "cell_type": "code",
      "metadata": {
        "colab": {
          "base_uri": "https://localhost:8080/"
        },
        "id": "iF6CUL4kciww",
        "outputId": "990c9309-c230-420d-e92e-191a66d50646"
      },
      "source": [
        "#Metode IQR untuk SuhuMax\n",
        "Q1=salju_train_sampling['SuhuMax'].quantile(0.25)\n",
        "Q3=salju_train_sampling['SuhuMax'].quantile(0.75)\n",
        "IQR=Q3-Q1\n",
        "print(Q1)\n",
        "print(Q3)\n",
        "print(IQR)\n",
        "Lower_Whisker = Q1-1.5*IQR\n",
        "Upper_Whisker = Q3+1.5*IQR\n",
        "print(Lower_Whisker, Upper_Whisker)"
      ],
      "execution_count": 99,
      "outputs": [
        {
          "output_type": "stream",
          "text": [
            "17.2\n",
            "27.4\n",
            "10.2\n",
            "1.9000000000000004 42.699999999999996\n"
          ],
          "name": "stdout"
        }
      ]
    },
    {
      "cell_type": "code",
      "metadata": {
        "id": "ZMRmN7asaGbs"
      },
      "source": [
        "salju_train_sampling = salju_train_sampling[salju_train_sampling['SuhuMax']< Upper_Whisker]\n",
        "salju_train_sampling = salju_train_sampling[salju_train_sampling['SuhuMax']> Lower_Whisker]"
      ],
      "execution_count": 100,
      "outputs": []
    },
    {
      "cell_type": "code",
      "metadata": {
        "colab": {
          "base_uri": "https://localhost:8080/",
          "height": 282
        },
        "id": "ubOStJFDdvDN",
        "outputId": "62464bf1-139e-4699-9ebf-d16ab081e183"
      },
      "source": [
        "# Mengecek Outliers setelah menggunakan metode IQR\n",
        "f,axes = plt.subplots(1,3)\n",
        "plt.figure(figsize=(20,10))\n",
        "salju_train_sampling['SuhuMin'].plot(kind='box',ax=axes[0])\n",
        "salju_train_sampling['SuhuMax'].plot(kind='box',ax=axes[1])\n",
        "salju_train_sampling['Class'].plot(kind='box',ax=axes[2])\n",
        "\n",
        "plt.show()"
      ],
      "execution_count": 101,
      "outputs": [
        {
          "output_type": "display_data",
          "data": {
            "image/png": "[encoded data removed]",
            "text/plain": [
              "<Figure size 432x288 with 3 Axes>"
            ]
          },
          "metadata": {
            "tags": [],
            "needs_background": "light"
          }
        },
        {
          "output_type": "display_data",
          "data": {
            "text/plain": [
              "<Figure size 1440x720 with 0 Axes>"
            ]
          },
          "metadata": {
            "tags": []
          }
        }
      ]
    },
    {
      "cell_type": "code",
      "metadata": {
        "colab": {
          "base_uri": "https://localhost:8080/"
        },
        "id": "Mn1pANcPTs9S",
        "outputId": "fa52e8f8-1843-4c1c-ba6a-5e6fd27acbd1"
      },
      "source": [
        "# Mengecek Data Unique\n",
        "def check(data):\n",
        "  for col in data.columns:\n",
        "    print(col, data[col].unique())\n",
        "\n",
        "check(salju_train_sampling)"
      ],
      "execution_count": 102,
      "outputs": [
        {
          "output_type": "stream",
          "text": [
            "id [ 62609   5134  65501 ... 109093 109094 109095]\n",
            "Tanggal [ 521 2805 2733 ... 3010 1002 3153]\n",
            "KodeLokasi [28  2 26 48 14 45 31 21 39 25 16 33  8  7  9 11 42  4 23 37  1 41  3 47\n",
            " 20 15 34  0 27 46 22 38 17 10 18 24 35 19 30 13 12  5  6 32 29 44 36 40\n",
            " 43]\n",
            "SuhuMin [ 8.8 22.2 12.6 21.9 17.8 26.6 19.8 20.5 12.1 12.9 21.1 11.4 13.5 10.9\n",
            " 25.  14.9 19.6 15.2 13.7 20.4  3.9  6.1 13.9 16.1 10.7 13.  22.3 19.2\n",
            " 20.1  5.5 16.3 12.3  9.2 16.7  3.3  3.6 14.2 12.2 23.2 17.2  4.4 14.7\n",
            "  4.8 12.8  4.6 10.5 14.1 12.5  8.2 18.6 18.1  4.3 21.5 19.5  8.6  5.4\n",
            " 17.1  7.4 11.6  6.8 24.7 25.5 23.3 19.3 15.5 24.2 16.9  5.6 24.  10.2\n",
            "  6.  15.8 10.3 13.8 15.1 27.4 21.7  8.3  1.1 21.6  6.9 23.4 17.6 17.5\n",
            "  4.   7.8 13.6  1.3 14.6 24.3 11.9 11.8 20.2  1.8 15.7 15.6  4.7  9.1\n",
            "  3.  18.2 18.9  5.2  1.4 24.5  9.5  9.6  7.6 13.4  7.1  6.7 16.   9.7\n",
            " -1.8 28.  23.5 -3.5 10.   9.4  1.7 26.5 12.7  3.5 14.5 21.3 24.1 14.4\n",
            "  0.7 18.3 18.4 20.6 21.4  5.3 24.8  7.2  4.2  9.8 17.3 16.4 22.7 16.5\n",
            " 14.3 10.6  5.1  6.4  7.3  6.5 17.7 15.9  2.9  8.7 24.4  8.4 16.8  8.1\n",
            " 18.5 24.9 19.9  5.7 25.8  7.  11.2 20.8 21.   8.5 23.9  8.  18.  20.9\n",
            "  7.7 10.1 15.4 11.  13.2  8.9 25.2 26.8  9.3  3.4 15.3  0.  22.5  4.1\n",
            " 24.6  3.8 22.9 27.5 11.3 21.2 10.8 -2.5 20.   3.7 17.  25.1 13.3 14.\n",
            " 22.8 19.4  5.8 11.5  4.9  3.1 -0.9 22.1 21.8 11.1  6.2 23.6  5.9  7.9\n",
            " 11.7  9.9 27.1  5.  13.1 16.2 19.  22.6 23.  12.4 23.7 26.2 28.3 -1.\n",
            " 25.6 16.6  7.5 18.8 12.  25.4  6.6  6.3 10.4  4.5  2.4  9.  15.  20.7\n",
            " 25.3  3.2 17.9 23.1  1.9  2.6 22.4 22.  -1.5 27.9 23.8  2.5 25.7 19.7\n",
            " -0.8  1.  17.4 19.1 -1.4 27.7 -0.2 -0.5 -3.7 18.7  0.9 28.6  2.2  2.3\n",
            " 14.8  2.1  0.8  2.7 25.9 27.  26.7  1.6 26.  20.3 -0.1  0.3 -0.7  0.5\n",
            "  1.2 26.4 26.3 26.1  0.4  2.  -4.3 28.8 -2.3  0.2 -3.9 -1.3  2.8  1.5\n",
            " -2.7 -3.  29.1 -1.6 -0.4 -2.1 -4.9 -1.7 -1.1 27.2 27.3 -0.6 -3.2 -3.6\n",
            " -2.  -2.6 -3.4 -0.3 -2.4 -1.2 30.2 -3.8 -1.9  0.1 -4.4 28.1 29.8 28.2\n",
            " -2.2 27.6 -4.7 -5.3  0.6 26.9 29.3 -2.8 28.5 29.7 -4.5 -3.3 27.8 -2.9\n",
            " -5.6 28.4 -5.5 -5.  -4.2 -4.8 -4.1 28.7 -5.4 29.  -4.6 -3.1 -5.1 28.9\n",
            " -4.  29.2 -5.2 -5.7 29.4]\n",
            "SuhuMax [17.1 29.6 16.4 29.  27.4 29.5 28.7 25.1 19.6 30.6 30.3 16.2 26.4 17.4\n",
            " 32.7 16.6 26.3 18.  15.2 28.1 14.3 12.2 20.7 23.8 25.9 15.4 17.5 27.3\n",
            " 24.6 38.8 13.8 21.5 29.4 23.7 21.1 28.  30.  13.2 23.1 25.8 22.8 24.7\n",
            " 20.  10.2 18.6 13.9 15.8 18.4 15.9 31.6 28.9 29.7 27.9 21.  31.7 22.\n",
            " 31.1 33.4 25.4 21.8 31.  16.8 19.4 18.8 28.6 22.9 14.9 16.  34.2 29.3\n",
            " 17.3 23.6  5.9 16.5 15.  18.3 33.2 20.9 21.4 19.  22.6 19.1 17.6 25.5\n",
            " 32.  36.  26.1 25.6 15.3 21.7 20.8 14.4 20.4 24.4 11.6 32.3 20.2 15.5\n",
            " 11.  22.4 14.  21.9 14.8 26.2 24.  13.1 32.4 16.9 27.2  8.3 30.7  2.9\n",
            " 24.2 13.7 24.5 31.9 16.3  6.4 27.1 27.5 12.7 24.1 12.  11.4 23.3 28.3\n",
            " 28.2 18.5 18.7 18.1 15.6 10.4 16.7 34.6 19.5 29.9 25.7 27.7 13.3 30.8\n",
            " 16.1 22.5 19.3 14.1 32.9 15.1 22.7 31.5 32.5 21.3 17.9 22.2 17.8 25.3\n",
            " 26.9 24.9 37.9 34.5 30.2 11.5 11.8 27.  26.8 35.2 12.6 31.8 20.3 10.9\n",
            " 21.2 27.8 12.4 18.9 12.5 17.7 13.6 20.1 32.2 17.  29.8  3.9 12.3 30.1\n",
            " 17.2 12.1 33.9 19.8 22.3 23.9 33.5 29.1 10.8 15.7 36.5 14.5 34.  19.9\n",
            " 24.8 40.  22.1 35.  27.6 23.  38.7  7.   9.2 34.1 36.1 13.5 19.7 21.6\n",
            " 38.6  9.8 13.  11.2 19.2 24.3  8.5  9.1 14.2 12.8 20.5 13.4 34.7  5.6\n",
            " 11.3 33.8 30.5 39.1 23.5 10.6 33.3 34.3 28.8 12.9 11.9 38.2 14.6 28.5\n",
            " 11.7 33.1 10.7  7.3 18.2  8.7 35.6 35.8 14.7 30.9 31.4 10.5 20.6 26.5\n",
            " 25.2 23.2 28.4 25.   9.7  8.4 36.6 40.1 32.1 33.6 26.  10.1 33.7 10.\n",
            "  9.5 23.4 29.2 37.5  9.9 35.5 35.7 32.8 34.9 35.4  6.9  8.2 39.5 37.4\n",
            " 31.2  4.2 31.3 37.7 41.1 36.8 26.6  8.1 26.7  9.3 37.1 41.9  2.6 30.4\n",
            "  7.9  3.7  9.6 35.1 11.1 32.6 40.9 10.3 39.   8.8  8.9  9.  36.4 39.9\n",
            "  5.8 41.5 33.   7.8 36.2 34.4 40.7 36.7  5.1  7.2 39.4  4.  37.8 41.3\n",
            " 35.3 38.4 38.3  4.9 35.9 38.   9.4 37.3 41.6  7.1 38.5 37.6 36.9  6.1\n",
            "  4.6  6.3 39.6  7.5 42.5  4.7  2.1 40.5 38.9 36.3 34.8  5.4 37.2  6.\n",
            "  7.4  8.6  4.4  2.8 39.2  3.2  3.5 40.4  6.5 37.   7.7 40.2 40.8  4.8\n",
            " 38.1  3.1 41.8 41.   2.2  6.2 39.3  3.8 39.7  6.6 39.8  2.5  6.8 42.3\n",
            " 40.3  5.2 40.6  3.   7.6  4.3 42.  42.1  3.4 41.4  2.3 42.4  6.7  5.\n",
            "  4.5 42.2  3.3  4.1  5.3  2.7 41.2  8.  41.7  2.4 42.6  3.6  2.   5.7\n",
            "  5.5]\n",
            "Hujan [4.000e-01 7.800e+00 2.000e-01 3.000e+00 4.200e+00 7.200e+00 1.280e+01\n",
            " 0.000e+00 3.200e+00 3.400e+00 3.800e+01 1.260e+01 3.600e+00 2.600e+00\n",
            " 6.800e+00 1.600e+00 1.500e+01 8.600e+00 1.360e+01 8.800e+00 8.000e-01\n",
            " 6.000e-01 4.520e+01 9.200e+00 3.580e+01 1.800e+00 5.400e+00 2.400e+00\n",
            " 2.000e+00 4.800e+00 9.800e+00 6.400e+00 4.400e+00 6.280e+01 2.120e+01\n",
            " 3.800e+00 2.640e+01 6.200e+00 3.960e+01 7.580e+01 1.520e+01 1.480e+01\n",
            " 5.200e+01 3.300e+01 3.020e+01 1.220e+01 1.320e+01 7.400e+00 1.120e+01\n",
            " 9.400e+00 1.200e+00 1.200e+01 2.140e+01 1.740e+01 1.780e+01 2.800e+00\n",
            " 6.600e+00 1.660e+01 6.000e+00 1.080e+01 1.400e+01 3.540e+01 8.200e+00\n",
            " 4.600e+00 1.180e+01 8.000e+00 1.680e+01 6.880e+01 1.540e+01 4.400e+01\n",
            " 7.600e+00 1.380e+01 1.040e+01 1.500e+00 5.000e+00 7.000e+00 1.940e+01\n",
            " 3.500e+01 5.840e+01 1.400e+00 2.000e+01 2.540e+01 6.500e+01 1.060e+01\n",
            " 8.400e+00 6.120e+01 7.000e-01 1.840e+01 2.200e+00 3.120e+01 2.220e+01\n",
            " 4.180e+01 9.600e+00 2.200e+01 4.580e+01 2.620e+01 1.000e+01 4.060e+01\n",
            " 2.300e+00 3.720e+01 4.000e+00 1.820e+01 1.090e+01 1.700e+01 3.220e+01\n",
            " 1.000e+00 1.020e+01 5.800e+00 3.420e+01 3.100e+01 1.560e+01 3.180e+01\n",
            " 2.440e+01 2.580e+01 5.580e+01 4.360e+01 2.260e+01 1.420e+01 1.600e+01\n",
            " 2.040e+01 3.160e+01 2.300e+01 3.440e+01 2.720e+01 2.020e+01 1.860e+01\n",
            " 5.200e+00 1.720e+01 6.620e+01 2.320e+01 5.340e+01 1.160e+01 2.900e+01\n",
            " 3.400e+01 1.900e+01 1.340e+01 1.230e+01 2.160e+01 2.860e+01 5.600e+00\n",
            " 1.140e+01 4.720e+01 2.100e+01 4.800e+01 5.080e+01 8.360e+01 1.000e-01\n",
            " 5.420e+01 2.940e+01 2.420e+01 2.820e+01 3.820e+01 4.700e+01 1.960e+01\n",
            " 6.980e+01 2.660e+01 1.580e+01 8.860e+01 8.040e+01 4.980e+01 2.900e+00\n",
            " 1.100e+01 3.600e+01 5.960e+01 2.680e+01 9.000e-01 1.226e+02 4.040e+01\n",
            " 1.880e+01 1.980e+01 3.360e+01 8.380e+01 5.880e+01 2.980e+01 5.640e+01\n",
            " 3.080e+01 3.200e+01 1.752e+02 5.860e+01 2.560e+01 2.080e+01 2.360e+01\n",
            " 9.000e+00 1.240e+01 3.760e+01 4.260e+01 6.100e+00 2.400e+01 5.240e+01\n",
            " 3.700e+01 2.784e+02 2.700e+01 3.140e+01 2.180e+01 2.060e+01 4.740e+01\n",
            " 3.640e+01 1.460e+01 1.330e+01 4.300e+01 5.000e-01 4.440e+01 7.180e+01\n",
            " 4.460e+01 3.320e+01 1.440e+01 1.134e+02 2.780e+01 3.480e+01 5.060e+01\n",
            " 5.400e+01 3.380e+01 2.650e+01 1.364e+02 1.620e+01 3.060e+01 3.560e+01\n",
            " 2.800e+01 4.900e+00 2.500e+01 7.880e+01 1.450e+01 2.460e+01 1.760e+01\n",
            " 2.240e+01 2.280e+01 3.920e+01 5.100e+01 5.780e+01 3.660e+01 3.840e+01\n",
            " 5.940e+01 3.680e+01 5.040e+01 5.000e+01 4.160e+01 4.100e+01 3.340e+01\n",
            " 5.660e+01 2.340e+01 3.250e+01 2.150e+01 7.100e+01 4.380e+01 1.300e+01\n",
            " 6.180e+01 8.320e+01 4.200e+01 7.740e+01 2.740e+01 2.840e+01 5.980e+01\n",
            " 4.500e+00 3.000e-01 3.460e+01 2.480e+01 6.560e+01 7.340e+01 2.520e+01\n",
            " 5.500e+00 4.140e+01 1.640e+01 8.540e+01 4.240e+01 3.260e+01 4.860e+01\n",
            " 2.760e+01 9.280e+01 7.200e+01 4.480e+01 1.800e+01 2.880e+01 5.900e+01\n",
            " 4.600e+01 5.260e+01 6.040e+01 5.700e+01 4.960e+01 5.700e+00 8.560e+01\n",
            " 3.000e+01 3.900e+01 4.680e+01 2.380e+01 4.320e+01 7.000e+01 4.000e+01\n",
            " 4.840e+01 8.460e+01 4.880e+01 7.120e+01 2.990e+01 1.202e+02 1.920e+01\n",
            " 4.640e+01 4.420e+01 5.120e+01 2.600e+01 6.800e+01 3.110e+01 1.900e+00\n",
            " 1.276e+02 1.700e+00 7.080e+01 4.560e+01 6.900e+01 6.420e+01 2.100e+00\n",
            " 4.080e+01 3.280e+01 8.500e+01 1.100e+00 5.160e+01 5.760e+01 5.480e+01\n",
            " 4.900e+01 4.340e+01 7.480e+01 8.120e+01 1.020e+02 3.860e+01 2.270e+01\n",
            " 3.980e+01 8.160e+01 3.520e+01 6.480e+01 1.064e+02 3.620e+01 3.780e+01\n",
            " 1.176e+02 3.430e+01 1.282e+02 1.150e+01 1.108e+02 2.163e+02 1.002e+02\n",
            " 6.950e+01 6.700e+01 2.106e+02 5.680e+01 8.700e+00 5.740e+01 5.300e+01\n",
            " 6.140e+01 4.540e+01 1.830e+02 7.160e+01 7.680e+01 1.550e+02 4.660e+01\n",
            " 1.486e+02 7.020e+01 3.040e+01 1.456e+02 7.380e+01 1.190e+01 7.320e+01\n",
            " 9.160e+01 9.340e+01 7.140e+01 9.920e+01 5.360e+01 1.422e+02 9.680e+01\n",
            " 5.220e+01 7.620e+01 1.325e+02 3.500e+00 4.550e+01 9.560e+01 2.960e+01\n",
            " 2.068e+02 4.920e+01 1.300e+00 2.500e+00 4.280e+01 6.400e+01 6.020e+01\n",
            " 1.182e+02 7.600e+01 5.500e+01 6.860e+01 7.560e+01 3.940e+01 7.940e+01\n",
            " 5.320e+01 9.500e+00 4.120e+01 4.820e+01 1.214e+02 6.820e+01 1.010e+01\n",
            " 6.500e+00 8.480e+01 5.540e+01 5.380e+01 1.058e+02 7.220e+01 5.140e+01\n",
            " 8.220e+01 1.314e+02 5.600e+01 8.340e+01 3.240e+01 6.260e+01 4.940e+01\n",
            " 3.710e+02 2.920e+01 1.076e+02 3.880e+01 1.746e+02 2.070e+01 6.540e+01\n",
            " 1.056e+02 7.920e+01 2.250e+02 1.294e+02 6.920e+01 9.360e+01 4.500e+01\n",
            " 2.390e+01 5.180e+01 1.684e+02 1.018e+02 1.326e+02 3.790e+01 1.042e+02\n",
            " 9.400e+01 8.740e+01 8.980e+01 5.280e+01 6.300e+01 1.642e+02 1.060e+02\n",
            " 1.144e+02 8.500e+00 8.640e+01 7.760e+01 5.520e+01 8.080e+01 8.260e+01\n",
            " 1.052e+02 1.270e+01 6.100e+01 6.360e+01 6.240e+01 3.740e+01 9.140e+01\n",
            " 5.620e+01 2.062e+02 1.096e+02 5.440e+01 4.760e+01 4.780e+01 2.290e+01\n",
            " 7.520e+01 5.460e+01 6.900e+00 5.560e+01 1.348e+02 1.850e+01 1.570e+01\n",
            " 1.750e+01 1.580e+02 1.284e+02 4.020e+01 4.220e+01 8.940e+01 6.640e+01\n",
            " 1.670e+02 1.004e+02 8.680e+01 1.782e+02 1.094e+02 4.620e+01 1.890e+02\n",
            " 9.220e+01 9.440e+01 8.920e+01 6.580e+01 9.260e+01 6.700e+00 8.700e+01\n",
            " 7.640e+01 1.122e+02 3.070e+01 8.780e+01 9.640e+01 7.840e+01 8.900e+01\n",
            " 8.760e+01 1.502e+02 8.280e+01 6.520e+01 5.020e+01 9.000e+01 8.240e+01\n",
            " 1.776e+02 2.686e+02 9.380e+01 6.780e+01 7.300e+01 1.022e+02 6.000e+01\n",
            " 1.472e+02 9.100e+01 5.920e+01 8.400e+01 6.200e+01 7.460e+01 1.250e+01\n",
            " 9.300e+01 1.248e+02 1.062e+02 6.840e+01 2.950e+01 7.260e+01 8.420e+01\n",
            " 1.130e+02 3.990e+01 1.704e+02 7.280e+01 1.054e+02 6.320e+01 9.060e+01\n",
            " 5.820e+01 7.500e+01 6.160e+01 9.610e+01 2.085e+02 1.616e+02 6.460e+01\n",
            " 1.412e+02 4.730e+01 1.622e+02 1.652e+02 9.580e+01 1.366e+02 1.450e+02\n",
            " 1.532e+02 6.960e+01 9.820e+01 3.390e+01 3.676e+02 1.158e+02 1.120e+02\n",
            " 1.418e+02 8.020e+01 1.050e+02 1.208e+02 8.140e+01 1.550e+01 1.438e+02\n",
            " 3.100e+00 1.970e+01 7.720e+01 6.340e+01 1.152e+02 9.940e+01 1.194e+02\n",
            " 8.800e+01 1.668e+02 7.780e+01 1.048e+02 6.410e+01 4.700e+00 5.800e+01\n",
            " 3.270e+01 8.820e+01 5.900e+00 3.300e+00 1.046e+02 7.800e+01 1.264e+02\n",
            " 7.420e+01 7.660e+01 8.180e+01 8.060e+01 1.568e+02 1.576e+02 5.300e+00\n",
            " 1.826e+02 8.100e+01 1.186e+02 1.210e+01 9.800e+01 8.300e+01 2.930e+01\n",
            " 7.980e+01 1.810e+01 9.520e+01 9.700e+01 7.900e+01 1.402e+02 2.700e+00\n",
            " 1.260e+02 1.452e+02 1.150e+02 2.530e+01 1.598e+02 1.390e+01 7.820e+01\n",
            " 2.250e+01 1.478e+02 1.390e+02 6.220e+01 7.100e+00 2.090e+01 1.074e+02\n",
            " 7.360e+01 2.910e+01 1.106e+02 1.092e+02 7.300e+00 2.196e+02 2.400e+02\n",
            " 1.428e+02 6.600e+01 2.370e+01 8.440e+01 1.110e+01 1.068e+02 6.380e+01\n",
            " 4.100e+00 6.080e+01 1.154e+02 1.118e+02 4.150e+01]\n",
            "Penguapan [2.20e+00 7.00e+00 4.40e+00 5.60e+00 1.80e+00 1.20e+00 1.00e+00 6.00e+00\n",
            " 7.40e+00 8.00e-01 7.80e+00 6.60e+00 4.80e+00 5.40e+00 1.40e+00 1.30e+01\n",
            " 5.80e+00 4.00e-01 4.20e+00 8.40e+00 3.40e+00 2.80e+00 2.40e+00 2.60e+00\n",
            " 5.20e+00 3.00e+00 6.40e+00 2.00e+00 4.00e+00 8.20e+00 4.60e+00 2.86e+01\n",
            " 3.20e+00 2.30e+00 3.70e+00 3.80e+00 6.20e+00 2.00e-01 8.00e+00 3.60e+00\n",
            " 6.80e+00 9.00e-01 8.60e+00 9.60e+00 1.60e+00 1.04e+01 2.50e+00 7.60e+00\n",
            " 2.10e+00 1.00e+01 9.80e+00 9.00e+00 8.80e+00 7.20e+00 6.00e-01 1.90e+00\n",
            " 1.70e+00 0.00e+00 1.36e+01 9.20e+00 1.42e+01 1.22e+01 1.20e+01 1.02e+01\n",
            " 1.06e+01 5.00e+00 1.62e+01 1.08e+01 1.56e+01 9.40e+00 4.30e+00 1.80e+01\n",
            " 1.28e+01 2.90e+00 1.46e+01 1.10e+01 1.24e+01 1.16e+01 3.30e+00 1.70e+01\n",
            " 1.18e+01 5.10e+00 1.14e+01 1.82e+01 1.32e+01 1.88e+01 1.10e+00 2.38e+01\n",
            " 3.20e+01 1.26e+01 1.12e+01 1.60e+01 3.02e+01 6.30e+00 1.50e+00 2.04e+01\n",
            " 3.04e+01 1.34e+01 4.10e+00 1.30e+00 2.76e+01 7.70e+00 5.50e+00 1.58e+01\n",
            " 1.94e+01 1.38e+01 4.70e+00 1.48e+01 1.52e+01 1.66e+01 1.50e+01 1.72e+01\n",
            " 9.70e+00 4.50e+00 1.78e+01 1.96e+01 1.54e+01 3.00e-01 2.10e+01 5.30e+00\n",
            " 1.44e+01 8.10e+00 3.10e+00 1.76e+01 1.40e+01 1.68e+01 7.90e+00 2.06e+01\n",
            " 5.00e-01 1.98e+01 1.53e+01 1.27e+01 2.00e+01 2.74e+01 2.70e+00 4.30e+01\n",
            " 5.90e+00 1.86e+01 1.00e-01 2.28e+01 3.50e+00 2.88e+01 7.50e+00 1.31e+01\n",
            " 4.90e+00 1.64e+01 2.56e+01 1.92e+01 2.34e+01 2.24e+01 2.44e+01 2.51e+01\n",
            " 3.54e+01 6.10e+00 7.00e-01 9.90e+00 4.23e+01 2.20e+01 1.21e+01 2.92e+01\n",
            " 2.84e+01 1.01e+01 2.72e+01 6.70e+00 2.66e+01 2.02e+01 2.42e+01 7.10e+00\n",
            " 1.11e+01 7.48e+01 2.30e+01 1.74e+01 3.38e+01 1.81e+01 1.07e+01 1.03e+01\n",
            " 2.58e+01 1.90e+01 2.40e+01 5.56e+01 2.14e+01 3.86e+01 3.08e+01 6.90e+00\n",
            " 2.48e+01 1.93e+01 1.84e+01 5.58e+01 2.08e+01 2.22e+01 4.08e+01 2.36e+01\n",
            " 9.10e+00 3.42e+01 2.68e+01 7.30e+00 2.94e+01 2.16e+01 3.12e+01 3.60e+01\n",
            " 2.26e+01 3.74e+01 3.14e+01 2.12e+01 7.00e+01 3.94e+01 5.62e+01 2.32e+01\n",
            " 2.80e+01 4.18e+01 4.20e+01 1.45e+02 5.94e+01 3.30e+01 2.50e+01 6.50e+00\n",
            " 5.70e+00 1.49e+01 9.50e+00 1.15e+01 2.82e+01 3.52e+01 3.90e+00 8.30e+00\n",
            " 3.44e+01 2.78e+01 3.32e+01 1.77e+01 7.73e+01 2.60e+01 3.56e+01 3.26e+01\n",
            " 6.08e+01 5.36e+01 3.28e+01 8.50e+00 3.70e+01 4.36e+01 3.16e+01 4.32e+01\n",
            " 2.62e+01 3.76e+01 1.05e+01 1.51e+01 6.44e+01 3.84e+01 2.70e+01 3.34e+01\n",
            " 5.76e+01 2.52e+01 6.20e+01 4.84e+01 4.88e+01 9.30e+00 3.40e+01 1.23e+01\n",
            " 2.98e+01 3.62e+01 6.02e+01 3.36e+01 5.66e+01 3.72e+01 2.64e+01 8.62e+01\n",
            " 3.46e+01 5.04e+01 4.00e+01 5.50e+01 5.72e+01 3.80e+01 4.66e+01 5.16e+01\n",
            " 1.09e+01 3.64e+01 4.22e+01 4.16e+01 4.70e+01 3.10e+01 5.10e+01 4.26e+01\n",
            " 2.18e+01 1.13e+01 1.39e+01 4.62e+01 2.46e+01 8.70e+00 5.40e+01 1.45e+01\n",
            " 4.72e+01 4.42e+01 4.24e+01 7.22e+01 8.90e+00 5.52e+01 1.25e+01 4.68e+01\n",
            " 5.64e+01 1.35e+01 6.30e+01 5.92e+01 5.48e+01 1.19e+01 3.00e+01 2.31e+01\n",
            " 1.71e+01 6.88e+01 3.88e+01 7.04e+01 3.22e+01 6.54e+01 5.08e+01 5.85e+01\n",
            " 2.25e+01 1.91e+01 1.43e+01 2.54e+01 5.96e+01 6.48e+01 2.05e+01 4.40e+01]\n",
            "SinarMatahari [ 6.2  6.8  9.6  0.7 10.1  7.2 13.5  4.2  3.1  1.3  4.4  4.6  1.9  3.4\n",
            "  4.  12.7  0.   6.5  2.9  2.1  8.8  4.1  1.1  4.8  6.   9.8  1.5  7.7\n",
            " 10.3  1.2  9.5  8.3  4.9 11.1  8.4  3.3  9.1  5.7  1.6  7.9  5.3  6.4\n",
            "  0.1  3.2  1.8  0.6  0.5  8.9 10.   1.4  2.4  5.8 12.2  1.   3.9  8.5\n",
            "  6.3  3.5  5.6  9.2  2.7  6.6  0.8  2.8  4.5  8.7  2.3  9.3 12.1  4.3\n",
            "  0.4  5.   6.7  2.   7.5  3.6  5.2  4.7  8.1  2.6  0.9  0.2 11.4  2.5\n",
            "  5.4  6.9  3.8  9.7  8.6  2.2  8.   5.1  7.3  7.8 10.6 11.5  5.5  8.2\n",
            "  7.   6.1  3.  10.8  9.4  0.3 10.5  5.9 11.   1.7 10.4 13.3  7.1 12.\n",
            "  7.6 13.8  7.4  9.9  9.   3.7 13.1 11.2 10.2 11.9 11.6 10.9 11.8 12.3\n",
            " 11.3 12.8 12.5 13.  12.9 12.4 10.7 11.7 12.6 13.2 13.9 13.4 13.7 13.6\n",
            " 14.  14.2 14.1 14.3]\n",
            "ArahAnginTerkencang [ 6  3  9  8 14  5 13  7 10  1  2  0 15 12 11  4]\n",
            "KecepatanAnginTerkencang [ 57.  41.  30.  46.  19.  59.  26.  39.  76.  43.  50.  31.  28.  48.\n",
            "  37.  44.  56.  91.  35.  33.  65.  63.  22.  83.  67.  69.  72.  15.\n",
            "  61. 107.  17.  96. 109.  54.  20.  70.  81.  78.  93.  24.  52.  89.\n",
            "   7.  74. 100.  98.  11.  13.  80.  87.  85. 102. 117. 113.   9. 106.\n",
            " 122. 104. 135.  94. 111. 126. 120. 124. 115. 130.]\n",
            "ArahAngin9am [ 7  5  3 10  9  6 11 15  8 14  1  2 12 13  0  4]\n",
            "ArahAngin3pm [ 7  3  5  9 15  2 14 10  4  6  8 13 11  0 12  1]\n",
            "KecepatanAngin9am [ 24.  20.  13.   6.  11.  31.   9.   4.  19.  17.   7.  35.  22.  15.\n",
            "  30.   0.  44.  28.  39.  26.  69.   2.  63.  37.  52.  46.  33.  43.\n",
            "  41.  67.  50.  65.  48.  56.  54.  57.  59.  87.  61.  74. 130.]\n",
            "KecepatanAngin3pm [31. 24. 13. 28.  4. 11. 43. 20.  9. 26. 17. 37. 30. 19. 22. 15. 54.  7.\n",
            "  6. 33. 35. 39.  2. 69. 41. 52.  0. 46. 50. 44. 61. 48. 59. 63. 56. 87.\n",
            " 74. 57. 65. 72. 76. 78. 67.]\n",
            "Kelembaban9am [ 61.  76.  85.  80.  98.  84.  49.  95.  71.  65.  91.  89.  58.  94.\n",
            "  66.  99.  83.  96.  93.  90.  67.  68.  87. 100.  42.  78.  77.  74.\n",
            "  92.  70.  88.  75.  79.  59.  73.  60.  62.  57.  52.  86.  64.  69.\n",
            "  37.  97.  81.  63.  55.  56.  46.  82.  54.  53.  44.  72.  47.  34.\n",
            "  22.  51.  48.  32.  50.  16.  43.  31.  40.  39.  45.  33.  24.  30.\n",
            "  15.  21.  23.  38.  29.  35.   5.  41.  26.  25.  36.  27.  28.  19.\n",
            "  18.  20.  17.  14.  13.  11.   8.   9.  10.  12.   2.   7.   4.   3.\n",
            "   6.   1.   0.]\n",
            "Kelembaban3pm [ 50.  59.  90.  61.  55.  80.  47.  78.  88.  31.  77.  83.  37.  96.\n",
            "  98.  91.  94.  72.  53.  86.  56.  68.  33.  84.  43.  62.  76.  39.\n",
            "  69.  58.  74.  67.  54.  89.  66.  65.  34.  52.  92.  46.  38.  73.\n",
            "  42.  99.  48.  63. 100.  95.  60.  97.  29.  87.  36.  75.  70.  93.\n",
            "  25.  57.  71.  40.  64.  79.  44.  82.  35.  27.  85.  32.  51.  20.\n",
            "  81.  41.  19.  49.  28.  30.  45.  21.  23.  26.  24.  14.  15.  12.\n",
            "  16.  22.   1.  18.  10.  17.   3.   8.  13.  11.   9.   6.   5.   4.\n",
            "   7.   2.   0.]\n",
            "Tekanan9am [1011.4 1007.9 1019.6 1019.3 1016.5 1011.9 1023.  1012.  1013.3 1006.8\n",
            " 1015.9 1015.3 1008.7 1010.8  995.8 1019.2 1005.3 1024.2 1028.6 1014.5\n",
            " 1024.8 1015.  1012.1  994.5 1010.5 1018.9 1008.8 1017.9 1001.1 1013.8\n",
            " 1004.8 1006.9 1020.1 1017.7 1018.1 1015.7 1013.7 1007.  1009.7 1015.6\n",
            " 1010.9 1022.1 1017.8 1016.9 1008.5 1009.1 1001.6 1011.2 1008.6 1020.\n",
            " 1008.3 1024.1 1028.2 1025.4 1012.7 1014.6 1012.6 1014.3 1019.  1022.\n",
            " 1003.2 1019.1 1021.2 1004.4 1012.3 1016.2 1026.5 1012.8 1010.3 1008.2\n",
            " 1014.1 1024.  1007.7 1021.8 1013.6 1023.2 1025.  1028.1 1019.7 1021.\n",
            " 1020.7 1018.6 1023.7 1006.1 1013.2  999.8 1012.5 1005.1 1022.6 1034.2\n",
            " 1020.4 1025.3 1014.  1013.4 1016.4 1011.7 1024.4 1007.5 1000.3 1017.\n",
            "  996.5 1007.2 1018.2 1029.6 1012.2 1024.6 1007.8 1021.1 1009.9  998.7\n",
            " 1011.1 1007.4 1011.8 1006.  1023.1 1018.4 1013.5 1023.9 1013.  1005.6\n",
            " 1008.1  997.9 1023.5 1014.2  998.9 1011.  1026.  1001.9 1006.2 1028.\n",
            " 1015.5 1011.5 1021.5 1021.7 1020.5 1033.6 1020.2 1005.  1024.7 1002.5\n",
            " 1013.9 1022.4 1016.3 1016.1 1008.4 1007.6 1010.4 1000.8 1016.  1013.1\n",
            " 1021.6 1003.3 1022.2 1002.8 1017.3 1020.8 1010.1 1019.5 1005.4  996.4\n",
            "  997.6 1022.5 1007.1  999.3 1027.8 1009.8  999.7 1023.6 1017.6 1016.7\n",
            " 1015.2 1011.6 1011.3 1023.8 1005.7 1018.8 1021.3 1014.8 1000.9 1018.7\n",
            " 1022.8 1003.4 1023.3 1003.5  998.5 1031.9 1016.6 1010.6 1022.7 1025.2\n",
            " 1009.6  996.6 1008.  1018.3 1010.  1006.6 1024.3  998.6 1018.  1017.2\n",
            " 1026.9 1015.8 1005.2 1019.9 1009.  1030.9 1007.3 1035.3 1020.6 1014.9\n",
            " 1030.4 1015.4 1027.9 1022.3 1026.2 1010.7 1002.7 1006.4 1006.7 1026.6\n",
            "  998.  1020.3 1009.4 1025.1 1018.5  996.  1006.5 1009.2 1004.5 1003.1\n",
            " 1022.9 1033.7 1004.2 1027.4 1039.4 1014.7  998.8 1012.9 1010.2  997.2\n",
            " 1015.1 1002.1 1014.4 1005.8 1002.2 1025.5  995.5 1004.7 1026.7 1000.7\n",
            " 1017.4 1004.9 1028.5 1024.5 1009.5 1021.4 1002.  1033.9 1029.8 1028.4\n",
            " 1004.  1021.9 1006.3  997.3 1020.9 1012.4 1032.8 1019.4 1019.8 1003.9\n",
            " 1008.9 1017.1 1032.2  997.1 1009.3 1005.5  997.8 1028.8 1000.5 1005.9\n",
            "  994.3 1000.1 1016.8 1030.6 1029.9 1023.4 1030.8 1031.4 1037.4  991.2\n",
            " 1029.1 1002.6  987.  1027.6  998.1 1025.8 1031.1  997.  1001.2 1027.1\n",
            " 1004.1  999.2 1033.8 1028.9 1028.7 1003.7 1002.3 1017.5 1028.3 1029.5\n",
            " 1025.7  995.3  995.9 1027.2  984.6 1026.4 1032.9  994.4 1004.6 1002.4\n",
            " 1003.   999.   995.1 1030.7 1032.4  993.7 1003.8  997.7 1026.1 1000.6\n",
            " 1027.   989.5 1035.1  999.1 1034.3 1031.5 1000.2 1025.6 1026.3 1032.3\n",
            " 1030.1  991.7  993.2 1001.3 1031.8 1030.5  990.3  995.   992.7 1025.9\n",
            " 1029.7  999.4 1027.7 1033.5  985.  1030.3 1001.4  997.4  998.3 1027.3\n",
            " 1029.4  999.9  998.2 1001.7 1032.  1001.  1030.  1024.9 1004.3 1000.4\n",
            "  992.3 1001.5 1036.9  989.8  986.6 1003.6 1032.1  994.8  996.9  993.5\n",
            " 1029.2 1033.1 1031.7 1000.   999.5 1031.  1031.2 1026.8  991.5 1030.2\n",
            " 1029.   992.9  993.   992.1  993.9  994.6  995.2  989.7  991.8  996.3\n",
            " 1001.8 1035.8  994.2 1031.3  995.7  990.9  988.8 1002.9  999.6 1033.2\n",
            " 1027.5 1035.2  997.5  992.8  988.9 1032.6 1031.6  996.1  993.6  995.4\n",
            " 1038.1 1033.3 1034.   998.4 1029.3  991.9 1033.   994.9 1037.   988.5\n",
            " 1039.5  996.2  991.1  992.4 1035.4 1034.7  983.7 1032.7 1035.   988.\n",
            "  991.  1036.3  991.3 1037.1  990.5  991.6  988.3  996.7  989.2  989.\n",
            "  989.4 1032.5 1036.8  982.   983.9  995.6 1038.2  988.1  987.4 1034.1\n",
            "  986.7 1036.6  993.3  992.6  996.8  986.2  988.2 1035.6  994.7 1035.9\n",
            "  993.8  987.1  992.5 1037.9  989.3  993.1  993.4  986.9 1036.5  990.8\n",
            " 1036.1  982.2  980.5 1033.4 1035.7 1037.8  982.9  994.   990.6  989.9\n",
            " 1034.8  991.4 1035.5 1037.3 1034.6 1034.9 1039.1 1037.5 1036.7 1034.4\n",
            " 1037.2 1038.8 1036.4 1036.2 1034.5 1036.  1038.  1039.2 1037.6 1037.7\n",
            " 1038.9  994.1  987.2 1038.6 1038.7 1038.4 1040.2 1039.  1040.1  992.2\n",
            " 1040.4 1038.3 1040.6 1039.3  992.   990.2 1038.5  989.1 1039.7  985.8\n",
            " 1040.9 1040.3 1040.5 1040.  1041.   986.3]\n",
            "Tekanan3pm [1008.2   1004.7   1016.7   1016.5   1014.2   1009.6   1019.8   1010.4\n",
            " 1009.5   1003.8   1015.4   1013.4   1003.4   1007.3    994.8   1018.6\n",
            " 1017.4   1023.3   1025.9   1007.2   1024.7   1013.    1010.5   1008.7\n",
            "  994.    1008.    1015.1   1004.5   1015.5   1000.    1009.    1006.8\n",
            " 1005.3   1015.    1011.2   1010.7   1014.8   1011.5   1009.2   1003.6\n",
            " 1019.3   1019.    1013.2   1011.7   1007.    1007.9   1004.8   1002.6\n",
            " 1001.4   1017.9   1007.4   1005.5   1012.5   1023.2   1027.    1024.2\n",
            " 1009.8   1011.3   1016.8   1008.6   1011.6   1018.1   1006.5   1010.3\n",
            " 1019.1   1018.2   1019.4   1019.6   1009.7   1011.4   1016.9   1020.9\n",
            " 1008.9   1004.2   1013.8   1022.    1007.1   1018.    1006.6   1019.2\n",
            " 1021.3   1026.4   1018.9   1019.5   1015.6   1012.6   1020.2   1003.7\n",
            " 1013.3    995.9   1005.7   1021.2   1031.    1017.2   1022.4   1014.5\n",
            " 1007.8   1008.4   1020.7   1006.    1023.8   1000.2   1013.9   1008.3\n",
            " 1004.    1018.4   1016.4   1008.8   1027.6   1021.9   1009.4    997.6\n",
            " 1006.2   1014.3   1005.8   1023.5   1012.4   1021.5   1003.    1002.9\n",
            " 1006.1   1020.5   1012.3    994.7   1009.1   1021.6   1004.9   1000.1\n",
            " 1012.2   1015.8   1020.4   1033.    1020.6   1013.1    999.4   1011.\n",
            " 1020.8   1014.6   1013.6   1009.9   1014.1   1010.2   1002.7   1004.6\n",
            " 1001.8   1015.7   1008.1   1010.1    993.8   1005.4   1005.    1009.3\n",
            " 1001.9   1016.6    991.6   1008.5   1000.4   1020.1   1027.2   1003.1\n",
            " 1021.1   1003.5   1014.9   1014.4   1010.8   1022.3   1017.8   1025.8\n",
            " 1007.7   1001.1   1017.    1012.7   1017.5    996.4   1025.6   1013.7\n",
            " 1001.2   1024.3   1000.5   1031.4   1014.    1005.1   1003.9   1019.7\n",
            " 1023.6    993.2   1018.5   1016.1   1022.8   1017.1   1006.7    998.9\n",
            " 1022.2   1004.4   1026.9   1016.    1010.9   1007.5   1017.7   1017.3\n",
            " 1001.5   1018.3   1011.1   1002.1   1025.2   1018.8   1005.9   1024.9\n",
            " 1018.7   1011.9   1024.1   1024.4   1007.6    996.2   1004.3   1001.\n",
            " 1010.6   1024.6    996.7   1016.2   1010.    1022.5   1015.3   1012.9\n",
            "  991.7   1024.8   1022.6   1006.3   1022.1   1032.3   1002.2   1026.\n",
            " 1006.4   1015.9   1012.    1004.1   1002.8   1016.3   1005.2   1035.6\n",
            " 1006.9   1015.2   1011.8    997.9   1026.8   1005.6    999.7   1013.5\n",
            " 1017.6   1023.4   1020.3    995.6   1002.     999.8   1023.7   1023.\n",
            " 1002.4   1025.3   1027.5   1019.9    999.3   1028.5   1001.7   1032.\n",
            " 1020.    1025.5   1030.3    992.5    997.5   1026.7    986.8   1021.\n",
            " 1028.8    998.5   1012.8   1030.1    997.    1028.2   1003.2   1026.5\n",
            " 1027.8   1029.1   1021.7   1000.8   1036.4    998.1   1001.6    987.\n",
            "  995.1   1025.7   1012.1   1027.7    996.6   1022.7    997.7    996.3\n",
            " 1021.4   1030.7   1025.4    999.6   1001.3    999.9   1000.7    993.9\n",
            "  998.8   1025.1   1003.3   1028.6    987.1   1022.9   1030.2    996.9\n",
            " 1028.     992.8   1024.5   1021.8   1027.9    997.4   1027.1    994.1\n",
            "  987.6   1002.5   1031.2   1027.3   1030.9    992.4    993.5   1014.7\n",
            " 1027.4    989.1   1028.3    999.5    988.3   1034.7    999.1   1030.\n",
            " 1032.1   1029.5   1029.6   1026.1   1028.4    998.3   1002.3    996.\n",
            " 1023.9    986.5    991.1   1000.9   1023.1    990.1    992.7    996.1\n",
            "  997.8    980.2    995.5    995.    1026.2    999.     999.2   1026.3\n",
            " 1024.     995.2   1028.7   1028.1   1030.5    994.4   1025.     998.4\n",
            "  998.6   1035.9    982.9    995.8    987.4    981.4   1035.3   1000.6\n",
            "  994.9    992.6    991.8   1029.7    991.5   1029.3   1028.9   1029.9\n",
            " 1000.3    992.9    990.     995.3    990.4    995.7    988.8   1029.2\n",
            "  990.2    988.2   1031.5   1029.4    998.     993.1   1033.8    993.4\n",
            "  993.    1026.6   1030.8    989.3   1032.8    988.7    993.6    998.2\n",
            "  996.5   1033.4   1030.4    990.6    994.2    997.1    994.5    992.\n",
            " 1036.    1035.1   1031.7   1031.6   1032.5   1032.4    991.2    981.9\n",
            "  994.3   1035.7   1029.8    988.     994.6   1034.5    985.5   1032.6\n",
            "  986.1    998.7   1029.     985.     984.    1035.8    997.2    995.4\n",
            "  993.7   1032.9    986.2    996.8    990.8    990.7   1031.8   1034.2\n",
            "  986.4    990.5   1031.9    997.3   1031.1   1034.     989.5    989.8\n",
            "  989.6   1033.6    978.2   1036.9    982.2    985.6   1033.9    993.3\n",
            "  985.2    989.     989.9   1033.2    977.1    991.9   1035.     992.2\n",
            "  991.3    984.2    987.8   1030.6   1036.3    987.7    988.4   1034.4\n",
            "  991.4   1033.5    982.6    989.4   1033.7    990.9    990.3    989.2\n",
            "  979.    1032.2    988.5   1034.1    988.9    992.1    986.    1032.7\n",
            "  992.3    991.     981.2    985.8    984.4    988.6   1031.3   1034.8\n",
            " 1035.2   1033.1   1035.5   1033.3   1037.    1037.2   1036.6   1037.3\n",
            " 1035.4    985.3   1034.3   1036.8   1034.9    989.7   1037.5   1036.2\n",
            "  983.2   1036.5   1036.1   1037.9   1038.    1034.6   1036.7   1016.777\n",
            "  987.2   1037.1   1037.8   1026.66  1037.7   1038.2   1009.555 1039.6\n",
            " 1038.5   1038.9  ]\n",
            "Awan9am [7. 6. 3. 1. 8. 2. 5. 4. 0. 9.]\n",
            "Awan3pm [4. 8. 6. 7. 1. 2. 0. 5. 3. 9.]\n",
            "Suhu9am [13.9 25.1 13.  24.9 20.  28.9 20.9 15.9 17.9 24.  13.7 18.7 11.2 30.2\n",
            " 15.  22.5 15.5 13.8 22.1  5.3  7.4 18.3 17.  21.6 12.7 16.5 24.3 21.7\n",
            " 27.7  9.1 20.2 17.2 12.6 20.3 18.   9.3 11.6 16.8 17.8 25.5 11.8 16.3\n",
            " 21.5 18.4 18.5 14.3 16.9  7.6 12.8 10.7 13.5 15.8 13.4 24.1 25.3 20.6\n",
            " 12.4  9.6 18.6 11.7 19.2 14.7 26.2 29.9 23.7 28.8 21.2 28.3 12.5 13.2\n",
            " 16.7 16.2 30.9 24.6 10.1 14.8  8.6 10.5 26.5 25.7 17.7 22.7 17.4 17.1\n",
            "  7.2 15.6 28.1 27.2 13.3  4.4 17.5 11.5 10.2 10.4 21.3 17.3  6.2 29.3\n",
            " 11.3 11.   9.4 10.8  6.6 19.5  9.7 11.4 22.2  9.9 16.  29.  10.6 21.4\n",
            "  1.8 29.5 -1.2 10.3 16.1  1.9 29.8  4.7 16.4 15.4 18.2 23.6 26.6  6.9\n",
            "  3.7 24.2 22.9 25.  12.3  9.5 27.6 28.6  7.7 13.1  8.7 26.1 17.6 13.6\n",
            " 22.4 25.2 19.  12.1  9.2 27.8 19.4 14.5 23.3 19.9 27.  24.8 20.1 20.5\n",
            " 22.   7.8  3.1 29.7 14.6 18.8 23.  15.1 36.4 14.2 25.9 29.4  7.9 23.8\n",
            " 22.6  8.8 28.5 26.8  7.1 25.6  3.4 23.2 11.1 15.2 12.9  8.3 20.7 24.4\n",
            " 10.9 14.9 10.   7.   5.4 23.1 14.  19.7 27.3 27.4 30.1 15.7 26.7 16.6\n",
            " 33.7 11.9  6.1  3.6  8.5 29.2  5.1 25.8 19.1  6.3  8.  21.   5.6 21.8\n",
            " 14.4 21.1  5.8 31.5  6.5 12.  24.7 19.8 25.4 28.7 15.3 20.4 31.2  4.8\n",
            " 23.9 30.8  8.9 18.1  6.  20.8  5.5 21.9 28.   7.3 26.4 27.9  9.8  8.2\n",
            "  8.1 22.3  7.5 18.9 19.3 12.2 22.8 14.1 24.5 26.   6.7  8.4  5.7 32.3\n",
            " 19.6 30.4 26.3 27.5  6.4 32.1 32.7 29.6 23.5  4.2 26.9  4.5  5.9 23.4\n",
            " 28.2  0.5  9.  34.2 27.1 30.  31.   3.  -1.1 30.5 31.4 32.4  6.8 32.\n",
            "  3.5 30.6 28.4 33.1  3.8  4.9  5.2  2.8 31.7 30.3  1.6  5.  31.6 30.7\n",
            "  2.6  0.7  4.6  4.  36.3 -0.8  1.7 33.6  2.5  2.7 32.2  2.2 29.1  3.9\n",
            "  2.3  1.1  2.  31.9  1.5 -0.4  0.3  3.3  2.4  4.3  0.8  4.1  0.6 -0.3\n",
            "  0.1 -0.1 32.6 31.1 34.4  3.2  1.  33.  33.4 31.3 32.5 33.2 34.7 34.\n",
            " 35.3 31.8 33.3 -0.5  1.2 -0.2 33.5 32.8 36.  34.3 34.9 34.5  1.3 35.1\n",
            " -0.7  2.9 -1.3  2.1  0.2  0.  34.8 32.9  1.4 -1.6 39.  -1.  34.6 -1.4\n",
            " -1.9 -0.6 34.1  0.9  0.4 33.9 35.2 33.8 -1.7 35.7 -0.9 35.  -3.2 -1.8\n",
            " -1.5 35.5 -2.3 -3.7 -3.6 36.5 -2.6 35.8 -2.  -2.4 -2.2 35.4 37.2 36.2\n",
            " -2.8 35.9 -2.7 36.8 -2.5 -2.1 -3.3 37.4]\n",
            "Suhu3pm [15.7 28.6 13.9 27.1 26.8 27.4 27.3 24.1 16.9 27.8 14.5 26.1 15.1 30.9\n",
            " 15.8 24.6 16.1 13.4 25.1 14.  11.9 19.7 22.4 24.2 14.7 11.5 25.8 23.3\n",
            " 33.9 13.  26.7 15.2 23.1 20.7 10.3 15.4 15.3 27.6 29.2 12.  20.1 22.6\n",
            " 21.6 21.9 23.8 18.9  9.2 18.6 12.9 13.7 13.6 29.6 28.1 28.3 14.1 19.1\n",
            " 16.7 30.8 20.4 29.9 33.3 25.  20.5 20.3 31.2 16.3 17.9 18.5 28.5 12.7\n",
            " 16.8 17.3 33.1 27.7 14.4  5.2 30.7 16.  25.9 24.9 17.6 18.2 15.  18.1\n",
            " 21.7 17.8 33.8 19.8 21.4 19.4 13.5 22.1 12.6 20.2 22.2 10.7 27.2 20.\n",
            " 14.2 12.8 10.  18.4 13.2 20.8 25.4 12.2  9.6 30.1 16.2 26.   7.5 30.\n",
            "  0.7  4.9 16.5 21.3 25.5 25.2 12.5 22.7 10.5  9.8 24.7 26.6 15.6 17.4\n",
            " 28.7 30.2 13.1 32.2 24.  15.5 19.   8.8 28.8 23.  11.7 20.6 21.8 29.8\n",
            " 22.9  9.9 31.5 11.3 29.5 10.9 14.8 30.3 16.4 22.3 21.  18.3 31.  32.8\n",
            " 18.7 26.5 19.6  9.7  8.7 10.4 24.8 25.6  6.8 25.7 23.2 34.  17.2 24.3\n",
            "  9.4 26.2 21.5 24.4 11.6 11.2 14.6 23.5 17.5 32.9 19.3 31.9 12.4 12.3\n",
            " 16.6  7.1  8.9 18.  20.9 32.6 23.6 25.3 32.5 28.2 35.4 14.9 30.4 23.4\n",
            " 18.8 10.8 15.9 35.9  6.7 10.6 22.5  7.2 37.5 29.1 14.3  8.2  7.6 11.1\n",
            " 27.   5.  24.5 26.9 11.  31.6 21.1 19.5 13.3 26.4 36.5 30.6 11.4 32.7\n",
            "  6.3  5.3 17.  28.9 31.8 11.8 10.2 34.8 29.4 19.2 17.7 29.  21.2 22.\n",
            " 13.8  8.6 19.9 28.  30.5 12.1 29.7 23.9 33.5 17.1 10.1 23.7 32.4  7.\n",
            " 35.8 36.  32.1  9.1 38.  22.8  9.3  8.1 27.9 27.5 35.1 35.  31.3 29.3\n",
            " 31.1 32.   8.  31.4  3.5 28.4  2.2  2.8  5.9 37.7 38.4 39.1  9.5  8.5\n",
            "  6.4 33.7 36.1  8.3 31.7  7.3 40.8  1.6  6.1  7.7 34.1 32.3 39.9  7.9\n",
            " 34.6 26.3 33.2 36.9  8.4  5.5 33.   9.  35.3 37.1 41.3  2.4 34.2 34.7\n",
            " 36.6 36.4  3.3  4.6  6.2  6.5 35.7 36.2  0.2  2.  37.3 39.2  4.   7.4\n",
            " 34.4 37.4  3.2 38.8 35.6 38.6 37.6  5.6 40.3  4.3 36.3  5.8 33.4 33.6\n",
            "  5.4  4.8  0.8 37.8  5.1  4.5  2.5 34.9 39.3 40.2 -0.1  0.3  6.9 37.9\n",
            "  1.2 34.5  6.6 37.   5.7  2.6  1.7 34.3  0.1 -0.3 38.5  2.3  6.  38.2\n",
            "  0.6 35.2 38.9 38.1  7.8  1.  40.5  1.3 35.5 38.7  4.7 39.   0.9 36.8\n",
            "  3.7 39.4  3.  40.   2.9  4.1 36.7  2.1 39.5  3.6 38.3  1.8  4.4  3.4\n",
            " 37.2  0.  39.7 40.6  3.8  0.5  1.4  3.9 -1.1  4.2 40.7 41.2 40.9 41.\n",
            " 42.1 39.6  2.7 39.8 40.4  3.1 41.4 40.1 42.3 41.1 41.9 41.5 41.8 -0.5\n",
            " -0.4 -0.6  1.9  0.4 41.7  1.1  1.5 41.6 -0.8]\n",
            "BersaljuHariIni [0 1]\n",
            "Class [1 0]\n"
          ],
          "name": "stdout"
        }
      ]
    },
    {
      "cell_type": "code",
      "metadata": {
        "colab": {
          "base_uri": "https://localhost:8080/"
        },
        "id": "MV1ZYy2PUXnw",
        "outputId": "8deed915-ec89-4e8c-b03f-2144bf18cd40"
      },
      "source": [
        "# Mengecek type atribut\n",
        "print(salju_train_sampling.dtypes)"
      ],
      "execution_count": 103,
      "outputs": [
        {
          "output_type": "stream",
          "text": [
            "id                            int64\n",
            "Tanggal                       int64\n",
            "KodeLokasi                    int64\n",
            "SuhuMin                     float64\n",
            "SuhuMax                     float64\n",
            "Hujan                       float64\n",
            "Penguapan                   float64\n",
            "SinarMatahari               float64\n",
            "ArahAnginTerkencang           int64\n",
            "KecepatanAnginTerkencang    float64\n",
            "ArahAngin9am                  int64\n",
            "ArahAngin3pm                  int64\n",
            "KecepatanAngin9am           float64\n",
            "KecepatanAngin3pm           float64\n",
            "Kelembaban9am               float64\n",
            "Kelembaban3pm               float64\n",
            "Tekanan9am                  float64\n",
            "Tekanan3pm                  float64\n",
            "Awan9am                     float64\n",
            "Awan3pm                     float64\n",
            "Suhu9am                     float64\n",
            "Suhu3pm                     float64\n",
            "BersaljuHariIni               int64\n",
            "Class                         int64\n",
            "dtype: object\n"
          ],
          "name": "stdout"
        }
      ]
    },
    {
      "cell_type": "markdown",
      "metadata": {
        "id": "94SR534aetxl"
      },
      "source": [
        "## Pre Processing Data Test"
      ]
    },
    {
      "cell_type": "code",
      "metadata": {
        "id": "meWwteTjrFCm"
      },
      "source": [
        ""
      ],
      "execution_count": null,
      "outputs": []
    }
  ]
}