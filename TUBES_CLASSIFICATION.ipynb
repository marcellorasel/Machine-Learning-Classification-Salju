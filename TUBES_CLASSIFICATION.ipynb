{
  "nbformat": 4,
  "nbformat_minor": 0,
  "metadata": {
    "colab": {
      "name": "TUBES CLASSIFICATION.ipynb",
      "provenance": [],
      "collapsed_sections": [],
      "toc_visible": true
    },
    "kernelspec": {
      "name": "python3",
      "display_name": "Python 3"
    },
    "language_info": {
      "name": "python"
    }
  },
  "cells": [
    {
      "cell_type": "markdown",
      "metadata": {
        "id": "BGnPOBM-vqnx"
      },
      "source": [
        "# Tugas Besar Tahap 2 Classification <br>\n",
        "# Nama Anggota Kelompok : <br>\n",
        " **1. Anang Furkon Rifai - 1301180229** <br>\n",
        " **2. Marcello Rasel Hidayatullah - 1301184019**"
      ]
    },
    {
      "cell_type": "markdown",
      "metadata": {
        "id": "TwbholzUwTso"
      },
      "source": [
        "# Import Library"
      ]
    },
    {
      "cell_type": "code",
      "metadata": {
        "id": "qaZNSmbovkcm"
      },
      "source": [
        "import pandas as pd\n",
        "import matplotlib.pyplot as plt\n",
        "import numpy as np\n",
        "import seaborn as sns\n",
        "import random\n",
        "import sklearn as sk\n",
        "from sklearn.linear_model import LogisticRegression\n",
        "from sklearn import metrics\n",
        "from sklearn.metrics import classification_report\n",
        "from sklearn.naive_bayes import GaussianNB"
      ],
      "execution_count": 233,
      "outputs": []
    },
    {
      "cell_type": "markdown",
      "metadata": {
        "id": "ZZX18-hpwYK7"
      },
      "source": [
        "# Load Dataset"
      ]
    },
    {
      "cell_type": "code",
      "metadata": {
        "colab": {
          "resources": {
            "http://localhost:8080/nbextensions/google.colab/files.js": {
              "data": "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",
              "ok": true,
              "headers": [
                [
                  "content-type",
                  "application/javascript"
                ]
              ],
              "status": 200,
              "status_text": ""
            }
          },
          "base_uri": "https://localhost:8080/",
          "height": 107
        },
        "id": "eQrJn7OcwbWk",
        "outputId": "8d73d1b9-fd14-497e-d789-3cabe037bffc"
      },
      "source": [
        "from google.colab import files\n",
        "file = files.upload()"
      ],
      "execution_count": 119,
      "outputs": [
        {
          "output_type": "display_data",
          "data": {
            "text/html": [
              "\n",
              "     <input type=\"file\" id=\"files-6bf43d85-eb19-4e26-807f-680707bec756\" name=\"files[]\" multiple disabled\n",
              "        style=\"border:none\" />\n",
              "     <output id=\"result-6bf43d85-eb19-4e26-807f-680707bec756\">\n",
              "      Upload widget is only available when the cell has been executed in the\n",
              "      current browser session. Please rerun this cell to enable.\n",
              "      </output>\n",
              "      <script src=\"/nbextensions/google.colab/files.js\"></script> "
            ],
            "text/plain": [
              "<IPython.core.display.HTML object>"
            ]
          },
          "metadata": {
            "tags": []
          }
        },
        {
          "output_type": "stream",
          "text": [
            "Saving salju_test.csv to salju_test (2).csv\n",
            "Saving salju_train.csv to salju_train (2).csv\n"
          ],
          "name": "stdout"
        }
      ]
    },
    {
      "cell_type": "code",
      "metadata": {
        "colab": {
          "base_uri": "https://localhost:8080/",
          "height": 217
        },
        "id": "ql0BQfWjwzGG",
        "outputId": "0b310935-33c0-4fe3-f484-d6d210ffc7b0"
      },
      "source": [
        "# Dataset Test\n",
        "salju_test = pd.read_csv('salju_test.csv') \n",
        "\n",
        "# Mengganti nama kolom \"BersaljuBesok\" menjadi \"Class\"\n",
        "salju_test.rename(columns={'BersaljuBesok':'Class'}, inplace=True)\n",
        "\n",
        "salju_test.head()"
      ],
      "execution_count": 168,
      "outputs": [
        {
          "output_type": "execute_result",
          "data": {
            "text/html": [
              "<div>\n",
              "<style scoped>\n",
              "    .dataframe tbody tr th:only-of-type {\n",
              "        vertical-align: middle;\n",
              "    }\n",
              "\n",
              "    .dataframe tbody tr th {\n",
              "        vertical-align: top;\n",
              "    }\n",
              "\n",
              "    .dataframe thead th {\n",
              "        text-align: right;\n",
              "    }\n",
              "</style>\n",
              "<table border=\"1\" class=\"dataframe\">\n",
              "  <thead>\n",
              "    <tr style=\"text-align: right;\">\n",
              "      <th></th>\n",
              "      <th>Tanggal</th>\n",
              "      <th>KodeLokasi</th>\n",
              "      <th>SuhuMin</th>\n",
              "      <th>SuhuMax</th>\n",
              "      <th>Hujan</th>\n",
              "      <th>Penguapan</th>\n",
              "      <th>SinarMatahari</th>\n",
              "      <th>ArahAnginTerkencang</th>\n",
              "      <th>KecepatanAnginTerkencang</th>\n",
              "      <th>ArahAngin9am</th>\n",
              "      <th>ArahAngin3pm</th>\n",
              "      <th>KecepatanAngin9am</th>\n",
              "      <th>KecepatanAngin3pm</th>\n",
              "      <th>Kelembaban9am</th>\n",
              "      <th>Kelembaban3pm</th>\n",
              "      <th>Tekanan9am</th>\n",
              "      <th>Tekanan3pm</th>\n",
              "      <th>Awan9am</th>\n",
              "      <th>Awan3pm</th>\n",
              "      <th>Suhu9am</th>\n",
              "      <th>Suhu3pm</th>\n",
              "      <th>BersaljuHariIni</th>\n",
              "      <th>Class</th>\n",
              "    </tr>\n",
              "  </thead>\n",
              "  <tbody>\n",
              "    <tr>\n",
              "      <th>0</th>\n",
              "      <td>04/11/2010</td>\n",
              "      <td>C39</td>\n",
              "      <td>11.0</td>\n",
              "      <td>27.5</td>\n",
              "      <td>0.0</td>\n",
              "      <td>NaN</td>\n",
              "      <td>6.4</td>\n",
              "      <td>WSW</td>\n",
              "      <td>46.0</td>\n",
              "      <td>W</td>\n",
              "      <td>W</td>\n",
              "      <td>20.0</td>\n",
              "      <td>28.0</td>\n",
              "      <td>39.0</td>\n",
              "      <td>56.0</td>\n",
              "      <td>1013.0</td>\n",
              "      <td>1012.4</td>\n",
              "      <td>4.0</td>\n",
              "      <td>7.0</td>\n",
              "      <td>25.7</td>\n",
              "      <td>23.6</td>\n",
              "      <td>No</td>\n",
              "      <td>No</td>\n",
              "    </tr>\n",
              "    <tr>\n",
              "      <th>1</th>\n",
              "      <td>26/03/2015</td>\n",
              "      <td>C35</td>\n",
              "      <td>10.0</td>\n",
              "      <td>19.9</td>\n",
              "      <td>0.2</td>\n",
              "      <td>NaN</td>\n",
              "      <td>NaN</td>\n",
              "      <td>WNW</td>\n",
              "      <td>56.0</td>\n",
              "      <td>W</td>\n",
              "      <td>NW</td>\n",
              "      <td>24.0</td>\n",
              "      <td>33.0</td>\n",
              "      <td>76.0</td>\n",
              "      <td>32.0</td>\n",
              "      <td>1017.0</td>\n",
              "      <td>1015.2</td>\n",
              "      <td>8.0</td>\n",
              "      <td>1.0</td>\n",
              "      <td>10.7</td>\n",
              "      <td>18.9</td>\n",
              "      <td>No</td>\n",
              "      <td>Yes</td>\n",
              "    </tr>\n",
              "    <tr>\n",
              "      <th>2</th>\n",
              "      <td>22/03/2016</td>\n",
              "      <td>C18</td>\n",
              "      <td>9.2</td>\n",
              "      <td>27.2</td>\n",
              "      <td>0.0</td>\n",
              "      <td>5.2</td>\n",
              "      <td>10.4</td>\n",
              "      <td>SSW</td>\n",
              "      <td>33.0</td>\n",
              "      <td>NE</td>\n",
              "      <td>N</td>\n",
              "      <td>13.0</td>\n",
              "      <td>19.0</td>\n",
              "      <td>89.0</td>\n",
              "      <td>27.0</td>\n",
              "      <td>1018.6</td>\n",
              "      <td>1015.7</td>\n",
              "      <td>0.0</td>\n",
              "      <td>1.0</td>\n",
              "      <td>13.9</td>\n",
              "      <td>26.3</td>\n",
              "      <td>No</td>\n",
              "      <td>No</td>\n",
              "    </tr>\n",
              "    <tr>\n",
              "      <th>3</th>\n",
              "      <td>09/12/2011</td>\n",
              "      <td>C31</td>\n",
              "      <td>17.7</td>\n",
              "      <td>27.0</td>\n",
              "      <td>0.0</td>\n",
              "      <td>4.6</td>\n",
              "      <td>6.7</td>\n",
              "      <td>SW</td>\n",
              "      <td>35.0</td>\n",
              "      <td>E</td>\n",
              "      <td>SSE</td>\n",
              "      <td>20.0</td>\n",
              "      <td>15.0</td>\n",
              "      <td>55.0</td>\n",
              "      <td>41.0</td>\n",
              "      <td>1010.2</td>\n",
              "      <td>1008.6</td>\n",
              "      <td>7.0</td>\n",
              "      <td>6.0</td>\n",
              "      <td>22.3</td>\n",
              "      <td>26.4</td>\n",
              "      <td>No</td>\n",
              "      <td>No</td>\n",
              "    </tr>\n",
              "    <tr>\n",
              "      <th>4</th>\n",
              "      <td>20/05/2017</td>\n",
              "      <td>C14</td>\n",
              "      <td>2.3</td>\n",
              "      <td>7.9</td>\n",
              "      <td>88.0</td>\n",
              "      <td>NaN</td>\n",
              "      <td>NaN</td>\n",
              "      <td>NW</td>\n",
              "      <td>46.0</td>\n",
              "      <td>W</td>\n",
              "      <td>WNW</td>\n",
              "      <td>13.0</td>\n",
              "      <td>9.0</td>\n",
              "      <td>98.0</td>\n",
              "      <td>95.0</td>\n",
              "      <td>NaN</td>\n",
              "      <td>NaN</td>\n",
              "      <td>NaN</td>\n",
              "      <td>NaN</td>\n",
              "      <td>4.4</td>\n",
              "      <td>6.0</td>\n",
              "      <td>Yes</td>\n",
              "      <td>No</td>\n",
              "    </tr>\n",
              "  </tbody>\n",
              "</table>\n",
              "</div>"
            ],
            "text/plain": [
              "      Tanggal KodeLokasi  SuhuMin  ...  Suhu3pm  BersaljuHariIni  Class\n",
              "0  04/11/2010        C39     11.0  ...     23.6               No     No\n",
              "1  26/03/2015        C35     10.0  ...     18.9               No    Yes\n",
              "2  22/03/2016        C18      9.2  ...     26.3               No     No\n",
              "3  09/12/2011        C31     17.7  ...     26.4               No     No\n",
              "4  20/05/2017        C14      2.3  ...      6.0              Yes     No\n",
              "\n",
              "[5 rows x 23 columns]"
            ]
          },
          "metadata": {
            "tags": []
          },
          "execution_count": 168
        }
      ]
    },
    {
      "cell_type": "code",
      "metadata": {
        "colab": {
          "base_uri": "https://localhost:8080/",
          "height": 217
        },
        "id": "xJurawPwxO2Z",
        "outputId": "8891dd2c-889d-4c36-d84b-6a4617ab1055"
      },
      "source": [
        "# Dataset Train\n",
        "salju_train = pd.read_csv('salju_train.csv')\n",
        "\n",
        "# Mengganti nama kolom 'BersaljuBesok' menjadi 'Class'\n",
        "salju_train.rename(columns={'BersaljuBesok':'Class'}, inplace=True)\n",
        "\n",
        "# Drop Kolom id agar jumlah kolom data train & data test sama\n",
        "salju_train = salju_train.drop(columns=['id'])\n",
        "\n",
        "salju_train.head()"
      ],
      "execution_count": 170,
      "outputs": [
        {
          "output_type": "execute_result",
          "data": {
            "text/html": [
              "<div>\n",
              "<style scoped>\n",
              "    .dataframe tbody tr th:only-of-type {\n",
              "        vertical-align: middle;\n",
              "    }\n",
              "\n",
              "    .dataframe tbody tr th {\n",
              "        vertical-align: top;\n",
              "    }\n",
              "\n",
              "    .dataframe thead th {\n",
              "        text-align: right;\n",
              "    }\n",
              "</style>\n",
              "<table border=\"1\" class=\"dataframe\">\n",
              "  <thead>\n",
              "    <tr style=\"text-align: right;\">\n",
              "      <th></th>\n",
              "      <th>Tanggal</th>\n",
              "      <th>KodeLokasi</th>\n",
              "      <th>SuhuMin</th>\n",
              "      <th>SuhuMax</th>\n",
              "      <th>Hujan</th>\n",
              "      <th>Penguapan</th>\n",
              "      <th>SinarMatahari</th>\n",
              "      <th>ArahAnginTerkencang</th>\n",
              "      <th>KecepatanAnginTerkencang</th>\n",
              "      <th>ArahAngin9am</th>\n",
              "      <th>ArahAngin3pm</th>\n",
              "      <th>KecepatanAngin9am</th>\n",
              "      <th>KecepatanAngin3pm</th>\n",
              "      <th>Kelembaban9am</th>\n",
              "      <th>Kelembaban3pm</th>\n",
              "      <th>Tekanan9am</th>\n",
              "      <th>Tekanan3pm</th>\n",
              "      <th>Awan9am</th>\n",
              "      <th>Awan3pm</th>\n",
              "      <th>Suhu9am</th>\n",
              "      <th>Suhu3pm</th>\n",
              "      <th>BersaljuHariIni</th>\n",
              "      <th>Class</th>\n",
              "    </tr>\n",
              "  </thead>\n",
              "  <tbody>\n",
              "    <tr>\n",
              "      <th>0</th>\n",
              "      <td>01/06/2014</td>\n",
              "      <td>C4</td>\n",
              "      <td>10.4</td>\n",
              "      <td>15.5</td>\n",
              "      <td>4.8</td>\n",
              "      <td>NaN</td>\n",
              "      <td>NaN</td>\n",
              "      <td>WSW</td>\n",
              "      <td>24.0</td>\n",
              "      <td>NaN</td>\n",
              "      <td>WSW</td>\n",
              "      <td>0.0</td>\n",
              "      <td>13.0</td>\n",
              "      <td>78.0</td>\n",
              "      <td>76.0</td>\n",
              "      <td>1020.1</td>\n",
              "      <td>1018.5</td>\n",
              "      <td>NaN</td>\n",
              "      <td>NaN</td>\n",
              "      <td>13.1</td>\n",
              "      <td>15.0</td>\n",
              "      <td>Ya</td>\n",
              "      <td>Tidak</td>\n",
              "    </tr>\n",
              "    <tr>\n",
              "      <th>1</th>\n",
              "      <td>15/07/2014</td>\n",
              "      <td>C10</td>\n",
              "      <td>9.0</td>\n",
              "      <td>17.0</td>\n",
              "      <td>8.0</td>\n",
              "      <td>2.6</td>\n",
              "      <td>7.4</td>\n",
              "      <td>NaN</td>\n",
              "      <td>NaN</td>\n",
              "      <td>SW</td>\n",
              "      <td>WNW</td>\n",
              "      <td>13.0</td>\n",
              "      <td>20.0</td>\n",
              "      <td>80.0</td>\n",
              "      <td>61.0</td>\n",
              "      <td>1015.2</td>\n",
              "      <td>1014.6</td>\n",
              "      <td>7.0</td>\n",
              "      <td>5.0</td>\n",
              "      <td>11.9</td>\n",
              "      <td>15.5</td>\n",
              "      <td>Ya</td>\n",
              "      <td>Ya</td>\n",
              "    </tr>\n",
              "    <tr>\n",
              "      <th>2</th>\n",
              "      <td>16/02/2011</td>\n",
              "      <td>C46</td>\n",
              "      <td>18.2</td>\n",
              "      <td>32.0</td>\n",
              "      <td>0.0</td>\n",
              "      <td>NaN</td>\n",
              "      <td>NaN</td>\n",
              "      <td>ESE</td>\n",
              "      <td>44.0</td>\n",
              "      <td>SE</td>\n",
              "      <td>SE</td>\n",
              "      <td>15.0</td>\n",
              "      <td>26.0</td>\n",
              "      <td>62.0</td>\n",
              "      <td>42.0</td>\n",
              "      <td>NaN</td>\n",
              "      <td>NaN</td>\n",
              "      <td>NaN</td>\n",
              "      <td>NaN</td>\n",
              "      <td>23.8</td>\n",
              "      <td>29.6</td>\n",
              "      <td>Tidak</td>\n",
              "      <td>Tidak</td>\n",
              "    </tr>\n",
              "    <tr>\n",
              "      <th>3</th>\n",
              "      <td>08/08/2012</td>\n",
              "      <td>C36</td>\n",
              "      <td>7.3</td>\n",
              "      <td>24.5</td>\n",
              "      <td>0.0</td>\n",
              "      <td>8.4</td>\n",
              "      <td>10.4</td>\n",
              "      <td>SSW</td>\n",
              "      <td>54.0</td>\n",
              "      <td>N</td>\n",
              "      <td>SW</td>\n",
              "      <td>13.0</td>\n",
              "      <td>19.0</td>\n",
              "      <td>25.0</td>\n",
              "      <td>17.0</td>\n",
              "      <td>1019.2</td>\n",
              "      <td>1016.9</td>\n",
              "      <td>1.0</td>\n",
              "      <td>7.0</td>\n",
              "      <td>15.3</td>\n",
              "      <td>23.2</td>\n",
              "      <td>Tidak</td>\n",
              "      <td>Tidak</td>\n",
              "    </tr>\n",
              "    <tr>\n",
              "      <th>4</th>\n",
              "      <td>29/10/2016</td>\n",
              "      <td>C7</td>\n",
              "      <td>5.9</td>\n",
              "      <td>20.3</td>\n",
              "      <td>0.0</td>\n",
              "      <td>3.6</td>\n",
              "      <td>12.6</td>\n",
              "      <td>N</td>\n",
              "      <td>37.0</td>\n",
              "      <td>NNW</td>\n",
              "      <td>ESE</td>\n",
              "      <td>22.0</td>\n",
              "      <td>19.0</td>\n",
              "      <td>55.0</td>\n",
              "      <td>48.0</td>\n",
              "      <td>1019.7</td>\n",
              "      <td>1014.7</td>\n",
              "      <td>2.0</td>\n",
              "      <td>6.0</td>\n",
              "      <td>12.4</td>\n",
              "      <td>18.1</td>\n",
              "      <td>Tidak</td>\n",
              "      <td>Tidak</td>\n",
              "    </tr>\n",
              "  </tbody>\n",
              "</table>\n",
              "</div>"
            ],
            "text/plain": [
              "      Tanggal KodeLokasi  SuhuMin  ...  Suhu3pm  BersaljuHariIni  Class\n",
              "0  01/06/2014         C4     10.4  ...     15.0               Ya  Tidak\n",
              "1  15/07/2014        C10      9.0  ...     15.5               Ya     Ya\n",
              "2  16/02/2011        C46     18.2  ...     29.6            Tidak  Tidak\n",
              "3  08/08/2012        C36      7.3  ...     23.2            Tidak  Tidak\n",
              "4  29/10/2016         C7      5.9  ...     18.1            Tidak  Tidak\n",
              "\n",
              "[5 rows x 23 columns]"
            ]
          },
          "metadata": {
            "tags": []
          },
          "execution_count": 170
        }
      ]
    },
    {
      "cell_type": "markdown",
      "metadata": {
        "id": "dOpMxMiHzibb"
      },
      "source": [
        "# Pre Processing Data"
      ]
    },
    {
      "cell_type": "code",
      "metadata": {
        "colab": {
          "base_uri": "https://localhost:8080/"
        },
        "id": "_n4BdBT0yZMQ",
        "outputId": "6b05016f-5e0f-4339-d464-aa0335f9ab5a"
      },
      "source": [
        "# Mengecek jumlah data pada kolom 'Class' pada data test\n",
        "salju_test['Class'].value_counts()"
      ],
      "execution_count": 171,
      "outputs": [
        {
          "output_type": "execute_result",
          "data": {
            "text/plain": [
              "No     13824\n",
              "Yes     3939\n",
              "Name: Class, dtype: int64"
            ]
          },
          "metadata": {
            "tags": []
          },
          "execution_count": 171
        }
      ]
    },
    {
      "cell_type": "code",
      "metadata": {
        "colab": {
          "base_uri": "https://localhost:8080/"
        },
        "id": "pyLqBgiXyxYj",
        "outputId": "b92ce12f-67bd-4dd3-e63c-4d855954c5cb"
      },
      "source": [
        "# Mengecek jumlah data pada kolom 'Class' pada data train\n",
        "salju_train['Class'].value_counts()"
      ],
      "execution_count": 172,
      "outputs": [
        {
          "output_type": "execute_result",
          "data": {
            "text/plain": [
              "Tidak    82701\n",
              "Ya       23963\n",
              "Name: Class, dtype: int64"
            ]
          },
          "metadata": {
            "tags": []
          },
          "execution_count": 172
        }
      ]
    },
    {
      "cell_type": "code",
      "metadata": {
        "colab": {
          "base_uri": "https://localhost:8080/",
          "height": 334
        },
        "id": "jygL_-u-zBCO",
        "outputId": "9b1d1093-d92c-492f-a16e-4bd881f7e86d"
      },
      "source": [
        "# Memvisualisasi data pada kolom 'Class' pada data train\n",
        "train_plot = sns.countplot(salju_train['Class'])\n",
        "train_plot.set_xticklabels(['Tidak','Ya'])\n",
        "plt.show()"
      ],
      "execution_count": 173,
      "outputs": [
        {
          "output_type": "stream",
          "text": [
            "/usr/local/lib/python3.7/dist-packages/seaborn/_decorators.py:43: FutureWarning: Pass the following variable as a keyword arg: x. From version 0.12, the only valid positional argument will be `data`, and passing other arguments without an explicit keyword will result in an error or misinterpretation.\n",
            "  FutureWarning\n"
          ],
          "name": "stderr"
        },
        {
          "output_type": "display_data",
          "data": {
            "image/png": "[encoded data removed]",
            "text/plain": [
              "<Figure size 432x288 with 1 Axes>"
            ]
          },
          "metadata": {
            "tags": [],
            "needs_background": "light"
          }
        }
      ]
    },
    {
      "cell_type": "markdown",
      "metadata": {
        "id": "-q9cn0MSTKI9"
      },
      "source": [
        "## Pre Processing Data Train"
      ]
    },
    {
      "cell_type": "code",
      "metadata": {
        "id": "MAZemqsRzm9N",
        "colab": {
          "base_uri": "https://localhost:8080/"
        },
        "outputId": "9c8cb11e-d655-43b7-af27-60f020c7fa65"
      },
      "source": [
        "train_0 = salju_train[salju_train['Class'] == 'Tidak']\n",
        "train_1 = salju_train[salju_train['Class'] == 'Ya']\n",
        "\n",
        "print(\"Class 0 :\", train_0.shape)\n",
        "print(\"Class 1 :\", train_1.shape)"
      ],
      "execution_count": 174,
      "outputs": [
        {
          "output_type": "stream",
          "text": [
            "Class 0 : (82701, 23)\n",
            "Class 1 : (23963, 23)\n"
          ],
          "name": "stdout"
        }
      ]
    },
    {
      "cell_type": "code",
      "metadata": {
        "colab": {
          "base_uri": "https://localhost:8080/"
        },
        "id": "tjKjAvSZR55e",
        "outputId": "4eae1d3e-32d6-4d05-d83b-b871645083a3"
      },
      "source": [
        "# Oversampling Data\n",
        "train_count_0, train_count_1 = salju_train['Class'].value_counts()\n",
        "train_1_over = train_1.sample(train_count_0, replace = True)\n",
        "\n",
        "salju_train_sampling = pd.concat([train_1_over, train_0], axis=0)\n",
        "\n",
        "print(\"Total Class 1 and 0 :\", salju_train_sampling['Class'].value_counts())"
      ],
      "execution_count": 175,
      "outputs": [
        {
          "output_type": "stream",
          "text": [
            "Total Class 1 and 0 : Tidak    82701\n",
            "Ya       82701\n",
            "Name: Class, dtype: int64\n"
          ],
          "name": "stdout"
        }
      ]
    },
    {
      "cell_type": "code",
      "metadata": {
        "colab": {
          "base_uri": "https://localhost:8080/"
        },
        "id": "Yohe98jZS-YK",
        "outputId": "e2d4c63e-3348-4039-ef7c-c5773345e43b"
      },
      "source": [
        "# Mengecek missing values\n",
        "salju_train_sampling.isnull().sum()"
      ],
      "execution_count": 176,
      "outputs": [
        {
          "output_type": "execute_result",
          "data": {
            "text/plain": [
              "Tanggal                         0\n",
              "KodeLokasi                      0\n",
              "SuhuMin                       770\n",
              "SuhuMax                       332\n",
              "Hujan                        2205\n",
              "Penguapan                   71217\n",
              "SinarMatahari               78442\n",
              "ArahAnginTerkencang         11511\n",
              "KecepatanAnginTerkencang    11421\n",
              "ArahAngin9am                10987\n",
              "ArahAngin3pm                 4827\n",
              "KecepatanAngin9am            1572\n",
              "KecepatanAngin3pm            3205\n",
              "Kelembaban9am                2254\n",
              "Kelembaban3pm                4463\n",
              "Tekanan9am                  16211\n",
              "Tekanan3pm                  16235\n",
              "Awan9am                     60983\n",
              "Awan3pm                     64179\n",
              "Suhu9am                      1188\n",
              "Suhu3pm                      3405\n",
              "BersaljuHariIni              2205\n",
              "Class                           0\n",
              "dtype: int64"
            ]
          },
          "metadata": {
            "tags": []
          },
          "execution_count": 176
        }
      ]
    },
    {
      "cell_type": "code",
      "metadata": {
        "id": "7c5zY2C4TfOw"
      },
      "source": [
        "# Mengatasi Missing Values\n",
        "salju_train_sampling.fillna(salju_train_sampling.median(), inplace=True)                # Nilai Numeric diisi dengan nilai median\n",
        "salju_train_sampling = salju_train_sampling.fillna(salju_train_sampling.mode().iloc[0]) # Nilai String diisi dengan nilai yang paling sering muncul pada atribut"
      ],
      "execution_count": 177,
      "outputs": []
    },
    {
      "cell_type": "code",
      "metadata": {
        "colab": {
          "base_uri": "https://localhost:8080/"
        },
        "id": "zY4PligBq7et",
        "outputId": "c5c4c707-11e2-4506-b76d-7e7b74232f6d"
      },
      "source": [
        "# Mengecek missing values\n",
        "salju_train_sampling.isnull().sum()"
      ],
      "execution_count": 178,
      "outputs": [
        {
          "output_type": "execute_result",
          "data": {
            "text/plain": [
              "Tanggal                     0\n",
              "KodeLokasi                  0\n",
              "SuhuMin                     0\n",
              "SuhuMax                     0\n",
              "Hujan                       0\n",
              "Penguapan                   0\n",
              "SinarMatahari               0\n",
              "ArahAnginTerkencang         0\n",
              "KecepatanAnginTerkencang    0\n",
              "ArahAngin9am                0\n",
              "ArahAngin3pm                0\n",
              "KecepatanAngin9am           0\n",
              "KecepatanAngin3pm           0\n",
              "Kelembaban9am               0\n",
              "Kelembaban3pm               0\n",
              "Tekanan9am                  0\n",
              "Tekanan3pm                  0\n",
              "Awan9am                     0\n",
              "Awan3pm                     0\n",
              "Suhu9am                     0\n",
              "Suhu3pm                     0\n",
              "BersaljuHariIni             0\n",
              "Class                       0\n",
              "dtype: int64"
            ]
          },
          "metadata": {
            "tags": []
          },
          "execution_count": 178
        }
      ]
    },
    {
      "cell_type": "code",
      "metadata": {
        "id": "BBXj6PkpQmoI"
      },
      "source": [
        "# Menentukan Fitur Categorical\n",
        "numerics = ['int8', 'int16', 'int32', 'int64', 'float16', 'float32', 'float64']\n",
        "categorical_columns = []\n",
        "features = salju_train_sampling.columns.values.tolist()\n",
        "for col in features:\n",
        "    if salju_train_sampling[col].dtype in numerics: continue\n",
        "    categorical_columns.append(col)\n",
        "\n",
        "# Encoding Fitur Categorical\n",
        "for col in categorical_columns:\n",
        "    if col in salju_train_sampling.columns:\n",
        "        enco = LabelEncoder()\n",
        "        enco.fit(list(salju_train_sampling[col].astype(str).values))\n",
        "        salju_train_sampling[col] = enco.transform(list(salju_train_sampling[col].astype(str).values))"
      ],
      "execution_count": 179,
      "outputs": []
    },
    {
      "cell_type": "code",
      "metadata": {
        "colab": {
          "base_uri": "https://localhost:8080/",
          "height": 217
        },
        "id": "OndySctwQ79I",
        "outputId": "3907eb97-ac5f-4a87-9e7d-46ddebeb0303"
      },
      "source": [
        "salju_train_sampling.head()"
      ],
      "execution_count": 180,
      "outputs": [
        {
          "output_type": "execute_result",
          "data": {
            "text/html": [
              "<div>\n",
              "<style scoped>\n",
              "    .dataframe tbody tr th:only-of-type {\n",
              "        vertical-align: middle;\n",
              "    }\n",
              "\n",
              "    .dataframe tbody tr th {\n",
              "        vertical-align: top;\n",
              "    }\n",
              "\n",
              "    .dataframe thead th {\n",
              "        text-align: right;\n",
              "    }\n",
              "</style>\n",
              "<table border=\"1\" class=\"dataframe\">\n",
              "  <thead>\n",
              "    <tr style=\"text-align: right;\">\n",
              "      <th></th>\n",
              "      <th>Tanggal</th>\n",
              "      <th>KodeLokasi</th>\n",
              "      <th>SuhuMin</th>\n",
              "      <th>SuhuMax</th>\n",
              "      <th>Hujan</th>\n",
              "      <th>Penguapan</th>\n",
              "      <th>SinarMatahari</th>\n",
              "      <th>ArahAnginTerkencang</th>\n",
              "      <th>KecepatanAnginTerkencang</th>\n",
              "      <th>ArahAngin9am</th>\n",
              "      <th>ArahAngin3pm</th>\n",
              "      <th>KecepatanAngin9am</th>\n",
              "      <th>KecepatanAngin3pm</th>\n",
              "      <th>Kelembaban9am</th>\n",
              "      <th>Kelembaban3pm</th>\n",
              "      <th>Tekanan9am</th>\n",
              "      <th>Tekanan3pm</th>\n",
              "      <th>Awan9am</th>\n",
              "      <th>Awan3pm</th>\n",
              "      <th>Suhu9am</th>\n",
              "      <th>Suhu3pm</th>\n",
              "      <th>BersaljuHariIni</th>\n",
              "      <th>Class</th>\n",
              "    </tr>\n",
              "  </thead>\n",
              "  <tbody>\n",
              "    <tr>\n",
              "      <th>56879</th>\n",
              "      <td>99</td>\n",
              "      <td>37</td>\n",
              "      <td>8.2</td>\n",
              "      <td>15.3</td>\n",
              "      <td>3.4</td>\n",
              "      <td>10.2</td>\n",
              "      <td>10.4</td>\n",
              "      <td>12</td>\n",
              "      <td>72.0</td>\n",
              "      <td>15</td>\n",
              "      <td>12</td>\n",
              "      <td>22.0</td>\n",
              "      <td>28.0</td>\n",
              "      <td>86.0</td>\n",
              "      <td>60.0</td>\n",
              "      <td>1007.4</td>\n",
              "      <td>1012.8</td>\n",
              "      <td>6.0</td>\n",
              "      <td>6.0</td>\n",
              "      <td>11.4</td>\n",
              "      <td>13.5</td>\n",
              "      <td>1</td>\n",
              "      <td>1</td>\n",
              "    </tr>\n",
              "    <tr>\n",
              "      <th>52752</th>\n",
              "      <td>617</td>\n",
              "      <td>34</td>\n",
              "      <td>8.1</td>\n",
              "      <td>12.1</td>\n",
              "      <td>1.6</td>\n",
              "      <td>1.0</td>\n",
              "      <td>6.8</td>\n",
              "      <td>13</td>\n",
              "      <td>31.0</td>\n",
              "      <td>14</td>\n",
              "      <td>14</td>\n",
              "      <td>13.0</td>\n",
              "      <td>13.0</td>\n",
              "      <td>93.0</td>\n",
              "      <td>77.0</td>\n",
              "      <td>1005.4</td>\n",
              "      <td>1004.6</td>\n",
              "      <td>8.0</td>\n",
              "      <td>8.0</td>\n",
              "      <td>8.5</td>\n",
              "      <td>11.5</td>\n",
              "      <td>1</td>\n",
              "      <td>1</td>\n",
              "    </tr>\n",
              "    <tr>\n",
              "      <th>49870</th>\n",
              "      <td>1072</td>\n",
              "      <td>5</td>\n",
              "      <td>-5.2</td>\n",
              "      <td>-1.2</td>\n",
              "      <td>0.2</td>\n",
              "      <td>4.4</td>\n",
              "      <td>6.8</td>\n",
              "      <td>15</td>\n",
              "      <td>96.0</td>\n",
              "      <td>13</td>\n",
              "      <td>15</td>\n",
              "      <td>33.0</td>\n",
              "      <td>52.0</td>\n",
              "      <td>96.0</td>\n",
              "      <td>98.0</td>\n",
              "      <td>1016.5</td>\n",
              "      <td>1014.2</td>\n",
              "      <td>6.0</td>\n",
              "      <td>6.0</td>\n",
              "      <td>-5.2</td>\n",
              "      <td>-3.5</td>\n",
              "      <td>0</td>\n",
              "      <td>1</td>\n",
              "    </tr>\n",
              "    <tr>\n",
              "      <th>82849</th>\n",
              "      <td>2943</td>\n",
              "      <td>45</td>\n",
              "      <td>22.8</td>\n",
              "      <td>29.4</td>\n",
              "      <td>102.2</td>\n",
              "      <td>4.4</td>\n",
              "      <td>0.9</td>\n",
              "      <td>0</td>\n",
              "      <td>41.0</td>\n",
              "      <td>3</td>\n",
              "      <td>5</td>\n",
              "      <td>11.0</td>\n",
              "      <td>13.0</td>\n",
              "      <td>96.0</td>\n",
              "      <td>79.0</td>\n",
              "      <td>1015.5</td>\n",
              "      <td>1011.4</td>\n",
              "      <td>8.0</td>\n",
              "      <td>7.0</td>\n",
              "      <td>23.6</td>\n",
              "      <td>27.8</td>\n",
              "      <td>1</td>\n",
              "      <td>1</td>\n",
              "    </tr>\n",
              "    <tr>\n",
              "      <th>25464</th>\n",
              "      <td>2133</td>\n",
              "      <td>39</td>\n",
              "      <td>22.6</td>\n",
              "      <td>28.4</td>\n",
              "      <td>0.2</td>\n",
              "      <td>4.4</td>\n",
              "      <td>6.8</td>\n",
              "      <td>4</td>\n",
              "      <td>41.0</td>\n",
              "      <td>0</td>\n",
              "      <td>0</td>\n",
              "      <td>20.0</td>\n",
              "      <td>17.0</td>\n",
              "      <td>71.0</td>\n",
              "      <td>81.0</td>\n",
              "      <td>1013.1</td>\n",
              "      <td>1013.4</td>\n",
              "      <td>6.0</td>\n",
              "      <td>6.0</td>\n",
              "      <td>25.2</td>\n",
              "      <td>24.2</td>\n",
              "      <td>0</td>\n",
              "      <td>1</td>\n",
              "    </tr>\n",
              "  </tbody>\n",
              "</table>\n",
              "</div>"
            ],
            "text/plain": [
              "       Tanggal  KodeLokasi  SuhuMin  ...  Suhu3pm  BersaljuHariIni  Class\n",
              "56879       99          37      8.2  ...     13.5                1      1\n",
              "52752      617          34      8.1  ...     11.5                1      1\n",
              "49870     1072           5     -5.2  ...     -3.5                0      1\n",
              "82849     2943          45     22.8  ...     27.8                1      1\n",
              "25464     2133          39     22.6  ...     24.2                0      1\n",
              "\n",
              "[5 rows x 23 columns]"
            ]
          },
          "metadata": {
            "tags": []
          },
          "execution_count": 180
        }
      ]
    },
    {
      "cell_type": "code",
      "metadata": {
        "colab": {
          "base_uri": "https://localhost:8080/",
          "height": 282
        },
        "id": "-IHZ0cApVdol",
        "outputId": "637b1dda-ff2f-4ad7-9c09-1d5f627e8f06"
      },
      "source": [
        "# Mengecek Outliers\n",
        "f,axes = plt.subplots(1,3)\n",
        "plt.figure(figsize=(20,10))\n",
        "salju_train_sampling['SuhuMin'].plot(kind='box',ax=axes[0])\n",
        "salju_train_sampling['SuhuMax'].plot(kind='box',ax=axes[1])\n",
        "salju_train_sampling['Class'].plot(kind='box',ax=axes[2])\n",
        "\n",
        "plt.show()"
      ],
      "execution_count": 181,
      "outputs": [
        {
          "output_type": "display_data",
          "data": {
            "image/png": "[encoded data removed]",
            "text/plain": [
              "<Figure size 432x288 with 3 Axes>"
            ]
          },
          "metadata": {
            "tags": [],
            "needs_background": "light"
          }
        },
        {
          "output_type": "display_data",
          "data": {
            "text/plain": [
              "<Figure size 1440x720 with 0 Axes>"
            ]
          },
          "metadata": {
            "tags": []
          }
        }
      ]
    },
    {
      "cell_type": "code",
      "metadata": {
        "colab": {
          "base_uri": "https://localhost:8080/"
        },
        "id": "rA_qbpCZTh0d",
        "outputId": "12a1314c-68f6-4602-9099-13aae0550721"
      },
      "source": [
        "#Metode IQR untuk SuhuMin\n",
        "Q1=salju_train_sampling['SuhuMin'].quantile(0.25)\n",
        "Q3=salju_train_sampling['SuhuMin'].quantile(0.75)\n",
        "IQR=Q3-Q1\n",
        "print(Q1)\n",
        "print(Q3)\n",
        "print(IQR)\n",
        "Lower_Whisker = Q1-1.5*IQR\n",
        "Upper_Whisker = Q3+1.5*IQR\n",
        "print(Lower_Whisker, Upper_Whisker)"
      ],
      "execution_count": 182,
      "outputs": [
        {
          "output_type": "stream",
          "text": [
            "8.0\n",
            "17.2\n",
            "9.2\n",
            "-5.799999999999999 31.0\n"
          ],
          "name": "stdout"
        }
      ]
    },
    {
      "cell_type": "code",
      "metadata": {
        "id": "iFi-6gsiZ7rP"
      },
      "source": [
        "salju_train_sampling = salju_train_sampling[salju_train_sampling['SuhuMin']< Upper_Whisker]\n",
        "salju_train_sampling = salju_train_sampling[salju_train_sampling['SuhuMin']> Lower_Whisker]"
      ],
      "execution_count": 183,
      "outputs": []
    },
    {
      "cell_type": "code",
      "metadata": {
        "colab": {
          "base_uri": "https://localhost:8080/"
        },
        "id": "iF6CUL4kciww",
        "outputId": "0b4157fc-4ead-4216-d880-92724b5c7cd1"
      },
      "source": [
        "#Metode IQR untuk SuhuMax\n",
        "Q1=salju_train_sampling['SuhuMax'].quantile(0.25)\n",
        "Q3=salju_train_sampling['SuhuMax'].quantile(0.75)\n",
        "IQR=Q3-Q1\n",
        "print(Q1)\n",
        "print(Q3)\n",
        "print(IQR)\n",
        "Lower_Whisker = Q1-1.5*IQR\n",
        "Upper_Whisker = Q3+1.5*IQR\n",
        "print(Lower_Whisker, Upper_Whisker)"
      ],
      "execution_count": 184,
      "outputs": [
        {
          "output_type": "stream",
          "text": [
            "17.2\n",
            "27.4\n",
            "10.2\n",
            "1.9000000000000004 42.699999999999996\n"
          ],
          "name": "stdout"
        }
      ]
    },
    {
      "cell_type": "code",
      "metadata": {
        "id": "ZMRmN7asaGbs"
      },
      "source": [
        "salju_train_sampling = salju_train_sampling[salju_train_sampling['SuhuMax']< Upper_Whisker]\n",
        "salju_train_sampling = salju_train_sampling[salju_train_sampling['SuhuMax']> Lower_Whisker]"
      ],
      "execution_count": 185,
      "outputs": []
    },
    {
      "cell_type": "code",
      "metadata": {
        "colab": {
          "base_uri": "https://localhost:8080/",
          "height": 282
        },
        "id": "ubOStJFDdvDN",
        "outputId": "d3292e83-35c3-48c0-fe1f-b00d4caac99a"
      },
      "source": [
        "# Mengecek Outliers setelah menggunakan metode IQR\n",
        "f,axes = plt.subplots(1,3)\n",
        "plt.figure(figsize=(20,10))\n",
        "salju_train_sampling['SuhuMin'].plot(kind='box',ax=axes[0])\n",
        "salju_train_sampling['SuhuMax'].plot(kind='box',ax=axes[1])\n",
        "salju_train_sampling['Class'].plot(kind='box',ax=axes[2])\n",
        "\n",
        "plt.show()"
      ],
      "execution_count": 186,
      "outputs": [
        {
          "output_type": "display_data",
          "data": {
            "image/png": "[encoded data removed]",
            "text/plain": [
              "<Figure size 432x288 with 3 Axes>"
            ]
          },
          "metadata": {
            "tags": [],
            "needs_background": "light"
          }
        },
        {
          "output_type": "display_data",
          "data": {
            "text/plain": [
              "<Figure size 1440x720 with 0 Axes>"
            ]
          },
          "metadata": {
            "tags": []
          }
        }
      ]
    },
    {
      "cell_type": "code",
      "metadata": {
        "colab": {
          "base_uri": "https://localhost:8080/"
        },
        "id": "Mn1pANcPTs9S",
        "outputId": "479cccc0-4dbd-40b7-aece-02e5a1d8db96"
      },
      "source": [
        "# Mengecek Data Unique\n",
        "def check(data):\n",
        "  for col in data.columns:\n",
        "    print(col, data[col].unique())\n",
        "\n",
        "check(salju_train_sampling)"
      ],
      "execution_count": 187,
      "outputs": [
        {
          "output_type": "stream",
          "text": [
            "Tanggal [  99  617 2943 ... 3010 1002 3153]\n",
            "KodeLokasi [37 34 45 39 35 13 20  1 15  8 10 25 14 27 17 21 22  7  9 44 29 31 26 19\n",
            " 38 32 12 28 40 23  4 48  3 18 11 47  0  6 33 36  2 30 24 46  5 41 42 43\n",
            " 16]\n",
            "SuhuMin [ 8.2  8.1 22.8 22.6 13.4 12.8  7.6  9.5  6.6 23.9 12.6 10.3  2.5 14.\n",
            " 19.   7.3 19.5 10.7  7.9 11.  23.2 11.9 18.6  5.1 24.9 13.1  5.  10.4\n",
            " 20.3  2.1 16.4 16.7 16.1  5.5  8.  14.1  4.2 18.  14.4  6.4  7.7  9.9\n",
            "  8.9 16.5 19.6 10.2 13.  16.8  8.4  9.6  7.   8.8 21.5 10.1  4.5 18.4\n",
            "  8.5 24.5 16.2 23.4 18.2  5.4 24.1 -1.7 18.1 16.9 21.9 25.   6.7 11.2\n",
            " 17.6 15.4  7.2  7.5  8.7  8.6 12.4 12.7 12.  15.2 17.  10.5 23.3 18.8\n",
            " 15.7 11.1  2.6  9.  14.3 23.  12.3 -2.  20.8  4.  17.9 19.3  9.4  6.8\n",
            " 17.3 16.3  7.1  6.2 10.9 17.4 11.3 13.2 13.9 11.6 11.8 19.4 12.1  5.8\n",
            "  5.6 20.9  6.9 10.8 10.  12.9  8.3 21.2 15.5 12.2  6.  24.6  3.2 25.1\n",
            " 20.6 22.3  1.  15.8  5.9 18.3 20.  23.8 26.4  9.7 17.2 17.8 16.  24.\n",
            "  2.8  5.3 14.8  4.3  9.3  6.1  9.8 24.2 17.1  0.  14.2 25.2 24.8 19.9\n",
            " -1.1 21.   3.9 20.4 15.9 -0.7  6.3 17.7 20.5 13.6  3.5 20.7 -0.5 15.\n",
            " 15.6  7.4  9.2 19.2 22.1 11.7 13.3  5.2 25.3 23.6 13.5 23.1 25.7 27.6\n",
            " 13.7 22.7 21.1  3.6  1.9 14.7 -3.5  2.2 25.4 23.5  1.3  7.8  4.1  3.3\n",
            " -3.   9.1 12.5 11.4 19.7 16.6 19.1 -0.8 26.8  4.7  3.8 14.5 21.7 21.3\n",
            " 22.5 18.5 22.4 14.9  1.8 25.6 13.8 17.5 14.6 24.4 10.6 25.8 20.2  6.5\n",
            "  5.7  3.7 22.9  4.6 24.3 -4.7  3.   4.4 19.8 22.   2.3  1.5 20.1 -0.4\n",
            " 18.7 21.8 25.5  4.9  3.1  1.7 -2.7 18.9 15.1  2.9 22.2 27.5  4.8  3.4\n",
            " 27.9  2.4 23.7  0.7 21.6 15.3 11.5 26.2  0.2 -1.5 27.   0.5 21.4  0.8\n",
            " -0.1 -1.6 26.7 24.7  2.7  1.1 26.6 26.1  0.3 -2.4 -1.2 -0.2 -4.3 29.3\n",
            "  1.4 26.   0.1 -1.4 -1.9  1.6 -1.  -4.9 -3.4 27.4 26.3 -0.9  0.6 25.9\n",
            "  2.   0.4 29.7  0.9 -2.2  1.2 27.3 27.1 -0.3 -0.6 26.5 -2.6 -2.1 28.6\n",
            " -2.5 27.2 29.1 28.5 28.2 -3.2 28.8 27.7 28.3 26.9 -1.8 -3.3 -2.3 28.1\n",
            " -3.6 -4.5 -2.8 -2.9 -3.9 28.  -1.3 -5.3 -5.6 30.2 -4.4 27.8 29.  -3.7\n",
            " -3.8 29.8 28.4 -5.5 -5.  -4.2 -4.8 -4.1 28.7 -5.4 -4.6 -3.1 -5.1 28.9\n",
            " -4.  29.2 -5.2 -5.7 29.4]\n",
            "SuhuMax [15.3 12.1 29.4 28.4 22.4 33.7 11.6 16.9 16.2 31.4 19.2 16.1 12.  38.8\n",
            " 21.5 14.8 24.3 17.4 14.2 15.6 30.7 22.6 23.4 13.3 33.  24.5 13.1 17.\n",
            " 30.6 14.9 24.7 31.7 20.3 17.8 16.5 23.2 13.7 11.7 27.6 19.5 18.2 20.1\n",
            " 15.2 17.2 33.2 23.3 12.6 21.1 20.8 21.6 27.1 32.5 15.9 22.2 13.6 23.\n",
            " 24.2 26.2 18.9 30.8 27.4 25.6 19.7 31.5 23.7 22.1 15.1 21.3 16.  19.8\n",
            " 14.  24.8 17.9 27.9 21.7 22.5 25.4 19.  24.  32.1 12.4 37.2 15.5 27.\n",
            " 25.  10.6 14.7 28.1 18.1 31.8 18.5 18.4 29.  18.  29.3 16.3 25.7 21.\n",
            " 21.4 13.5 14.1 16.6 19.9 12.3 34.5 16.7 24.1 29.2 21.9 20.7 10.5 24.9\n",
            " 13.  22.7 19.6 34.  28.  14.3 20.4 13.4 20.  35.  11.2 26.4 15.4  9.6\n",
            " 22.  21.2 29.8 21.8 17.7 17.5 29.1 26.9 11.9 26.1 25.2 33.4 33.9 32.6\n",
            " 15.  11.8 22.9 31.3 30.  30.3 17.1 30.5 26.3 22.3 17.6 32.8 19.1 39.8\n",
            " 25.9 14.4 19.4 23.1 31.   9.8 31.6 13.2 22.8 28.7 34.8 25.1 25.8 26.8\n",
            " 14.6 16.8 15.8 20.5 13.8 27.8 37.5 10.1 35.5 11.  29.7 32.3 11.4 41.3\n",
            " 28.5 10.3 20.9 28.8 18.7 29.6 14.5  2.9 20.2 13.9 39.1 33.5 33.6  9.7\n",
            " 20.6 25.3 24.6 31.9  7.9 12.7 18.8 30.9 12.2 12.9  6.1 18.3 24.4 26.\n",
            " 12.8 32.  36.6 12.5 28.3 19.3 16.4 27.2 15.7 18.6 38.9 23.9  7.8 33.1\n",
            " 36.3 29.9 23.6 31.2 34.7 37.  10.7 10.4 28.9 23.8 26.7 42.1 32.7 27.7\n",
            " 29.5 34.9 10.9 23.5  9.   3.9 10.8  8.2 36.1 30.4  3.8 11.1  9.3 27.3\n",
            " 30.1  8.8 38.7 38.  17.3 25.5 11.3 26.6 32.2 35.9 34.6 26.5 36.8  8.6\n",
            " 34.2  7.7 35.2 31.1 28.2 37.8  9.9 33.8 10.2 11.5 35.4 28.6 42.5  9.2\n",
            " 39.5  7.4 36.5 35.1  6.5  7.6 33.3 34.3 40.4 37.7  3.1  4.2 32.4  9.4\n",
            " 27.5 36.7  8.1  6.9 38.2 30.2 32.9  6.8 39.9  4.7  8.4 10.   6.2 37.1\n",
            "  7.   8.5 42.3 37.4 34.4 36.  35.7  7.1 35.8 40.6 35.6  9.1 40.3  6.3\n",
            "  3.5 40.9 36.9  6.4  8.3  8.9 34.1 35.3  8.7 39.2  6.6 40.1 36.4  7.2\n",
            "  4.6  4.9 39.6 38.5 39.7  2.6 37.6  9.5  5.3  2.1  3.  36.2 38.4 41.6\n",
            "  3.7  2.7  2.8  5.1  6.   7.3  5.4  4.8 42.  39.  41.1 38.6  4.   5.2\n",
            " 39.4 41.9 40.7 38.1 37.3  5.   4.3  2.5  3.2 40.   5.8 40.8 42.2 41.5\n",
            "  4.5 40.5 38.3 39.3  5.5  5.9 37.9  4.1  5.6  8.   7.5  6.7  3.3  2.2\n",
            "  2.3 42.4  4.4 41.7  3.4 41.4 41.2 40.2 41.  41.8  2.4 42.6  3.6  2.\n",
            "  5.7]\n",
            "Hujan [3.400e+00 1.600e+00 1.022e+02 2.000e-01 0.000e+00 3.000e+00 1.400e+00\n",
            " 2.800e+00 2.600e+00 6.000e+00 6.000e-01 1.200e+00 3.600e+00 2.460e+01\n",
            " 2.400e+00 4.000e+00 4.400e+00 4.000e-01 4.600e+00 1.000e-01 1.600e+01\n",
            " 5.400e+00 8.800e+00 9.200e+00 1.300e+01 8.600e+00 5.600e+00 5.000e+00\n",
            " 2.320e+01 4.360e+01 1.400e+01 2.140e+01 6.800e+00 5.200e+01 5.800e+00\n",
            " 1.800e+00 1.200e+01 7.000e+00 1.000e+00 1.480e+01 3.680e+01 2.340e+01\n",
            " 8.000e-01 3.620e+01 2.000e+00 2.240e+01 2.520e+01 1.660e+01 1.060e+01\n",
            " 2.200e+00 3.200e+00 1.020e+01 3.920e+01 1.000e+01 1.860e+01 2.680e+01\n",
            " 1.040e+01 7.200e+00 1.020e+02 1.180e+01 8.200e+00 3.280e+01 8.400e+00\n",
            " 1.940e+01 1.054e+02 5.200e+00 5.960e+01 2.820e+01 3.320e+01 1.740e+01\n",
            " 2.940e+01 3.800e+01 3.500e+01 3.800e+00 8.000e+00 1.580e+01 9.400e+00\n",
            " 4.760e+01 4.800e+00 1.260e+01 7.400e+00 2.220e+01 1.760e+01 3.900e+01\n",
            " 5.660e+01 2.600e+01 2.440e+01 5.320e+01 7.800e+00 1.160e+01 2.380e+01\n",
            " 1.080e+01 2.760e+01 6.480e+01 8.360e+01 2.880e+01 1.640e+01 1.120e+01\n",
            " 4.460e+01 2.800e+01 9.600e+00 1.460e+01 6.600e+00 3.760e+01 1.220e+01\n",
            " 3.080e+01 9.000e+00 4.200e+00 7.600e+00 1.340e+01 2.740e+01 1.240e+01\n",
            " 1.700e+01 1.820e+01 4.920e+01 9.160e+01 2.180e+01 1.320e+01 6.200e+00\n",
            " 1.380e+01 5.220e+01 9.140e+01 6.400e+00 5.240e+01 5.600e+01 1.540e+01\n",
            " 5.780e+01 1.560e+01 2.540e+01 1.326e+02 1.500e+01 3.740e+01 1.980e+01\n",
            " 3.060e+01 3.420e+01 2.420e+01 4.080e+01 3.120e+01 1.960e+01 2.480e+01\n",
            " 2.720e+01 1.420e+01 1.780e+01 1.720e+01 2.020e+01 3.340e+01 6.580e+01\n",
            " 2.560e+01 1.520e+01 1.100e+01 1.880e+01 3.040e+01 7.220e+01 1.684e+02\n",
            " 5.060e+01 1.680e+01 3.580e+01 5.040e+01 1.900e+01 3.960e+01 3.200e+01\n",
            " 2.700e+01 9.800e+00 6.560e+01 6.000e+01 1.094e+02 1.620e+01 2.640e+01\n",
            " 3.600e+01 1.486e+02 5.680e+01 2.000e+01 3.260e+01 8.260e+01 1.280e+01\n",
            " 1.920e+01 2.960e+01 3.020e+01 9.100e+01 5.880e+01 1.100e+00 1.330e+01\n",
            " 8.040e+01 2.580e+01 3.540e+01 5.400e+01 2.860e+01 5.360e+01 1.190e+01\n",
            " 3.940e+01 2.780e+01 3.400e+01 1.800e+01 1.140e+01 2.360e+01 5.300e+01\n",
            " 5.840e+01 2.120e+01 4.260e+01 9.580e+01 6.960e+01 3.700e+01 3.440e+01\n",
            " 1.360e+01 2.300e+01 2.840e+01 4.680e+01 2.280e+01 4.500e+01 4.180e+01\n",
            " 2.260e+01 4.240e+01 5.140e+01 4.440e+01 4.060e+01 5.380e+01 3.100e+01\n",
            " 3.250e+01 1.440e+01 8.860e+01 5.500e+00 1.840e+01 3.820e+01 7.640e+01\n",
            " 6.280e+01 2.400e+01 1.500e+00 9.000e-01 4.000e+01 4.520e+01 4.660e+01\n",
            " 7.920e+01 4.500e+00 1.152e+02 3.160e+01 5.000e+01 3.140e+01 2.620e+01\n",
            " 8.800e+01 6.040e+01 5.980e+01 6.320e+01 5.260e+01 2.100e+00 1.018e+02\n",
            " 4.280e+01 1.472e+02 8.140e+01 7.120e+01 2.160e+01 4.620e+01 3.480e+01\n",
            " 3.380e+01 6.520e+01 3.520e+01 2.060e+01 2.500e+01 9.680e+01 2.040e+01\n",
            " 5.740e+01 6.140e+01 3.000e-01 5.940e+01 6.420e+01 1.900e+00 3.880e+01\n",
            " 2.500e+00 7.140e+01 1.060e+02 2.920e+01 7.580e+01 3.980e+01 1.202e+02\n",
            " 4.120e+01 4.160e+01 6.120e+01 1.890e+02 4.400e+01 6.620e+01 4.780e+01\n",
            " 7.280e+01 4.900e+00 2.980e+01 8.500e+00 2.200e+01 2.900e+01 3.000e+01\n",
            " 2.080e+01 4.600e+01 2.100e+01 4.860e+01 3.640e+01 4.700e+01 4.740e+01\n",
            " 1.062e+02 3.560e+01 6.820e+01 8.940e+01 5.000e-01 4.480e+01 8.320e+01\n",
            " 5.820e+01 3.300e+01 3.840e+01 7.840e+01 4.020e+01 3.180e+01 2.900e+00\n",
            " 8.640e+01 7.200e+01 8.980e+01 7.940e+01 8.900e+01 1.064e+02 3.460e+01\n",
            " 7.000e+01 7.260e+01 6.640e+01 3.360e+01 4.380e+01 1.076e+02 1.364e+02\n",
            " 2.660e+01 7.100e+01 3.860e+01 3.240e+01 5.180e+01 5.620e+01 1.314e+02\n",
            " 6.260e+01 7.000e-01 1.120e+02 1.422e+02 5.860e+01 3.430e+01 4.560e+01\n",
            " 5.480e+01 6.400e+01 6.500e+00 4.960e+01 4.800e+01 5.500e+01 1.438e+02\n",
            " 5.460e+01 4.880e+01 7.320e+01 3.660e+01 1.230e+01 1.704e+02 3.220e+01\n",
            " 2.062e+02 7.780e+01 6.160e+01 5.540e+01 4.320e+01 6.180e+01 1.668e+02\n",
            " 1.532e+02 7.080e+01 4.340e+01 4.940e+01 9.940e+01 5.640e+01 4.420e+01\n",
            " 5.100e+01 1.450e+02 7.880e+01 4.540e+01 2.650e+01 8.500e+01 5.020e+01\n",
            " 5.280e+01 1.158e+02 4.580e+01 2.085e+02 5.080e+01 4.980e+01 7.380e+01\n",
            " 1.348e+02 3.780e+01 3.720e+01 4.040e+01 5.520e+01 5.160e+01 8.120e+01\n",
            " 8.680e+01 5.580e+01 6.800e+01 2.068e+02 4.300e+01 4.720e+01 8.480e+01\n",
            " 1.250e+01 3.500e+00 1.366e+02 6.920e+01 1.642e+02 5.340e+01 3.790e+01\n",
            " 6.100e+00 1.144e+02 7.500e+01 8.080e+01 6.880e+01 7.340e+01 9.440e+01\n",
            " 4.100e+01 9.820e+01 4.840e+01 8.220e+01 7.600e+01 6.500e+01 1.056e+02\n",
            " 8.780e+01 6.460e+01 1.090e+01 4.200e+01 9.360e+01 7.160e+01 7.300e+01\n",
            " 8.240e+01 5.920e+01 9.920e+01 4.640e+01 2.784e+02 1.208e+02 1.502e+02\n",
            " 2.163e+02 4.820e+01 4.220e+01 6.840e+01 1.210e+01 8.400e+01 6.860e+01\n",
            " 8.340e+01 1.746e+02 1.776e+02 1.580e+02 4.140e+01 5.700e+01 7.680e+01\n",
            " 7.460e+01 6.980e+01 7.760e+01 6.240e+01 1.700e+00 2.950e+01 8.540e+01\n",
            " 1.042e+02 1.752e+02 1.226e+02 4.900e+01 1.052e+02 1.782e+02 8.280e+01\n",
            " 9.610e+01 4.550e+01 6.700e+01 1.418e+02 1.970e+01 9.500e+00 7.740e+01\n",
            " 2.250e+02 8.380e+01 7.560e+01 6.100e+01 7.180e+01 5.440e+01 1.550e+02\n",
            " 2.300e+00 2.290e+01 1.616e+02 6.700e+00 3.676e+02 2.686e+02 2.150e+01\n",
            " 9.400e+01 1.004e+02 3.110e+01 5.700e+00 9.280e+01 1.300e+00 3.100e+00\n",
            " 9.060e+01 6.300e+01 9.000e+01 7.520e+01 8.560e+01 8.920e+01 9.300e+01\n",
            " 9.220e+01 2.270e+01 1.058e+02 5.760e+01 1.050e+02 3.070e+01 1.652e+02\n",
            " 6.540e+01 1.270e+01 1.750e+01 6.900e+00 1.325e+02 2.106e+02 8.700e+01\n",
            " 1.670e+02 5.120e+01 1.130e+02 7.720e+01 6.900e+01 1.830e+02 1.122e+02\n",
            " 3.390e+01 9.340e+01 1.176e+02 1.570e+01 5.420e+01 5.900e+01 7.620e+01\n",
            " 8.760e+01 9.380e+01 1.194e+02 1.412e+02 8.740e+01 1.850e+01 2.070e+01\n",
            " 2.990e+01 9.560e+01 1.118e+02 1.248e+02 1.010e+01 6.780e+01 1.134e+02\n",
            " 8.420e+01 1.282e+02 6.020e+01 6.200e+01 1.002e+02 9.260e+01 6.340e+01\n",
            " 8.160e+01 1.294e+02 6.950e+01 4.730e+01 6.360e+01 1.182e+02 1.284e+02\n",
            " 8.020e+01 3.990e+01 8.460e+01 9.640e+01 2.390e+01 1.450e+01 1.622e+02\n",
            " 3.710e+02 1.456e+02 1.108e+02 1.150e+01 7.480e+01 1.550e+01 5.560e+01\n",
            " 8.700e+00 1.048e+02 6.410e+01 4.700e+00 5.800e+01 3.270e+01 8.820e+01\n",
            " 5.900e+00 3.300e+00 1.046e+02 7.800e+01 1.264e+02 7.420e+01 7.660e+01\n",
            " 8.180e+01 8.060e+01 1.568e+02 1.576e+02 5.300e+00 1.826e+02 8.100e+01\n",
            " 1.186e+02 9.800e+01 8.300e+01 2.930e+01 7.980e+01 1.810e+01 9.520e+01\n",
            " 9.700e+01 7.900e+01 1.214e+02 1.402e+02 2.700e+00 1.260e+02 1.452e+02\n",
            " 1.150e+02 2.530e+01 1.598e+02 1.390e+01 7.820e+01 2.250e+01 1.478e+02\n",
            " 1.390e+02 6.220e+01 7.100e+00 2.090e+01 1.074e+02 7.360e+01 2.910e+01\n",
            " 1.106e+02 1.092e+02 7.300e+00 2.196e+02 2.400e+02 1.428e+02 6.600e+01\n",
            " 2.370e+01 8.440e+01 1.110e+01 1.068e+02 6.380e+01 4.100e+00 6.080e+01\n",
            " 1.154e+02 4.150e+01]\n",
            "Penguapan [1.02e+01 1.00e+00 4.40e+00 3.40e+00 8.00e-01 2.60e+00 3.80e+00 1.40e+00\n",
            " 4.00e+00 7.60e+00 2.00e+00 2.20e+00 1.27e+01 1.60e+00 2.80e+00 3.20e+00\n",
            " 4.80e+00 3.00e+00 3.60e+00 9.00e+00 7.80e+00 1.16e+01 5.20e+00 1.00e+01\n",
            " 6.00e-01 5.00e+00 4.20e+00 1.80e+00 6.00e+00 2.40e+00 6.40e+00 7.00e+00\n",
            " 2.00e-01 8.00e+00 5.80e+00 5.60e+00 4.00e-01 1.82e+01 4.60e+00 6.20e+00\n",
            " 5.40e+00 1.20e+00 6.80e+00 6.60e+00 1.38e+01 8.80e+00 9.80e+00 7.40e+00\n",
            " 9.20e+00 9.40e+00 1.04e+01 8.60e+00 8.40e+00 1.22e+01 7.20e+00 8.20e+00\n",
            " 1.34e+01 1.08e+01 1.12e+01 1.10e+01 1.36e+01 1.30e+01 1.14e+01 7.00e-01\n",
            " 1.24e+01 1.06e+01 4.30e+00 2.20e+01 1.28e+01 9.60e+00 1.20e+01 1.86e+01\n",
            " 0.00e+00 3.50e+00 1.90e+00 1.26e+01 7.90e+00 1.46e+01 3.30e+00 1.52e+01\n",
            " 2.14e+01 1.68e+01 1.42e+01 6.70e+00 4.23e+01 1.32e+01 2.66e+01 5.90e+00\n",
            " 1.62e+01 1.60e+01 1.10e+00 2.30e+01 1.48e+01 3.54e+01 1.40e+01 1.80e+01\n",
            " 3.08e+01 1.18e+01 1.01e+01 5.00e-01 2.70e+00 1.03e+01 4.10e+00 3.00e-01\n",
            " 1.56e+01 1.72e+01 2.06e+01 2.10e+01 1.54e+01 9.70e+00 1.50e+01 1.44e+01\n",
            " 1.74e+01 1.70e+00 1.81e+01 2.38e+01 1.07e+01 2.90e+00 6.10e+00 5.10e+00\n",
            " 1.31e+01 1.50e+00 2.34e+01 1.64e+01 2.74e+01 1.94e+01 7.70e+00 2.00e+01\n",
            " 7.48e+01 3.20e+01 2.10e+00 4.70e+00 4.90e+00 1.58e+01 3.10e+00 3.70e+00\n",
            " 9.00e-01 2.40e+01 1.70e+01 2.30e+00 1.98e+01 4.50e+00 5.50e+00 9.90e+00\n",
            " 7.50e+00 3.02e+01 2.84e+01 2.04e+01 2.42e+01 2.44e+01 1.78e+01 3.38e+01\n",
            " 1.92e+01 1.88e+01 2.24e+01 3.04e+01 2.51e+01 2.76e+01 2.88e+01 1.66e+01\n",
            " 2.50e+00 2.72e+01 1.21e+01 3.24e+01 5.56e+01 1.96e+01 8.10e+00 2.02e+01\n",
            " 8.70e+00 2.86e+01 1.76e+01 7.10e+00 3.50e+01 1.11e+01 3.86e+01 1.00e-01\n",
            " 1.53e+01 1.30e+00 2.56e+01 2.28e+01 6.30e+00 1.90e+01 6.90e+00 2.48e+01\n",
            " 5.30e+00 1.93e+01 1.84e+01 5.58e+01 2.08e+01 2.22e+01 4.08e+01 2.36e+01\n",
            " 9.10e+00 3.42e+01 2.68e+01 7.30e+00 2.94e+01 2.16e+01 3.12e+01 3.60e+01\n",
            " 2.26e+01 3.74e+01 3.14e+01 2.12e+01 7.00e+01 3.94e+01 5.62e+01 2.32e+01\n",
            " 2.80e+01 4.18e+01 4.20e+01 1.45e+02 5.94e+01 3.30e+01 2.50e+01 6.50e+00\n",
            " 5.70e+00 1.49e+01 9.50e+00 1.15e+01 2.82e+01 3.52e+01 3.90e+00 8.30e+00\n",
            " 3.44e+01 2.78e+01 3.32e+01 1.77e+01 7.73e+01 2.60e+01 2.92e+01 3.56e+01\n",
            " 3.26e+01 6.08e+01 5.36e+01 3.28e+01 8.50e+00 3.70e+01 4.36e+01 3.16e+01\n",
            " 4.32e+01 2.62e+01 3.76e+01 1.05e+01 1.51e+01 6.44e+01 3.84e+01 2.70e+01\n",
            " 3.34e+01 5.76e+01 2.52e+01 6.20e+01 4.84e+01 4.88e+01 9.30e+00 3.40e+01\n",
            " 1.23e+01 2.98e+01 3.62e+01 6.02e+01 3.36e+01 5.66e+01 3.72e+01 2.64e+01\n",
            " 8.62e+01 3.46e+01 5.04e+01 4.00e+01 5.50e+01 5.72e+01 3.80e+01 4.66e+01\n",
            " 5.16e+01 1.09e+01 3.64e+01 4.22e+01 4.16e+01 2.58e+01 4.70e+01 3.10e+01\n",
            " 5.10e+01 4.26e+01 2.18e+01 1.13e+01 1.39e+01 4.62e+01 2.46e+01 5.40e+01\n",
            " 1.45e+01 4.72e+01 4.42e+01 4.24e+01 7.22e+01 8.90e+00 5.52e+01 1.25e+01\n",
            " 4.68e+01 5.64e+01 1.35e+01 6.30e+01 5.92e+01 5.48e+01 1.19e+01 3.00e+01\n",
            " 2.31e+01 1.71e+01 6.88e+01 3.88e+01 7.04e+01 3.22e+01 6.54e+01 5.08e+01\n",
            " 5.85e+01 2.25e+01 1.91e+01 1.43e+01 2.54e+01 5.96e+01 6.48e+01 2.05e+01\n",
            " 4.40e+01]\n",
            "SinarMatahari [10.4  6.8  0.9  6.2  2.9  5.8  6.6  4.7  7.2  0.2  1.3  2.4  6.   2.5\n",
            " 10.1  2.7  4.6  7.7  6.9  3.1  9.5  4.5  0.   7.5  6.1 10.2  0.7  5.1\n",
            "  3.   1.1  1.8  0.5  6.7 11.   0.1  4.9  0.8  5.   8.   9.3  1.4  0.3\n",
            "  9.6 10.   4.2  9.2  3.2 11.7  2.6  5.2  7.4  2.8  5.3  7.8  2.   1.6\n",
            "  0.6  6.3  4.8  4.1 10.3  2.2  7.3  9.7  4.3  5.4  0.4 10.5  5.5  8.6\n",
            "  1.5  1.9  5.7  1.7  2.1 12.6  1.2  4.   8.5  3.5  4.4 12.5  8.7  8.3\n",
            "  2.3  5.9  8.2  3.9 11.6  9.1  6.5  7.   5.6  3.7  6.4  7.9  7.1  3.3\n",
            "  3.6  1.   8.8  9.9 10.9  9.   8.4 13.2 12.1  3.8  7.6 10.8 11.1  8.1\n",
            " 11.5  9.4 12.2 11.3 13.  11.4  3.4 12.3 12.9  9.8 13.8 10.7 12.   8.9\n",
            " 11.2 10.6 11.8 13.3 12.4 11.9 12.7 13.5 13.1 12.8 13.9 13.4 13.7 13.6\n",
            " 14.  14.2 14.1 14.3]\n",
            "ArahAnginTerkencang [12 13  0  4 11  6 10 15  8  3  2  7  1  5  9 14]\n",
            "KecepatanAnginTerkencang [ 72.  31.  41.  33.  48.  39.  44.  37.  78.  56.  67.  35.  43.  26.\n",
            "  59.  46.  52.  61.  20.  57.  22.  30.  17.  28.  65.  69.  83.  54.\n",
            "  50.  98.  13.  19.  15.  63.  24.  70.  81.  76. 104.  80.  85.  93.\n",
            "  74. 109.  11. 107.   7.  91.  87.  94. 111.  96.  89. 102. 100. 120.\n",
            " 113.   9. 106. 126. 117. 115. 130. 124. 135. 122.]\n",
            "ArahAngin9am [15 14  3  0  9  7 12  1 10  2 11  5 13  4  6  8]\n",
            "ArahAngin3pm [12 14  5  0  2  7  9 15  3  1  8 13 11  6 10  4]\n",
            "KecepatanAngin9am [ 22.  13.  11.  20.   7.   0.   9.   4.   6.  31.  17.  24.  28.  15.\n",
            "  46.   2.  39.  30.  19.  26.  54.  35.  48.  37.  33.  43.  44.  52.\n",
            "  50.  57.  41.  65.  67.  56.  61.  63.  59.  69.  87.  74. 130.]\n",
            "KecepatanAngin3pm [28. 13. 17. 20. 30. 11. 37. 19. 39.  7. 15. 24. 33.  6. 26. 41. 22.  9.\n",
            "  2.  0. 31. 43.  4. 35. 52. 44. 54. 56. 48. 50. 63. 59. 57. 46. 61. 72.\n",
            " 87. 65. 69. 74. 76. 78. 67.]\n",
            "Kelembaban9am [ 86.  93.  96.  71.  91.  51.  90.  92.  76. 100.  59.  63.  97.  95.\n",
            "  81.  69.  80.  48.  99.  87.  72.  75.  74.  84.  85.  73.  79.  82.\n",
            "  66.  83.  64.  98.  88.  28.  68.  77.  61.  70.  89.  58.  78.  45.\n",
            "  65.  50.  55.  62.  53.  35.  46.  56.  94.  49.  33.  67.  23.  32.\n",
            "  52.  60.  44.  54.  27.  42.  47.  24.  34.  21.  57.   8.  36.  39.\n",
            "  41.  40.  19.  30.  25.  43.  37.  13.  38.  31.  29.  11.  14.  15.\n",
            "  20.  26.  16.  18.   9.  17.  22.   5.  10.  12.   2.   7.   4.   3.\n",
            "   6.   1.   0.]\n",
            "Kelembaban3pm [ 60.  77.  79.  81.  71.  72.  82.  69.  73.  85.  18.  54.  84.  80.\n",
            "  58.  67.  74.  63.  92.  78.  44.  57.  31.  75.  65.  88.  89.  61.\n",
            "  76.  66.  70.  50.  94.  62.  64.  49.  68.  47.  52.  86. 100.  51.\n",
            "  48.  15.  33.  36.  93.  59.  95.  83.  22.  99.  43.  87.  39.  90.\n",
            "  53.  38.  56.  96.  40.  46.  27.  41.  91.  55.  25.  37.  14.  45.\n",
            "  42.  16.  29.  23.  98.  97.  35.  32.  21.  28.  20.  17.  19.  10.\n",
            "  12.  26.  13.  34.  30.   9.  24.   8.   7.   4.  11.   6.   3.   1.\n",
            "   5.   2.   0.]\n",
            "Tekanan9am [1007.4 1005.4 1015.5 1013.1 1015.7 1016.5 1026.7 1023.4 1011.5 1006.9\n",
            " 1026.2 1013.6 1020.  1010.9 1018.7 1016.4 1033.6 1017.5 1018.5 1010.7\n",
            " 1013.5 1021.7 1014.2 1018.9 1035.  1015.8 1016.7 1007.3 1016.9 1022.\n",
            " 1014.6 1025.7 1030.2 1007.5 1027.8 1017.6 1011.4 1024.3 1008.  1012.7\n",
            " 1006.  1020.1 1018.1 1001.5 1009.4 1014.7 1030.3 1019.2 1012.  1012.6\n",
            " 1003.3 1016.2 1009.9 1024.4 1013.2 1008.1 1014.1 1020.3 1020.9 1019.5\n",
            " 1014.8 1009.7 1020.8 1018.  1013.  1027.6 1015.1 1017.4 1023.1 1009.1\n",
            " 1013.7 1019.7 1021.2 1024.1 1014.  1009.  1011.  1011.2 1023.8 1023.\n",
            " 1022.2 1028.  1015.3 1016.  1006.5 1007.1 1030.4 1014.3 1012.2 1011.6\n",
            "  999.2 1017.  1022.3 1008.5 1014.9 1009.2 1009.8 1014.5 1001.3 1015.4\n",
            " 1023.5 1013.9 1017.8  996.4 1018.8 1003.7 1011.7 1016.6 1016.1  997.5\n",
            " 1021.9 1010.6 1017.2 1010.8 1028.2 1016.8 1009.6 1005.1 1030.9  997.8\n",
            " 1004.5 1026.1 1005.3 1010.2 1026.3 1008.4 1003.5 1015.2 1015.9 1019.\n",
            " 1019.8 1011.3 1022.4 1020.7 1023.7 1002.1 1024.6 1018.6 1005.8 1009.3\n",
            " 1022.9  998.8 1016.3 1006.2 1018.2 1020.2 1030.5 1025.1 1029.3 1024.2\n",
            " 1023.9 1024.9 1019.1 1029.5 1028.1 1018.4 1022.5 1013.3 1022.6 1013.4\n",
            " 1012.4 1030.7 1010.3 1021.6 1006.7 1011.1 1012.5 1030.1 1017.7 1014.4\n",
            " 1006.1 1027.4  993.4 1017.3 1012.9 1026.8 1019.6 1028.4 1007.9 1026.\n",
            " 1031.1 1002.7 1007.  1004.3 1008.2 1006.8 1005.5  998.1 1021.5 1020.6\n",
            " 1023.3 1025.5 1025.8 1039.4 1010.  1032.3 1028.3 1008.9 1027.2 1031.7\n",
            " 1009.5 1010.5 1005.7 1020.5 1008.6  996.5 1015.6 1006.6 1012.1  991.3\n",
            " 1006.4 1017.9 1012.3 1026.9 1021.4 1013.8 1017.1 1008.8 1002.3 1012.8\n",
            " 1029.7 1024.7 1018.3 1006.3 1026.4 1025.  1008.3 1022.1  995.2 1025.6\n",
            " 1001.9 1008.7 1001.6 1024.5  999.3 1021.8 1028.9 1030.6 1007.6 1004.8\n",
            " 1004.7 1019.9 1002.5 1001.8 1000.3 1011.9 1010.1 1022.7 1010.4  999.7\n",
            " 1021.3 1000.  1024.  1032.  1021.1 1031.6 1001.1  995.6 1002.  1015.\n",
            " 1007.2 1003.8 1004.2 1030.  1036.6 1007.7 1029.  1000.1 1001.2 1002.8\n",
            " 1029.9 1028.6 1005.9 1031.2 1027.5  994.9 1022.8 1023.6 1003.6 1011.8\n",
            " 1019.3 1004.  1004.4 1003.4 1032.1  996.   995.  1003.1 1019.4 1003.2\n",
            " 1029.2 1001.7 1020.4 1005.6 1027.  1030.8 1004.9 1032.6 1031.  1029.4\n",
            " 1036.9 1025.2 1026.5 1002.9 1002.2  998.9 1028.5 1000.6 1000.7 1037.9\n",
            " 1025.4 1033.5  999.1 1027.1 1002.6  996.9 1000.2 1032.7 1028.8 1025.3\n",
            " 1036.3  995.8 1029.1 1032.8 1000.9  996.8 1034.  1023.2 1021.  1003.\n",
            "  988.1  993.3 1005.  1000.8 1032.9  995.9 1027.3 1007.8 1000.4  997.9\n",
            " 1024.8  993.5 1004.1 1025.9  998.7  998.6 1035.1 1031.4 1031.8 1000.5\n",
            " 1035.4 1003.9 1005.2 1032.4  993.6  997.7  989.8 1036.8  990.5 1026.6\n",
            " 1031.5  991.7  991.9  999.9  997.1  999.8  996.1  989.9 1001.4  998.2\n",
            " 1029.6  983.7  994.2 1033.  1029.8  984.6  994.3  988.5 1031.3  998.\n",
            "  988.9 1004.6  997.4 1002.4  993.2  999.5  995.5  997.   989.7 1001.\n",
            "  997.3  982.2 1035.2  989.5  988.8  997.6  992.9 1037.8  999.6 1035.9\n",
            "  992.8  998.4  995.1 1033.2 1027.9  980.5 1028.7 1034.1  991.5 1034.7\n",
            " 1033.8  991.8  994.4  989.2  996.3  992.5  995.7  993.  1027.7  989.4\n",
            "  999.4 1032.5  992.4 1035.3  998.3  997.2 1037.4  995.4 1035.7  998.5\n",
            "  996.6 1033.7  996.2  987.3 1034.2  990.8 1033.4 1036.5  992.1 1033.1\n",
            "  990.3  996.7  983.9 1033.9  993.7  994.6  991.1 1036.1 1038.2  994.8\n",
            "  988.3  992.2  991.4  993.8  985.   994.5 1035.6  990.9  992.6 1034.3\n",
            "  999.   995.3  993.9 1039.5 1033.3 1031.9  992.3 1032.2  994.7 1038.1\n",
            "  992.7  986.9 1034.8  991.6  987.1  982.9  993.1  987.4  987.   988.\n",
            "  991.2  989.3  989.  1035.8  990.6  986.6 1037.1 1037.   986.2  991.\n",
            "  988.2  982.   994.  1035.5 1037.3 1034.6 1034.9 1039.1 1037.5 1036.7\n",
            " 1034.4 1037.2 1038.8 1036.4 1036.2 1034.5 1036.  1038.  1039.2 1037.6\n",
            " 1037.7 1038.9  994.1  987.2 1038.6 1038.7 1038.4 1040.2 1039.  1040.1\n",
            " 1040.4 1038.3 1040.6 1039.3  992.   990.2 1038.5  989.1 1039.7  985.8\n",
            " 1040.9 1040.3 1040.5 1040.  1041.   986.3]\n",
            "Tekanan3pm [1012.8   1004.6   1011.4   1013.4   1013.5   1014.2   1026.5   1022.3\n",
            " 1005.5   1004.2   1024.    1019.4   1009.2   1016.8   1013.3   1015.3\n",
            " 1032.8   1014.8   1016.1   1010.1   1007.9   1010.4   1020.5   1018.3\n",
            " 1014.7   1031.8   1011.8   1005.8   1015.2   1020.2   1011.    1022.2\n",
            " 1028.8   1005.3   1025.2   1013.    1011.1   1005.    1006.8   1011.9\n",
            "  999.8   1015.4   1015.1   1012.4   1003.4   1028.4   1023.3   1010.8\n",
            " 1006.9   1000.8   1008.    1024.7   1009.6   1005.9   1009.5   1018.4\n",
            " 1018.2   1012.    1017.    1007.3   1016.7   1009.7   1003.8   1027.1\n",
            " 1013.9   1023.6   1014.    1001.5   1008.8   1017.1   1017.6   1019.9\n",
            " 1024.5   1012.9   1009.3   1014.5   1019.8   1022.8   1008.6   1019.2\n",
            " 1018.5   1013.1   1008.5   1010.3   1014.1   1011.2   1007.8   1008.3\n",
            " 1017.2   1028.2   1008.2   1006.3    996.1   1008.9   1009.4   1023.1\n",
            " 1010.9   1009.9   1012.6   1011.6   1003.9   1016.9   1021.1   1015.\n",
            " 1013.6    998.     999.5   1018.6   1007.6    998.6   1006.7   1020.\n",
            " 1010.7   1013.8   1023.4   1008.4   1025.    1007.7   1004.1   1028.6\n",
            "  997.5   1000.    1005.2   1018.1   1026.8   1015.6   1009.    1023.5\n",
            "  998.5   1010.    1014.6   1010.5   1008.7   1003.    1018.9   1011.3\n",
            " 1012.1   1016.3   1005.6   1020.3   1016.4   1017.7   1001.3   1019.5\n",
            " 1019.7   1016.5   1001.8   1022.1   1017.8    999.3   1011.7   1002.3\n",
            " 1016.6   1030.2   1027.2   1019.3   1023.8   1024.8   1024.2   1025.5\n",
            " 1020.9   1007.4   1019.    1016.2   1018.8   1028.3   1018.7   1001.1\n",
            " 1015.5   1025.3   1001.2   1021.4   1008.1   1026.9    998.1   1021.6\n",
            " 1011.5   1024.4   1003.7   1023.9   1030.3   1006.    1004.5   1010.2\n",
            " 1002.2   1012.3   1007.2   1015.9   1017.4   1017.9   1004.9   1001.7\n",
            " 1012.7   1003.3   1017.5   1025.4   1022.7   1035.6   1014.9   1027.9\n",
            " 1007.1   1026.1   1030.1   1023.2   1010.6   1015.7   1009.1   1005.1\n",
            " 1014.3   1005.7   1020.1   1003.6   1000.2   1014.4    999.2   1002.8\n",
            " 1006.5   1027.7    994.    1002.6   1021.3    996.5   1026.4   1028.7\n",
            " 1016.    1003.5   1021.    1021.8   1000.6   1004.8   1021.2    987.8\n",
            " 1012.5   1013.7    998.8   1021.5   1017.3   1024.3   1028.1   1007.\n",
            " 1023.7   1027.4   1020.4   1015.8    999.4    996.4   1009.8   1006.4\n",
            " 1006.2   1012.2   1025.7   1022.    1019.6   1004.7   1000.7   1000.1\n",
            " 1026.2    992.5   1020.7   1007.5   1002.1   1029.2    992.9    998.9\n",
            " 1002.7   1002.4   1001.    1022.6   1003.1   1001.6   1034.2    997.4\n",
            " 1004.    1026.3   1025.9    999.7    993.4   1013.2   1004.3   1001.9\n",
            " 1023.     994.3   1002.5   1031.7   1019.1    994.5   1020.6    999.9\n",
            " 1020.8   1022.9   1006.6   1005.4   1029.7    993.9    992.8    994.1\n",
            " 1001.4   1026.6    997.6   1024.6    997.7   1002.9   1028.5   1036.\n",
            " 1024.9    995.9   1018.     998.4    996.3   1036.3   1029.    1002.\n",
            " 1004.4   1000.9   1025.1   1029.9   1029.6   1027.3   1006.1    996.\n",
            " 1024.1    995.1   1028.9   1034.     996.2    995.3   1030.7   1025.8\n",
            " 1031.5   1022.4   1030.    1032.9   1003.2    995.5   1027.     977.1\n",
            "  991.2    991.6   1021.7    994.7    999.6   1026.     998.3   1022.5\n",
            " 1025.6    997.2   1021.9    996.9    990.4   1029.4    997.     992.4\n",
            "  993.7   1000.5   1034.5   1027.6    995.4   1033.6   1027.8    991.5\n",
            " 1030.5    994.8   1000.4    982.9    999.    1027.5   1000.3    997.8\n",
            "  986.1    994.4    995.7    998.7   1026.7    999.1    997.9    994.9\n",
            "  992.6   1029.3    988.3    993.8    993.1    987.1   1029.8    997.1\n",
            "  986.8    988.4    990.7    993.6    990.     992.7   1029.1    997.3\n",
            "  993.2    995.6    991.4   1033.8    994.6    996.6    980.2    993.5\n",
            " 1036.4    995.8   1035.     988.7    987.6   1032.3   1033.     993.\n",
            "  979.    1032.5   1032.    1034.1    991.8    998.2   1029.5   1032.6\n",
            " 1034.7   1031.1    996.8    990.6   1032.4    995.     996.7   1032.7\n",
            " 1035.9   1033.2    991.    1028.     986.5    993.3    990.1    991.1\n",
            "  978.2   1030.4    992.    1035.3    995.2   1030.9   1031.2   1036.9\n",
            " 1035.8    989.3   1031.    1033.9   1034.4    988.6    984.4    988.9\n",
            " 1030.6    992.2    985.5    981.9   1030.8    988.8    982.2   1031.9\n",
            " 1032.2    990.2    987.3   1031.4    988.5    989.6   1035.7    991.3\n",
            "  992.3    994.2   1035.1    989.8    982.6    989.2    989.1    986.2\n",
            "  990.8   1032.1   1033.4    984.2    991.9    989.9    990.9    981.2\n",
            "  990.5    987.7    987.     984.     991.7    988.    1031.6    987.4\n",
            "  985.8    981.4    988.2   1033.5    989.5    989.4    990.3   1033.7\n",
            "  985.2    989.     986.4    986.     992.1   1031.3   1034.8   1035.2\n",
            " 1033.1   1035.5   1033.3   1037.    1037.2   1036.6   1037.3   1035.4\n",
            "  985.3   1034.3   1036.8   1034.9    989.7   1037.5   1036.2    983.2\n",
            " 1036.5   1036.1   1037.9   1038.    1034.6   1036.7   1016.777  987.2\n",
            " 1037.1   1037.8   1026.66  1037.7   1038.2   1009.555 1039.6   1038.5\n",
            " 1038.9  ]\n",
            "Awan9am [6. 8. 7. 1. 5. 2. 3. 4. 0. 9.]\n",
            "Awan3pm [6. 8. 7. 5. 4. 3. 1. 2. 0. 9.]\n",
            "Suhu9am [11.4  8.5 23.6 25.2 16.  19.5  8.  10.8 10.4 27.3 16.4 12.9  6.4 21.9\n",
            " 23.  11.7 10.1 11.2 27.1 18.6 19.3  9.4 28.4 22.4  7.9 10.7 22.6  6.7\n",
            " 21.2 19.4 18.3 14.3 11.  13.7 17.   7.3 23.5 17.2 15.9 11.8 12.1 11.6\n",
            " 23.4 21.5 10.3 18.  17.9 13.9 13.2 16.5 20.6  8.7  8.8 28.  17.8 20.5\n",
            " 12.4 13.6 21.1 21.6 21.7 27.4 16.7 24.7 11.3 27.6  9.8 19.8 21.8 13.5\n",
            " 15.  25.8 28.2 13.3 20.1 17.3 16.8 19.2 15.5 15.4 10.5 11.5 15.6 11.9\n",
            " 20.7 13.1 22.2 23.9 22.1 22.   7.8  9.6 28.1  5.8 23.1 14.1 22.8 11.1\n",
            " 20.4 16.6 19.9 12.7 16.9 13.4 18.5 14.4 15.3 19.  20.3 17.4 16.2 10.\n",
            " 22.5 19.6 26.3 12.5 27.7  9.9  5.6 12.3  9.2 26.6 15.1  9.5  6.5 18.7\n",
            " 20.   8.3 27.5  7.  25.9 30.9 27.2  7.4 14.   8.9 14.9 18.1 13.8  3.2\n",
            " 12.8  5.3 29.8 17.6 14.5 26.  18.9 28.9  4.4 29.4 23.2 10.6 21.  17.5\n",
            " 20.2 24.6  3.3  8.4 18.2 25.4  2.4 25.5  8.1  9.3  5.7 30.1  8.6 28.7\n",
            " 27.  24.5  6.2 33.  25.1 21.3 26.8  9.1 12.2 27.8 -1.2 12.6 30.6  7.5\n",
            " 29.9 12.  18.8 18.4 26.9 22.3  4.5 14.7 10.2 14.6 26.7  2.3 16.3 20.9\n",
            "  9.   4.6 22.9 24.  23.3 22.7 17.7 20.8 33.5 15.2 14.2  8.2  7.1 28.8\n",
            " 19.1 32.4  9.7 15.7 23.7 25.  26.1  7.7 25.7 24.8 16.1 30.   6.9 29.7\n",
            " 33.3 24.4  5.4 24.2  2.5 19.7  3.5 24.1  6.3  5.9 14.8  7.2  7.6 23.8\n",
            "  1.7 28.6 21.4 15.8 24.3 13.  29.  10.9 30.8 31.5  5.   3.8  2.9 30.3\n",
            "  3.7 26.5 29.5 30.2 26.2  5.2 27.9 31.2  6.8 30.4 28.3 33.2 25.6  3.1\n",
            " 29.1  4.1 32.  30.5 29.2  4.8 29.6  6.   4.7  6.6 17.1  4.9  0.1 29.3\n",
            " 24.9  2.8 28.5 26.4 31.4  5.1  3.4 25.3  1.6 -0.8  5.5 34.5 31.  32.3\n",
            "  2.  33.7  4.3 32.2 32.7  4.  35.1  1.8 31.6 30.7  4.2 34.3 31.3  3.6\n",
            "  2.6  0.6  6.1  1.1  2.2  0.7 33.1 31.8  0.  31.1 -1.3 34.2  1.  31.9\n",
            " 35.3  2.7 32.5  1.2  3.   3.9  2.1 33.4 32.8 31.7 34.8 -0.1 32.1 36.3\n",
            "  0.2 -0.4 36.4  0.5 -0.7 -0.2  1.3 36.   1.9  0.3 34.9 -1.1 -0.5 32.6\n",
            " 34.  32.9 34.7  1.5  1.4  0.8 33.6 34.4 -0.3 -1.6 39.  -1.  34.6 -1.4\n",
            " -1.9 -0.6 34.1  0.9  0.4 33.9 35.2 33.8 -1.7 35.7 -0.9 35.  -3.2 -1.8\n",
            " -1.5 35.5 -2.3 -3.7 -3.6 36.5 -2.6 35.8 -2.  -2.4 -2.2 35.4 37.2 36.2\n",
            " -2.8 35.9 -2.7 36.8 -2.5 -2.1 -3.3 37.4]\n",
            "Suhu3pm [13.5 11.5 27.8 24.2 20.  22.2  9.7 15.5 15.3 28.3 18.9 14.9 10.5 37.9\n",
            " 12.5 21.3 15.2 13.  20.1 29.7 21.  22.3 11.9 30.7 21.6  8.8 14.3 29.\n",
            " 14.7 24.1 31.  16.8 12.7 16.5 21.1  9.  11.1 27.1 17.6 16.9 18.8 13.6\n",
            " 14.  31.9 20.7 22.5 19.8 26.6 11.3 11.4 27.  14.6 20.2 21.8 23.8 24.4\n",
            " 18.5 22.7 12.4 26.3 13.3 24.  15.8 18.1 25.8 30.6 21.7 12.8 22.  13.2\n",
            " 31.4 20.8 14.5 17.3 24.6 22.8 14.8 18.3 23.9 21.4 26.4 34.2 26.   8.9\n",
            " 12.9 25.5 17.  18.  28.2 16.6 15.6 25.3 20.4 25.1 19.3 11.8 27.7 19.1\n",
            " 15.4 17.8 16.  19.7 26.9 22.6 30.9 12.1  8.  23.1 11.6 10.7 17.7 11.\n",
            " 22.4 13.1 21.2 10.9 19.9 14.1 13.8  6.8 19.2 23.2 12.6 27.5 15.9 28.6\n",
            " 24.7 10.6 24.8 27.4 31.3 32.  20.6 31.6  9.8 19.5 30.2 29.6 17.5 24.3\n",
            " 13.7 14.2 28.9 14.4 25.4 16.4 13.4 31.5 16.1 19.4 18.2 37.5 13.9 17.4\n",
            " 28.8 19.  30.3 28.  16.2 28.4 32.9 22.9 23.6 25.  20.9 12.  20.5 17.9\n",
            " 36.1  9.4 34.   8.6 31.7 23.  29.1 24.5 10.1 39.3 23.3 27.2 11.7 28.5\n",
            " 12.3 17.2 26.8 10.8 18.4 33.1 15.7 29.8  7.4 28.7  9.3  8.2  5.4 22.1\n",
            " 32.3 35.3 12.2 27.6 17.1  9.9 15.1  7.2 32.6 15.   8.7 27.9 32.7 30.\n",
            " 18.7 32.8 10.3 27.3 29.3 23.4 26.2 16.7 24.9 39.5 21.9 18.6 10.2 26.5\n",
            "  7.9 11.2 32.4 26.1 10.4 28.1 29.9 19.6  3.6  7.7  9.2  6.5 29.5  6.6\n",
            " 25.2  9.5 38.  23.7 34.4 25.6 34.1 26.7  9.6 30.8 31.8 34.9  7.6 35.2\n",
            " 25.7 21.5  6.7 33.  33.7 20.3 25.9 29.2 36.7 30.1 16.3 30.4  8.4  8.5\n",
            " 29.4  6.2 23.5 37.8  5.7  5.3 30.5 33.3  5.9  0.2  2.3 37.1  1.3  8.1\n",
            " 32.1 10.  35.9  1.4 38.9 32.5  8.3 34.8  4.7 31.1 35.6 39.7 35.4 36.\n",
            " 37.3 34.5 32.2 36.8 33.4  6.  34.6 39.9 34.3 36.4 39.4  1.8  7.1 36.6\n",
            "  5.1 -0.3 31.2 38.8 35.1 35.8  4.9  7.  33.5  4.8 33.8  9.1  5.6  6.4\n",
            "  6.9  6.1  7.3 35.  35.5  6.3 40.8 33.9 40.   2.8 38.7 37.   1.6  7.8\n",
            " 36.9 40.6 34.7  5.5 37.4 33.2  2.9  0.3  7.5  2.6  3.5 40.2  5.8 35.7\n",
            "  3.8  4.2 38.2 36.2 39.1 36.3  1.  38.3  5.  38.6 33.6  3.2  4.1  2.4\n",
            " 38.4  4.3  4.5  4.6  3.7 38.5  4.4  0.9 36.5 37.2 37.7  2.   2.2 40.3\n",
            " 37.6  1.2 38.1  1.7  4.   2.5  3.   3.4  0.5  0.7  0.6 39.   5.2 -1.1\n",
            "  2.1  3.3  0.8 -0.1 40.5 39.2 41.3  3.9  0.  40.7 41.2 40.9 41.  42.1\n",
            " 39.6  2.7 39.8 40.4  3.1 41.4 40.1 42.3 41.1 41.9 41.5 41.8 -0.5 -0.4\n",
            " -0.6  1.9  0.4 41.7  1.1  1.5 41.6 -0.8]\n",
            "BersaljuHariIni [1 0]\n",
            "Class [1 0]\n"
          ],
          "name": "stdout"
        }
      ]
    },
    {
      "cell_type": "code",
      "metadata": {
        "colab": {
          "base_uri": "https://localhost:8080/"
        },
        "id": "MV1ZYy2PUXnw",
        "outputId": "a1b859ab-46c1-495c-d8dc-a500f6d2b9c8"
      },
      "source": [
        "# Mengecek type atribut\n",
        "print(salju_train_sampling.dtypes)"
      ],
      "execution_count": 188,
      "outputs": [
        {
          "output_type": "stream",
          "text": [
            "Tanggal                       int64\n",
            "KodeLokasi                    int64\n",
            "SuhuMin                     float64\n",
            "SuhuMax                     float64\n",
            "Hujan                       float64\n",
            "Penguapan                   float64\n",
            "SinarMatahari               float64\n",
            "ArahAnginTerkencang           int64\n",
            "KecepatanAnginTerkencang    float64\n",
            "ArahAngin9am                  int64\n",
            "ArahAngin3pm                  int64\n",
            "KecepatanAngin9am           float64\n",
            "KecepatanAngin3pm           float64\n",
            "Kelembaban9am               float64\n",
            "Kelembaban3pm               float64\n",
            "Tekanan9am                  float64\n",
            "Tekanan3pm                  float64\n",
            "Awan9am                     float64\n",
            "Awan3pm                     float64\n",
            "Suhu9am                     float64\n",
            "Suhu3pm                     float64\n",
            "BersaljuHariIni               int64\n",
            "Class                         int64\n",
            "dtype: object\n"
          ],
          "name": "stdout"
        }
      ]
    },
    {
      "cell_type": "markdown",
      "metadata": {
        "id": "94SR534aetxl"
      },
      "source": [
        "## Pre Processing Data Test"
      ]
    },
    {
      "cell_type": "code",
      "metadata": {
        "id": "meWwteTjrFCm",
        "colab": {
          "base_uri": "https://localhost:8080/"
        },
        "outputId": "e625914e-e334-4531-a642-ab89278e2165"
      },
      "source": [
        "test_0 = salju_test[salju_test['Class'] == 'No']\n",
        "test_1 = salju_test[salju_test['Class'] == 'Yes']\n",
        "\n",
        "print(\"Class 0 :\", test_0.shape)\n",
        "print(\"Class 1 :\", test_1.shape)"
      ],
      "execution_count": 189,
      "outputs": [
        {
          "output_type": "stream",
          "text": [
            "Class 0 : (13824, 23)\n",
            "Class 1 : (3939, 23)\n"
          ],
          "name": "stdout"
        }
      ]
    },
    {
      "cell_type": "code",
      "metadata": {
        "colab": {
          "base_uri": "https://localhost:8080/"
        },
        "id": "xM52w5eDgQsJ",
        "outputId": "45a850b7-caf2-4805-f5c2-7cbe0f7121d5"
      },
      "source": [
        "# Oversampling Data\n",
        "test_count_0, test_count_1 = salju_test['Class'].value_counts()\n",
        "test_1_over = test_1.sample(test_count_0, replace = True)\n",
        "\n",
        "salju_test_sampling = pd.concat([test_1_over, test_0], axis=0)\n",
        "\n",
        "print(\"Total Class 1 and 0 :\", salju_test_sampling['Class'].value_counts())"
      ],
      "execution_count": 190,
      "outputs": [
        {
          "output_type": "stream",
          "text": [
            "Total Class 1 and 0 : Yes    13824\n",
            "No     13824\n",
            "Name: Class, dtype: int64\n"
          ],
          "name": "stdout"
        }
      ]
    },
    {
      "cell_type": "code",
      "metadata": {
        "colab": {
          "base_uri": "https://localhost:8080/"
        },
        "id": "0zKX3rMugkiM",
        "outputId": "55e01d76-86b8-4125-9817-77a27a6fdb94"
      },
      "source": [
        "# Mengecek missing values\n",
        "salju_test_sampling.isnull().sum()"
      ],
      "execution_count": 191,
      "outputs": [
        {
          "output_type": "execute_result",
          "data": {
            "text/plain": [
              "Tanggal                         0\n",
              "KodeLokasi                      0\n",
              "SuhuMin                       107\n",
              "SuhuMax                        59\n",
              "Hujan                         335\n",
              "Penguapan                   11880\n",
              "SinarMatahari               13030\n",
              "ArahAnginTerkencang          1865\n",
              "KecepatanAnginTerkencang     1851\n",
              "ArahAngin9am                 1886\n",
              "ArahAngin3pm                  730\n",
              "KecepatanAngin9am             260\n",
              "KecepatanAngin3pm             479\n",
              "Kelembaban9am                 397\n",
              "Kelembaban3pm                 679\n",
              "Tekanan9am                   2647\n",
              "Tekanan3pm                   2631\n",
              "Awan9am                     10248\n",
              "Awan3pm                     10740\n",
              "Suhu9am                       225\n",
              "Suhu3pm                       519\n",
              "BersaljuHariIni               335\n",
              "Class                           0\n",
              "dtype: int64"
            ]
          },
          "metadata": {
            "tags": []
          },
          "execution_count": 191
        }
      ]
    },
    {
      "cell_type": "code",
      "metadata": {
        "id": "xx8CqIPahZ1e"
      },
      "source": [
        "# Mengatasi Missing Values\n",
        "salju_test_sampling.fillna(salju_test_sampling.median(), inplace=True)                # Nilai Numeric diisi dengan nilai median\n",
        "salju_test_sampling = salju_test_sampling.fillna(salju_test_sampling.mode().iloc[0]) # Nilai String diisi dengan nilai yang paling sering muncul pada atribut"
      ],
      "execution_count": 192,
      "outputs": []
    },
    {
      "cell_type": "code",
      "metadata": {
        "colab": {
          "base_uri": "https://localhost:8080/"
        },
        "id": "6OC5NB7Vhgrp",
        "outputId": "638ba53b-da5e-4243-ddf5-f210a3fa8448"
      },
      "source": [
        "salju_test_sampling.isnull().sum()"
      ],
      "execution_count": 193,
      "outputs": [
        {
          "output_type": "execute_result",
          "data": {
            "text/plain": [
              "Tanggal                     0\n",
              "KodeLokasi                  0\n",
              "SuhuMin                     0\n",
              "SuhuMax                     0\n",
              "Hujan                       0\n",
              "Penguapan                   0\n",
              "SinarMatahari               0\n",
              "ArahAnginTerkencang         0\n",
              "KecepatanAnginTerkencang    0\n",
              "ArahAngin9am                0\n",
              "ArahAngin3pm                0\n",
              "KecepatanAngin9am           0\n",
              "KecepatanAngin3pm           0\n",
              "Kelembaban9am               0\n",
              "Kelembaban3pm               0\n",
              "Tekanan9am                  0\n",
              "Tekanan3pm                  0\n",
              "Awan9am                     0\n",
              "Awan3pm                     0\n",
              "Suhu9am                     0\n",
              "Suhu3pm                     0\n",
              "BersaljuHariIni             0\n",
              "Class                       0\n",
              "dtype: int64"
            ]
          },
          "metadata": {
            "tags": []
          },
          "execution_count": 193
        }
      ]
    },
    {
      "cell_type": "code",
      "metadata": {
        "id": "oGubEeCLgv2m"
      },
      "source": [
        "# Menentukan Fitur Categorical\n",
        "numerics = ['int8', 'int16', 'int32', 'int64', 'float16', 'float32', 'float64']\n",
        "categorical_columns = []\n",
        "features = salju_test_sampling.columns.values.tolist()\n",
        "for col in features:\n",
        "    if salju_test_sampling[col].dtype in numerics: continue\n",
        "    categorical_columns.append(col)\n",
        "\n",
        "# Encoding Fitur Categorical\n",
        "for col in categorical_columns:\n",
        "    if col in salju_test_sampling.columns:\n",
        "        enco = LabelEncoder()\n",
        "        enco.fit(list(salju_test_sampling[col].astype(str).values))\n",
        "        salju_test_sampling[col] = enco.transform(list(salju_test_sampling[col].astype(str).values))"
      ],
      "execution_count": 194,
      "outputs": []
    },
    {
      "cell_type": "code",
      "metadata": {
        "colab": {
          "base_uri": "https://localhost:8080/",
          "height": 217
        },
        "id": "Wq2OddywhKvI",
        "outputId": "efafde7b-dbd4-4bd9-ff6f-4825bc8e8b6e"
      },
      "source": [
        "salju_test_sampling.head()"
      ],
      "execution_count": 195,
      "outputs": [
        {
          "output_type": "execute_result",
          "data": {
            "text/html": [
              "<div>\n",
              "<style scoped>\n",
              "    .dataframe tbody tr th:only-of-type {\n",
              "        vertical-align: middle;\n",
              "    }\n",
              "\n",
              "    .dataframe tbody tr th {\n",
              "        vertical-align: top;\n",
              "    }\n",
              "\n",
              "    .dataframe thead th {\n",
              "        text-align: right;\n",
              "    }\n",
              "</style>\n",
              "<table border=\"1\" class=\"dataframe\">\n",
              "  <thead>\n",
              "    <tr style=\"text-align: right;\">\n",
              "      <th></th>\n",
              "      <th>Tanggal</th>\n",
              "      <th>KodeLokasi</th>\n",
              "      <th>SuhuMin</th>\n",
              "      <th>SuhuMax</th>\n",
              "      <th>Hujan</th>\n",
              "      <th>Penguapan</th>\n",
              "      <th>SinarMatahari</th>\n",
              "      <th>ArahAnginTerkencang</th>\n",
              "      <th>KecepatanAnginTerkencang</th>\n",
              "      <th>ArahAngin9am</th>\n",
              "      <th>ArahAngin3pm</th>\n",
              "      <th>KecepatanAngin9am</th>\n",
              "      <th>KecepatanAngin3pm</th>\n",
              "      <th>Kelembaban9am</th>\n",
              "      <th>Kelembaban3pm</th>\n",
              "      <th>Tekanan9am</th>\n",
              "      <th>Tekanan3pm</th>\n",
              "      <th>Awan9am</th>\n",
              "      <th>Awan3pm</th>\n",
              "      <th>Suhu9am</th>\n",
              "      <th>Suhu3pm</th>\n",
              "      <th>BersaljuHariIni</th>\n",
              "      <th>Class</th>\n",
              "    </tr>\n",
              "  </thead>\n",
              "  <tbody>\n",
              "    <tr>\n",
              "      <th>16639</th>\n",
              "      <td>1038</td>\n",
              "      <td>27</td>\n",
              "      <td>10.9</td>\n",
              "      <td>19.3</td>\n",
              "      <td>0.0</td>\n",
              "      <td>4.6</td>\n",
              "      <td>10.2</td>\n",
              "      <td>8</td>\n",
              "      <td>35.0</td>\n",
              "      <td>11</td>\n",
              "      <td>10</td>\n",
              "      <td>13.0</td>\n",
              "      <td>19.0</td>\n",
              "      <td>55.0</td>\n",
              "      <td>45.0</td>\n",
              "      <td>1023.9</td>\n",
              "      <td>1022.4</td>\n",
              "      <td>7.0</td>\n",
              "      <td>2.0</td>\n",
              "      <td>13.5</td>\n",
              "      <td>18.5</td>\n",
              "      <td>0</td>\n",
              "      <td>1</td>\n",
              "    </tr>\n",
              "    <tr>\n",
              "      <th>15199</th>\n",
              "      <td>2901</td>\n",
              "      <td>19</td>\n",
              "      <td>19.1</td>\n",
              "      <td>26.6</td>\n",
              "      <td>7.6</td>\n",
              "      <td>4.0</td>\n",
              "      <td>9.9</td>\n",
              "      <td>11</td>\n",
              "      <td>35.0</td>\n",
              "      <td>11</td>\n",
              "      <td>8</td>\n",
              "      <td>24.0</td>\n",
              "      <td>20.0</td>\n",
              "      <td>63.0</td>\n",
              "      <td>58.0</td>\n",
              "      <td>1020.2</td>\n",
              "      <td>1019.6</td>\n",
              "      <td>2.0</td>\n",
              "      <td>2.0</td>\n",
              "      <td>22.3</td>\n",
              "      <td>25.7</td>\n",
              "      <td>1</td>\n",
              "      <td>1</td>\n",
              "    </tr>\n",
              "    <tr>\n",
              "      <th>15063</th>\n",
              "      <td>380</td>\n",
              "      <td>11</td>\n",
              "      <td>13.5</td>\n",
              "      <td>17.1</td>\n",
              "      <td>0.4</td>\n",
              "      <td>4.6</td>\n",
              "      <td>0.7</td>\n",
              "      <td>13</td>\n",
              "      <td>39.0</td>\n",
              "      <td>9</td>\n",
              "      <td>2</td>\n",
              "      <td>20.0</td>\n",
              "      <td>26.0</td>\n",
              "      <td>55.0</td>\n",
              "      <td>64.0</td>\n",
              "      <td>1034.2</td>\n",
              "      <td>1031.0</td>\n",
              "      <td>7.0</td>\n",
              "      <td>8.0</td>\n",
              "      <td>15.4</td>\n",
              "      <td>15.8</td>\n",
              "      <td>0</td>\n",
              "      <td>1</td>\n",
              "    </tr>\n",
              "    <tr>\n",
              "      <th>12187</th>\n",
              "      <td>2582</td>\n",
              "      <td>45</td>\n",
              "      <td>27.8</td>\n",
              "      <td>33.4</td>\n",
              "      <td>0.0</td>\n",
              "      <td>8.0</td>\n",
              "      <td>8.1</td>\n",
              "      <td>14</td>\n",
              "      <td>37.0</td>\n",
              "      <td>15</td>\n",
              "      <td>14</td>\n",
              "      <td>15.0</td>\n",
              "      <td>26.0</td>\n",
              "      <td>69.0</td>\n",
              "      <td>61.0</td>\n",
              "      <td>1007.3</td>\n",
              "      <td>1004.3</td>\n",
              "      <td>7.0</td>\n",
              "      <td>7.0</td>\n",
              "      <td>30.4</td>\n",
              "      <td>32.6</td>\n",
              "      <td>0</td>\n",
              "      <td>1</td>\n",
              "    </tr>\n",
              "    <tr>\n",
              "      <th>6604</th>\n",
              "      <td>3136</td>\n",
              "      <td>28</td>\n",
              "      <td>14.7</td>\n",
              "      <td>23.4</td>\n",
              "      <td>4.0</td>\n",
              "      <td>1.8</td>\n",
              "      <td>5.4</td>\n",
              "      <td>15</td>\n",
              "      <td>59.0</td>\n",
              "      <td>13</td>\n",
              "      <td>15</td>\n",
              "      <td>20.0</td>\n",
              "      <td>33.0</td>\n",
              "      <td>78.0</td>\n",
              "      <td>64.0</td>\n",
              "      <td>1004.0</td>\n",
              "      <td>1009.5</td>\n",
              "      <td>3.0</td>\n",
              "      <td>7.0</td>\n",
              "      <td>17.3</td>\n",
              "      <td>15.8</td>\n",
              "      <td>1</td>\n",
              "      <td>1</td>\n",
              "    </tr>\n",
              "  </tbody>\n",
              "</table>\n",
              "</div>"
            ],
            "text/plain": [
              "       Tanggal  KodeLokasi  SuhuMin  ...  Suhu3pm  BersaljuHariIni  Class\n",
              "16639     1038          27     10.9  ...     18.5                0      1\n",
              "15199     2901          19     19.1  ...     25.7                1      1\n",
              "15063      380          11     13.5  ...     15.8                0      1\n",
              "12187     2582          45     27.8  ...     32.6                0      1\n",
              "6604      3136          28     14.7  ...     15.8                1      1\n",
              "\n",
              "[5 rows x 23 columns]"
            ]
          },
          "metadata": {
            "tags": []
          },
          "execution_count": 195
        }
      ]
    },
    {
      "cell_type": "code",
      "metadata": {
        "colab": {
          "base_uri": "https://localhost:8080/",
          "height": 284
        },
        "id": "93ccqHxlhlJF",
        "outputId": "9b4f19ab-6d54-499b-c261-27d8cab0e914"
      },
      "source": [
        "# Mengecek Outliers\n",
        "f,axes = plt.subplots(1,3)\n",
        "plt.figure(figsize=(20,10))\n",
        "salju_test_sampling['SuhuMin'].plot(kind='box',ax=axes[0])\n",
        "salju_test_sampling['SuhuMax'].plot(kind='box',ax=axes[1])\n",
        "salju_test_sampling['Class'].plot(kind='box',ax=axes[2])\n",
        "\n",
        "plt.show()"
      ],
      "execution_count": 196,
      "outputs": [
        {
          "output_type": "display_data",
          "data": {
            "image/png": "[encoded data removed]",
            "text/plain": [
              "<Figure size 432x288 with 3 Axes>"
            ]
          },
          "metadata": {
            "tags": [],
            "needs_background": "light"
          }
        },
        {
          "output_type": "display_data",
          "data": {
            "text/plain": [
              "<Figure size 1440x720 with 0 Axes>"
            ]
          },
          "metadata": {
            "tags": []
          }
        }
      ]
    },
    {
      "cell_type": "code",
      "metadata": {
        "colab": {
          "base_uri": "https://localhost:8080/"
        },
        "id": "RJQYipyvhunp",
        "outputId": "63019d13-018c-4497-d0df-cd8bfe42f041"
      },
      "source": [
        "#Metode IQR untuk SuhuMin\n",
        "Q1=salju_test_sampling['SuhuMin'].quantile(0.25)\n",
        "Q3=salju_test_sampling['SuhuMin'].quantile(0.75)\n",
        "IQR=Q3-Q1\n",
        "print(Q1)\n",
        "print(Q3)\n",
        "print(IQR)\n",
        "Lower_Whisker = Q1-1.5*IQR\n",
        "Upper_Whisker = Q3+1.5*IQR\n",
        "print(Lower_Whisker, Upper_Whisker)"
      ],
      "execution_count": 197,
      "outputs": [
        {
          "output_type": "stream",
          "text": [
            "8.0\n",
            "17.2\n",
            "9.2\n",
            "-5.799999999999999 31.0\n"
          ],
          "name": "stdout"
        }
      ]
    },
    {
      "cell_type": "code",
      "metadata": {
        "id": "hSilovYLhzL4"
      },
      "source": [
        "salju_test_sampling = salju_test_sampling[salju_test_sampling['SuhuMin']< Upper_Whisker]\n",
        "salju_test_sampling = salju_test_sampling[salju_test_sampling['SuhuMin']> Lower_Whisker]"
      ],
      "execution_count": 198,
      "outputs": []
    },
    {
      "cell_type": "code",
      "metadata": {
        "colab": {
          "base_uri": "https://localhost:8080/"
        },
        "id": "zbNNRF-wh6IM",
        "outputId": "7862801c-5d7f-4467-ba73-8f56e2aff09a"
      },
      "source": [
        "#Metode IQR untuk SuhuMax\n",
        "Q1=salju_test_sampling['SuhuMax'].quantile(0.25)\n",
        "Q3=salju_test_sampling['SuhuMax'].quantile(0.75)\n",
        "IQR=Q3-Q1\n",
        "print(Q1)\n",
        "print(Q3)\n",
        "print(IQR)\n",
        "Lower_Whisker = Q1-1.5*IQR\n",
        "Upper_Whisker = Q3+1.5*IQR\n",
        "print(Lower_Whisker, Upper_Whisker)"
      ],
      "execution_count": 199,
      "outputs": [
        {
          "output_type": "stream",
          "text": [
            "17.3\n",
            "27.7\n",
            "10.399999999999999\n",
            "1.7000000000000028 43.3\n"
          ],
          "name": "stdout"
        }
      ]
    },
    {
      "cell_type": "code",
      "metadata": {
        "id": "qyT0PNGNiA6W"
      },
      "source": [
        "salju_test_sampling = salju_test_sampling[salju_test_sampling['SuhuMax']< Upper_Whisker]\n",
        "salju_test_sampling = salju_test_sampling[salju_test_sampling['SuhuMax']> Lower_Whisker]"
      ],
      "execution_count": 200,
      "outputs": []
    },
    {
      "cell_type": "code",
      "metadata": {
        "colab": {
          "base_uri": "https://localhost:8080/",
          "height": 282
        },
        "id": "9OTye7CPiFUO",
        "outputId": "488c8c79-ba5f-42a9-d3c0-203baad7c0ba"
      },
      "source": [
        "# Mengecek Outliers setelah menggunakan metode IQR\n",
        "f,axes = plt.subplots(1,3)\n",
        "plt.figure(figsize=(20,10))\n",
        "salju_test_sampling['SuhuMin'].plot(kind='box',ax=axes[0])\n",
        "salju_test_sampling['SuhuMax'].plot(kind='box',ax=axes[1])\n",
        "salju_test_sampling['Class'].plot(kind='box',ax=axes[2])\n",
        "\n",
        "plt.show()"
      ],
      "execution_count": 201,
      "outputs": [
        {
          "output_type": "display_data",
          "data": {
            "image/png": "[encoded data removed]",
            "text/plain": [
              "<Figure size 432x288 with 3 Axes>"
            ]
          },
          "metadata": {
            "tags": [],
            "needs_background": "light"
          }
        },
        {
          "output_type": "display_data",
          "data": {
            "text/plain": [
              "<Figure size 1440x720 with 0 Axes>"
            ]
          },
          "metadata": {
            "tags": []
          }
        }
      ]
    },
    {
      "cell_type": "code",
      "metadata": {
        "colab": {
          "base_uri": "https://localhost:8080/"
        },
        "id": "zmvW8q2IiJy3",
        "outputId": "069e8122-14a2-45a0-eb6f-c9714532e1aa"
      },
      "source": [
        "# Mengecek Data Unique\n",
        "def check(data):\n",
        "  for col in data.columns:\n",
        "    print(col, data[col].unique())\n",
        "\n",
        "check(salju_test_sampling)"
      ],
      "execution_count": 202,
      "outputs": [
        {
          "output_type": "stream",
          "text": [
            "Tanggal [1038 2901  380 ...   62 1359  435]\n",
            "KodeLokasi [27 19 11 45 28 14 22  5 25 10 34 24  0 39 36 18 33 29 41 47 15  8 40  6\n",
            " 46 30  9 44 12  7 35 26 31 37 38 13 17 42 20  1 48 32  4 23 21  2  3 16\n",
            " 43]\n",
            "SuhuMin [10.9 19.1 13.5 27.8 14.7 16.4 18.7 25.3 18.9 -1.9 17.1 12.   1.8 21.1\n",
            " 21.2  5.7  9.8  7.9 12.5  0.5 15.6 12.3 14.8 24.1 23.7 10.4  7.1  5.9\n",
            " 10.8  7.4 15.1 25.5  6.3  9.7 17.6  6.9 16.9  2.5  5.  18.5  8.5  4.8\n",
            " 16.5  9.3 16.  20.8 11.1 13.7  9.  18.3  7.6 15.  20.6  9.4 11.7 21.4\n",
            " 12.1  9.5 13.  12.7  4.1 14.5 -0.3 21.  13.9 12.2 12.4 10.6 15.5 10.1\n",
            " 18.4 19.4  9.6 19.  21.5 26.4  3.9 13.6 10.7 22.8 14.2 13.2  8.7 11.3\n",
            "  7.3 14.1 15.7 13.3  8.8  8.1  8.2 15.2  6.5 19.8 16.7  5.2  9.9  8.9\n",
            " 18.8  5.5 19.6 23.9  7.  13.8 13.4 12.6 24.7 20.2  8.  17.2 15.3  7.5\n",
            " 18.   6.1  2.   6.6  6.7  1.6  5.1  4.5 24.9 12.9 23.3  7.7 23.4 14.9\n",
            " 22.6  9.2 15.4 26.  24.2 20.1 17.7 16.2  5.3 22.5 20.  14.  17.  19.3\n",
            " 16.3 17.5  8.3 12.8 11.  17.9  4.6  3.2  0.8 21.8 25.9 11.9 18.6 11.6\n",
            "  8.6  3.4 25.8 20.9  1.5  5.4  6.2  2.3 25.7 11.8 26.5  6.  11.5 10.\n",
            "  7.2 14.4 24.8 15.8 20.4 10.5 21.9  4.  23.2 23.  22.7  1.1 11.2 18.2\n",
            "  0.2 23.6 11.4 10.3 20.7 17.8 24.5 19.2  2.7 20.5  9.1 10.2  4.3  2.2\n",
            " 24.4 14.3 18.1 19.9 23.8 22.1  8.4 16.8  0.6  5.8  2.4 21.6 24.   4.2\n",
            " 22.3 27.   3.7 21.7 26.7  7.8 -2.6  6.4 -2.3 17.4 15.9  6.8  5.6  4.4\n",
            " 23.5 19.7 -3.4  3.5 -2.5 25.4 22.9 25.6 25.  25.2 22.2 13.1  4.7  3.8\n",
            "  2.1 23.1  2.9  1.4 26.6 16.1 16.6 -1.8 22.4 21.3 20.3 27.3 26.2 17.3\n",
            " 22.   1.9 24.3 14.6  3.6  4.9 19.5  0.9  0.1  2.8 -3.8  2.6 24.6 -2.8\n",
            "  3.1  3.3 30.7 27.9 -2.   0.  -1.7 26.1 -4.  27.6 27.4 -1.1  1.7  1.3\n",
            " 25.1 -1.5 -0.8 -0.4  1.2 -1.  28.  -0.5  0.4 -1.2 -0.2 -2.9 26.8 28.6\n",
            " 28.1  3.   0.7  1.  -2.1 -0.9 27.5 -0.1 -0.6 -4.3  0.3 27.2 -0.7 -3.5\n",
            " 26.3 -1.6 -2.4 -1.4 -5.5 -3.9 -3.1 -4.7 28.2 -3.2 -3.3 29.6 -4.1 -1.3\n",
            " -2.2 28.5 -3.6 -4.9 -5.7 27.7 -4.6 -3.  29.4 -4.5 29.7 26.9 -3.7 -4.2\n",
            " 29.3 -5.1 -4.4 28.3 -2.7 -4.8 28.8 28.4 29.  -5. ]\n",
            "SuhuMax [19.3 26.6 17.1 33.4 23.4 34.5 24.1 30.8 21.3  3.  28.4 16.9 11.9 30.2\n",
            " 21.2 26.7 14.8 26.9  6.8 20.6 16.2 23.5 22.6 37.4 37.6 29.9 13.5 19.8\n",
            " 16.  23.7 13.  20.3 34.4 12.4 11.8 22.  17.  21.4 18.2 24.6 15.6 10.5\n",
            " 26.4 13.4 34.8 32.8 18.6 20.8 15.8 22.9 22.2 22.8 24.  12.9 27.  14.6\n",
            " 17.5 26.5 23.9 15.2 14.4 19.4  2.8 19.6 29.5 19.2  7.9 17.9 18.1 17.4\n",
            " 23.2 34.6 24.9 17.6 34.7 32.4 22.4 13.8 16.5 20.5 29.8 23.3 18.9 24.4\n",
            " 15.5 12.  31.  12.7 34.1 38.7 20.  18.4 19.1 13.2 26.  36.3 28.9 19.7\n",
            " 29.4 21.  30.9 32.2 34.  20.9 14.  25.  19.9 24.2 27.7 24.8 14.2 30.4\n",
            " 12.3 33.6 14.7 26.2 29.3 20.2 32.3  9.1 39.6 24.5 13.9 16.4 12.5 14.5\n",
            " 14.1 13.1 15.  28.7 14.9 12.1 11.2 28.1 28.3 17.2 16.7 33.  24.7 15.9\n",
            " 27.5 18.  22.5 31.3 21.1 10.  26.1 20.7 18.5 10.4 27.6 24.3 13.6 29.1\n",
            " 18.3 12.6 15.1 14.3 19.5  6.7 19.  25.9 28.8 32.7 22.7 17.3 28.2 28.5\n",
            " 16.6 15.7 27.4 16.8 27.3 40.1 35.6 11.  29.2 25.1  9.8 15.3 17.7 20.4\n",
            " 21.5 11.6 33.1 18.8 41.2 18.7 12.8 35.4 31.2 13.7 31.4 35.8 10.8 22.1\n",
            " 23.1 32.6 11.5 21.8 27.8 33.9  8.6 17.8 25.7  4.7 20.1 30.6 33.3 23.\n",
            " 16.3 16.1 31.7 29.7 34.9 36.5 39.3 32.5 30.3 36.9 37.2 35.7 25.2 21.7\n",
            "  5.3 13.3  9.7  8.8 27.1 38.6  8.  36.6  3.6 26.3 21.9 42.1 38.4  9.4\n",
            " 37.8 36.  23.6 34.3 25.3 21.6 27.9 22.3 34.2 28.  28.6 30.5 33.8 25.8\n",
            "  6.6 15.4 25.6  3.8 33.2 31.5 29.  23.8 36.2 29.6 37.1 41.9  8.4 30.\n",
            " 12.2 32.1 10.1 11.3 31.6 32.  26.8  7.7 11.7 25.5 11.4 33.5  4.3 33.7\n",
            "  4.8 37.9 31.8 27.2 35.9 10.9 38.9 10.7 25.4 30.7  6.2  7.2 37.  31.1\n",
            " 11.1  9.5 37.3 38.5  2.4 39.8  4.   2.5  9.9  2.2 31.9 35.5 35.  30.1\n",
            " 32.9  3.9 37.7 41.8  9.2  5.5  5.2  2.7 10.2 37.5  5.7 41.5 40.8  3.4\n",
            " 42.5 40.  10.6 39.1  9.6  8.9  8.7  9.  35.3  9.3  4.4 35.2  4.5 10.3\n",
            "  2.6  6.1  7.4 35.1 42.6 40.4 38.3 36.4 41.6 36.1  8.5 40.2 41.4 38.\n",
            " 36.7 39.5 42.8 43.1 40.9 40.7 36.8 38.2 38.1  8.1  7.   6.9  5.8 43.\n",
            "  2.3 39.9 38.8 39.   3.3 39.2 39.7 41.3  7.6 42.7  4.9 40.6 42.2 40.3\n",
            " 40.5 41.1  3.7 41.7  4.1 39.4  8.2 41.  42.9  2.   7.5  2.9  7.8  7.3\n",
            " 43.2  1.9 42.3  7.1  3.2 42.  42.4  8.3]\n",
            "Hujan [0.000e+00 7.600e+00 4.000e-01 4.000e+00 5.600e+00 1.640e+01 2.000e-01\n",
            " 1.600e+00 2.400e+00 8.000e-01 1.000e+00 7.800e+00 1.200e+00 2.000e+00\n",
            " 2.020e+01 1.200e+01 1.420e+01 1.400e+01 8.600e+00 4.400e+00 1.260e+01\n",
            " 2.800e+00 1.020e+01 4.180e+01 1.400e+00 9.400e+00 1.780e+01 3.740e+01\n",
            " 4.800e+00 4.200e+00 6.000e+00 2.520e+01 7.200e+00 6.000e-01 6.200e+00\n",
            " 9.200e+00 1.480e+01 3.200e+00 2.720e+01 8.000e+00 3.800e+00 1.360e+01\n",
            " 1.560e+01 1.800e+00 2.200e+00 2.280e+01 9.800e+00 3.000e-01 7.000e+00\n",
            " 2.100e+01 2.060e+01 3.400e+00 1.760e+01 3.380e+01 2.900e+01 1.340e+01\n",
            " 2.600e+00 1.160e+01 5.000e+00 1.100e+01 1.180e+01 3.000e+00 1.900e+01\n",
            " 2.140e+01 3.620e+01 3.100e+01 9.000e+00 4.040e+01 6.340e+01 6.620e+01\n",
            " 2.540e+01 2.160e+01 3.600e+00 1.000e+01 3.860e+01 2.380e+01 1.380e+01\n",
            " 1.960e+01 4.460e+01 1.680e+01 1.980e+01 1.300e+01 3.900e+01 6.800e+00\n",
            " 4.320e+01 8.800e+00 1.140e+01 4.600e+00 2.320e+01 9.600e+00 3.820e+01\n",
            " 2.260e+01 1.060e+01 1.740e+01 1.620e+01 5.400e+00 2.340e+01 4.080e+01\n",
            " 5.200e+00 3.020e+01 2.360e+01 1.500e+01 2.760e+01 7.400e+00 2.940e+01\n",
            " 3.520e+01 1.700e+01 3.120e+01 3.460e+01 6.600e+00 8.400e+00 5.960e+01\n",
            " 1.320e+01 4.300e+01 5.800e+01 1.820e+01 2.800e+01 1.120e+01 4.840e+01\n",
            " 1.800e+01 4.920e+01 8.200e+00 2.220e+01 6.700e+01 9.040e+01 1.520e+01\n",
            " 1.040e+01 1.840e+01 2.980e+01 2.200e+01 3.400e+01 3.300e+01 3.580e+01\n",
            " 2.080e+01 6.400e+00 3.920e+01 3.940e+01 3.500e+01 2.620e+01 9.260e+01\n",
            " 1.280e+02 5.500e+01 2.480e+01 5.800e+00 3.660e+01 2.300e+01 5.440e+01\n",
            " 4.600e+01 4.100e+01 1.280e+01 3.080e+01 1.240e+01 6.600e+01 6.400e+01\n",
            " 3.420e+01 1.220e+01 3.180e+01 1.580e+01 7.260e+01 2.600e+01 2.840e+01\n",
            " 1.920e+01 3.320e+01 2.368e+02 1.034e+02 3.260e+01 2.560e+01 2.660e+01\n",
            " 1.880e+01 2.680e+01 2.440e+01 1.090e+02 2.960e+01 4.880e+01 2.740e+01\n",
            " 7.100e+00 1.080e+01 2.400e+01 3.640e+01 3.280e+01 2.180e+01 2.780e+01\n",
            " 3.340e+01 4.420e+01 1.216e+02 2.420e+01 3.140e+01 3.300e+00 3.560e+01\n",
            " 8.380e+01 2.580e+01 1.070e+01 1.440e+01 4.380e+01 5.740e+01 6.280e+01\n",
            " 4.980e+01 4.620e+01 2.000e+01 1.460e+01 4.020e+01 5.100e+01 6.200e+01\n",
            " 3.160e+01 1.600e+01 3.360e+01 2.040e+01 1.154e+02 7.620e+01 7.680e+01\n",
            " 1.442e+02 4.540e+01 4.060e+01 2.640e+01 2.700e+01 8.640e+01 4.820e+01\n",
            " 5.560e+01 3.680e+01 3.700e+01 5.820e+01 6.100e+01 4.860e+01 2.880e+01\n",
            " 1.860e+01 3.760e+01 1.540e+01 4.940e+01 3.220e+01 3.600e+01 1.720e+01\n",
            " 8.360e+01 3.240e+01 2.860e+01 6.460e+01 3.780e+01 2.500e+01 4.340e+01\n",
            " 1.940e+01 4.240e+01 4.700e+01 5.620e+01 7.860e+01 2.120e+01 2.472e+02\n",
            " 3.880e+01 5.060e+01 3.440e+01 1.660e+01 6.020e+01 6.140e+01 6.060e+01\n",
            " 4.960e+01 4.660e+01 7.800e+01 5.780e+01 7.900e+00 1.000e-01 8.900e+01\n",
            " 5.240e+01 1.228e+02 6.420e+01 1.500e+00 1.822e+02 1.152e+02 8.400e+01\n",
            " 5.880e+01 7.400e+01 3.540e+01 3.980e+01 6.440e+01 5.140e+01 7.960e+01\n",
            " 1.138e+02 5.600e+01 6.220e+01 6.380e+01 7.100e+01 4.900e+01 8.060e+01\n",
            " 1.900e+00 4.640e+01 5.120e+01 6.160e+01 1.846e+02 7.060e+01 1.300e+00\n",
            " 4.440e+01 7.160e+01 5.580e+01 4.800e+01 8.800e+01 5.000e-01 4.760e+01\n",
            " 7.080e+01 8.240e+01 7.500e+01 4.200e+01 1.590e+01 3.960e+01 4.900e+00\n",
            " 4.740e+01 4.700e+00 5.320e+01 6.500e+00 4.120e+01 7.000e-01 3.200e+01\n",
            " 6.900e+00 9.320e+01 2.460e+01 2.240e+01 3.040e+01 2.300e+00 5.420e+01\n",
            " 2.900e+00 7.420e+01 6.300e+00 5.160e+01 6.520e+01 3.720e+01 3.900e+00\n",
            " 2.100e+00 4.500e+00 1.180e+02 1.110e+02 4.220e+01 1.700e+00 1.050e+02\n",
            " 5.300e+01 6.000e+01 2.820e+01 4.000e+01 2.920e+01 1.100e+00 4.140e+01\n",
            " 1.834e+02 7.520e+01 8.180e+01 6.780e+01]\n",
            "Penguapan [ 4.6  4.   8.   1.8  4.4  7.   1.6  7.2  6.2  1.2  6.4  1.4  3.4 12.4\n",
            "  7.6 13.   8.4  0.6  6.   5.4  4.2  2.   2.4  7.4 26.   6.6  8.6  3.\n",
            "  0.8  8.2  2.6  5.2  4.8  5.8  2.8  1.  10.4  3.8  5.6  2.2 11.2 10.6\n",
            "  0.2  0.4  6.8  5.  15.4 12.2  3.6  3.2 10.2  9.6  9.   9.4  9.2 11.6\n",
            "  1.1 13.4 27.2 12.  13.8  5.7 13.6 14.  11.  14.2  7.8 10.   1.9  2.1\n",
            "  9.8  0.  15.6  8.8 16.  10.5 21.  10.8  3.7 12.8 14.8 19.2 11.4 15.2\n",
            "  7.7  2.7  6.7 11.8  2.3 22.4  3.3 18.6 14.4 15.  10.9 12.6 10.1 14.6\n",
            "  3.1 36.6  9.1  8.5 30.4  2.9 36.8  3.5  4.3 35.8 17.  28.6  5.1  5.3\n",
            " 17.6  6.5  8.7 15.8 13.2 16.2 16.6 14.5 35.4 33.6  2.5 52.4  1.3  7.5\n",
            " 32.  24.   4.1  1.7 18.8 19.  17.4 21.6 16.4 14.7 20.8 24.6 18.4 11.9\n",
            " 30.8 18.  20.  28.   4.7 19.8 27.8 56.   0.3 25.4 19.6 36.   7.9 32.2\n",
            " 40.4 54.  23.   1.5 22.6  6.3 24.2 25.  16.8 19.1 68.8  0.9 12.1 35.\n",
            "  9.3  7.1  4.9 22.1 23.2 23.6 21.2 22.   6.9  0.7 34.2 21.4 32.8  5.9\n",
            " 19.7  5.5  8.3 17.8 20.2  0.1 18.2 17.2 22.2 13.3 20.4 39.2 42.8 44.4\n",
            " 22.8 13.1 29.8 23.3 25.6 64.   6.1 37.6 34.  34.5  3.9 38.4 11.1 31.\n",
            " 59.8 13.9 46.6 37.4  0.5 41.2 11.7 23.4]\n",
            "SinarMatahari [10.2  9.9  0.7  8.1  5.4  6.9  0.9  3.2  0.1  7.2  7.3 10.   2.6  1.3\n",
            "  4.8 11.9  1.8 10.1  7.7  0.  11.7 10.9  6.8  9.   4.3  4.1  9.1 12.1\n",
            "  9.8  5.7  3.5  9.5  4.2  1.5  9.4 12.3 13.   7.4 11.   7.  12.4  4.7\n",
            "  4.4  9.7  3.9  2.2  7.5  7.6  0.5  6.5  6.4  2.4  5.   8.6  1.1  6.1\n",
            "  8.8  3.4  3.   8.2  2.9  7.9  6.2  4.9  8.   0.6  8.3  5.3  5.6  7.8\n",
            "  6.   0.2  5.2 10.3  5.9  5.8  3.1 11.5  6.3  0.8  0.3  2.3  8.7  6.6\n",
            "  2.1  4.5  3.8  9.3 10.4  3.6  8.4  1.   0.4  1.6  3.7  3.3  4.6  8.5\n",
            "  4.  11.2 13.2  2.7  8.9  1.9 10.7  1.4 12.2 12.8  2.5  7.1  1.2  5.1\n",
            "  2.8  2.   6.7 11.4 12.5 10.8 11.3  9.2  1.7 11.6  5.5 11.1 12.9  9.6\n",
            " 12.6 13.4 10.5 12.7 10.6 11.8 13.8 12.  13.1 13.9 13.3 13.6 13.7 13.5\n",
            " 14.3 14.  14.5 14.1]\n",
            "ArahAnginTerkencang [ 8 11 13 14 15  5  4  0  9  7 10  2 12  3  6  1]\n",
            "KecepatanAnginTerkencang [ 35.  39.  37.  59.  48.  30.  33.  50.  41.  22.  61.  63.  43.  70.\n",
            "  24.  56.  94.  52.  31.  44.  17.  19.  54.  46.  76.  28.  80.  67.\n",
            "  26.  72.  69.  65.  57.  20.  91.  78.  74.  85.  13.  93.  15.  83.\n",
            "  81.  98. 104.  89.  87. 109. 100.  11.  96. 106.   9. 107.   7. 102.\n",
            " 115.   6. 122.]\n",
            "ArahAngin9am [11  9 15 13  2  3  4  8 14  0  1 12  5  7  6 10]\n",
            "ArahAngin3pm [10  8  2 14 15  5  7 12  9  3  4  6 13 11  0  1]\n",
            "KecepatanAngin9am [13. 24. 20. 15.  4.  9. 17. 19.  7. 31.  6. 22. 35. 11.  0. 30. 28. 33.\n",
            " 41. 26. 37. 46. 43. 39.  2. 48. 65. 44. 61. 57. 50. 52. 63. 54. 83. 56.\n",
            " 59.]\n",
            "KecepatanAngin3pm [19. 20. 26. 33.  7. 11. 15. 31. 17. 24. 13.  9.  0. 35. 30.  2. 22. 28.\n",
            " 39.  4. 41. 50.  6. 46. 37. 56. 44. 43. 59. 61. 57. 48. 65. 52. 83. 54.]\n",
            "Kelembaban9am [ 55.  63.  69.  78.  67.  82.  81.  73.  92.  62.  91.  58.  49.  96.\n",
            "  90.  68.  56.  70.  75.  74.  89.  94.  64.  95.  53.  50.  72. 100.\n",
            "  66.  87.  77.  99.  93.  86.  45.  97.  71.  57.  65.  85.  76.  88.\n",
            "  48.  61.  98.  84.  59.  13.  80.  47.  52.  25.  83.  36.  60.  79.\n",
            "  43.  51.  41.  26.  17.  54.  37.  40.  39.  44.  46.  24.  31.  42.\n",
            "  38.  21.  28.  12.  35.  33.  19.   6.  20.  16.  18.  27.  32.  23.\n",
            "  14.  15.  22.  11.  34.  30.   8.   9.  29.   4.  10.   5.   3.   7.\n",
            "   2.]\n",
            "Kelembaban3pm [ 45.  58.  64.  61.  33.  67.  89.  84.  47.  70.  71.  40.  44.  80.\n",
            "  36.  69.  92.  75.  41.  66.  73.  49.  22.  83.  98.  56.  74.  77.\n",
            "  85.  79.  81.  59.  30.  93.  35.  57.  90.  54.  86.  63.  94.  68.\n",
            "  43.  91.  62.  65.  76.  17.  38.  82.  96.  27.  53.  23.  72.  37.\n",
            "  87.  31.  50.  39.  60.  52.  34.  88.  11.  78.  24.  46.  32.  51.\n",
            "  97.  29.  48.  99.  26.  55.  18.  95.  42. 100.  21.  28.  15.  12.\n",
            "  25.   5.  20.  19.   7.   9.   6.  16.  14.  13.   4.  10.   8.   3.\n",
            "   2.   1.]\n",
            "Tekanan9am [1023.9 1020.2 1034.2 1007.3 1004.  1016.3 1010.8 1008.7 1014.5 1013.9\n",
            " 1022.  1020.9 1020.7 1017.8 1012.4 1021.8 1028.1 1023.3 1021.7 1012.1\n",
            " 1016.9 1008.2 1008.4 1015.7 1018.5 1017.5  995.9 1014.  1027.7 1010.1\n",
            " 1004.3  992.8 1013.  1021.1 1002.8 1029.4 1024.5 1005.3 1002.3 1003.9\n",
            " 1011.4 1024.4 1001.6 1003.7 1008.  1027.1 1009.8  995.3 1018.  1025.4\n",
            " 1010.7 1015.2 1016.4 1023.1 1019.9 1015.9 1017.1 1030.8 1019.  1019.8\n",
            " 1012.6 1013.7 1013.8 1007.  1017.  1014.6 1018.6 1013.4 1016.8 1005.2\n",
            " 1009.3 1002.5 1010.  1018.8 1014.8 1014.9 1012.9 1012.3 1026.7 1020.4\n",
            " 1018.1 1010.5  997.4 1006.9 1020.5 1013.2 1009.4 1014.2 1007.6 1012.7\n",
            " 1016.2 1009.2 1000.7 1007.4 1011.  1006.5 1012.  1011.2 1025.2 1023.2\n",
            " 1018.7 1018.9 1028.7 1008.3 1010.6 1026.1 1015.5 1009.5 1025.8 1020.6\n",
            " 1024.9 1002.2 1021.  1019.2 1005.  1016.6 1007.5 1028.5 1000.6 1010.9\n",
            " 1015.3 1023.6 1002.9 1009.9 1011.5 1016.1 1011.7 1007.2 1015.  1024.7\n",
            " 1017.9 1022.3 1010.2 1026.3 1007.9 1006.8 1020.3 1011.9 1019.6 1006.4\n",
            " 1013.1  991.3 1016.  1022.8 1003.2 1005.4 1007.7 1017.6 1021.4  994.7\n",
            " 1012.8 1019.1 1016.5 1025.  1003.3 1014.7 1022.6 1016.7 1009.1 1014.4\n",
            " 1011.3 1008.8 1004.4 1009.  1010.4 1021.9 1026.6 1008.6 1005.5 1004.7\n",
            " 1015.1 1004.2  998.4 1018.4 1017.3 1013.5 1026.   998.6 1020.  1005.1\n",
            " 1036.8 1015.8  999.1 1011.6 1018.2 1003.8 1013.6 1031.6 1019.3 1028.4\n",
            " 1008.1 1009.7 1027.8 1007.8 1018.3 1003.5 1023.5 1024.6  989.6 1006.3\n",
            "  999.4 1027.9 1001.   992.  1022.1 1011.8 1021.6 1006.1 1004.6 1025.1\n",
            " 1029.7 1017.7 1013.3 1028.  1032.3 1006.2 1015.6  997.8 1002.  1017.4\n",
            " 1025.9 1006.6 1005.8 1001.9 1004.9 1020.8 1014.3 1026.4 1022.5 1014.1\n",
            "  999.5 1020.1 1027.3 1029.5 1001.7 1010.3 1030.3 1019.7 1015.4 1009.6\n",
            " 1008.9 1012.5 1027.4 1030.6  999.2 1019.4 1027.   990.8 1003.   992.3\n",
            " 1004.5 1017.2 1022.2 1034.9 1026.5 1012.2 1006.  1000.  1011.1 1000.3\n",
            " 1021.3 1005.9 1024.1  991.1 1022.7 1006.7 1029.  1025.3 1030.9 1024.2\n",
            " 1030.5 1032.1 1019.5 1024.  1030.1  999.8 1021.2 1023.8 1024.3 1000.8\n",
            " 1002.7 1025.7 1030.7  998.9  998.3 1029.2  987.2 1023.   991.8  999.\n",
            " 1025.6 1007.1 1004.1 1029.1 1026.2 1005.6 1022.9  996.1 1008.5  997.3\n",
            " 1029.8 1031.4 1021.5 1000.1  992.1 1003.6 1005.7 1026.8 1023.4 1026.9\n",
            " 1033.5  986.7 1002.6  985.1  984.4 1001.2  992.7  996.5 1032.7 1031.5\n",
            " 1001.4 1028.8  991.9  997.1  996.6 1004.8 1030.4  994.6 1024.8 1035.7\n",
            " 1031.1  999.9  993.3  996.7  991.6 1001.1 1025.5 1001.5  998.7 1036.1\n",
            "  989.7  994.1  994.3  997.9 1027.5  995.5  990.2 1023.7 1031.3  994.9\n",
            "  987.3 1022.4 1002.1  995.  1031.   982.3  998.8  998.5 1029.3 1028.3\n",
            "  997.2 1028.6 1031.7 1030.  1003.1 1002.4  996.   999.7 1036.2 1001.8\n",
            " 1027.6 1001.3  995.6 1003.4 1028.9  999.3  989.4  985.9  998.1 1038.\n",
            "  992.6 1032.   992.9 1029.9 1000.5 1034.  1030.2  996.8  995.2  997.5\n",
            " 1028.2  997.  1036.7 1000.9  995.1  996.3 1027.2  995.8 1032.6 1034.3\n",
            " 1037.  1034.8 1036.4 1033.9 1031.9 1029.6 1033.3 1033.1 1034.4 1032.9\n",
            " 1033.6 1032.8 1032.2 1031.8 1033.2 1031.2 1034.7 1035.4 1039.9  996.4\n",
            " 1032.5 1035.  1033.8 1037.8 1035.1 1037.7  993.1 1035.8 1033.7 1033.4\n",
            " 1032.4 1037.9 1035.6 1037.1 1034.5  994.2 1037.4 1040.3 1037.6 1035.5\n",
            " 1035.2 1036.6 1037.5 1038.5  997.6 1036.5 1036.3 1039.2 1035.9 1034.1\n",
            "  996.9  993.7  999.6 1035.3 1033.   998.2 1039.  1040.6 1037.3 1034.6\n",
            " 1036.   988.9 1039.3  994.   995.4 1038.8  987.9 1037.2 1039.6 1036.9\n",
            "  989.8]\n",
            "Tekanan3pm [1022.4 1019.6 1031.  1004.3 1009.5 1014.  1008.2 1006.6 1013.9 1012.1\n",
            " 1018.2 1014.4 1017.5 1015.6 1008.9 1017.2 1027.5 1019.7 1018.6 1021.7\n",
            " 1011.7 1015.9 1003.  1006.4 1013.1 1014.6 1013.7  994.7 1008.1 1023.9\n",
            " 1007.9 1017.3 1006.2 1008.5  995.7 1018.5  998.5 1026.1 1022.  1004.6\n",
            " 1017.4 1003.2  999.7 1009.1 1020.9 1024.1 1000.5 1002.1 1011.2 1025.3\n",
            " 1005.9 1006.3  996.2 1014.3 1024.6 1011.8 1016.5 1007.  1012.6 1019.2\n",
            " 1013.6 1020.2 1015.3 1030.4 1018.3 1015.7 1007.7 1012.7 1007.4 1005.\n",
            " 1015.4 1016.2 1009.6 1004.5 1017.9 1020.7 1020.  1002.6 1016.  1016.7\n",
            " 1013.3 1009.7 1009.2 1023.4 1020.1 1018.8 1011.3 1010.6  997.4 1005.5\n",
            " 1016.3 1008.6 1011.5 1004.9 1008.4 1014.8 1017.6  997.9 1012.2 1004.7\n",
            " 1001.6 1022.3 1017.8 1000.4 1026.7 1007.6 1025.8 1008.  1021.5 1020.4\n",
            " 1024.   999.1 1017.  1021.9 1010.1  997.3 1008.8 1021.1 1003.9 1007.5\n",
            " 1010.2 1010.7 1003.7 1022.1 1006.7 1015.1 1021.2 1003.1 1014.2 1012.3\n",
            " 1024.8 1005.8 1019.3 1016.4 1016.9 1006.8 1011.9  987.7 1010.4 1003.5\n",
            "  997.8 1004.8 1014.9 1009.   994.9 1009.3 1015.8 1024.3 1002.9 1012.4\n",
            " 1013.  1007.3 1010.  1007.1 1017.1 1023.6 1025.  1006.5 1008.7 1021.3\n",
            " 1005.2 1011.1 1018.1  997.7 1019.4 1028.2 1001.1 1035.  1008.3 1013.8\n",
            " 1000.2 1009.4 1002.3 1030.9 1027.8 1003.6 1003.4 1011.4 1014.1 1009.8\n",
            " 1002.8 1001.9 1021.  1015.5 1005.6 1026.3  988.3  997.5 1026.4 1001.5\n",
            "  994.2 1006.  1013.4 1019.9 1020.8 1002.  1005.7 1013.2 1022.2 1026.9\n",
            " 1000.  1007.8 1030.5  999.  1001.  1020.6 1004.1 1006.1 1022.8 1012.5\n",
            " 1018.9 1002.5 1016.8 1024.5 1020.5 1022.9 1026.8 1023.3 1010.5 1021.8\n",
            "  995.9 1003.8 1019.  1028.4 1012.  1019.5  997.6 1011.6 1028.3 1004.4\n",
            " 1027.6 1007.2 1002.2  995.1 1000.8  999.6  999.8 1026.5 1021.4 1018.\n",
            " 1016.1 1009.9 1033.4 1024.4 1005.4 1005.3 1014.5 1010.9 1012.9 1018.4\n",
            " 1010.3 1015.2 1016.6  998.6 1023.1 1000.1 1003.3 1019.8 1014.7  996.3\n",
            " 1004.2 1027.7 1013.5 1011.  1029.  1000.9 1023.5 1027.9 1019.1 1030.1\n",
            " 1023.8 1028.9  991.5  999.3 1012.8 1024.7  992.8 1017.7 1031.4 1001.2\n",
            "  993.3 1000.7  993.  1001.4 1022.5 1027.  1010.8 1022.6  998.9  995.\n",
            " 1021.6 1015.  1018.7  998.  1029.3  998.8  998.1 1006.9 1028.1 1030.3\n",
            "  991.   991.8 1000.6 1022.7 1029.7  984.9  988.  1028.7 1004.  1023.7\n",
            " 1033.1 1027.3 1002.7  992.4  989.  1029.6  986.9 1024.9 1005.1  996.9\n",
            " 1025.6 1020.3  996.1  989.2  984.5 1000.3 1032.6  995.6 1027.1  989.8\n",
            "  996.7  996.8  986.6 1002.4  999.9 1025.5 1035.6 1032.7  997.   991.6\n",
            "  990.1 1023.  1028.5  995.2 1001.3  994.1 1001.7 1025.1 1023.2 1001.8\n",
            "  994.6  986.2  997.2 1024.2  994.3 1032.9  986.4 1026.2  992.9 1025.4\n",
            "  991.3 1025.7 1029.1  993.9 1033.8  999.4 1026.6  996.6 1028.6  994.\n",
            " 1027.4 1027.2 1032.1  997.1 1025.2  987.3  999.5  985.4  998.4 1025.9\n",
            "  994.5 1034.9  989.7  998.3 1030.7  998.7  985.1  998.2  999.2 1026.\n",
            "  995.5 1032.2 1034.1  996.4 1029.4  992.2  993.5 1028.  1029.9 1031.6\n",
            " 1035.7 1030.2 1033.5 1030.6 1029.5 1031.3 1029.2 1031.2  992.1 1031.1\n",
            " 1028.8 1032.4 1029.8 1031.5 1030.8 1034.2 1035.3 1036.  1032.3 1034.5\n",
            " 1031.8 1031.9 1035.1  993.7 1030.  1031.7 1034.6 1036.4  996.  1034.\n",
            " 1033.9  995.3 1032.5 1037.6  994.8 1032.  1033.7 1035.9 1034.4 1035.4\n",
            " 1034.7 1033.2  990.6  995.8 1033.6 1037.8 1037.7 1033.3 1032.8 1034.3\n",
            " 1037.9  995.4 1033.  1036.7 1038.4 1035.5 1034.8 1037.3 1036.2  990.8\n",
            "  992.3]\n",
            "Awan9am [7. 2. 3. 6. 8. 1. 4. 5. 0.]\n",
            "Awan3pm [2. 8. 7. 6. 5. 1. 3. 4. 0.]\n",
            "Suhu9am [13.5 22.3 15.4 30.4 17.3 22.9 28.1 19.9 16.5 18.7 15.1  6.2 25.2 26.6\n",
            " 10.7 15.6 11.  17.4  2.7 18.1 13.7 19.4 15.2 30.6 28.4  8.2 15.8 13.2\n",
            " 14.4 11.7 16.4 30.5 10.9 10.1 17.7 14.2 10.4  6.3 17.5  8.  19.5 12.8\n",
            "  7.  21.3  9.6 23.7 28.  14.8 16.2 19.1 11.4 20.7  9.1 16.7 18.8 20.9\n",
            " 11.2 21.9 12.4 14.3 23.  16.1 14.1  1.2 16.  27.2 17.2  3.3 15.9 13.4\n",
            " 25.4 11.6 20.8 15.5 27.4 30.9 14.9  8.1 13.3 25.9 14.  17.  23.5 10.2\n",
            " 23.4 33.2 18.5 15.7 17.6 16.3  8.4 25.   7.6 14.7 22.6  7.8 13.  22.2\n",
            " 29.7  9.7 24.9 10.3 14.5  5.8 11.5 29.3 21.4  8.8 19.2 18.2 11.8 19.8\n",
            " 29.   6.8 28.2  8.7 11.1 22.7 17.8  9.  13.1  7.1 17.1  8.3  9.2 28.8\n",
            " 24.4 10.8  9.4 26.8 16.6 27.1 12.2 20.5 26.  24.7 12.3 23.8 21.6 20.3\n",
            " 12.1  6.9 19.  16.8  8.9 21.1 26.1  5.2 23.6 20.2 16.9 13.8 15.3 12.\n",
            "  6.  20.4 10.6 10.5  4.2  5.9 12.5 24.1 21.8 28.7  9.9 21.2 26.5 25.6\n",
            " 20.6  7.3  9.8 28.9 11.3 17.9 13.9 30.8 29.2 21.  29.8 26.2 18.9 28.5\n",
            " 25.8 26.9  5.4  8.5 25.5 19.6  9.3 15.  23.1 21.7 26.7 24.5 22.5 22.4\n",
            " 14.6 24.3 20.   5.  25.3  3.9 24.6 22.  12.9  7.9 13.6 30.2  9.5 27.9\n",
            " 30.3 10.  29.1 31.  11.9 19.7 20.1 -0.9  8.6 18.   1.  32.  18.6 18.3\n",
            "  1.3 28.3 29.5 30.1  7.4 22.8 18.4 25.1  3.  30.7 12.6 23.3 26.4 27.5\n",
            " 12.7 21.5 29.9 27.   2.2  6.4 24.2  4.   2.6 23.9 31.3 27.3 23.2 22.1\n",
            " 24.8 32.6  5.6  7.2 29.4 29.6 28.6  4.7 27.8 27.6  3.5 26.3  3.6  6.1\n",
            "  3.7 19.3  5.1  1.5 24.   4.5 31.2 32.8  4.4 34.3 32.7  6.7 30.   7.5\n",
            "  1.6  0.7  3.1  6.5  5.5 25.7 31.6 27.7 32.2  2.1  7.7  2.5  3.8  4.8\n",
            "  2.4  0.8 34.4  4.6 31.5  4.1  4.9  5.7  3.4  4.3  6.6 33.6 32.5 31.8\n",
            "  1.4 33.  -1.   5.3 31.1 31.7  2.8 32.3 33.1 34.  -1.3  2.9  0.9 32.4\n",
            "  2.  -0.1  3.2 33.5 -0.3  0.3 31.9  1.8 33.8  0.6 -0.6 35.2 31.4 37.7\n",
            "  1.1 34.2 33.3  1.7 34.5 33.7 -0.5 34.8 32.9 33.4 -2.   1.9 32.1 -0.4\n",
            " 34.1 -0.7  0.2  2.3 -1.5 35.5 34.7  0.  -2.4  0.1 35.3 -1.1  0.5 37.6\n",
            " 34.9 -2.9 35.1 -0.2  0.4 35.7 36.2]\n",
            "Suhu3pm [18.5 25.7 15.8 32.6 30.5 24.  26.  19.2  1.1 26.6 10.9 28.3 17.7 25.4\n",
            " 13.9 20.2 20.1 15.5 20.6 37.  29.  19.3 12.2 18.6 12.3 22.5 12.8 18.2\n",
            " 28.2 11.1 20.  16.3 19.7 10.5 16.5 14.  22.9 15.2 10.2 10.4 33.3 29.5\n",
            " 14.8 18.1 17.9 15.3 20.9 10.8 21.4 21.1 23.1 12.5 17.  25.6 23.5 14.6\n",
            " 13.3 -1.2 28.5 16.   5.  15.6 18.  16.4 21.5 34.  22.8 22.  16.2 21.\n",
            " 33.7 11.9 27.7 13.1 17.2 11.6 11.4 32.4 20.3 37.7 17.6 23.  18.3 14.4\n",
            " 10.  25.5 34.9 11.2 27.5 28.6 13.6 19.  29.7 32.7 24.1 23.2 25.1 15.1\n",
            " 23.7 29.6 16.1 32.1 20.7 21.6 24.3 28.  21.3 19.6 12.6 19.8  9.1 14.2\n",
            " 31.3  7.  38.1 13.4  6.9 31.4 13.2 21.9 14.3 27.9 13.8 11.3 10.6 23.3\n",
            " 24.8 26.9 28.7 12.  31.1 29.2 28.4 30.  30.3 33.6 12.7 17.5 14.9  7.9\n",
            " 20.5  8.  26.8 21.7 18.7 14.5 16.8 24.6 25.9 15.  17.1 10.7 27.3 17.8\n",
            "  6.2 25.3 24.9 21.8 29.9 15.4  9.3 22.2 25.8 19.4 27.4 13.  27.  15.7\n",
            " 25.  38.7 31.9 11.8 12.4 10.1  8.9 17.3 16.7  9.2 11.  31.7 16.9 17.4\n",
            "  9.7  8.4 13.5 33.5 12.1 24.5 30.9 34.8  8.5 18.4 26.3 20.8 22.6 24.7\n",
            " 30.1 33.2 34.1 22.4 11.7 14.7  7.6  4.4 27.8 23.8 15.9  9.6 24.4 19.1\n",
            " 33.1 31.6 22.1 16.6 18.8 30.8 29.4 26.4 27.2 26.7  8.2  0.8  7.8  8.3\n",
            " 32.9 35.7 38.  26.1  3.9 26.2  2.  34.5 41.2 36.1 22.7  7.1 18.9 27.6\n",
            " 30.2 37.1 21.2 30.4 30.7 29.3 27.1 28.9 28.1 19.5  7.7 20.4 31.5  5.4\n",
            " 22.3 11.5 13.7  5.1  2.5 31.8 25.2 31.2  8.6 23.4 35.9 41.5  8.8 23.6\n",
            " 37.4 14.1 30.6 23.9 28.8 19.9 12.9  4.8 35.4  9.9  5.3 29.1 32.2  4.3\n",
            " 36.8 34.3  9.5  8.1 37.3 10.3 32.   2.4  5.2 26.5 32.5 33.9 32.3 24.2\n",
            " 35.2 35.6  9.  31.  29.8 33.4  2.8 34.2  4.1 32.8  0.7  8.7 34.6 36.9\n",
            " 34.4  0.2  7.5 37.6  7.2  2.7 41.3 35.1 35.  37.5  9.8  6.6 36.6  6.8\n",
            " 33.8  6.   1.8  3.  36.7  2.2  6.7 36.   6.3 37.2 42.3 40.4  1.6  9.4\n",
            " 39.8 38.9 35.5  6.1 39.5 39.  36.2 40.1 38.2 39.1 33.  40.5 42.1 35.3\n",
            " 38.8  4.6  5.8 36.5 37.8 38.3  3.5  4.7  4.5 39.4 39.2 41.1 35.8 38.4\n",
            " 34.7  0.1 40.8 38.6  6.5 38.5  7.3 40.9  4.2 39.7 37.9 36.4 36.3 40.6\n",
            " 39.9  2.6  3.4  2.3 42.  41.  40.  39.6 42.2  1.   5.6  5.7  4.9 40.7\n",
            " 39.3 41.8  4.  41.9  3.7 40.3  5.9  5.5  1.3  3.2 43.  -0.7  3.8  3.1\n",
            " 40.2  7.4 41.7  2.9]\n",
            "BersaljuHariIni [0 1]\n",
            "Class [1 0]\n"
          ],
          "name": "stdout"
        }
      ]
    },
    {
      "cell_type": "code",
      "metadata": {
        "colab": {
          "base_uri": "https://localhost:8080/"
        },
        "id": "Cxa3A1LQiNSG",
        "outputId": "9bc0d561-2eee-4dfc-9686-f8150bf141bf"
      },
      "source": [
        "# Mengecek type atribut\n",
        "print(salju_test_sampling.dtypes)"
      ],
      "execution_count": 203,
      "outputs": [
        {
          "output_type": "stream",
          "text": [
            "Tanggal                       int64\n",
            "KodeLokasi                    int64\n",
            "SuhuMin                     float64\n",
            "SuhuMax                     float64\n",
            "Hujan                       float64\n",
            "Penguapan                   float64\n",
            "SinarMatahari               float64\n",
            "ArahAnginTerkencang           int64\n",
            "KecepatanAnginTerkencang    float64\n",
            "ArahAngin9am                  int64\n",
            "ArahAngin3pm                  int64\n",
            "KecepatanAngin9am           float64\n",
            "KecepatanAngin3pm           float64\n",
            "Kelembaban9am               float64\n",
            "Kelembaban3pm               float64\n",
            "Tekanan9am                  float64\n",
            "Tekanan3pm                  float64\n",
            "Awan9am                     float64\n",
            "Awan3pm                     float64\n",
            "Suhu9am                     float64\n",
            "Suhu3pm                     float64\n",
            "BersaljuHariIni               int64\n",
            "Class                         int64\n",
            "dtype: object\n"
          ],
          "name": "stdout"
        }
      ]
    },
    {
      "cell_type": "markdown",
      "metadata": {
        "id": "cFABqPyGijeD"
      },
      "source": [
        "# Data Preparation\n",
        "x = Feature<br>\n",
        "y = Class Target"
      ]
    },
    {
      "cell_type": "code",
      "metadata": {
        "id": "wRfqixkain78"
      },
      "source": [
        "#Data train\n",
        "x_train = salju_train_sampling.drop(['Class'], axis=1)\n",
        "y_train = salju_train_sampling['Class'].values"
      ],
      "execution_count": 204,
      "outputs": []
    },
    {
      "cell_type": "code",
      "metadata": {
        "id": "oMYFOZhkglJU"
      },
      "source": [
        "x_train = x_train.values"
      ],
      "execution_count": 205,
      "outputs": []
    },
    {
      "cell_type": "code",
      "metadata": {
        "id": "tHRzpEPcgV9j"
      },
      "source": [
        "#Data test\n",
        "x_test = salju_test_sampling.drop(['Class'], axis=1)\n",
        "y_test = salju_test_sampling['Class'].values"
      ],
      "execution_count": 206,
      "outputs": []
    },
    {
      "cell_type": "code",
      "metadata": {
        "id": "gGupf6zAgiQI"
      },
      "source": [
        "x_test = x_test.values"
      ],
      "execution_count": 207,
      "outputs": []
    },
    {
      "cell_type": "code",
      "metadata": {
        "colab": {
          "base_uri": "https://localhost:8080/"
        },
        "id": "mQiEu6Zgrpqt",
        "outputId": "fbc0828e-f162-4278-cee0-ede3ca9f14c7"
      },
      "source": [
        "len(salju_train_sampling.columns)"
      ],
      "execution_count": 208,
      "outputs": [
        {
          "output_type": "execute_result",
          "data": {
            "text/plain": [
              "23"
            ]
          },
          "metadata": {
            "tags": []
          },
          "execution_count": 208
        }
      ]
    },
    {
      "cell_type": "code",
      "metadata": {
        "colab": {
          "base_uri": "https://localhost:8080/"
        },
        "id": "E5iNV2hErymd",
        "outputId": "82bd2b4d-bce4-4f07-da38-bc2c61870875"
      },
      "source": [
        "len(salju_train_sampling.columns)"
      ],
      "execution_count": 209,
      "outputs": [
        {
          "output_type": "execute_result",
          "data": {
            "text/plain": [
              "23"
            ]
          },
          "metadata": {
            "tags": []
          },
          "execution_count": 209
        }
      ]
    },
    {
      "cell_type": "markdown",
      "metadata": {
        "id": "f-dq2cATg0Hq"
      },
      "source": [
        "# Model"
      ]
    },
    {
      "cell_type": "markdown",
      "metadata": {
        "id": "IuILCzy7g7qa"
      },
      "source": [
        "## Decision Tree"
      ]
    },
    {
      "cell_type": "code",
      "metadata": {
        "colab": {
          "base_uri": "https://localhost:8080/"
        },
        "id": "KV4BJvYThAA4",
        "outputId": "7159a922-4733-4bc4-e0bd-608d772e825b"
      },
      "source": [
        "clf =  tree.DecisionTreeClassifier(class_weight = 'balanced', min_samples_leaf = 15, random_state = 32)\n",
        "clf.fit(x_train, y_train)"
      ],
      "execution_count": 210,
      "outputs": [
        {
          "output_type": "execute_result",
          "data": {
            "text/plain": [
              "DecisionTreeClassifier(ccp_alpha=0.0, class_weight='balanced', criterion='gini',\n",
              "                       max_depth=None, max_features=None, max_leaf_nodes=None,\n",
              "                       min_impurity_decrease=0.0, min_impurity_split=None,\n",
              "                       min_samples_leaf=15, min_samples_split=2,\n",
              "                       min_weight_fraction_leaf=0.0, presort='deprecated',\n",
              "                       random_state=32, splitter='best')"
            ]
          },
          "metadata": {
            "tags": []
          },
          "execution_count": 210
        }
      ]
    },
    {
      "cell_type": "code",
      "metadata": {
        "id": "o87j862_hhg0"
      },
      "source": [
        "y_pred_clf = clf.predict(x_test)"
      ],
      "execution_count": 211,
      "outputs": []
    },
    {
      "cell_type": "code",
      "metadata": {
        "colab": {
          "base_uri": "https://localhost:8080/"
        },
        "id": "BYyTv42V0NHg",
        "outputId": "01d5783d-b88e-436d-db5d-2c255407f0b6"
      },
      "source": [
        "#Showing Confusion Matrix to know True Positive, False Positive, True Negative and False Negative\n",
        "cm = metrics.confusion_matrix(y_test, y_pred)\n",
        "\n",
        "cm_df = pd.DataFrame(cm, \n",
        "                      columns = ['Predicted Negative', 'Predicted Positive'], \n",
        "                      index = ['Actual Negative', 'Actual Positive'])\n",
        "\n",
        "#Assign True Positive, False Positive, True Negative and False Negative intu variable\n",
        "TN = cm_df.loc['Actual Negative','Predicted Negative']\n",
        "FN = cm_df.loc['Actual Positive','Predicted Negative']\n",
        "FP = cm_df.loc['Actual Negative','Predicted Positive']\n",
        "TP = cm_df.loc['Actual Positive','Predicted Positive']\n",
        "ACC = (TP+TN)/(TP+TN+FP+FN)\n",
        "print('Accuracy       : ',ACC)\n",
        "print('')\n",
        "print(classification_report(y_test,y_pred))"
      ],
      "execution_count": 266,
      "outputs": [
        {
          "output_type": "stream",
          "text": [
            "Accuracy       :  0.7658207166975275\n",
            "\n",
            "              precision    recall  f1-score   support\n",
            "\n",
            "           0       0.75      0.79      0.77     13776\n",
            "           1       0.78      0.74      0.76     13767\n",
            "\n",
            "    accuracy                           0.77     27543\n",
            "   macro avg       0.77      0.77      0.77     27543\n",
            "weighted avg       0.77      0.77      0.77     27543\n",
            "\n"
          ],
          "name": "stdout"
        }
      ]
    },
    {
      "cell_type": "markdown",
      "metadata": {
        "id": "mPeIq67puG0j"
      },
      "source": [
        "## Logistic Regression"
      ]
    },
    {
      "cell_type": "code",
      "metadata": {
        "colab": {
          "base_uri": "https://localhost:8080/"
        },
        "id": "kEFspLhTkHRI",
        "outputId": "f7416332-2e12-4971-f78b-83b0d175bfa3"
      },
      "source": [
        "logreg = LogisticRegression()\n",
        "logreg.fit(x_train, y_train)"
      ],
      "execution_count": 214,
      "outputs": [
        {
          "output_type": "stream",
          "text": [
            "/usr/local/lib/python3.7/dist-packages/sklearn/linear_model/_logistic.py:940: ConvergenceWarning: lbfgs failed to converge (status=1):\n",
            "STOP: TOTAL NO. of ITERATIONS REACHED LIMIT.\n",
            "\n",
            "Increase the number of iterations (max_iter) or scale the data as shown in:\n",
            "    https://scikit-learn.org/stable/modules/preprocessing.html\n",
            "Please also refer to the documentation for alternative solver options:\n",
            "    https://scikit-learn.org/stable/modules/linear_model.html#logistic-regression\n",
            "  extra_warning_msg=_LOGISTIC_SOLVER_CONVERGENCE_MSG)\n"
          ],
          "name": "stderr"
        },
        {
          "output_type": "execute_result",
          "data": {
            "text/plain": [
              "LogisticRegression(C=1.0, class_weight=None, dual=False, fit_intercept=True,\n",
              "                   intercept_scaling=1, l1_ratio=None, max_iter=100,\n",
              "                   multi_class='auto', n_jobs=None, penalty='l2',\n",
              "                   random_state=None, solver='lbfgs', tol=0.0001, verbose=0,\n",
              "                   warm_start=False)"
            ]
          },
          "metadata": {
            "tags": []
          },
          "execution_count": 214
        }
      ]
    },
    {
      "cell_type": "code",
      "metadata": {
        "colab": {
          "base_uri": "https://localhost:8080/"
        },
        "id": "ZyqGMfoKkKJ7",
        "outputId": "3df16a6f-b22e-4946-bf00-13ebe6383293"
      },
      "source": [
        "y_pred = logreg.predict(x_test)\n",
        "print('Accuracy: {:.2f}'.format(logreg.score(x_test, y_test)))\n",
        "print('')\n",
        "print(classification_report(y_test,y_pred))"
      ],
      "execution_count": 239,
      "outputs": [
        {
          "output_type": "stream",
          "text": [
            "Accuracy: 0.77\n",
            "\n",
            "              precision    recall  f1-score   support\n",
            "\n",
            "           0       0.75      0.79      0.77     13776\n",
            "           1       0.78      0.74      0.76     13767\n",
            "\n",
            "    accuracy                           0.77     27543\n",
            "   macro avg       0.77      0.77      0.77     27543\n",
            "weighted avg       0.77      0.77      0.77     27543\n",
            "\n"
          ],
          "name": "stdout"
        }
      ]
    },
    {
      "cell_type": "markdown",
      "metadata": {
        "id": "vF4_w2g9uPMV"
      },
      "source": [
        "## Naive Bayes"
      ]
    },
    {
      "cell_type": "code",
      "metadata": {
        "id": "G0YaW_02uSx7"
      },
      "source": [
        "gnb = GaussianNB()\n",
        "gnb.fit(x_train, y_train.ravel())\n",
        "y_pred = gnb.predict(x_test)"
      ],
      "execution_count": 236,
      "outputs": []
    },
    {
      "cell_type": "code",
      "metadata": {
        "colab": {
          "base_uri": "https://localhost:8080/"
        },
        "id": "q-V8xj98ujqg",
        "outputId": "da6979c6-c9af-4270-a49f-7b1b1402a063"
      },
      "source": [
        "print(\"Accuracy :\",metrics.accuracy_score(y_test, y_pred))\n",
        "print('')\n",
        "print(classification_report(y_test,y_pred))"
      ],
      "execution_count": 238,
      "outputs": [
        {
          "output_type": "stream",
          "text": [
            "Accuracy : 0.7383001125512835\n",
            "\n",
            "              precision    recall  f1-score   support\n",
            "\n",
            "           0       0.72      0.78      0.75     13776\n",
            "           1       0.76      0.69      0.73     13767\n",
            "\n",
            "    accuracy                           0.74     27543\n",
            "   macro avg       0.74      0.74      0.74     27543\n",
            "weighted avg       0.74      0.74      0.74     27543\n",
            "\n"
          ],
          "name": "stdout"
        }
      ]
    },
    {
      "cell_type": "markdown",
      "metadata": {
        "id": "3zkCOWIGu0hK"
      },
      "source": [
        "# Kesimpulan Akurasi"
      ]
    },
    {
      "cell_type": "code",
      "metadata": {
        "colab": {
          "base_uri": "https://localhost:8080/"
        },
        "id": "AEJbkEniu4zi",
        "outputId": "c766cb4c-78ed-4aca-ae59-a8718a32d3ef"
      },
      "source": [
        "print('Decision Tree')\n",
        "print('Accuracy       : ',ACC)\n",
        "print('')\n",
        "print('Logistic Regression')\n",
        "print('Accuracy       : {:.2f}'.format(logreg.score(x_test, y_test)))\n",
        "print('')\n",
        "print('Naive bayes')\n",
        "print('Accuracy       :',metrics.accuracy_score(y_test, y_pred))"
      ],
      "execution_count": 267,
      "outputs": [
        {
          "output_type": "stream",
          "text": [
            "Decision Tree\n",
            "Accuracy       :  0.7658207166975275\n",
            "\n",
            "Logistic Regression\n",
            "Accuracy       : 0.77\n",
            "\n",
            "Naive bayes\n",
            "Accuracy       : 0.7658207166975275\n"
          ],
          "name": "stdout"
        }
      ]
    }
  ]
}