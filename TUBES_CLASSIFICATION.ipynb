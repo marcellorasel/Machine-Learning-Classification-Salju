{
  "nbformat": 4,
  "nbformat_minor": 0,
  "metadata": {
    "colab": {
      "name": "TUBES_CLASSIFICATION.ipynb",
      "provenance": [],
      "collapsed_sections": [],
      "toc_visible": true
    },
    "kernelspec": {
      "name": "python3",
      "display_name": "Python 3"
    },
    "language_info": {
      "name": "python"
    }
  },
  "cells": [
    {
      "cell_type": "markdown",
      "metadata": {
        "id": "BGnPOBM-vqnx"
      },
      "source": [
        "# Tugas Besar Tahap 2 Classification <br>\n",
        "# Nama Anggota Kelompok : <br>\n",
        " **1. Anang Furkon Rifai - 1301180229** <br>\n",
        " **2. Marcello Rasel Hidayatullah - 1301184019**"
      ]
    },
    {
      "cell_type": "markdown",
      "metadata": {
        "id": "TwbholzUwTso"
      },
      "source": [
        "# Import Library"
      ]
    },
    {
      "cell_type": "code",
      "metadata": {
        "id": "qaZNSmbovkcm"
      },
      "source": [
        "import pandas as pd\n",
        "import matplotlib.pyplot as plt\n",
        "import numpy as np\n",
        "import seaborn as sns\n",
        "import random\n",
        "import sklearn as sk\n",
        "from sklearn.preprocessing import LabelEncoder\n",
        "from sklearn import tree\n",
        "from sklearn.linear_model import LogisticRegression\n",
        "from sklearn import metrics\n",
        "from sklearn.metrics import classification_report\n",
        "from sklearn.naive_bayes import GaussianNB"
      ],
      "execution_count": null,
      "outputs": []
    },
    {
      "cell_type": "markdown",
      "metadata": {
        "id": "ZZX18-hpwYK7"
      },
      "source": [
        "# Load Dataset"
      ]
    },
    {
      "cell_type": "code",
      "metadata": {
        "colab": {
          "resources": {
            "http://localhost:8080/nbextensions/google.colab/files.js": {
              "data": "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",
              "ok": true,
              "headers": [
                [
                  "content-type",
                  "application/javascript"
                ]
              ],
              "status": 200,
              "status_text": ""
            }
          },
          "base_uri": "https://localhost:8080/",
          "height": 107
        },
        "id": "eQrJn7OcwbWk",
        "outputId": "e150f0ff-8ab5-47d9-b234-518b63ca7007"
      },
      "source": [
        "from google.colab import files\n",
        "file = files.upload()"
      ],
      "execution_count": null,
      "outputs": [
        {
          "output_type": "display_data",
          "data": {
            "text/html": [
              "\n",
              "     <input type=\"file\" id=\"files-68cb28c1-b893-42c9-a0c1-1ccec87ddd8a\" name=\"files[]\" multiple disabled\n",
              "        style=\"border:none\" />\n",
              "     <output id=\"result-68cb28c1-b893-42c9-a0c1-1ccec87ddd8a\">\n",
              "      Upload widget is only available when the cell has been executed in the\n",
              "      current browser session. Please rerun this cell to enable.\n",
              "      </output>\n",
              "      <script src=\"/nbextensions/google.colab/files.js\"></script> "
            ],
            "text/plain": [
              "<IPython.core.display.HTML object>"
            ]
          },
          "metadata": {
            "tags": []
          }
        },
        {
          "output_type": "stream",
          "text": [
            "Saving salju_test.csv to salju_test (3).csv\n",
            "Saving salju_train.csv to salju_train (3).csv\n"
          ],
          "name": "stdout"
        }
      ]
    },
    {
      "cell_type": "code",
      "metadata": {
        "colab": {
          "base_uri": "https://localhost:8080/",
          "height": 217
        },
        "id": "ql0BQfWjwzGG",
        "outputId": "f2a37541-ed30-41dc-be15-4f45871bdd25"
      },
      "source": [
        "# Dataset Test\n",
        "salju_test = pd.read_csv('salju_test.csv') \n",
        "\n",
        "# Mengganti nama kolom \"BersaljuBesok\" menjadi \"Class\"\n",
        "salju_test.rename(columns={'BersaljuBesok':'Class'}, inplace=True)\n",
        "\n",
        "salju_test.head()"
      ],
      "execution_count": null,
      "outputs": [
        {
          "output_type": "execute_result",
          "data": {
            "text/html": [
              "<div>\n",
              "<style scoped>\n",
              "    .dataframe tbody tr th:only-of-type {\n",
              "        vertical-align: middle;\n",
              "    }\n",
              "\n",
              "    .dataframe tbody tr th {\n",
              "        vertical-align: top;\n",
              "    }\n",
              "\n",
              "    .dataframe thead th {\n",
              "        text-align: right;\n",
              "    }\n",
              "</style>\n",
              "<table border=\"1\" class=\"dataframe\">\n",
              "  <thead>\n",
              "    <tr style=\"text-align: right;\">\n",
              "      <th></th>\n",
              "      <th>Tanggal</th>\n",
              "      <th>KodeLokasi</th>\n",
              "      <th>SuhuMin</th>\n",
              "      <th>SuhuMax</th>\n",
              "      <th>Hujan</th>\n",
              "      <th>Penguapan</th>\n",
              "      <th>SinarMatahari</th>\n",
              "      <th>ArahAnginTerkencang</th>\n",
              "      <th>KecepatanAnginTerkencang</th>\n",
              "      <th>ArahAngin9am</th>\n",
              "      <th>ArahAngin3pm</th>\n",
              "      <th>KecepatanAngin9am</th>\n",
              "      <th>KecepatanAngin3pm</th>\n",
              "      <th>Kelembaban9am</th>\n",
              "      <th>Kelembaban3pm</th>\n",
              "      <th>Tekanan9am</th>\n",
              "      <th>Tekanan3pm</th>\n",
              "      <th>Awan9am</th>\n",
              "      <th>Awan3pm</th>\n",
              "      <th>Suhu9am</th>\n",
              "      <th>Suhu3pm</th>\n",
              "      <th>BersaljuHariIni</th>\n",
              "      <th>Class</th>\n",
              "    </tr>\n",
              "  </thead>\n",
              "  <tbody>\n",
              "    <tr>\n",
              "      <th>0</th>\n",
              "      <td>04/11/2010</td>\n",
              "      <td>C39</td>\n",
              "      <td>11.0</td>\n",
              "      <td>27.5</td>\n",
              "      <td>0.0</td>\n",
              "      <td>NaN</td>\n",
              "      <td>6.4</td>\n",
              "      <td>WSW</td>\n",
              "      <td>46.0</td>\n",
              "      <td>W</td>\n",
              "      <td>W</td>\n",
              "      <td>20.0</td>\n",
              "      <td>28.0</td>\n",
              "      <td>39.0</td>\n",
              "      <td>56.0</td>\n",
              "      <td>1013.0</td>\n",
              "      <td>1012.4</td>\n",
              "      <td>4.0</td>\n",
              "      <td>7.0</td>\n",
              "      <td>25.7</td>\n",
              "      <td>23.6</td>\n",
              "      <td>No</td>\n",
              "      <td>No</td>\n",
              "    </tr>\n",
              "    <tr>\n",
              "      <th>1</th>\n",
              "      <td>26/03/2015</td>\n",
              "      <td>C35</td>\n",
              "      <td>10.0</td>\n",
              "      <td>19.9</td>\n",
              "      <td>0.2</td>\n",
              "      <td>NaN</td>\n",
              "      <td>NaN</td>\n",
              "      <td>WNW</td>\n",
              "      <td>56.0</td>\n",
              "      <td>W</td>\n",
              "      <td>NW</td>\n",
              "      <td>24.0</td>\n",
              "      <td>33.0</td>\n",
              "      <td>76.0</td>\n",
              "      <td>32.0</td>\n",
              "      <td>1017.0</td>\n",
              "      <td>1015.2</td>\n",
              "      <td>8.0</td>\n",
              "      <td>1.0</td>\n",
              "      <td>10.7</td>\n",
              "      <td>18.9</td>\n",
              "      <td>No</td>\n",
              "      <td>Yes</td>\n",
              "    </tr>\n",
              "    <tr>\n",
              "      <th>2</th>\n",
              "      <td>22/03/2016</td>\n",
              "      <td>C18</td>\n",
              "      <td>9.2</td>\n",
              "      <td>27.2</td>\n",
              "      <td>0.0</td>\n",
              "      <td>5.2</td>\n",
              "      <td>10.4</td>\n",
              "      <td>SSW</td>\n",
              "      <td>33.0</td>\n",
              "      <td>NE</td>\n",
              "      <td>N</td>\n",
              "      <td>13.0</td>\n",
              "      <td>19.0</td>\n",
              "      <td>89.0</td>\n",
              "      <td>27.0</td>\n",
              "      <td>1018.6</td>\n",
              "      <td>1015.7</td>\n",
              "      <td>0.0</td>\n",
              "      <td>1.0</td>\n",
              "      <td>13.9</td>\n",
              "      <td>26.3</td>\n",
              "      <td>No</td>\n",
              "      <td>No</td>\n",
              "    </tr>\n",
              "    <tr>\n",
              "      <th>3</th>\n",
              "      <td>09/12/2011</td>\n",
              "      <td>C31</td>\n",
              "      <td>17.7</td>\n",
              "      <td>27.0</td>\n",
              "      <td>0.0</td>\n",
              "      <td>4.6</td>\n",
              "      <td>6.7</td>\n",
              "      <td>SW</td>\n",
              "      <td>35.0</td>\n",
              "      <td>E</td>\n",
              "      <td>SSE</td>\n",
              "      <td>20.0</td>\n",
              "      <td>15.0</td>\n",
              "      <td>55.0</td>\n",
              "      <td>41.0</td>\n",
              "      <td>1010.2</td>\n",
              "      <td>1008.6</td>\n",
              "      <td>7.0</td>\n",
              "      <td>6.0</td>\n",
              "      <td>22.3</td>\n",
              "      <td>26.4</td>\n",
              "      <td>No</td>\n",
              "      <td>No</td>\n",
              "    </tr>\n",
              "    <tr>\n",
              "      <th>4</th>\n",
              "      <td>20/05/2017</td>\n",
              "      <td>C14</td>\n",
              "      <td>2.3</td>\n",
              "      <td>7.9</td>\n",
              "      <td>88.0</td>\n",
              "      <td>NaN</td>\n",
              "      <td>NaN</td>\n",
              "      <td>NW</td>\n",
              "      <td>46.0</td>\n",
              "      <td>W</td>\n",
              "      <td>WNW</td>\n",
              "      <td>13.0</td>\n",
              "      <td>9.0</td>\n",
              "      <td>98.0</td>\n",
              "      <td>95.0</td>\n",
              "      <td>NaN</td>\n",
              "      <td>NaN</td>\n",
              "      <td>NaN</td>\n",
              "      <td>NaN</td>\n",
              "      <td>4.4</td>\n",
              "      <td>6.0</td>\n",
              "      <td>Yes</td>\n",
              "      <td>No</td>\n",
              "    </tr>\n",
              "  </tbody>\n",
              "</table>\n",
              "</div>"
            ],
            "text/plain": [
              "      Tanggal KodeLokasi  SuhuMin  ...  Suhu3pm  BersaljuHariIni  Class\n",
              "0  04/11/2010        C39     11.0  ...     23.6               No     No\n",
              "1  26/03/2015        C35     10.0  ...     18.9               No    Yes\n",
              "2  22/03/2016        C18      9.2  ...     26.3               No     No\n",
              "3  09/12/2011        C31     17.7  ...     26.4               No     No\n",
              "4  20/05/2017        C14      2.3  ...      6.0              Yes     No\n",
              "\n",
              "[5 rows x 23 columns]"
            ]
          },
          "metadata": {
            "tags": []
          },
          "execution_count": 166
        }
      ]
    },
    {
      "cell_type": "code",
      "metadata": {
        "colab": {
          "base_uri": "https://localhost:8080/",
          "height": 217
        },
        "id": "xJurawPwxO2Z",
        "outputId": "c107dde6-2f74-4725-c090-357ed99715f6"
      },
      "source": [
        "# Dataset Train\n",
        "salju_train = pd.read_csv('salju_train.csv')\n",
        "\n",
        "# Mengganti nama kolom 'BersaljuBesok' menjadi 'Class'\n",
        "salju_train.rename(columns={'BersaljuBesok':'Class'}, inplace=True)\n",
        "\n",
        "# Drop Kolom id agar jumlah kolom data train & data test sama\n",
        "salju_train = salju_train.drop(columns=['id'])\n",
        "\n",
        "salju_train.head()"
      ],
      "execution_count": null,
      "outputs": [
        {
          "output_type": "execute_result",
          "data": {
            "text/html": [
              "<div>\n",
              "<style scoped>\n",
              "    .dataframe tbody tr th:only-of-type {\n",
              "        vertical-align: middle;\n",
              "    }\n",
              "\n",
              "    .dataframe tbody tr th {\n",
              "        vertical-align: top;\n",
              "    }\n",
              "\n",
              "    .dataframe thead th {\n",
              "        text-align: right;\n",
              "    }\n",
              "</style>\n",
              "<table border=\"1\" class=\"dataframe\">\n",
              "  <thead>\n",
              "    <tr style=\"text-align: right;\">\n",
              "      <th></th>\n",
              "      <th>Tanggal</th>\n",
              "      <th>KodeLokasi</th>\n",
              "      <th>SuhuMin</th>\n",
              "      <th>SuhuMax</th>\n",
              "      <th>Hujan</th>\n",
              "      <th>Penguapan</th>\n",
              "      <th>SinarMatahari</th>\n",
              "      <th>ArahAnginTerkencang</th>\n",
              "      <th>KecepatanAnginTerkencang</th>\n",
              "      <th>ArahAngin9am</th>\n",
              "      <th>ArahAngin3pm</th>\n",
              "      <th>KecepatanAngin9am</th>\n",
              "      <th>KecepatanAngin3pm</th>\n",
              "      <th>Kelembaban9am</th>\n",
              "      <th>Kelembaban3pm</th>\n",
              "      <th>Tekanan9am</th>\n",
              "      <th>Tekanan3pm</th>\n",
              "      <th>Awan9am</th>\n",
              "      <th>Awan3pm</th>\n",
              "      <th>Suhu9am</th>\n",
              "      <th>Suhu3pm</th>\n",
              "      <th>BersaljuHariIni</th>\n",
              "      <th>Class</th>\n",
              "    </tr>\n",
              "  </thead>\n",
              "  <tbody>\n",
              "    <tr>\n",
              "      <th>0</th>\n",
              "      <td>01/06/2014</td>\n",
              "      <td>C4</td>\n",
              "      <td>10.4</td>\n",
              "      <td>15.5</td>\n",
              "      <td>4.8</td>\n",
              "      <td>NaN</td>\n",
              "      <td>NaN</td>\n",
              "      <td>WSW</td>\n",
              "      <td>24.0</td>\n",
              "      <td>NaN</td>\n",
              "      <td>WSW</td>\n",
              "      <td>0.0</td>\n",
              "      <td>13.0</td>\n",
              "      <td>78.0</td>\n",
              "      <td>76.0</td>\n",
              "      <td>1020.1</td>\n",
              "      <td>1018.5</td>\n",
              "      <td>NaN</td>\n",
              "      <td>NaN</td>\n",
              "      <td>13.1</td>\n",
              "      <td>15.0</td>\n",
              "      <td>Ya</td>\n",
              "      <td>Tidak</td>\n",
              "    </tr>\n",
              "    <tr>\n",
              "      <th>1</th>\n",
              "      <td>15/07/2014</td>\n",
              "      <td>C10</td>\n",
              "      <td>9.0</td>\n",
              "      <td>17.0</td>\n",
              "      <td>8.0</td>\n",
              "      <td>2.6</td>\n",
              "      <td>7.4</td>\n",
              "      <td>NaN</td>\n",
              "      <td>NaN</td>\n",
              "      <td>SW</td>\n",
              "      <td>WNW</td>\n",
              "      <td>13.0</td>\n",
              "      <td>20.0</td>\n",
              "      <td>80.0</td>\n",
              "      <td>61.0</td>\n",
              "      <td>1015.2</td>\n",
              "      <td>1014.6</td>\n",
              "      <td>7.0</td>\n",
              "      <td>5.0</td>\n",
              "      <td>11.9</td>\n",
              "      <td>15.5</td>\n",
              "      <td>Ya</td>\n",
              "      <td>Ya</td>\n",
              "    </tr>\n",
              "    <tr>\n",
              "      <th>2</th>\n",
              "      <td>16/02/2011</td>\n",
              "      <td>C46</td>\n",
              "      <td>18.2</td>\n",
              "      <td>32.0</td>\n",
              "      <td>0.0</td>\n",
              "      <td>NaN</td>\n",
              "      <td>NaN</td>\n",
              "      <td>ESE</td>\n",
              "      <td>44.0</td>\n",
              "      <td>SE</td>\n",
              "      <td>SE</td>\n",
              "      <td>15.0</td>\n",
              "      <td>26.0</td>\n",
              "      <td>62.0</td>\n",
              "      <td>42.0</td>\n",
              "      <td>NaN</td>\n",
              "      <td>NaN</td>\n",
              "      <td>NaN</td>\n",
              "      <td>NaN</td>\n",
              "      <td>23.8</td>\n",
              "      <td>29.6</td>\n",
              "      <td>Tidak</td>\n",
              "      <td>Tidak</td>\n",
              "    </tr>\n",
              "    <tr>\n",
              "      <th>3</th>\n",
              "      <td>08/08/2012</td>\n",
              "      <td>C36</td>\n",
              "      <td>7.3</td>\n",
              "      <td>24.5</td>\n",
              "      <td>0.0</td>\n",
              "      <td>8.4</td>\n",
              "      <td>10.4</td>\n",
              "      <td>SSW</td>\n",
              "      <td>54.0</td>\n",
              "      <td>N</td>\n",
              "      <td>SW</td>\n",
              "      <td>13.0</td>\n",
              "      <td>19.0</td>\n",
              "      <td>25.0</td>\n",
              "      <td>17.0</td>\n",
              "      <td>1019.2</td>\n",
              "      <td>1016.9</td>\n",
              "      <td>1.0</td>\n",
              "      <td>7.0</td>\n",
              "      <td>15.3</td>\n",
              "      <td>23.2</td>\n",
              "      <td>Tidak</td>\n",
              "      <td>Tidak</td>\n",
              "    </tr>\n",
              "    <tr>\n",
              "      <th>4</th>\n",
              "      <td>29/10/2016</td>\n",
              "      <td>C7</td>\n",
              "      <td>5.9</td>\n",
              "      <td>20.3</td>\n",
              "      <td>0.0</td>\n",
              "      <td>3.6</td>\n",
              "      <td>12.6</td>\n",
              "      <td>N</td>\n",
              "      <td>37.0</td>\n",
              "      <td>NNW</td>\n",
              "      <td>ESE</td>\n",
              "      <td>22.0</td>\n",
              "      <td>19.0</td>\n",
              "      <td>55.0</td>\n",
              "      <td>48.0</td>\n",
              "      <td>1019.7</td>\n",
              "      <td>1014.7</td>\n",
              "      <td>2.0</td>\n",
              "      <td>6.0</td>\n",
              "      <td>12.4</td>\n",
              "      <td>18.1</td>\n",
              "      <td>Tidak</td>\n",
              "      <td>Tidak</td>\n",
              "    </tr>\n",
              "  </tbody>\n",
              "</table>\n",
              "</div>"
            ],
            "text/plain": [
              "      Tanggal KodeLokasi  SuhuMin  ...  Suhu3pm  BersaljuHariIni  Class\n",
              "0  01/06/2014         C4     10.4  ...     15.0               Ya  Tidak\n",
              "1  15/07/2014        C10      9.0  ...     15.5               Ya     Ya\n",
              "2  16/02/2011        C46     18.2  ...     29.6            Tidak  Tidak\n",
              "3  08/08/2012        C36      7.3  ...     23.2            Tidak  Tidak\n",
              "4  29/10/2016         C7      5.9  ...     18.1            Tidak  Tidak\n",
              "\n",
              "[5 rows x 23 columns]"
            ]
          },
          "metadata": {
            "tags": []
          },
          "execution_count": 167
        }
      ]
    },
    {
      "cell_type": "markdown",
      "metadata": {
        "id": "dOpMxMiHzibb"
      },
      "source": [
        "# Pre Processing Data"
      ]
    },
    {
      "cell_type": "code",
      "metadata": {
        "colab": {
          "base_uri": "https://localhost:8080/"
        },
        "id": "_n4BdBT0yZMQ",
        "outputId": "117dc5bf-36cd-486a-a1a2-d579bd6f08f3"
      },
      "source": [
        "# Mengecek jumlah data pada kolom 'Class' pada data test\n",
        "salju_test['Class'].value_counts()"
      ],
      "execution_count": null,
      "outputs": [
        {
          "output_type": "execute_result",
          "data": {
            "text/plain": [
              "No     13824\n",
              "Yes     3939\n",
              "Name: Class, dtype: int64"
            ]
          },
          "metadata": {
            "tags": []
          },
          "execution_count": 168
        }
      ]
    },
    {
      "cell_type": "code",
      "metadata": {
        "colab": {
          "base_uri": "https://localhost:8080/"
        },
        "id": "pyLqBgiXyxYj",
        "outputId": "34ecfa66-34e1-49c2-8bea-7008d4a8e66b"
      },
      "source": [
        "# Mengecek jumlah data pada kolom 'Class' pada data train\n",
        "salju_train['Class'].value_counts()"
      ],
      "execution_count": null,
      "outputs": [
        {
          "output_type": "execute_result",
          "data": {
            "text/plain": [
              "Tidak    82701\n",
              "Ya       23963\n",
              "Name: Class, dtype: int64"
            ]
          },
          "metadata": {
            "tags": []
          },
          "execution_count": 169
        }
      ]
    },
    {
      "cell_type": "code",
      "metadata": {
        "colab": {
          "base_uri": "https://localhost:8080/",
          "height": 334
        },
        "id": "jygL_-u-zBCO",
        "outputId": "e73ab954-0cf7-42c8-af8f-360338bdd5b9"
      },
      "source": [
        "# Memvisualisasi data pada kolom 'Class' pada data train\n",
        "train_plot = sns.countplot(salju_train['Class'])\n",
        "train_plot.set_xticklabels(['Tidak','Ya'])\n",
        "plt.show()"
      ],
      "execution_count": null,
      "outputs": [
        {
          "output_type": "stream",
          "text": [
            "/usr/local/lib/python3.7/dist-packages/seaborn/_decorators.py:43: FutureWarning: Pass the following variable as a keyword arg: x. From version 0.12, the only valid positional argument will be `data`, and passing other arguments without an explicit keyword will result in an error or misinterpretation.\n",
            "  FutureWarning\n"
          ],
          "name": "stderr"
        },
        {
          "output_type": "display_data",
          "data": {
            "image/png": "[encoded data removed]",
            "text/plain": [
              "<Figure size 432x288 with 1 Axes>"
            ]
          },
          "metadata": {
            "tags": [],
            "needs_background": "light"
          }
        }
      ]
    },
    {
      "cell_type": "markdown",
      "metadata": {
        "id": "-q9cn0MSTKI9"
      },
      "source": [
        "## Pre Processing Data Train"
      ]
    },
    {
      "cell_type": "code",
      "metadata": {
        "id": "MAZemqsRzm9N",
        "colab": {
          "base_uri": "https://localhost:8080/"
        },
        "outputId": "e559a304-1680-4852-83da-58b034d6ec36"
      },
      "source": [
        "train_0 = salju_train[salju_train['Class'] == 'Tidak']\n",
        "train_1 = salju_train[salju_train['Class'] == 'Ya']\n",
        "\n",
        "print(\"Class 0 :\", train_0.shape)\n",
        "print(\"Class 1 :\", train_1.shape)"
      ],
      "execution_count": null,
      "outputs": [
        {
          "output_type": "stream",
          "text": [
            "Class 0 : (82701, 23)\n",
            "Class 1 : (23963, 23)\n"
          ],
          "name": "stdout"
        }
      ]
    },
    {
      "cell_type": "code",
      "metadata": {
        "colab": {
          "base_uri": "https://localhost:8080/"
        },
        "id": "tjKjAvSZR55e",
        "outputId": "4e44a3d6-8b8d-4dcd-9d24-cd7aaefa3a2e"
      },
      "source": [
        "# Oversampling Data\n",
        "train_count_0, train_count_1 = salju_train['Class'].value_counts()\n",
        "train_1_over = train_1.sample(train_count_0, replace = True)\n",
        "\n",
        "salju_train_sampling = pd.concat([train_1_over, train_0], axis=0)\n",
        "\n",
        "print(\"Total Class 1 and 0 :\", salju_train_sampling['Class'].value_counts())"
      ],
      "execution_count": null,
      "outputs": [
        {
          "output_type": "stream",
          "text": [
            "Total Class 1 and 0 : Ya       82701\n",
            "Tidak    82701\n",
            "Name: Class, dtype: int64\n"
          ],
          "name": "stdout"
        }
      ]
    },
    {
      "cell_type": "code",
      "metadata": {
        "colab": {
          "base_uri": "https://localhost:8080/"
        },
        "id": "Yohe98jZS-YK",
        "outputId": "33dbbced-28cd-4eec-e2f1-c223d0dd13ec"
      },
      "source": [
        "# Mengecek missing values\n",
        "salju_train_sampling.isnull().sum()"
      ],
      "execution_count": null,
      "outputs": [
        {
          "output_type": "execute_result",
          "data": {
            "text/plain": [
              "Tanggal                         0\n",
              "KodeLokasi                      0\n",
              "SuhuMin                       824\n",
              "SuhuMax                       330\n",
              "Hujan                        2329\n",
              "Penguapan                   71237\n",
              "SinarMatahari               78453\n",
              "ArahAnginTerkencang         11587\n",
              "KecepatanAnginTerkencang    11477\n",
              "ArahAngin9am                11014\n",
              "ArahAngin3pm                 4773\n",
              "KecepatanAngin9am            1613\n",
              "KecepatanAngin3pm            3191\n",
              "Kelembaban9am                2307\n",
              "Kelembaban3pm                4531\n",
              "Tekanan9am                  16285\n",
              "Tekanan3pm                  16324\n",
              "Awan9am                     60701\n",
              "Awan3pm                     63908\n",
              "Suhu9am                      1234\n",
              "Suhu3pm                      3454\n",
              "BersaljuHariIni              2329\n",
              "Class                           0\n",
              "dtype: int64"
            ]
          },
          "metadata": {
            "tags": []
          },
          "execution_count": 173
        }
      ]
    },
    {
      "cell_type": "code",
      "metadata": {
        "id": "7c5zY2C4TfOw"
      },
      "source": [
        "# Mengatasi Missing Values\n",
        "salju_train_sampling.fillna(salju_train_sampling.median(), inplace=True)                # Nilai Numeric diisi dengan nilai median\n",
        "salju_train_sampling = salju_train_sampling.fillna(salju_train_sampling.mode().iloc[0]) # Nilai String diisi dengan nilai yang paling sering muncul pada atribut"
      ],
      "execution_count": null,
      "outputs": []
    },
    {
      "cell_type": "code",
      "metadata": {
        "colab": {
          "base_uri": "https://localhost:8080/"
        },
        "id": "zY4PligBq7et",
        "outputId": "02b7727f-b16f-484e-f460-92700f4d18a9"
      },
      "source": [
        "# Mengecek missing values\n",
        "salju_train_sampling.isnull().sum()"
      ],
      "execution_count": null,
      "outputs": [
        {
          "output_type": "execute_result",
          "data": {
            "text/plain": [
              "Tanggal                     0\n",
              "KodeLokasi                  0\n",
              "SuhuMin                     0\n",
              "SuhuMax                     0\n",
              "Hujan                       0\n",
              "Penguapan                   0\n",
              "SinarMatahari               0\n",
              "ArahAnginTerkencang         0\n",
              "KecepatanAnginTerkencang    0\n",
              "ArahAngin9am                0\n",
              "ArahAngin3pm                0\n",
              "KecepatanAngin9am           0\n",
              "KecepatanAngin3pm           0\n",
              "Kelembaban9am               0\n",
              "Kelembaban3pm               0\n",
              "Tekanan9am                  0\n",
              "Tekanan3pm                  0\n",
              "Awan9am                     0\n",
              "Awan3pm                     0\n",
              "Suhu9am                     0\n",
              "Suhu3pm                     0\n",
              "BersaljuHariIni             0\n",
              "Class                       0\n",
              "dtype: int64"
            ]
          },
          "metadata": {
            "tags": []
          },
          "execution_count": 175
        }
      ]
    },
    {
      "cell_type": "code",
      "metadata": {
        "colab": {
          "base_uri": "https://localhost:8080/"
        },
        "id": "RFlSlnSVnKvd",
        "outputId": "4538075d-5603-45cf-88ed-178d785abb5f"
      },
      "source": [
        "# Mengecek type atribut\n",
        "print(salju_train_sampling.dtypes)"
      ],
      "execution_count": null,
      "outputs": [
        {
          "output_type": "stream",
          "text": [
            "Tanggal                      object\n",
            "KodeLokasi                   object\n",
            "SuhuMin                     float64\n",
            "SuhuMax                     float64\n",
            "Hujan                       float64\n",
            "Penguapan                   float64\n",
            "SinarMatahari               float64\n",
            "ArahAnginTerkencang          object\n",
            "KecepatanAnginTerkencang    float64\n",
            "ArahAngin9am                 object\n",
            "ArahAngin3pm                 object\n",
            "KecepatanAngin9am           float64\n",
            "KecepatanAngin3pm           float64\n",
            "Kelembaban9am               float64\n",
            "Kelembaban3pm               float64\n",
            "Tekanan9am                  float64\n",
            "Tekanan3pm                  float64\n",
            "Awan9am                     float64\n",
            "Awan3pm                     float64\n",
            "Suhu9am                     float64\n",
            "Suhu3pm                     float64\n",
            "BersaljuHariIni              object\n",
            "Class                        object\n",
            "dtype: object\n"
          ],
          "name": "stdout"
        }
      ]
    },
    {
      "cell_type": "code",
      "metadata": {
        "id": "BBXj6PkpQmoI"
      },
      "source": [
        "# Menentukan Fitur Categorical\n",
        "numerics = ['int8', 'int16', 'int32', 'int64', 'float16', 'float32', 'float64']\n",
        "categorical_columns = []\n",
        "features = salju_train_sampling.columns.values.tolist()\n",
        "for col in features:\n",
        "    if salju_train_sampling[col].dtype in numerics: continue\n",
        "    categorical_columns.append(col)\n",
        "\n",
        "# Encoding Fitur Categorical\n",
        "for col in categorical_columns:\n",
        "    if col in salju_train_sampling.columns:\n",
        "        enco = LabelEncoder()\n",
        "        enco.fit(list(salju_train_sampling[col].astype(str).values))\n",
        "        salju_train_sampling[col] = enco.transform(list(salju_train_sampling[col].astype(str).values))"
      ],
      "execution_count": null,
      "outputs": []
    },
    {
      "cell_type": "code",
      "metadata": {
        "colab": {
          "base_uri": "https://localhost:8080/"
        },
        "id": "E6ajmut7nJ7b",
        "outputId": "9ea5aa5c-971d-4f0e-b893-5866b8d81c4a"
      },
      "source": [
        "# Mengecek type atribut\n",
        "print(salju_train_sampling.dtypes)"
      ],
      "execution_count": null,
      "outputs": [
        {
          "output_type": "stream",
          "text": [
            "Tanggal                       int64\n",
            "KodeLokasi                    int64\n",
            "SuhuMin                     float64\n",
            "SuhuMax                     float64\n",
            "Hujan                       float64\n",
            "Penguapan                   float64\n",
            "SinarMatahari               float64\n",
            "ArahAnginTerkencang           int64\n",
            "KecepatanAnginTerkencang    float64\n",
            "ArahAngin9am                  int64\n",
            "ArahAngin3pm                  int64\n",
            "KecepatanAngin9am           float64\n",
            "KecepatanAngin3pm           float64\n",
            "Kelembaban9am               float64\n",
            "Kelembaban3pm               float64\n",
            "Tekanan9am                  float64\n",
            "Tekanan3pm                  float64\n",
            "Awan9am                     float64\n",
            "Awan3pm                     float64\n",
            "Suhu9am                     float64\n",
            "Suhu3pm                     float64\n",
            "BersaljuHariIni               int64\n",
            "Class                         int64\n",
            "dtype: object\n"
          ],
          "name": "stdout"
        }
      ]
    },
    {
      "cell_type": "code",
      "metadata": {
        "colab": {
          "base_uri": "https://localhost:8080/",
          "height": 217
        },
        "id": "OndySctwQ79I",
        "outputId": "33e22960-e903-4d98-daed-5c390a88ef32"
      },
      "source": [
        "salju_train_sampling.head()"
      ],
      "execution_count": null,
      "outputs": [
        {
          "output_type": "execute_result",
          "data": {
            "text/html": [
              "<div>\n",
              "<style scoped>\n",
              "    .dataframe tbody tr th:only-of-type {\n",
              "        vertical-align: middle;\n",
              "    }\n",
              "\n",
              "    .dataframe tbody tr th {\n",
              "        vertical-align: top;\n",
              "    }\n",
              "\n",
              "    .dataframe thead th {\n",
              "        text-align: right;\n",
              "    }\n",
              "</style>\n",
              "<table border=\"1\" class=\"dataframe\">\n",
              "  <thead>\n",
              "    <tr style=\"text-align: right;\">\n",
              "      <th></th>\n",
              "      <th>Tanggal</th>\n",
              "      <th>KodeLokasi</th>\n",
              "      <th>SuhuMin</th>\n",
              "      <th>SuhuMax</th>\n",
              "      <th>Hujan</th>\n",
              "      <th>Penguapan</th>\n",
              "      <th>SinarMatahari</th>\n",
              "      <th>ArahAnginTerkencang</th>\n",
              "      <th>KecepatanAnginTerkencang</th>\n",
              "      <th>ArahAngin9am</th>\n",
              "      <th>ArahAngin3pm</th>\n",
              "      <th>KecepatanAngin9am</th>\n",
              "      <th>KecepatanAngin3pm</th>\n",
              "      <th>Kelembaban9am</th>\n",
              "      <th>Kelembaban3pm</th>\n",
              "      <th>Tekanan9am</th>\n",
              "      <th>Tekanan3pm</th>\n",
              "      <th>Awan9am</th>\n",
              "      <th>Awan3pm</th>\n",
              "      <th>Suhu9am</th>\n",
              "      <th>Suhu3pm</th>\n",
              "      <th>BersaljuHariIni</th>\n",
              "      <th>Class</th>\n",
              "    </tr>\n",
              "  </thead>\n",
              "  <tbody>\n",
              "    <tr>\n",
              "      <th>52166</th>\n",
              "      <td>390</td>\n",
              "      <td>19</td>\n",
              "      <td>9.8</td>\n",
              "      <td>20.6</td>\n",
              "      <td>0.0</td>\n",
              "      <td>4.4</td>\n",
              "      <td>6.8</td>\n",
              "      <td>13</td>\n",
              "      <td>39.0</td>\n",
              "      <td>3</td>\n",
              "      <td>13</td>\n",
              "      <td>13.0</td>\n",
              "      <td>19.0</td>\n",
              "      <td>67.0</td>\n",
              "      <td>67.0</td>\n",
              "      <td>1016.5</td>\n",
              "      <td>1014.2</td>\n",
              "      <td>6.0</td>\n",
              "      <td>6.0</td>\n",
              "      <td>16.6</td>\n",
              "      <td>19.1</td>\n",
              "      <td>0</td>\n",
              "      <td>1</td>\n",
              "    </tr>\n",
              "    <tr>\n",
              "      <th>12404</th>\n",
              "      <td>1548</td>\n",
              "      <td>26</td>\n",
              "      <td>12.6</td>\n",
              "      <td>19.4</td>\n",
              "      <td>2.2</td>\n",
              "      <td>4.4</td>\n",
              "      <td>6.8</td>\n",
              "      <td>6</td>\n",
              "      <td>46.0</td>\n",
              "      <td>13</td>\n",
              "      <td>7</td>\n",
              "      <td>17.0</td>\n",
              "      <td>19.0</td>\n",
              "      <td>54.0</td>\n",
              "      <td>56.0</td>\n",
              "      <td>1013.9</td>\n",
              "      <td>1012.6</td>\n",
              "      <td>6.0</td>\n",
              "      <td>6.0</td>\n",
              "      <td>16.9</td>\n",
              "      <td>17.0</td>\n",
              "      <td>1</td>\n",
              "      <td>1</td>\n",
              "    </tr>\n",
              "    <tr>\n",
              "      <th>38354</th>\n",
              "      <td>2727</td>\n",
              "      <td>21</td>\n",
              "      <td>10.9</td>\n",
              "      <td>14.3</td>\n",
              "      <td>1.6</td>\n",
              "      <td>2.6</td>\n",
              "      <td>0.0</td>\n",
              "      <td>11</td>\n",
              "      <td>43.0</td>\n",
              "      <td>3</td>\n",
              "      <td>13</td>\n",
              "      <td>0.0</td>\n",
              "      <td>0.0</td>\n",
              "      <td>100.0</td>\n",
              "      <td>97.0</td>\n",
              "      <td>1008.6</td>\n",
              "      <td>1009.0</td>\n",
              "      <td>7.0</td>\n",
              "      <td>7.0</td>\n",
              "      <td>11.4</td>\n",
              "      <td>13.8</td>\n",
              "      <td>1</td>\n",
              "      <td>1</td>\n",
              "    </tr>\n",
              "    <tr>\n",
              "      <th>69641</th>\n",
              "      <td>1139</td>\n",
              "      <td>45</td>\n",
              "      <td>24.7</td>\n",
              "      <td>30.6</td>\n",
              "      <td>7.2</td>\n",
              "      <td>2.0</td>\n",
              "      <td>5.3</td>\n",
              "      <td>12</td>\n",
              "      <td>48.0</td>\n",
              "      <td>12</td>\n",
              "      <td>13</td>\n",
              "      <td>19.0</td>\n",
              "      <td>24.0</td>\n",
              "      <td>75.0</td>\n",
              "      <td>73.0</td>\n",
              "      <td>1007.8</td>\n",
              "      <td>1005.5</td>\n",
              "      <td>7.0</td>\n",
              "      <td>7.0</td>\n",
              "      <td>28.7</td>\n",
              "      <td>29.4</td>\n",
              "      <td>1</td>\n",
              "      <td>1</td>\n",
              "    </tr>\n",
              "    <tr>\n",
              "      <th>90552</th>\n",
              "      <td>2986</td>\n",
              "      <td>32</td>\n",
              "      <td>5.7</td>\n",
              "      <td>17.9</td>\n",
              "      <td>0.0</td>\n",
              "      <td>4.4</td>\n",
              "      <td>2.7</td>\n",
              "      <td>1</td>\n",
              "      <td>22.0</td>\n",
              "      <td>6</td>\n",
              "      <td>5</td>\n",
              "      <td>9.0</td>\n",
              "      <td>9.0</td>\n",
              "      <td>88.0</td>\n",
              "      <td>82.0</td>\n",
              "      <td>1017.9</td>\n",
              "      <td>1016.1</td>\n",
              "      <td>3.0</td>\n",
              "      <td>5.0</td>\n",
              "      <td>13.4</td>\n",
              "      <td>16.1</td>\n",
              "      <td>0</td>\n",
              "      <td>1</td>\n",
              "    </tr>\n",
              "  </tbody>\n",
              "</table>\n",
              "</div>"
            ],
            "text/plain": [
              "       Tanggal  KodeLokasi  SuhuMin  ...  Suhu3pm  BersaljuHariIni  Class\n",
              "52166      390          19      9.8  ...     19.1                0      1\n",
              "12404     1548          26     12.6  ...     17.0                1      1\n",
              "38354     2727          21     10.9  ...     13.8                1      1\n",
              "69641     1139          45     24.7  ...     29.4                1      1\n",
              "90552     2986          32      5.7  ...     16.1                0      1\n",
              "\n",
              "[5 rows x 23 columns]"
            ]
          },
          "metadata": {
            "tags": []
          },
          "execution_count": 179
        }
      ]
    },
    {
      "cell_type": "code",
      "metadata": {
        "colab": {
          "base_uri": "https://localhost:8080/",
          "height": 282
        },
        "id": "-IHZ0cApVdol",
        "outputId": "80636c17-54e4-439d-beaa-5ce58c92fcd4"
      },
      "source": [
        "# Mengecek Outliers\n",
        "f,axes = plt.subplots(1,3)\n",
        "plt.figure(figsize=(20,10))\n",
        "salju_train_sampling['SuhuMin'].plot(kind='box',ax=axes[0])\n",
        "salju_train_sampling['SuhuMax'].plot(kind='box',ax=axes[1])\n",
        "salju_train_sampling['Class'].plot(kind='box',ax=axes[2])\n",
        "\n",
        "plt.show()"
      ],
      "execution_count": null,
      "outputs": [
        {
          "output_type": "display_data",
          "data": {
            "image/png": "[encoded data removed]",
            "text/plain": [
              "<Figure size 432x288 with 3 Axes>"
            ]
          },
          "metadata": {
            "tags": [],
            "needs_background": "light"
          }
        },
        {
          "output_type": "display_data",
          "data": {
            "text/plain": [
              "<Figure size 1440x720 with 0 Axes>"
            ]
          },
          "metadata": {
            "tags": []
          }
        }
      ]
    },
    {
      "cell_type": "code",
      "metadata": {
        "colab": {
          "base_uri": "https://localhost:8080/"
        },
        "id": "rA_qbpCZTh0d",
        "outputId": "2f96c1b2-a400-4d3d-c54c-466c589cb040"
      },
      "source": [
        "#Metode IQR untuk SuhuMin\n",
        "Q1=salju_train_sampling['SuhuMin'].quantile(0.25)\n",
        "Q3=salju_train_sampling['SuhuMin'].quantile(0.75)\n",
        "IQR=Q3-Q1\n",
        "print(Q1)\n",
        "print(Q3)\n",
        "print(IQR)\n",
        "Lower_Whisker = Q1-1.5*IQR\n",
        "Upper_Whisker = Q3+1.5*IQR\n",
        "print(Lower_Whisker, Upper_Whisker)"
      ],
      "execution_count": null,
      "outputs": [
        {
          "output_type": "stream",
          "text": [
            "8.0\n",
            "17.2\n",
            "9.2\n",
            "-5.799999999999999 31.0\n"
          ],
          "name": "stdout"
        }
      ]
    },
    {
      "cell_type": "code",
      "metadata": {
        "id": "iFi-6gsiZ7rP"
      },
      "source": [
        "salju_train_sampling = salju_train_sampling[salju_train_sampling['SuhuMin']< Upper_Whisker]\n",
        "salju_train_sampling = salju_train_sampling[salju_train_sampling['SuhuMin']> Lower_Whisker]"
      ],
      "execution_count": null,
      "outputs": []
    },
    {
      "cell_type": "code",
      "metadata": {
        "colab": {
          "base_uri": "https://localhost:8080/"
        },
        "id": "iF6CUL4kciww",
        "outputId": "76118f14-3895-4660-be0c-54edf626b911"
      },
      "source": [
        "#Metode IQR untuk SuhuMax\n",
        "Q1=salju_train_sampling['SuhuMax'].quantile(0.25)\n",
        "Q3=salju_train_sampling['SuhuMax'].quantile(0.75)\n",
        "IQR=Q3-Q1\n",
        "print(Q1)\n",
        "print(Q3)\n",
        "print(IQR)\n",
        "Lower_Whisker = Q1-1.5*IQR\n",
        "Upper_Whisker = Q3+1.5*IQR\n",
        "print(Lower_Whisker, Upper_Whisker)"
      ],
      "execution_count": null,
      "outputs": [
        {
          "output_type": "stream",
          "text": [
            "17.2\n",
            "27.4\n",
            "10.2\n",
            "1.9000000000000004 42.699999999999996\n"
          ],
          "name": "stdout"
        }
      ]
    },
    {
      "cell_type": "code",
      "metadata": {
        "id": "ZMRmN7asaGbs"
      },
      "source": [
        "salju_train_sampling = salju_train_sampling[salju_train_sampling['SuhuMax']< Upper_Whisker]\n",
        "salju_train_sampling = salju_train_sampling[salju_train_sampling['SuhuMax']> Lower_Whisker]"
      ],
      "execution_count": null,
      "outputs": []
    },
    {
      "cell_type": "code",
      "metadata": {
        "colab": {
          "base_uri": "https://localhost:8080/",
          "height": 282
        },
        "id": "ubOStJFDdvDN",
        "outputId": "32729395-63bf-4c3f-c7cd-d1b5003143d7"
      },
      "source": [
        "# Mengecek Outliers setelah menggunakan metode IQR\n",
        "f,axes = plt.subplots(1,3)\n",
        "plt.figure(figsize=(20,10))\n",
        "salju_train_sampling['SuhuMin'].plot(kind='box',ax=axes[0])\n",
        "salju_train_sampling['SuhuMax'].plot(kind='box',ax=axes[1])\n",
        "salju_train_sampling['Class'].plot(kind='box',ax=axes[2])\n",
        "\n",
        "plt.show()"
      ],
      "execution_count": null,
      "outputs": [
        {
          "output_type": "display_data",
          "data": {
            "image/png": "[encoded data removed]",
            "text/plain": [
              "<Figure size 432x288 with 3 Axes>"
            ]
          },
          "metadata": {
            "tags": [],
            "needs_background": "light"
          }
        },
        {
          "output_type": "display_data",
          "data": {
            "text/plain": [
              "<Figure size 1440x720 with 0 Axes>"
            ]
          },
          "metadata": {
            "tags": []
          }
        }
      ]
    },
    {
      "cell_type": "code",
      "metadata": {
        "colab": {
          "base_uri": "https://localhost:8080/"
        },
        "id": "Mn1pANcPTs9S",
        "outputId": "1c176330-6b1b-46a2-a456-b636a3ac0425"
      },
      "source": [
        "# Mengecek Data Unique\n",
        "def check(data):\n",
        "  for col in data.columns:\n",
        "    print(col, data[col].unique())\n",
        "\n",
        "check(salju_train_sampling)"
      ],
      "execution_count": null,
      "outputs": [
        {
          "output_type": "stream",
          "text": [
            "Tanggal [ 390 1548 2727 ... 3009 1001 3152]\n",
            "KodeLokasi [19 26 21 45 32  1 35 11 13 39 20 48  9 12 15 29 46 47  2 36 25 38 27  3\n",
            " 28 22 31  6  7 33 18 37 24 23  5 43 34 44 17 14 41 42  4  0 10  8 30 40\n",
            " 16]\n",
            "SuhuMin [ 9.8 12.6 10.9 24.7  5.7 11.3  9.2 17.5  2.9 16.4 14.7 20.6  6.5 23.7\n",
            " 21.8 10.  11.1 10.1 11.4 20.4 22.9  7.4  3.  10.6 20.1  6.  15.  24.4\n",
            "  8.3 13.4 10.7 22.  23.  24.6 10.2 21.9 17.4 11.  22.4 13.2 11.5 13.7\n",
            " 15.8 22.7 -1.1 12.1 25.9  7.1  5.4 15.6 14.8 23.9 22.3  7.7  4.2 18.4\n",
            " 20.  16.6  5.8 12.4 21.6  9.7 12.3 27.2 15.7 22.8 19.   5.2  6.1 18.7\n",
            "  7.9 13.8 14.3  7.  12.9  8.8 15.1  9.5 20.5  8.1 22.5 12.   9.  12.7\n",
            "  1.8  4.1 17.8  7.2 19.1 11.6 14.4 13.3 15.5  2.7 20.2 14.1  6.8 11.2\n",
            "  9.9 11.7 18.9 16.8  0.6  2.6 24.1  6.2 16.   7.6 10.3 19.3 25.   0.4\n",
            "  8.9 12.2  9.3 18.8 17.9 19.5 12.5 25.1 23.3 13.9 24.3 27.4 10.4 23.5\n",
            " 19.2 25.8 20.9 13.5  7.5 20.7 16.1  8.  24.9  8.7 11.8 18.3 14.6  4.7\n",
            "  5.3  5.   5.5  9.6  6.6  6.4 21.3  9.1  8.5 14.  24.2  4.  18.2 21.1\n",
            " 17.7 25.6 25.2 10.5 19.8 26.4  8.2 19.4 25.5 18.5 24.8 14.9 20.3 11.9\n",
            " 14.5 21.4  2.8  3.2  4.8 26.5  1.1 13.6  7.8  5.6  0.1 17.   1.5 23.8\n",
            " 13.   2.2  5.9 16.9  6.9 23.4  9.4  1.4 14.2  4.6  4.3  2.4 17.1 15.2\n",
            " 25.3 -0.1  6.3 17.2 17.3  3.3  6.7 10.8 21.2  0.9 15.4 -0.7 24.   3.7\n",
            " 19.6  8.4 23.2 -4.4 16.5  4.5 30.2 18.1  7.3  5.1 16.3 21.5 27.3  3.8\n",
            " 26.2  3.5 -0.5 17.6 26.  13.1  3.1 23.1 15.3 20.8 -1.7  0.3  3.4 21.\n",
            " 25.4 -4.3 24.5  3.6  8.6 18.6  1.  16.7 16.2  4.4 19.9 18.  -3.2  1.2\n",
            "  2.1 -0.6  1.7  4.9 -5.3 12.8 15.9  0.8 21.7 -4.9  1.6 22.1 26.7 -0.8\n",
            " 27.  23.6 22.6 -2.4 -2.5  0.2 25.7 -3.  26.3  1.9 27.5 19.7 26.8  2.5\n",
            " 26.1 -0.4  0.5 -1.5  2.   0.7 28.1 22.2 -1.3  2.3 -0.9 27.6 -1.  27.1\n",
            "  3.9 -1.2 -1.9 27.9 -1.4 -0.2 28.2 -1.6 29.8 29.1 -1.8 -0.3 -4.7 -3.9\n",
            " -2.6 -2.8  1.3 -3.4 28.3 26.6 -2.2 -5.6 27.7 28.  28.4 28.8  0.  29.\n",
            " -2.9 27.8 -3.6 -3.5 -2.7 -3.7 26.9 -3.8 28.6 28.5 -3.3 29.7 -2.1 -2.\n",
            " -4.5 -2.3 29.3 -5.5 -5.  -4.2 -4.8 -4.1 28.7 -5.4 -4.6 -3.1 -5.1 28.9\n",
            " -4.  29.2 -5.2 -5.7 29.4]\n",
            "SuhuMax [20.6 19.4 14.3 30.6 17.9 21.5 18.  24.3 20.2 19.8 21.8 13.4 28.2 25.4\n",
            " 16.6 13.6 21.9 37.8 30.  13.  18.3 17.1 21.3 22.7 26.  33.6 20.1 22.9\n",
            " 22.4 30.2 14.9 29.6 11.2 24.6 19.5 14.7 27.6 26.6 17.5 16.5 17.3 23.\n",
            " 24.5 29.1 17.6 16.2 41.9 14.8 14.  20.5 18.8 33.5 16.7 19.6 14.1 25.\n",
            " 28.  34.6 16.4 14.5 19.  34.4 18.7 14.2 33.9 34.8 23.9 38.  23.3 21.1\n",
            " 14.4 27.1 13.5 17.  24.9 30.4 30.9 21.7 16.1 18.6 17.4 15.1 29.2 26.9\n",
            " 29.3 21.6 34.5 33.3 31.7 16.9 32.5 23.7 12.  10.4 23.6 16.  25.9 11.3\n",
            " 25.6 22.5 13.3 12.7 18.9 19.2 22.1 25.8 25.7 30.5 20.7 12.6 15.  36.\n",
            " 31.8 20.9 18.4 30.8 13.2 15.5 11.9 26.5 28.6 25.1 33.7 29.4 27.9 22.2\n",
            " 20.3 27.5 28.1 32.9 23.2 27.  33.2 25.2 34.3 16.8 14.6 21.  11.5 29.8\n",
            " 31.2 23.1 20.8 11.6 27.2 28.4 32.8 37.7 10.  31.6 19.7 19.1 13.1 24.\n",
            " 28.7 18.2 15.6 32.1 24.7 31.5 12.1 19.9 12.9 35.4 22.6 32.3 30.3 32.4\n",
            " 26.1 32.6 15.2 27.4 32.  22.8 24.1 31.4 28.9 21.2  9.3  2.6 15.4 26.8\n",
            " 29.9 18.5 26.7  6.3 11.  20.4 22.  27.7 11.8 23.4 17.7 13.9 17.8 25.3\n",
            " 11.1 22.3  4.7 13.7  9.5 24.2 12.3 15.9 20.  13.8 27.3 25.5 36.9  9.6\n",
            " 33.8 24.4 29.7 27.8 18.1 12.4 31.1  8.8 28.8 11.7 33.1 39.8  7.  12.8\n",
            " 36.4 31.3 39.5 19.3 15.8 39.  10.2 37.2 10.3 10.7 15.7 17.2 26.4 24.8\n",
            " 30.1 21.4 23.8 28.5  9.9 33.4 23.5 28.3 29.  10.8 32.2 40.5 37.  36.5\n",
            " 12.5 40.4 35.2 26.3 34.  12.2 26.2 10.9  9.7 15.3 35.9 32.7 31.   7.9\n",
            " 33.  39.7  5.4  4.  39.1 37.1 29.5 38.8 34.1 40.3 37.5  8.5  9.8 38.2\n",
            " 10.1  5.6 40.6 39.6 35.7 11.4 16.3  8.6 37.4  8.9  8.2 35.  36.8 35.3\n",
            " 31.9 38.5 30.7 37.6  9.2 39.9 10.6 10.5 40.9 34.7 39.4 38.4  8.7  6.4\n",
            "  5.2  6.9 38.3 41.5 36.6  6.8 34.2 36.1 40.1 42.5  9.4  8.3 35.8 35.6\n",
            " 36.2  5.9  2.2  8.1  7.8 41.  41.1  5.3  4.9 41.2  2.3  4.5 39.2 35.1\n",
            " 37.3 38.1  3.1  9.   2.7  4.6  3.3 38.7 36.3 35.5  8.  38.9  9.1  7.2\n",
            " 42.   7.1  4.1 36.7  7.4  6.7 38.6  3.   6.6 42.2 41.6  4.2  2.9  3.2\n",
            "  3.4  7.6  8.4 34.9  3.8  7.3  4.8 40.   7.5  3.7  6.   3.9 37.9  7.7\n",
            "  6.1 42.1  6.5  5.1  5.5  2.5 40.7  5.   6.2 42.3  4.3 41.7 41.3 40.8\n",
            " 42.4 41.8  2.8 39.3  5.8 40.2  2.1  4.4 41.4  3.5  2.4 42.6  3.6  2.\n",
            "  5.7]\n",
            "Hujan [0.000e+00 2.200e+00 1.600e+00 7.200e+00 1.860e+01 5.800e+00 7.800e+00\n",
            " 8.500e+00 4.000e-01 9.600e+00 3.800e+00 1.000e+00 2.600e+00 3.200e+00\n",
            " 8.000e+00 1.800e+00 2.000e-01 1.400e+00 6.400e+00 9.340e+01 1.380e+01\n",
            " 1.340e+01 1.200e+01 6.000e-01 8.000e-01 3.700e+01 7.520e+01 1.880e+01\n",
            " 5.400e+00 2.400e+00 7.400e+00 4.000e+00 4.730e+01 5.200e+00 8.200e+00\n",
            " 1.640e+01 1.660e+01 8.600e+00 1.600e+01 4.200e+00 9.580e+01 7.600e+00\n",
            " 5.600e+00 1.540e+01 1.144e+02 1.200e+00 9.000e+00 1.400e+01 1.780e+01\n",
            " 9.200e+00 3.060e+01 1.020e+01 1.520e+01 2.800e+00 4.600e+00 1.160e+01\n",
            " 1.280e+01 2.000e+00 1.500e+01 4.800e+00 3.000e+01 2.900e+01 8.900e+01\n",
            " 3.600e+00 2.300e+01 2.480e+01 8.380e+01 5.000e+00 4.400e+00 6.200e+00\n",
            " 2.820e+01 3.880e+01 3.000e+00 1.900e+00 1.820e+01 3.600e+01 1.460e+01\n",
            " 2.280e+01 8.500e+01 1.420e+01 1.920e+01 9.400e+00 2.140e+01 9.800e+00\n",
            " 3.620e+01 3.800e+01 2.180e+01 2.800e+01 4.060e+01 4.860e+01 8.800e+00\n",
            " 1.720e+01 6.600e+00 7.000e+00 7.920e+01 3.040e+01 5.380e+01 1.620e+01\n",
            " 1.560e+01 1.140e+01 3.180e+01 1.240e+01 1.120e+01 5.220e+01 1.980e+01\n",
            " 2.080e+01 3.540e+01 1.080e+01 2.860e+01 1.580e+01 1.760e+01 8.400e+00\n",
            " 3.000e-01 6.000e+01 3.400e+00 7.100e+01 1.680e+01 2.020e+01 5.980e+01\n",
            " 6.000e+00 2.240e+01 1.800e+01 5.360e+01 2.840e+01 7.000e+01 8.740e+01\n",
            " 5.080e+01 3.200e+01 1.060e+01 6.800e+00 2.760e+01 2.680e+01 5.040e+01\n",
            " 1.100e+01 1.040e+01 3.820e+01 2.560e+01 7.600e+01 3.580e+01 2.580e+01\n",
            " 2.400e+01 7.180e+01 2.440e+01 4.220e+01 1.320e+01 2.000e+01 1.480e+01\n",
            " 5.200e+01 1.360e+01 2.460e+01 1.300e+01 1.250e+01 1.440e+01 2.540e+01\n",
            " 2.360e+01 3.840e+01 2.920e+01 1.700e+01 1.020e+02 1.960e+01 6.480e+01\n",
            " 4.660e+01 2.320e+01 6.340e+01 6.880e+01 2.060e+01 2.340e+01 6.260e+01\n",
            " 5.060e+01 3.080e+01 3.400e+01 3.980e+01 3.120e+01 7.200e+01 2.520e+01\n",
            " 4.560e+01 2.960e+01 1.700e+00 6.620e+01 1.180e+01 1.000e+01 5.940e+01\n",
            " 3.920e+01 6.980e+01 1.260e+01 4.980e+01 7.220e+01 1.840e+01 3.680e+01\n",
            " 2.660e+01 5.300e+01 6.800e+01 2.600e+01 3.560e+01 1.740e+01 2.160e+01\n",
            " 9.140e+01 5.760e+01 2.784e+02 3.760e+01 1.220e+01 4.880e+01 3.460e+01\n",
            " 5.840e+01 4.000e+01 8.220e+01 4.820e+01 6.100e+01 3.280e+01 2.040e+01\n",
            " 2.070e+01 2.940e+01 3.940e+01 4.140e+01 3.380e+01 4.040e+01 1.900e+01\n",
            " 2.720e+01 4.720e+01 5.160e+01 7.080e+01 4.240e+01 4.500e+01 5.320e+01\n",
            " 6.960e+01 9.640e+01 4.260e+01 7.120e+01 4.460e+01 5.500e+00 2.740e+01\n",
            " 2.260e+01 3.860e+01 5.000e-01 6.120e+01 1.502e+02 3.520e+01 3.020e+01\n",
            " 2.120e+01 8.680e+01 4.120e+01 4.400e+01 1.100e+00 9.360e+01 1.000e-01\n",
            " 9.160e+01 2.200e+01 9.000e+01 8.860e+01 5.960e+01 2.106e+02 3.300e+01\n",
            " 2.640e+01 4.360e+01 6.160e+01 6.950e+01 4.800e+01 6.180e+01 1.940e+01\n",
            " 7.160e+01 3.640e+01 4.600e+01 1.210e+01 5.400e+01 2.100e+01 1.002e+02\n",
            " 4.640e+01 2.500e+00 4.500e+00 3.720e+01 8.360e+01 7.500e+01 7.680e+01\n",
            " 5.420e+01 8.320e+01 9.560e+01 6.140e+01 6.640e+01 5.260e+01 3.660e+01\n",
            " 6.500e+01 3.420e+01 5.460e+01 6.540e+01 5.600e+01 2.420e+01 2.880e+01\n",
            " 7.940e+01 7.720e+01 1.642e+02 6.560e+01 1.230e+01 5.020e+01 4.180e+01\n",
            " 4.740e+01 4.700e+01 2.780e+01 3.390e+01 1.152e+02 9.000e-01 1.062e+02\n",
            " 3.220e+01 3.100e+01 3.340e+01 3.070e+01 2.220e+01 2.300e+00 1.412e+02\n",
            " 3.960e+01 1.208e+02 1.270e+01 2.620e+01 5.340e+01 3.990e+01 3.900e+01\n",
            " 3.160e+01 2.500e+01 3.440e+01 6.420e+01 4.300e+01 8.040e+01 3.740e+01\n",
            " 5.240e+01 3.790e+01 7.480e+01 7.760e+01 5.660e+01 9.300e+01 4.380e+01\n",
            " 9.680e+01 5.000e+01 7.140e+01 1.418e+02 4.580e+01 1.064e+02 4.440e+01\n",
            " 4.480e+01 2.100e+00 5.580e+01 2.980e+01 8.700e+00 1.326e+02 4.900e+00\n",
            " 3.676e+02 2.686e+02 3.260e+01 6.520e+01 3.320e+01 1.176e+02 1.532e+02\n",
            " 1.282e+02 8.780e+01 2.390e+01 3.780e+01 3.140e+01 5.520e+01 5.900e+01\n",
            " 4.920e+01 1.622e+02 4.680e+01 3.500e+01 2.700e+01 4.960e+01 5.780e+01\n",
            " 9.100e+01 1.214e+02 8.940e+01 1.486e+02 5.680e+01 1.580e+02 6.400e+01\n",
            " 6.240e+01 4.080e+01 7.020e+01 3.360e+01 1.890e+02 1.616e+02 9.920e+01\n",
            " 4.320e+01 7.260e+01 7.740e+01 2.950e+01 9.500e+00 7.620e+01 9.820e+01\n",
            " 1.314e+02 1.182e+02 1.782e+02 7.320e+01 1.746e+02 6.700e+01 1.422e+02\n",
            " 7.560e+01 7.640e+01 7.340e+01 4.100e+01 9.400e+01 5.700e+00 1.090e+01\n",
            " 1.120e+02 5.500e+01 3.240e+01 6.320e+01 2.380e+01 6.780e+01 6.860e+01\n",
            " 4.200e+01 8.920e+01 8.540e+01 7.840e+01 1.550e+01 8.800e+01 9.610e+01\n",
            " 1.850e+01 4.550e+01 5.860e+01 4.340e+01 4.420e+01 1.194e+02 8.140e+01\n",
            " 1.122e+02 3.500e+00 3.480e+01 1.052e+02 8.260e+01 1.776e+02 1.684e+02\n",
            " 3.430e+01 5.820e+01 2.068e+02 4.940e+01 7.300e+01 3.110e+01 5.440e+01\n",
            " 4.280e+01 9.260e+01 1.438e+02 6.100e+00 7.280e+01 4.160e+01 9.060e+01\n",
            " 5.880e+01 8.080e+01 1.750e+01 4.840e+01 6.040e+01 8.340e+01 5.180e+01\n",
            " 8.640e+01 1.472e+02 1.226e+02 1.670e+02 5.140e+01 1.330e+01 4.780e+01\n",
            " 1.058e+02 1.500e+00 1.150e+01 8.400e+01 5.740e+01 8.240e+01 3.250e+01\n",
            " 4.540e+01 4.520e+01 6.820e+01 5.100e+01 3.710e+02 1.348e+02 5.920e+01\n",
            " 1.752e+02 9.280e+01 1.294e+02 6.840e+01 6.500e+00 1.010e+01 5.640e+01\n",
            " 1.364e+02 7.000e-01 1.570e+01 1.248e+02 2.900e+00 1.094e+02 4.620e+01\n",
            " 6.700e+00 1.366e+02 6.200e+01 8.460e+01 1.042e+02 8.160e+01 1.134e+02\n",
            " 5.480e+01 5.620e+01 7.460e+01 8.020e+01 6.580e+01 5.560e+01 8.560e+01\n",
            " 1.970e+01 5.280e+01 6.020e+01 5.540e+01 4.760e+01 6.300e+01 6.920e+01\n",
            " 7.580e+01 1.056e+02 8.120e+01 6.900e+01 1.456e+02 8.700e+01 1.550e+02\n",
            " 2.990e+01 9.440e+01 1.076e+02 1.060e+02 8.760e+01 1.652e+02 1.018e+02\n",
            " 4.020e+01 1.668e+02 4.900e+01 2.062e+02 8.480e+01 1.450e+01 1.276e+02\n",
            " 1.022e+02 1.130e+02 2.150e+01 2.163e+02 3.100e+00 9.220e+01 1.284e+02\n",
            " 1.704e+02 9.940e+01 8.980e+01 1.202e+02 2.290e+01 8.420e+01 1.108e+02\n",
            " 2.085e+02 7.380e+01 1.190e+01 1.325e+02 5.700e+01 1.118e+02 9.380e+01\n",
            " 1.054e+02 7.780e+01 1.830e+02 8.280e+01 2.270e+01 6.360e+01 1.158e+02\n",
            " 6.900e+00 2.650e+01 6.280e+01 1.300e+00 1.048e+02 6.410e+01 4.700e+00\n",
            " 5.800e+01 3.270e+01 8.820e+01 5.900e+00 3.300e+00 1.046e+02 7.800e+01\n",
            " 1.264e+02 7.420e+01 7.660e+01 8.180e+01 8.060e+01 1.568e+02 1.576e+02\n",
            " 5.300e+00 1.826e+02 8.100e+01 1.186e+02 9.800e+01 8.300e+01 2.930e+01\n",
            " 7.980e+01 1.810e+01 9.520e+01 9.700e+01 7.900e+01 1.402e+02 1.004e+02\n",
            " 2.700e+00 1.260e+02 1.452e+02 1.150e+02 2.530e+01 1.598e+02 1.390e+01\n",
            " 7.820e+01 2.250e+01 1.478e+02 1.390e+02 6.220e+01 7.100e+00 2.090e+01\n",
            " 1.074e+02 7.360e+01 2.910e+01 1.106e+02 1.092e+02 7.300e+00 2.196e+02\n",
            " 2.400e+02 1.428e+02 6.600e+01 2.370e+01 8.440e+01 1.110e+01 1.068e+02\n",
            " 6.380e+01 4.100e+00 6.080e+01 1.154e+02 4.150e+01]\n",
            "Penguapan [4.40e+00 2.60e+00 2.00e+00 2.80e+00 3.40e+00 2.40e+00 6.40e+00 4.80e+00\n",
            " 7.20e+00 1.20e+00 5.20e+00 2.20e+00 4.60e+00 3.80e+00 4.00e+00 9.60e+00\n",
            " 1.40e+00 1.60e+00 9.80e+00 7.00e+00 2.00e-01 1.80e+00 6.60e+00 3.60e+00\n",
            " 3.00e+00 1.06e+01 1.14e+01 5.40e+00 5.80e+00 1.16e+01 3.20e+00 1.68e+01\n",
            " 1.50e+01 5.00e+00 9.20e+00 4.00e-01 1.44e+01 8.00e-01 8.00e+00 6.80e+00\n",
            " 8.10e+00 8.40e+00 6.00e-01 1.00e+00 1.04e+01 7.80e+00 2.44e+01 1.62e+01\n",
            " 6.20e+00 7.40e+00 0.00e+00 8.60e+00 7.90e+00 5.60e+00 1.18e+01 4.20e+00\n",
            " 1.20e+01 7.60e+00 6.00e+00 8.80e+00 8.20e+00 9.90e+00 1.58e+01 1.42e+01\n",
            " 1.10e+01 9.40e+00 9.00e+00 1.30e+01 9.00e-01 1.02e+01 1.54e+01 1.52e+01\n",
            " 1.24e+01 1.94e+01 1.32e+01 1.00e+01 1.26e+01 2.10e+00 1.22e+01 1.08e+01\n",
            " 1.98e+01 1.86e+01 2.92e+01 1.38e+01 5.10e+00 4.90e+00 1.34e+01 1.36e+01\n",
            " 1.11e+01 3.30e+00 1.28e+01 2.50e+00 2.70e+00 3.24e+01 2.38e+01 2.88e+01\n",
            " 3.00e-01 1.88e+01 1.60e+01 1.80e+01 7.70e+00 1.46e+01 1.31e+01 2.14e+01\n",
            " 1.50e+00 5.56e+01 2.74e+01 4.50e+00 1.72e+01 1.70e+01 1.64e+01 2.66e+01\n",
            " 1.78e+01 1.12e+01 2.90e+00 2.02e+01 2.28e+01 1.92e+01 1.10e+00 1.70e+00\n",
            " 4.10e+00 3.10e+00 2.20e+01 2.86e+01 1.56e+01 3.02e+01 2.00e+01 7.00e-01\n",
            " 2.56e+01 1.66e+01 2.30e+00 1.48e+01 1.74e+01 1.07e+01 3.50e+00 1.40e+01\n",
            " 1.90e+00 5.90e+00 6.70e+00 2.10e+01 2.76e+01 1.30e+00 6.30e+00 3.04e+01\n",
            " 9.70e+00 7.10e+00 5.30e+00 3.70e+00 2.84e+01 4.23e+01 5.50e+00 1.82e+01\n",
            " 4.30e+00 5.00e-01 1.01e+01 4.30e+01 2.51e+01 1.53e+01 2.42e+01 1.81e+01\n",
            " 1.90e+01 1.76e+01 3.20e+01 7.48e+01 2.06e+01 1.21e+01 4.70e+00 8.70e+00\n",
            " 3.08e+01 3.86e+01 2.04e+01 2.72e+01 2.34e+01 3.50e+01 2.24e+01 1.27e+01\n",
            " 1.00e-01 6.10e+00 1.96e+01 2.30e+01 3.54e+01 3.38e+01 3.64e+01 1.03e+01\n",
            " 6.90e+00 2.40e+01 7.50e+00 2.48e+01 1.93e+01 1.84e+01 5.58e+01 2.08e+01\n",
            " 2.22e+01 4.08e+01 2.36e+01 9.10e+00 3.42e+01 2.68e+01 7.30e+00 2.94e+01\n",
            " 2.16e+01 3.12e+01 3.60e+01 2.26e+01 3.74e+01 3.14e+01 2.12e+01 7.00e+01\n",
            " 3.94e+01 5.62e+01 2.32e+01 2.80e+01 4.18e+01 4.20e+01 1.45e+02 5.94e+01\n",
            " 3.30e+01 2.50e+01 6.50e+00 5.70e+00 1.49e+01 9.50e+00 1.15e+01 2.82e+01\n",
            " 3.52e+01 3.90e+00 8.30e+00 3.44e+01 2.78e+01 3.32e+01 1.77e+01 7.73e+01\n",
            " 2.60e+01 3.56e+01 3.26e+01 6.08e+01 5.36e+01 3.28e+01 8.50e+00 3.70e+01\n",
            " 4.36e+01 3.16e+01 4.32e+01 2.62e+01 3.76e+01 1.05e+01 1.51e+01 6.44e+01\n",
            " 3.84e+01 2.70e+01 3.34e+01 5.76e+01 2.52e+01 6.20e+01 4.84e+01 4.88e+01\n",
            " 9.30e+00 3.40e+01 1.23e+01 2.98e+01 3.62e+01 6.02e+01 3.36e+01 5.66e+01\n",
            " 3.72e+01 2.64e+01 8.62e+01 3.46e+01 5.04e+01 4.00e+01 5.50e+01 5.72e+01\n",
            " 3.80e+01 4.66e+01 5.16e+01 1.09e+01 4.22e+01 4.16e+01 2.58e+01 4.70e+01\n",
            " 3.10e+01 5.10e+01 4.26e+01 2.18e+01 1.13e+01 1.39e+01 4.62e+01 2.46e+01\n",
            " 5.40e+01 1.45e+01 4.72e+01 4.42e+01 4.24e+01 7.22e+01 8.90e+00 5.52e+01\n",
            " 1.25e+01 4.68e+01 5.64e+01 1.35e+01 6.30e+01 5.92e+01 5.48e+01 1.19e+01\n",
            " 3.00e+01 2.31e+01 1.71e+01 6.88e+01 3.88e+01 7.04e+01 3.22e+01 6.54e+01\n",
            " 5.08e+01 5.85e+01 2.25e+01 1.91e+01 1.43e+01 2.54e+01 5.96e+01 6.48e+01\n",
            " 2.05e+01 4.40e+01]\n",
            "SinarMatahari [ 6.8  0.   5.3  2.7  6.7  9.5  9.8  1.1  0.9  3.6  5.6  4.9  0.5 10.5\n",
            "  9.6  3.2  3.7  3.8  0.4  0.2  0.8  0.1  0.3  8.7  6.   5.7 11.5  1.8\n",
            "  8.8  0.7  1.2  0.6  1.6  7.   7.4  7.2  3.9 12.1  6.6 12.2  8.1  9.1\n",
            "  5.1  2.5  7.9  4.7  1.4  5.2  8.9  6.4 11.9  1.3 10.1  3.1  8.5  7.3\n",
            " 11.7  8.   8.3  7.1  1.7  2.3  2.6  4.5 10.2  4.1  2.1  7.6  6.5  1.5\n",
            "  1.   5.4  4.   3.4  2.9  2.8  3.3  4.8  2.2  8.2  5.9  5.5  4.2  7.8\n",
            "  3.   7.7  9.7  9.4  8.6 11.2  3.5  7.5  4.6 10.6 10.8  9.2  8.4  6.9\n",
            "  9.3  6.1  5.8  9.9  5.  11.3  1.9  6.3  9.  10.4 11.4  4.4 10.  11.6\n",
            " 10.7  6.2  2.4 12.4 11.   4.3 11.8 10.3  2.  12.  10.9 12.7 13.  12.3\n",
            " 11.1 13.3 12.6 13.1 13.5 13.2 12.9 13.9 12.5 13.4 12.8 13.8 13.7 13.6\n",
            " 14.  14.2 14.1 14.3]\n",
            "ArahAnginTerkencang [13  6 11 12  1 15  0  8  5  9 10  4 14  3  7  2]\n",
            "KecepatanAnginTerkencang [ 39.  46.  43.  48.  22.  41.  35.  44.  30.  31.  61. 135.  81.  28.\n",
            "  52.  50.  67.  15.  69.  63.  37.  59.  26.  20.  74.  33.  70.  24.\n",
            "  54.  89.  56.  76.  17.  65.  57.  72.  19.  78. 104.  91. 130.  13.\n",
            "  93. 102.   9.  87.  83.  80.  85.  94.  96.  98.   7.  11. 120. 100.\n",
            " 109. 106. 107. 117. 111. 126. 113. 124. 115. 122.]\n",
            "ArahAngin9am [ 3 13 12  6  7 14 15 11 10  8  0  5  4  1  9  2]\n",
            "ArahAngin3pm [13  7  5 14 15  0  9  8  4 10 11 12  6  2  3  1]\n",
            "KecepatanAngin9am [ 13.  17.   0.  19.   9.  30.   6.  22.  20.  11.  24.  15.  31.   4.\n",
            "  26.  41.   7.  46.  33.  39.  44.   2.  28.  35.  37.  50.  52.  43.\n",
            "  56.  54.  57.  61.  65.  67.  48.  59.  87.  63.  69.  74. 130.]\n",
            "KecepatanAngin3pm [19.  0. 24.  9.  7. 17. 26. 20.  4. 15. 11. 13. 22. 30. 33. 39. 28.  2.\n",
            " 37. 35. 48. 43. 31.  6. 41. 44. 46. 52. 50. 54. 59. 65. 56. 61. 57. 63.\n",
            " 87. 74. 69. 72. 76. 78. 67.]\n",
            "Kelembaban9am [ 67.  54. 100.  75.  88.  74.  65.  84.  57.  90.  93.  89.  73.  80.\n",
            "  83.  68.  86.  97.  99.  81.  78.  43.  41.  63.  96.  72.  92.  79.\n",
            "  66.  85.  82.  61.  59.  62.  71.  91.  35.  69.  58.  94.  25.  40.\n",
            "  98.  64.  87.  60.  70.  47.  77.  56.  76.  38.  53.  95.  55.  45.\n",
            "  30.  39.  42.  37.  24.  51.  48.  44.  52.  19.  34.  26.  49.  50.\n",
            "  33.  29.   8.  16.  46.  36.  22.  20.  31.  23.   5.  21.  13.  18.\n",
            "  28.  15.  32.  27.  11.  17.   9.  14.  10.  12.   2.   7.   4.   3.\n",
            "   6.   1.   0.]\n",
            "Kelembaban3pm [ 67.  56.  97.  73.  82.  88.  57.  70.  55.  95.  86.  79.  75.  53.\n",
            "  89.  59.  58.  72.  54.  68.  38.  21.  44.  47.  48.  64.  85.  63.\n",
            "  78.  62.  81.  19.  52.  80.  60.  51.  61.  92.  74.  31.  50.  41.\n",
            "  91.  27.  32.  65.  66.  37.  22.  45.  46.  98.  76.  87.  94.  49.\n",
            "  43.  93.  77.  96.  40.  84.  39.  90.  69.  83.  26.  34. 100.  42.\n",
            "  33.  30.  36.  71.  99.  29.  13.  28.  16.  35.  20.  24.  25.  17.\n",
            "  14.  23.  18.   9.  15.   1.   8.   3.  10.  12.   6.  11.   7.   5.\n",
            "   4.   2.   0.]\n",
            "Tekanan9am [1016.5 1013.9 1008.6 1007.8 1017.9 1010.7 1014.4 1022.9 1013.  1033.1\n",
            " 1018.3 1022.  1013.4 1017.2 1008.2 1030.  1008.8 1011.2 1001.3 1012.5\n",
            "  998.3 1020.7 1011.5 1022.7 1017.3 1014.3 1013.2 1013.5 1026.4 1023.4\n",
            " 1017.1 1013.6 1019.1 1003.2 1002.7 1020.3 1019.6 1013.1 1006.3 1009.1\n",
            " 1007.7 1021.4 1018.2 1018.1 1022.6 1024.3 1018.6 1020.1 1010.9 1007.4\n",
            " 1009.5 1020.5 1005.6 1024.6 1016.9 1018.5 1023.5 1017.  1012.2 1021.3\n",
            " 1025.8 1002.2 1009.4 1010.4 1027.  1015.6 1015.4 1008.4 1016.4 1024.2\n",
            " 1011.3 1008.9 1016.2 1005.3 1005.1 1031.7 1018.4 1013.3 1005.4 1010.5\n",
            " 1012.3 1020.9 1010.2  998.4  998.  1015.2 1015.  1005.7 1019.3 1014.9\n",
            " 1007.5  992.7 1016.3 1014.6 1006.1 1023.1 1014.2 1012.8 1031.8 1018.9\n",
            " 1012.9 1011.9 1007.3 1024.5 1008.  1019.8 1022.5 1027.2 1012.  1010.6\n",
            " 1009.7 1002.3 1017.5 1019.2 1009.8 1025.2 1013.8 1015.5 1012.4 1029.6\n",
            " 1023.   996.9 1009.  1006.2 1022.4 1011.4 1004.5 1022.3 1008.7 1008.3\n",
            " 1014.5 1009.9 1020.4 1030.2 1003.7 1005.5 1025.6  996.1 1018.8 1004.8\n",
            " 1007.1 1031.6 1007.9 1022.2 1011.6 1021.2  999.1 1016.6 1015.9 1015.3\n",
            " 1025.7 1017.4 1021.7 1009.6  997.9 1025.9 1010.8 1022.1 1023.9 1000.9\n",
            " 1025.3 1015.1 1019.4 1010.  1023.3 1014.1 1011.1  997.8 1019.9 1016.7\n",
            " 1016.  1020.2  995.8 1016.1 1011.  1009.3 1006.  1010.3 1027.6 1006.4\n",
            " 1003.8 1010.1 1029.1 1005.  1012.6 1017.7 1012.1 1026.8 1008.5 1018.\n",
            "  989.5 1011.8 1007.  1026.5 1020.8 1019.7 1014.7 1006.9 1024.4 1003.3\n",
            " 1019.5 1018.7 1020.  1014.8 1023.6 1026.7 1021.6 1021.8 1024.7 1007.6\n",
            " 1025.1 1015.8 1012.7 1028.9 1013.7 1024.  1021.9 1017.8 1009.2  994.8\n",
            " 1008.1  996.  1021.1 1014.  1024.8 1005.9 1004.9 1025.  1026.3 1022.8\n",
            " 1015.7 1021.  1005.8 1027.1 1029.  1001.7 1019.  1001.6 1034.3 1007.2\n",
            " 1004.4 1017.6 1028.6 1003.4 1000.5 1006.7 1029.3 1016.8 1000.7 1024.1\n",
            "  999.9 1001.4  993.6 1024.9 1030.9 1004.7 1002.4 1028.8 1020.6 1026.\n",
            " 1000.2 1026.2 1003.9  993.7  999.6 1003.5 1001.1 1026.6 1036.6  999.3\n",
            "  993.  1003.6 1006.6 1025.4 1001.5  992.9 1031.5 1023.7 1004.3 1004.2\n",
            " 1021.5 1004.1  997.1 1003.1 1006.8 1027.8  994.9 1026.1 1006.5 1028.\n",
            " 1011.7  998.9  998.5  994.  1028.2 1005.2 1023.8 1032.6  998.6 1001.2\n",
            "  997.2 1032.5 1029.7  999.7  999.5 1029.2 1032.1 1031.2 1001.8 1026.9\n",
            "  993.2 1025.5 1004.6 1004.  1002.6 1028.5 1001.  1028.3  998.7  999.8\n",
            "  992.1 1002.1 1000.8  993.3  993.9  997.5 1027.4 1028.4  991.5  989.9\n",
            "  985.   999.4 1001.9 1031.9 1039.5 1002.   999.2 1035.1  989.  1029.4\n",
            "  998.2 1000.3 1027.7 1023.2 1035.4  996.2 1002.5 1030.4 1031.3  995.7\n",
            " 1030.1 1027.9 1002.9 1029.8 1000.   986.7  997.3  988.3  998.8 1036.8\n",
            "  991.9 1037.4 1028.1  996.7 1028.7 1031.1  995.2  998.1 1000.6 1031.4\n",
            "  995.1 1030.6  992.4 1027.5 1030.3 1032.  1027.3 1034.  1031.   994.7\n",
            " 1035.2  997.7  990.3 1000.1  995.5  995.3  996.8 1030.5 1029.5  992.3\n",
            "  997.6  995.4  990.9  994.6  993.5 1002.8 1035.   993.4 1034.7 1030.8\n",
            "  980.5 1033.2 1033.8  988.9  996.3  995.  1030.7  991.3  994.2 1003.\n",
            "  988.   994.3 1034.8 1033.5 1033.3 1029.9 1032.4  997.  1032.7  999.\n",
            "  982.  1032.9  992.8  995.6  996.4  992.6  994.5 1000.4  996.5  983.9\n",
            "  994.4 1033.6 1035.3  990.6  991.2  991.7  989.3  997.4 1036.9 1038.2\n",
            " 1032.2  991.8  996.6  989.4  988.5 1038.1  984.6 1035.8 1032.8  991.4\n",
            " 1033.9  993.8  987.4  995.9  990.8 1033.7  990.5  986.9  988.1 1036.3\n",
            " 1037.1  988.2  991.6  991.   988.8  987.3 1034.1 1033.   987.1  992.2\n",
            " 1036.1  989.8 1037.9  989.2  982.2  993.1  987.   992.5  989.7 1037.8\n",
            " 1036.5 1035.7  991.1 1032.3  986.2 1037.  1034.2 1035.6  986.6  982.9\n",
            " 1039.4  983.7 1033.4 1035.5 1037.3 1034.6 1034.9 1039.1 1035.9 1037.5\n",
            " 1036.7 1034.4 1037.2 1038.8 1036.4 1036.2 1034.5 1036.  1038.  1039.2\n",
            " 1037.6 1037.7 1038.9  994.1  987.2 1038.6 1038.7 1038.4 1040.2 1039.\n",
            " 1040.1 1040.4 1038.3 1040.6 1039.3  992.   990.2 1038.5  989.1 1039.7\n",
            "  985.8 1040.9 1040.3 1040.5 1040.  1041.   986.3]\n",
            "Tekanan3pm [1014.2   1012.6   1009.    1005.5   1016.1   1007.    1015.    1022.1\n",
            " 1010.    1030.7   1016.    1018.8   1010.3   1014.8   1008.1   1027.5\n",
            " 1011.2   1006.1   1011.1    995.    1016.7   1010.7   1022.9   1014.\n",
            " 1008.9   1010.1   1021.5   1020.3   1017.3   1010.5   1000.5   1000.1\n",
            " 1020.2   1015.6   1009.9   1009.8   1015.5   1009.7   1009.6   1021.\n",
            " 1013.2   1012.     998.8   1017.8   1018.6   1022.    1010.2   1015.7\n",
            " 1015.2   1014.7   1007.1   1012.1   1006.6   1018.3   1005.8   1023.8\n",
            " 1016.4   1018.1   1021.9   1015.1   1009.5   1022.2   1008.8   1022.8\n",
            " 1002.9   1006.4   1012.7   1013.9   1004.8   1014.3   1021.3   1020.4\n",
            " 1019.4   1008.6    999.    1011.5   1029.9   1015.4   1013.    1003.2\n",
            " 1004.7   1018.    1001.6   1006.5    998.6   1001.2   1011.6   1007.8\n",
            " 1003.4   1006.    1017.6   1014.4   1007.2    997.5   1016.5   1014.6\n",
            " 1004.2   1006.9   1020.5   1016.6   1013.7   1029.    1009.4   1010.9\n",
            " 1007.6   1004.9   1020.9   1017.    1023.6   1019.6   1007.7   1017.5\n",
            " 1024.8   1009.1   1008.2   1007.3   1009.2   1004.4   1023.    1023.9\n",
            " 1012.2   1011.    1028.1   1009.3    996.2   1007.9   1013.6   1014.5\n",
            " 1011.3   1022.3   1002.4    999.1   1016.9   1004.3   1029.4    999.5\n",
            " 1005.4   1015.8   1003.8   1017.2   1030.8   1019.7   1005.6   1019.3\n",
            " 1008.3   1021.2   1015.3    990.8   1006.8   1013.8   1005.7   1022.5\n",
            " 1019.8   1013.5   1003.1   1003.9    992.4   1022.4   1011.8   1005.9\n",
            " 1021.8   1020.7   1026.2   1024.2   1008.7   1012.3   1017.7   1007.4\n",
            " 1013.3    994.1   1004.    1019.1   1014.1   1018.7    994.8   1024.\n",
            " 1003.6   1008.    1030.    1002.8   1002.2   1005.    1010.4   1012.9\n",
            " 1020.    1023.4   1026.    1005.2   1006.2   1006.3    994.6   1003.3\n",
            " 1000.6   1018.2   1011.7   1011.4   1006.7   1020.1   1025.9   1023.5\n",
            " 1019.2   1019.9   1005.1   1016.3   1003.5    993.5    992.8   1020.6\n",
            " 1016.2   1024.9   1012.4   1002.5   1022.6   1001.3   1023.1   1018.5\n",
            "  999.8   1021.4   1010.6   1005.3   1024.7   1026.3   1004.1   1019.\n",
            " 1004.6   1012.5   1001.    1032.9   1003.7   1025.4   1010.8    996.9\n",
            " 1017.9   1003.    1017.1   1026.7   1028.2    999.3   1018.4    994.2\n",
            "  995.4   1002.    1027.2   1000.2   1016.8   1002.3   1024.5   1021.6\n",
            " 1021.7   1017.4   1011.9    999.9   1018.9   1013.1   1008.5    990.6\n",
            " 1004.5    995.9    998.5   1007.5   1021.1   1034.2   1000.8    991.9\n",
            " 1012.8   1001.5   1001.9   1023.7   1029.1   1001.4   1002.7   1013.4\n",
            " 1015.9    994.7    995.7   1020.8   1014.9    998.3   1030.4    997.\n",
            " 1025.2   1008.4   1027.6   1026.8    999.2   1025.8   1027.4    998.2\n",
            "  995.3    992.7   1024.3   1025.7   1029.6   1025.5   1002.6    993.4\n",
            " 1023.3   1026.5   1032.     997.7   1024.1   1028.    1001.1   1027.1\n",
            " 1027.    1029.7   1029.2    985.5    997.9   1026.6   1000.     999.6\n",
            "  998.9   1027.3    993.8   1027.9   1028.3   1026.1    993.6    991.2\n",
            "  993.3    996.     990.4   1001.8   1000.7    989.9   1027.8   1001.7\n",
            " 1031.5    999.7    984.2    992.5    997.8    980.2   1000.3   1019.5\n",
            "  996.4    995.5   1031.7   1035.7    997.1   1022.7    996.8   1034.5\n",
            " 1025.1    989.6   1028.7   1030.9   1002.1    994.    1025.6   1000.4\n",
            " 1023.2    988.9   1033.6   1000.9    996.1   1029.3    998.1   1028.4\n",
            " 1025.     985.6    996.5    997.6    992.3    999.4   1027.7   1036.4\n",
            "  990.     993.9   1032.1   1025.3   1028.6    991.5   1031.1   1024.6\n",
            "  996.3   1028.9   1028.8   1024.4   1026.4    998.7   1030.1    991.1\n",
            "  993.1   1030.3   1033.8    989.1    986.5   1026.9    993.     990.7\n",
            " 1030.2    990.2    992.     995.6   1031.8    984.4    992.6    996.7\n",
            "  992.9   1032.4    979.     995.8   1028.5   1033.4    988.7   1029.8\n",
            "  991.6    991.3   1031.4    997.3    984.     987.1   1034.     991.8\n",
            " 1029.5    996.6    997.4    998.     986.4    994.3    987.8    998.4\n",
            "  978.2   1033.9   1031.2   1033.    1032.6    995.1    985.8    989.4\n",
            " 1035.3   1032.8   1035.9   1034.7   1036.9    986.1    991.4    993.2\n",
            "  987.6    994.9    990.9    986.2    997.2   1034.4   1035.1    990.1\n",
            "  995.2    987.4    988.6   1032.3    989.5   1032.5   1031.9   1030.5\n",
            "  987.3    985.     990.3    982.6    986.8    977.1   1034.1   1033.2\n",
            "  992.1   1031.6    989.     994.5   1033.7    982.2    989.3    982.9\n",
            "  990.5   1036.3    988.5   1030.6    987.7    987.     988.8    993.7\n",
            " 1033.5   1036.     992.2    986.     985.2    991.7   1031.    1035.8\n",
            "  991.    1032.7    988.     981.4    989.8    994.4    981.2    988.2\n",
            " 1035.6    989.2    988.3    988.4    981.9   1032.2   1031.3   1034.8\n",
            " 1035.2   1033.1   1035.5   1033.3   1037.    1037.2   1036.6   1037.3\n",
            " 1035.    1035.4    985.3   1034.3   1036.8   1034.9    989.7   1037.5\n",
            " 1036.2    983.2   1036.5   1036.1   1037.9   1038.    1034.6   1036.7\n",
            " 1016.777  987.2   1037.1   1037.8   1026.66  1037.7   1038.2   1009.555\n",
            " 1039.6   1038.5   1038.9  ]\n",
            "Awan9am [6. 7. 3. 2. 0. 8. 4. 1. 5. 9.]\n",
            "Awan3pm [6. 7. 5. 8. 3. 2. 1. 4. 0. 9.]\n",
            "Suhu9am [16.6 16.9 11.4 28.7 13.4 15.5 12.1 20.4 15.2 18.4 20.9  8.9 26.5 23.1\n",
            " 16.1 13.1 12.2 17.6 26.  24.1  8.   7.9 14.2 20.3 14.8 18.  30.1 14.5\n",
            " 11.2 17.3 18.7 10.4 25.1 27.3 10.7 22.4 18.5 11.9 23.7 25.3 15.4 13.5\n",
            " 16.4 18.2 22.  23.6  6.5 32.  11.7 12.9 13.8 19.3 17.4 30.3 17.1 10.6\n",
            "  8.7 15.9 10.2 20.  18.1 21.6 21.4 14.4  9.9 25.7 15.8 10.  11.3 23.9\n",
            " 27.6 25.9 24.2  9.5 10.5 14.6 22.7 10.9 27.2 20.6 14.  13.9 11.  16.3\n",
            " 10.3 24.6 20.7  9.2 28.  27.9 15.6  9.8 22.8 13.  28.8 17.2  7.  16.5\n",
            " 20.2 21.7 17.7 14.9 17.5  4.5 16.8  9.4 13.2 14.3 13.6 12.5 18.9 19.4\n",
            " 23.3  6.4 27.1 13.3 28.3  4.6 10.1 16.  26.7 11.5 24.7 21.2 12.  25.8\n",
            "  8.8  8.2 15.1 25.6 27.4 31.5 20.8 21.5 19.8 21.  26.4 12.7 26.1 19.\n",
            " 19.6  7.2  6.7  6.9 12.8 28.2 27.8 12.6 13.7 28.9  8.5 11.6 22.6 19.5\n",
            " 21.3 17.  29.8 25.5 30.4 23.  30.9 19.7 27.  19.2 15.  21.1 26.9  7.8\n",
            " 16.7  3.4 28.1  2.5 14.7 15.3 23.5 15.7  7.6 23.2 17.9  4.9 26.6 22.9\n",
            " 14.1  6.1 16.2 20.5 27.5 29.4 22.5 29.  18.8  1.5  9.1 20.1 23.4 12.3\n",
            "  7.4 17.8 21.9  7.7 29.1 22.3 24.4  1.8  5.6 25.2 24.3 11.1  6.8 28.4\n",
            " 12.4 29.5 24.5 22.2  7.5  1.  29.3 33.1 26.8  9.3 22.1 21.8 29.9 28.6\n",
            " 28.5  7.3  8.1 10.8 29.2  5.9  4.4 18.6 30.2  8.3 18.3  2.8  5.1 -0.8\n",
            "  6.3 31.  24.  27.7  9.6  8.4  7.1  8.6  1.6 25.  24.8  9.   3.8 29.7\n",
            " -0.4 11.8 32.4 19.9  2.   9.7 30.  23.8 31.4 34.   0.7 -1.3  5.7 24.9\n",
            "  5.4 26.2 19.1  4.8  5.8 30.6 25.4 32.8  6.6  4.1 29.6  5.5 30.8 30.7\n",
            "  4.7  6.   3.5  2.2 33.2  5.  32.2 26.3  4.   2.4 31.2 31.3  5.3  6.2\n",
            "  3.3  0.5  3.7 33.4  4.2 30.5  3.2  5.2 -0.2  2.7 33.   1.9 31.7  1.2\n",
            " 32.3  0.6 31.6 34.3 33.5  3.9 33.6  1.7 34.2  4.3 33.3 32.1 35.1  2.3\n",
            "  1.4 33.7  3.6 31.1  0.1  3.1  3.  32.9  0.2 -0.1 31.8  1.1  1.3  2.6\n",
            "  2.9 32.5 31.9 32.6 34.9 34.4 35.3 -0.7 34.8 -1.2 32.7 -1.1  0.3  2.1\n",
            " 36.  -0.3 36.3  0.8 34.7  0.  -0.5 36.4 34.5 -1.6 39.  -1.  34.6 -1.4\n",
            " -1.9 -0.6 34.1  0.9  0.4 33.9 35.2 33.8 -1.7 35.7 -0.9 35.  -3.2 -1.8\n",
            " -1.5 35.5 -2.3 -3.7 -3.6 36.5 -2.6 35.8 -2.  -2.4 -2.2 35.4 37.2 36.2\n",
            " -2.8 35.9 -2.7 36.8 -2.5 -2.1 -3.3 37.4]\n",
            "Suhu3pm [19.1 17.  13.8 29.4 16.1 15.2 16.6 23.2 18.2 19.  16.7 21.2 13.  27.2\n",
            " 24.8 20.1 15.4 12.9 25.5 10.6 17.5 12.4 20.9 22.5 26.3 31.6 19.4 18.8\n",
            " 21.9 21.5 28.6 13.5 29.1 28.3 11.  22.8 13.3 24.7 21.6 16.3 15.3 17.1\n",
            " 19.7 28.  16.  40.8 13.1 16.8 18.  32.7 24.  25.7 13.7 18.5 13.4 18.9\n",
            " 25.8 32.4 14.3 11.7 33.  15.6 13.9 33.6 34.  23.  34.4 20.4 13.6 24.3\n",
            " 12.8 18.1 23.7 14.  18.6 30.1 24.2 16.4 12.5 26.8 22.2 14.5 26.4 30.7\n",
            " 30.5 26.9 22.1 11.5  8.7 19.3 19.6 24.9 20.8 17.2 10.  10.3 16.5 17.6\n",
            " 17.4 18.3 25.2 23.3 16.9 14.8 25.3 13.2 11.4 32.8 15.8 19.2 20.7 12.3\n",
            " 22.4 24.1 26.5 22.3 32.6 27.4 14.2 10.9 27.9 14.6 33.3 12.1 23.1 10.7\n",
            " 27.  21.  21.1  9.5 25.9  8.4 15.5 31.4 37.2 15.1  7.7 23.5 17.8 12.\n",
            " 30.6 15.  28.8 12.2  9.8 23.6 17.7 10.4 30.  29.6 25.4 21.7 20.6 30.4\n",
            " 20.3 11.9 14.4 27.7 11.6 32.3  6.7 31.9  2.6 22.6 27.3 26.2  1.8 25.1\n",
            " 24.4  9.9 26.1 26.6 27.1  9.2 14.9 22.  22.9 29.  19.9 34.8 34.2  4.3\n",
            " 24.5 11.1  8.9 28.2  8.3 18.4 15.7 36.1 14.1  6.8 14.7 33.4 25.   9.4\n",
            " 20.5  7.2 20.  23.9 17.9 28.9 22.7 30.8 37.8  6.4 36.3 26.  38.1 15.9\n",
            " 11.8 11.3 17.3 27.8 12.6 36.2  8.5 20.2  9.  28.7 23.8 16.2 28.5 19.8\n",
            " 12.7 19.5 21.8  9.3 21.3 28.1 10.5 21.4  0.2 38.6 10.2 30.9 38.8 31.7\n",
            " 10.8 31.   9.6 10.1 31.8  9.1 25.6 24.6 28.4 29.5  5.7  8.2  6.1 18.7\n",
            " 32.2 29.8 30.2  5.1 27.5 26.7  5.8 29.3  8.8  3.8  1.  37.3 35.4 31.3\n",
            " 37.4 36.5  8.   6.2 29.7 29.2 31.2 36.9  5.  40.2 38.3 30.3 11.2 23.4\n",
            "  7.8 34.1 27.6 32.  37.7  8.1 32.5  7.5 38.2 32.9 31.1 37.5 36.4  9.7\n",
            " 32.1 35.7 33.1 34.5  8.6 35.2 31.5  7.4  5.6  7.3 29.9  3.5 39.4 39.5\n",
            " 34.7 33.9  1.4  6.3 34.9 38.9  7.1 35.1  5.5 33.7 38.7  2.3  1.3 35.6\n",
            " 38.4 40.5 37.6 36.8 -1.1  3.2  4.7 35.3 39.3  6.9  5.3  0.6  7.6 37.1\n",
            "  7.9 36.   0.3 33.8 -0.3  6.5  4.6 35.8  4.8 35.  33.5 33.2  1.7 35.5\n",
            "  3.4  1.6  6.   2.2  4.9  5.9 39.9  6.6  5.4 40.3  4.5  2.   3.6 34.3\n",
            " 36.6  2.9  7.  34.6  4.   3.   4.2 38.5 37.   1.2 40.  41.3  2.1  0.9\n",
            " 36.7 39.2  2.4  3.3  0.7  3.9 37.9  2.8 35.9  5.2 39.1  3.7  0.5 38.\n",
            "  4.1  4.4 39.   2.5 -0.1  0.1 40.6 39.7 40.7 41.2 40.9 41.  42.1 39.6\n",
            "  2.7 39.8 40.4  3.1 41.4 40.1 42.3 41.1 41.9 41.5  0.8 41.8 -0.5 -0.4\n",
            " -0.6  1.9  0.4 41.7  1.1  1.5 41.6  0.  -0.8]\n",
            "BersaljuHariIni [0 1]\n",
            "Class [1 0]\n"
          ],
          "name": "stdout"
        }
      ]
    },
    {
      "cell_type": "markdown",
      "metadata": {
        "id": "94SR534aetxl"
      },
      "source": [
        "## Pre Processing Data Test"
      ]
    },
    {
      "cell_type": "code",
      "metadata": {
        "id": "meWwteTjrFCm",
        "colab": {
          "base_uri": "https://localhost:8080/"
        },
        "outputId": "6a34dbce-4627-4304-b493-8ea0b1c583f9"
      },
      "source": [
        "test_0 = salju_test[salju_test['Class'] == 'No']\n",
        "test_1 = salju_test[salju_test['Class'] == 'Yes']\n",
        "\n",
        "print(\"Class 0 :\", test_0.shape)\n",
        "print(\"Class 1 :\", test_1.shape)"
      ],
      "execution_count": null,
      "outputs": [
        {
          "output_type": "stream",
          "text": [
            "Class 0 : (13824, 23)\n",
            "Class 1 : (3939, 23)\n"
          ],
          "name": "stdout"
        }
      ]
    },
    {
      "cell_type": "code",
      "metadata": {
        "colab": {
          "base_uri": "https://localhost:8080/"
        },
        "id": "xM52w5eDgQsJ",
        "outputId": "9ed8893d-2ab8-40bd-a34d-332d657e55a6"
      },
      "source": [
        "# Oversampling Data\n",
        "test_count_0, test_count_1 = salju_test['Class'].value_counts()\n",
        "test_1_over = test_1.sample(test_count_0, replace = True)\n",
        "\n",
        "salju_test_sampling = pd.concat([test_1_over, test_0], axis=0)\n",
        "\n",
        "print(\"Total Class 1 and 0 :\", salju_test_sampling['Class'].value_counts())"
      ],
      "execution_count": null,
      "outputs": [
        {
          "output_type": "stream",
          "text": [
            "Total Class 1 and 0 : No     13824\n",
            "Yes    13824\n",
            "Name: Class, dtype: int64\n"
          ],
          "name": "stdout"
        }
      ]
    },
    {
      "cell_type": "code",
      "metadata": {
        "colab": {
          "base_uri": "https://localhost:8080/"
        },
        "id": "0zKX3rMugkiM",
        "outputId": "41080378-50ab-470d-a6a3-7b609398ab6d"
      },
      "source": [
        "# Mengecek missing values\n",
        "salju_test_sampling.isnull().sum()"
      ],
      "execution_count": null,
      "outputs": [
        {
          "output_type": "execute_result",
          "data": {
            "text/plain": [
              "Tanggal                         0\n",
              "KodeLokasi                      0\n",
              "SuhuMin                       114\n",
              "SuhuMax                        63\n",
              "Hujan                         365\n",
              "Penguapan                   11841\n",
              "SinarMatahari               13052\n",
              "ArahAnginTerkencang          1924\n",
              "KecepatanAnginTerkencang     1910\n",
              "ArahAngin9am                 1843\n",
              "ArahAngin3pm                  730\n",
              "KecepatanAngin9am             240\n",
              "KecepatanAngin3pm             481\n",
              "Kelembaban9am                 394\n",
              "Kelembaban3pm                 699\n",
              "Tekanan9am                   2598\n",
              "Tekanan3pm                   2595\n",
              "Awan9am                     10191\n",
              "Awan3pm                     10716\n",
              "Suhu9am                       221\n",
              "Suhu3pm                       534\n",
              "BersaljuHariIni               365\n",
              "Class                           0\n",
              "dtype: int64"
            ]
          },
          "metadata": {
            "tags": []
          },
          "execution_count": 190
        }
      ]
    },
    {
      "cell_type": "code",
      "metadata": {
        "id": "xx8CqIPahZ1e"
      },
      "source": [
        "# Mengatasi Missing Values\n",
        "salju_test_sampling.fillna(salju_test_sampling.median(), inplace=True)                # Nilai Numeric diisi dengan nilai median\n",
        "salju_test_sampling = salju_test_sampling.fillna(salju_test_sampling.mode().iloc[0]) # Nilai String diisi dengan nilai yang paling sering muncul pada atribut"
      ],
      "execution_count": null,
      "outputs": []
    },
    {
      "cell_type": "code",
      "metadata": {
        "colab": {
          "base_uri": "https://localhost:8080/"
        },
        "id": "6OC5NB7Vhgrp",
        "outputId": "3bf968a4-533b-4b54-932f-b10540df64a2"
      },
      "source": [
        "salju_test_sampling.isnull().sum()"
      ],
      "execution_count": null,
      "outputs": [
        {
          "output_type": "execute_result",
          "data": {
            "text/plain": [
              "Tanggal                     0\n",
              "KodeLokasi                  0\n",
              "SuhuMin                     0\n",
              "SuhuMax                     0\n",
              "Hujan                       0\n",
              "Penguapan                   0\n",
              "SinarMatahari               0\n",
              "ArahAnginTerkencang         0\n",
              "KecepatanAnginTerkencang    0\n",
              "ArahAngin9am                0\n",
              "ArahAngin3pm                0\n",
              "KecepatanAngin9am           0\n",
              "KecepatanAngin3pm           0\n",
              "Kelembaban9am               0\n",
              "Kelembaban3pm               0\n",
              "Tekanan9am                  0\n",
              "Tekanan3pm                  0\n",
              "Awan9am                     0\n",
              "Awan3pm                     0\n",
              "Suhu9am                     0\n",
              "Suhu3pm                     0\n",
              "BersaljuHariIni             0\n",
              "Class                       0\n",
              "dtype: int64"
            ]
          },
          "metadata": {
            "tags": []
          },
          "execution_count": 192
        }
      ]
    },
    {
      "cell_type": "code",
      "metadata": {
        "colab": {
          "base_uri": "https://localhost:8080/"
        },
        "id": "BwqoGd5bnEC1",
        "outputId": "c129b832-7fb6-46fa-a648-946457504eeb"
      },
      "source": [
        "# Mengecek type atribut\n",
        "print(salju_test_sampling.dtypes)"
      ],
      "execution_count": null,
      "outputs": [
        {
          "output_type": "stream",
          "text": [
            "Tanggal                      object\n",
            "KodeLokasi                   object\n",
            "SuhuMin                     float64\n",
            "SuhuMax                     float64\n",
            "Hujan                       float64\n",
            "Penguapan                   float64\n",
            "SinarMatahari               float64\n",
            "ArahAnginTerkencang          object\n",
            "KecepatanAnginTerkencang    float64\n",
            "ArahAngin9am                 object\n",
            "ArahAngin3pm                 object\n",
            "KecepatanAngin9am           float64\n",
            "KecepatanAngin3pm           float64\n",
            "Kelembaban9am               float64\n",
            "Kelembaban3pm               float64\n",
            "Tekanan9am                  float64\n",
            "Tekanan3pm                  float64\n",
            "Awan9am                     float64\n",
            "Awan3pm                     float64\n",
            "Suhu9am                     float64\n",
            "Suhu3pm                     float64\n",
            "BersaljuHariIni              object\n",
            "Class                        object\n",
            "dtype: object\n"
          ],
          "name": "stdout"
        }
      ]
    },
    {
      "cell_type": "code",
      "metadata": {
        "id": "oGubEeCLgv2m"
      },
      "source": [
        "# Menentukan Fitur Categorical\n",
        "numerics = ['int8', 'int16', 'int32', 'int64', 'float16', 'float32', 'float64']\n",
        "categorical_columns = []\n",
        "features = salju_test_sampling.columns.values.tolist()\n",
        "for col in features:\n",
        "    if salju_test_sampling[col].dtype in numerics: continue\n",
        "    categorical_columns.append(col)\n",
        "\n",
        "# Encoding Fitur Categorical\n",
        "for col in categorical_columns:\n",
        "    if col in salju_test_sampling.columns:\n",
        "        enco = LabelEncoder()\n",
        "        enco.fit(list(salju_test_sampling[col].astype(str).values))\n",
        "        salju_test_sampling[col] = enco.transform(list(salju_test_sampling[col].astype(str).values))"
      ],
      "execution_count": null,
      "outputs": []
    },
    {
      "cell_type": "code",
      "metadata": {
        "colab": {
          "base_uri": "https://localhost:8080/"
        },
        "id": "Ikab8873nFPh",
        "outputId": "11412aa6-f819-4488-a8c9-b6e88c16bd2c"
      },
      "source": [
        "# Mengecek type atribut\n",
        "print(salju_test_sampling.dtypes)"
      ],
      "execution_count": null,
      "outputs": [
        {
          "output_type": "stream",
          "text": [
            "Tanggal                       int64\n",
            "KodeLokasi                    int64\n",
            "SuhuMin                     float64\n",
            "SuhuMax                     float64\n",
            "Hujan                       float64\n",
            "Penguapan                   float64\n",
            "SinarMatahari               float64\n",
            "ArahAnginTerkencang           int64\n",
            "KecepatanAnginTerkencang    float64\n",
            "ArahAngin9am                  int64\n",
            "ArahAngin3pm                  int64\n",
            "KecepatanAngin9am           float64\n",
            "KecepatanAngin3pm           float64\n",
            "Kelembaban9am               float64\n",
            "Kelembaban3pm               float64\n",
            "Tekanan9am                  float64\n",
            "Tekanan3pm                  float64\n",
            "Awan9am                     float64\n",
            "Awan3pm                     float64\n",
            "Suhu9am                     float64\n",
            "Suhu3pm                     float64\n",
            "BersaljuHariIni               int64\n",
            "Class                         int64\n",
            "dtype: object\n"
          ],
          "name": "stdout"
        }
      ]
    },
    {
      "cell_type": "code",
      "metadata": {
        "colab": {
          "base_uri": "https://localhost:8080/",
          "height": 217
        },
        "id": "Wq2OddywhKvI",
        "outputId": "0c9f1917-116b-410e-c39d-1db49b98f356"
      },
      "source": [
        "salju_test_sampling.head()"
      ],
      "execution_count": null,
      "outputs": [
        {
          "output_type": "execute_result",
          "data": {
            "text/html": [
              "<div>\n",
              "<style scoped>\n",
              "    .dataframe tbody tr th:only-of-type {\n",
              "        vertical-align: middle;\n",
              "    }\n",
              "\n",
              "    .dataframe tbody tr th {\n",
              "        vertical-align: top;\n",
              "    }\n",
              "\n",
              "    .dataframe thead th {\n",
              "        text-align: right;\n",
              "    }\n",
              "</style>\n",
              "<table border=\"1\" class=\"dataframe\">\n",
              "  <thead>\n",
              "    <tr style=\"text-align: right;\">\n",
              "      <th></th>\n",
              "      <th>Tanggal</th>\n",
              "      <th>KodeLokasi</th>\n",
              "      <th>SuhuMin</th>\n",
              "      <th>SuhuMax</th>\n",
              "      <th>Hujan</th>\n",
              "      <th>Penguapan</th>\n",
              "      <th>SinarMatahari</th>\n",
              "      <th>ArahAnginTerkencang</th>\n",
              "      <th>KecepatanAnginTerkencang</th>\n",
              "      <th>ArahAngin9am</th>\n",
              "      <th>ArahAngin3pm</th>\n",
              "      <th>KecepatanAngin9am</th>\n",
              "      <th>KecepatanAngin3pm</th>\n",
              "      <th>Kelembaban9am</th>\n",
              "      <th>Kelembaban3pm</th>\n",
              "      <th>Tekanan9am</th>\n",
              "      <th>Tekanan3pm</th>\n",
              "      <th>Awan9am</th>\n",
              "      <th>Awan3pm</th>\n",
              "      <th>Suhu9am</th>\n",
              "      <th>Suhu3pm</th>\n",
              "      <th>BersaljuHariIni</th>\n",
              "      <th>Class</th>\n",
              "    </tr>\n",
              "  </thead>\n",
              "  <tbody>\n",
              "    <tr>\n",
              "      <th>13480</th>\n",
              "      <td>1207</td>\n",
              "      <td>6</td>\n",
              "      <td>5.5</td>\n",
              "      <td>9.4</td>\n",
              "      <td>49.6</td>\n",
              "      <td>4.4</td>\n",
              "      <td>7.0</td>\n",
              "      <td>11</td>\n",
              "      <td>72.0</td>\n",
              "      <td>11</td>\n",
              "      <td>11</td>\n",
              "      <td>31.0</td>\n",
              "      <td>26.0</td>\n",
              "      <td>98.0</td>\n",
              "      <td>98.0</td>\n",
              "      <td>1012.0</td>\n",
              "      <td>1014.3</td>\n",
              "      <td>8.0</td>\n",
              "      <td>8.0</td>\n",
              "      <td>7.0</td>\n",
              "      <td>8.6</td>\n",
              "      <td>1</td>\n",
              "      <td>1</td>\n",
              "    </tr>\n",
              "    <tr>\n",
              "      <th>3267</th>\n",
              "      <td>1779</td>\n",
              "      <td>46</td>\n",
              "      <td>12.1</td>\n",
              "      <td>21.9</td>\n",
              "      <td>0.4</td>\n",
              "      <td>5.2</td>\n",
              "      <td>6.7</td>\n",
              "      <td>6</td>\n",
              "      <td>28.0</td>\n",
              "      <td>1</td>\n",
              "      <td>2</td>\n",
              "      <td>7.0</td>\n",
              "      <td>17.0</td>\n",
              "      <td>67.0</td>\n",
              "      <td>58.0</td>\n",
              "      <td>1025.0</td>\n",
              "      <td>1020.2</td>\n",
              "      <td>1.0</td>\n",
              "      <td>3.0</td>\n",
              "      <td>16.2</td>\n",
              "      <td>21.0</td>\n",
              "      <td>0</td>\n",
              "      <td>1</td>\n",
              "    </tr>\n",
              "    <tr>\n",
              "      <th>5966</th>\n",
              "      <td>996</td>\n",
              "      <td>20</td>\n",
              "      <td>7.5</td>\n",
              "      <td>14.6</td>\n",
              "      <td>1.2</td>\n",
              "      <td>1.2</td>\n",
              "      <td>0.2</td>\n",
              "      <td>0</td>\n",
              "      <td>43.0</td>\n",
              "      <td>4</td>\n",
              "      <td>5</td>\n",
              "      <td>9.0</td>\n",
              "      <td>11.0</td>\n",
              "      <td>81.0</td>\n",
              "      <td>63.0</td>\n",
              "      <td>1011.8</td>\n",
              "      <td>1009.5</td>\n",
              "      <td>6.0</td>\n",
              "      <td>8.0</td>\n",
              "      <td>8.9</td>\n",
              "      <td>12.5</td>\n",
              "      <td>1</td>\n",
              "      <td>1</td>\n",
              "    </tr>\n",
              "    <tr>\n",
              "      <th>9005</th>\n",
              "      <td>1039</td>\n",
              "      <td>48</td>\n",
              "      <td>23.0</td>\n",
              "      <td>28.7</td>\n",
              "      <td>47.0</td>\n",
              "      <td>2.8</td>\n",
              "      <td>0.0</td>\n",
              "      <td>10</td>\n",
              "      <td>39.0</td>\n",
              "      <td>8</td>\n",
              "      <td>2</td>\n",
              "      <td>17.0</td>\n",
              "      <td>13.0</td>\n",
              "      <td>74.0</td>\n",
              "      <td>66.0</td>\n",
              "      <td>1006.7</td>\n",
              "      <td>1005.4</td>\n",
              "      <td>7.0</td>\n",
              "      <td>8.0</td>\n",
              "      <td>25.5</td>\n",
              "      <td>27.2</td>\n",
              "      <td>1</td>\n",
              "      <td>1</td>\n",
              "    </tr>\n",
              "    <tr>\n",
              "      <th>9991</th>\n",
              "      <td>790</td>\n",
              "      <td>37</td>\n",
              "      <td>2.1</td>\n",
              "      <td>12.1</td>\n",
              "      <td>7.4</td>\n",
              "      <td>1.0</td>\n",
              "      <td>1.5</td>\n",
              "      <td>5</td>\n",
              "      <td>35.0</td>\n",
              "      <td>3</td>\n",
              "      <td>6</td>\n",
              "      <td>0.0</td>\n",
              "      <td>15.0</td>\n",
              "      <td>100.0</td>\n",
              "      <td>75.0</td>\n",
              "      <td>1019.2</td>\n",
              "      <td>1016.3</td>\n",
              "      <td>6.0</td>\n",
              "      <td>6.0</td>\n",
              "      <td>5.5</td>\n",
              "      <td>11.5</td>\n",
              "      <td>1</td>\n",
              "      <td>1</td>\n",
              "    </tr>\n",
              "  </tbody>\n",
              "</table>\n",
              "</div>"
            ],
            "text/plain": [
              "       Tanggal  KodeLokasi  SuhuMin  ...  Suhu3pm  BersaljuHariIni  Class\n",
              "13480     1207           6      5.5  ...      8.6                1      1\n",
              "3267      1779          46     12.1  ...     21.0                0      1\n",
              "5966       996          20      7.5  ...     12.5                1      1\n",
              "9005      1039          48     23.0  ...     27.2                1      1\n",
              "9991       790          37      2.1  ...     11.5                1      1\n",
              "\n",
              "[5 rows x 23 columns]"
            ]
          },
          "metadata": {
            "tags": []
          },
          "execution_count": 196
        }
      ]
    },
    {
      "cell_type": "code",
      "metadata": {
        "colab": {
          "base_uri": "https://localhost:8080/",
          "height": 284
        },
        "id": "93ccqHxlhlJF",
        "outputId": "4609a284-1414-4bf2-bb62-cd591b8cefca"
      },
      "source": [
        "# Mengecek Outliers\n",
        "f,axes = plt.subplots(1,3)\n",
        "plt.figure(figsize=(20,10))\n",
        "salju_test_sampling['SuhuMin'].plot(kind='box',ax=axes[0])\n",
        "salju_test_sampling['SuhuMax'].plot(kind='box',ax=axes[1])\n",
        "salju_test_sampling['Class'].plot(kind='box',ax=axes[2])\n",
        "\n",
        "plt.show()"
      ],
      "execution_count": null,
      "outputs": [
        {
          "output_type": "display_data",
          "data": {
            "image/png": "[encoded data removed]",
            "text/plain": [
              "<Figure size 432x288 with 3 Axes>"
            ]
          },
          "metadata": {
            "tags": [],
            "needs_background": "light"
          }
        },
        {
          "output_type": "display_data",
          "data": {
            "text/plain": [
              "<Figure size 1440x720 with 0 Axes>"
            ]
          },
          "metadata": {
            "tags": []
          }
        }
      ]
    },
    {
      "cell_type": "code",
      "metadata": {
        "colab": {
          "base_uri": "https://localhost:8080/"
        },
        "id": "RJQYipyvhunp",
        "outputId": "9e195932-8143-4d23-ebaa-22391456cf4e"
      },
      "source": [
        "#Metode IQR untuk SuhuMin\n",
        "Q1=salju_test_sampling['SuhuMin'].quantile(0.25)\n",
        "Q3=salju_test_sampling['SuhuMin'].quantile(0.75)\n",
        "IQR=Q3-Q1\n",
        "print(Q1)\n",
        "print(Q3)\n",
        "print(IQR)\n",
        "Lower_Whisker = Q1-1.5*IQR\n",
        "Upper_Whisker = Q3+1.5*IQR\n",
        "print(Lower_Whisker, Upper_Whisker)"
      ],
      "execution_count": null,
      "outputs": [
        {
          "output_type": "stream",
          "text": [
            "8.0\n",
            "17.2\n",
            "9.2\n",
            "-5.799999999999999 31.0\n"
          ],
          "name": "stdout"
        }
      ]
    },
    {
      "cell_type": "code",
      "metadata": {
        "id": "hSilovYLhzL4"
      },
      "source": [
        "salju_test_sampling = salju_test_sampling[salju_test_sampling['SuhuMin']< Upper_Whisker]\n",
        "salju_test_sampling = salju_test_sampling[salju_test_sampling['SuhuMin']> Lower_Whisker]"
      ],
      "execution_count": null,
      "outputs": []
    },
    {
      "cell_type": "code",
      "metadata": {
        "colab": {
          "base_uri": "https://localhost:8080/"
        },
        "id": "zbNNRF-wh6IM",
        "outputId": "6017e538-b9b0-4235-814f-b479cdc6b1a0"
      },
      "source": [
        "#Metode IQR untuk SuhuMax\n",
        "Q1=salju_test_sampling['SuhuMax'].quantile(0.25)\n",
        "Q3=salju_test_sampling['SuhuMax'].quantile(0.75)\n",
        "IQR=Q3-Q1\n",
        "print(Q1)\n",
        "print(Q3)\n",
        "print(IQR)\n",
        "Lower_Whisker = Q1-1.5*IQR\n",
        "Upper_Whisker = Q3+1.5*IQR\n",
        "print(Lower_Whisker, Upper_Whisker)"
      ],
      "execution_count": null,
      "outputs": [
        {
          "output_type": "stream",
          "text": [
            "17.3\n",
            "27.6\n",
            "10.3\n",
            "1.8499999999999996 43.050000000000004\n"
          ],
          "name": "stdout"
        }
      ]
    },
    {
      "cell_type": "code",
      "metadata": {
        "id": "qyT0PNGNiA6W"
      },
      "source": [
        "salju_test_sampling = salju_test_sampling[salju_test_sampling['SuhuMax']< Upper_Whisker]\n",
        "salju_test_sampling = salju_test_sampling[salju_test_sampling['SuhuMax']> Lower_Whisker]"
      ],
      "execution_count": null,
      "outputs": []
    },
    {
      "cell_type": "code",
      "metadata": {
        "colab": {
          "base_uri": "https://localhost:8080/",
          "height": 282
        },
        "id": "9OTye7CPiFUO",
        "outputId": "a643b95d-d520-465c-cf1e-03a702e28a63"
      },
      "source": [
        "# Mengecek Outliers setelah menggunakan metode IQR\n",
        "f,axes = plt.subplots(1,3)\n",
        "plt.figure(figsize=(20,10))\n",
        "salju_test_sampling['SuhuMin'].plot(kind='box',ax=axes[0])\n",
        "salju_test_sampling['SuhuMax'].plot(kind='box',ax=axes[1])\n",
        "salju_test_sampling['Class'].plot(kind='box',ax=axes[2])\n",
        "\n",
        "plt.show()"
      ],
      "execution_count": null,
      "outputs": [
        {
          "output_type": "display_data",
          "data": {
            "image/png": "[encoded data removed]",
            "text/plain": [
              "<Figure size 432x288 with 3 Axes>"
            ]
          },
          "metadata": {
            "tags": [],
            "needs_background": "light"
          }
        },
        {
          "output_type": "display_data",
          "data": {
            "text/plain": [
              "<Figure size 1440x720 with 0 Axes>"
            ]
          },
          "metadata": {
            "tags": []
          }
        }
      ]
    },
    {
      "cell_type": "code",
      "metadata": {
        "colab": {
          "base_uri": "https://localhost:8080/"
        },
        "id": "zmvW8q2IiJy3",
        "outputId": "22e32c2d-0671-41ce-df4c-c5c5fa459fcb"
      },
      "source": [
        "# Mengecek Data Unique\n",
        "def check(data):\n",
        "  for col in data.columns:\n",
        "    print(col, data[col].unique())\n",
        "\n",
        "check(salju_test_sampling)"
      ],
      "execution_count": null,
      "outputs": [
        {
          "output_type": "stream",
          "text": [
            "Tanggal [1207 1779  996 ...   62 1359  435]\n",
            "KodeLokasi [ 6 46 20 48 37 35 13 40 47 31 33 28  5 22 23  3 15  0 26  1 12 32 10 39\n",
            " 18 41 45 14  8 38 30 36  9 29 17 19 11  7 24 27 25 34 16 44  4 21  2 42\n",
            " 43]\n",
            "SuhuMin [ 5.5 12.1  7.5 23.   2.1  7.8 19.  18.9 18.  22.3 14.6  2.3  7.2 10.\n",
            "  1.9 20.9 20.6 10.4 23.7  8.2 11.3  5.2 13.2  6.8  8.7 13.5  9.8  8.\n",
            " 14.7 10.8 14.1 19.2  6.6 13.9 25.1  7.  21.5  7.3 11.6 10.6 -1.9  6.3\n",
            " 10.2 21.8 12.2 13.3 24.  11.5 15.  13.7 24.4  5.9  4.2 19.4 12.6 19.7\n",
            " 16.3 17.8  6.9 25.  15.3 12.4  3.7 13.  12.8 20.7 11.7 10.9 11.2  5.\n",
            "  3.9 17.2  4.9 16.4  4.6  9.4 13.1 10.7 24.1 10.5 19.6 17.  17.9 24.8\n",
            "  7.7 14.9 13.8  3.2  0.4  4.3  5.6 21.3 24.5 12.7 19.3 20.  23.9  9.9\n",
            "  5.7 19.9 15.9 16.9 17.3 20.4 19.5 14.8 20.1 24.2 26.5 21.2 15.7  8.3\n",
            " 23.8 15.1 19.1  9.2  6.1  8.5 22.7 15.5 16.6 13.4  1.6 14.2 18.8 11.\n",
            " 18.2 23.5 17.6 20.5 18.3  6.7  7.6 14.  23.2 20.8 24.3 27.4 17.1  0.6\n",
            " 26.6 16.  20.3  9.6 16.7  8.4 11.8 15.2 21.7  9.5  8.1  1.5 16.5 12.\n",
            " 14.4 20.2 26.7 -1.7 11.1  2.7  8.9 22.9 15.6 26.2  7.4  9.7 12.5 25.5\n",
            "  4.8 18.4 12.3 17.4 23.1 12.9 14.5 21.6 22.6  4.1  4.5 10.1 22.2  4.7\n",
            "  6.2 22.1 21.4 10.3  8.6 18.1 25.7 -0.5 25.9  3.6  0.5  9.1 28.  14.3\n",
            "  2.6  5.1 23.4  9.3 21.9 15.8 26.   7.1 23.6 16.1 22.4  2.2  7.9  5.8\n",
            " 11.9  9.   1.7  2.4 25.6  4.4 16.2 -1.   5.3  3.4  6.5  1.2 19.8  5.4\n",
            " 27.  27.8 21.   6.4 13.6 18.6 18.5  0.2 22.8 24.7 18.7 11.4 25.3  8.8\n",
            " 24.9  3.  25.8 16.8  4.  22.5 27.9 -0.3 -2.6 15.4 28.1 25.4  6.  22.\n",
            "  2.5  1.1  2.  23.3 21.1 17.7  2.9 26.4 25.2 27.3  3.8  0.8 -2.3 17.5\n",
            " -3.8 24.6  1.3 28.6 -0.4 -2.5  3.3  3.5  0.  -0.8 -2.9 -3.4 -4.  -0.2\n",
            " 30.7  3.1 -2.8 26.1  0.9  2.8  1.8  1.4 -1.5 27.5 27.6 -2.  -1.8 -1.1\n",
            " 26.8 -1.3 -1.2  0.7  1.   0.1 -2.1 -0.9 -0.1 -0.6 -4.3  0.3 27.2 -0.7\n",
            " -3.5 26.3 -1.6 -2.4 -1.4 -5.5 -3.9 -3.1 -4.7 28.2 -3.2 -3.3 29.6 -4.1\n",
            " -2.2 28.5 -3.6 -4.9 -5.7 27.7 -4.6 -3.  29.4 -4.5 29.7 26.9 -3.7 -4.2\n",
            " 29.3 -5.1 -4.4 28.3 -2.7 -4.8 28.8 28.4 29.  -5. ]\n",
            "SuhuMax [ 9.4 21.9 14.6 28.7 12.1 20.6 23.8 19.8 36.5 18.3 15.1 16.2 19.9  4.5\n",
            " 28.3 24.5 16.8 30.6 19.7 15.8 25.2 18.9 17.8 14.9 15.6 27.1 17.2 24.4\n",
            " 11.4 21.3 32.5 10.4 26.1 14.5 16.  14.4  6.6 23.2 18.6 26.3 36.  19.5\n",
            " 31.3 14.8 23.5 20.8 32.2 12.9 22.7 12.4 27.5 16.6 18.1 27.9 20.3 30.8\n",
            " 36.2 14.2 15.  15.4 28.  17.6 16.4 16.3 18.  17.  19.4 16.7 25.9 23.1\n",
            " 18.8 20.5 29.5 29.3 21.2 28.6 30.9 29.  22.2 32.8 19.2 13.6 21.8 17.7\n",
            " 18.5  7.4 10.7 28.9 22.  37.2  7.9 17.3 27.6 25.  10.1 23.  17.9 21.4\n",
            " 32.1 31.1 29.4 22.6 22.9 38.3 30.  26.4 16.5 18.2 26.9 26.6 10.2 33.1\n",
            " 25.6 26.8 34.2 24.1 23.7 35.2 32.7 37.  27.3 17.5 19.6 15.7 11.7 27.7\n",
            " 19.1 30.5 15.3 25.4 22.5 28.8 35.6 19.3 29.9 27.  20.7 35.1 25.5 20.\n",
            " 12.3 30.3 29.8 12.6 21.5 20.1 23.6 16.1 23.4 24.8 24.2 13.5 35.4 19.\n",
            " 38.9 32.3  3.6  9.5 14.  33.7 31.6 17.1 31.7 34.1 36.9 35.5 33.3 34.4\n",
            " 12.5 20.9 35.8 24.  18.7 27.8 22.1 31.5 11.5 28.4 23.9 13.3  9.  17.4\n",
            " 25.1 14.3 20.2 12.2 12.7 13.9 25.3 32.  42.1 13.7 37.7 29.2 21.  18.4\n",
            " 15.9 20.4  3.9 12.  31.4 14.1 39.6 32.4 30.1 13.4 11.6 37.9 31.2 24.7\n",
            " 24.9 34.8 28.1 15.2 24.3 27.4 21.1 15.5 29.6 22.4 11.8 25.7 16.9 11.2\n",
            " 26.2  3.  31.  38.4 22.3  5.2 28.5  7.7 30.4 41.5 29.1 33.4 11.  26.\n",
            "  9.6 14.7 32.6 40.4 31.8 13.1 25.8 11.3 34.5 27.2 11.9 34.3 12.8 35.\n",
            "  2.8 34.9 10.8 30.7 22.8 26.7 34.7 13.  41.9 34.  13.8  8.8 24.6 10.5\n",
            " 29.7  5.7  8.  39.8 40.1 33.6 28.2 21.7 37.5 31.9 36.3 23.3 33.9 21.6\n",
            " 32.9 13.2 26.5 11.1  4.3  9.7  3.8 10.6 33.   4.   9.3  4.7 30.2  9.8\n",
            " 33.2 33.5 41.6  8.6 33.8 34.6 37.1  7.2  2.7 35.9 10.3 39.3  2.5 35.7\n",
            "  4.4  9.1  5.3  4.8 37.8 38.5 37.3  8.1  6.2 40.8  6.7 10.  38.6  6.8\n",
            " 37.4 37.6 42.6 10.9  9.2 38.2 36.4 41.8 39.1 36.6 42.5  9.9  8.4  8.9\n",
            " 41.2 36.7  8.7  3.4 38.7 40.   2.4 35.3  2.2  2.3  2.6 36.1  8.5 40.2\n",
            " 41.4 38.  39.5 42.8 40.9 40.7 36.8 38.1  7.   6.9  5.8 43.  39.9 38.8\n",
            " 39.   3.3 39.2 39.7 41.3  7.6 42.7  4.9 40.6 42.2 40.3 40.5 41.1  6.1\n",
            "  3.7 41.7  4.1 39.4  8.2 41.  42.9  2.   7.5  2.9  7.8  7.3  1.9 42.3\n",
            "  7.1  3.2 42.  42.4  8.3]\n",
            "Hujan [4.960e+01 4.000e-01 1.200e+00 4.700e+01 7.400e+00 0.000e+00 9.600e+00\n",
            " 7.200e+00 5.400e+00 2.000e-01 4.660e+01 8.400e+00 5.000e+00 3.300e+01\n",
            " 2.220e+01 2.800e+00 1.240e+01 1.160e+01 3.000e+00 6.000e-01 6.800e+00\n",
            " 1.420e+01 1.220e+01 1.600e+00 1.000e+01 6.200e+00 8.000e-01 6.220e+01\n",
            " 1.760e+01 5.600e+00 1.180e+01 8.600e+00 6.000e+00 2.400e+00 1.400e+00\n",
            " 2.060e+01 1.900e+01 2.340e+01 1.800e+00 2.200e+01 3.800e+00 5.200e+00\n",
            " 2.600e+00 1.140e+01 1.000e+00 4.800e+00 4.000e+00 7.000e+00 2.380e+01\n",
            " 6.400e+00 3.160e+01 7.800e+00 4.400e+00 2.200e+00 1.480e+01 1.280e+01\n",
            " 2.000e+00 1.060e+01 7.400e+01 1.138e+02 1.660e+01 1.120e+01 1.020e+01\n",
            " 3.380e+01 1.680e+01 3.200e+00 2.320e+01 2.120e+01 4.180e+01 2.300e+01\n",
            " 2.080e+01 5.440e+01 4.600e+00 1.260e+01 9.800e+00 3.740e+01 2.280e+01\n",
            " 2.620e+01 3.180e+01 1.340e+01 3.400e+00 2.720e+01 1.620e+01 1.070e+01\n",
            " 9.000e+00 4.880e+01 1.360e+01 5.120e+01 6.600e+00 1.200e+01 5.060e+01\n",
            " 9.260e+01 3.100e+01 3.600e+00 1.960e+01 3.440e+01 2.260e+01 2.680e+01\n",
            " 4.200e+00 1.560e+01 1.040e+01 1.100e+01 3.080e+01 1.740e+01 4.340e+01\n",
            " 3.880e+01 4.320e+01 2.420e+01 8.200e+00 8.000e+00 1.000e-01 1.320e+01\n",
            " 2.800e+01 5.100e+01 9.200e+00 2.540e+01 5.800e+00 6.020e+01 1.080e+01\n",
            " 2.480e+01 1.700e+01 1.640e+01 2.472e+02 4.020e+01 1.400e+01 3.560e+01\n",
            " 7.600e+00 8.640e+01 2.780e+01 1.228e+02 4.240e+01 1.540e+01 2.580e+01\n",
            " 1.600e+01 4.900e+01 7.100e+01 9.400e+00 2.900e+01 4.940e+01 3.120e+01\n",
            " 4.920e+01 1.300e+01 2.700e+01 1.880e+01 2.100e+01 3.020e+01 3.920e+01\n",
            " 1.780e+01 1.440e+01 4.620e+01 2.740e+01 8.800e+00 1.380e+01 3.260e+01\n",
            " 2.560e+01 7.620e+01 3.000e-01 2.180e+01 6.160e+01 1.840e+01 1.520e+01\n",
            " 3.280e+01 3.400e+01 7.960e+01 3.600e+01 3.580e+01 2.940e+01 3.640e+01\n",
            " 7.680e+01 1.900e+00 5.820e+01 4.840e+01 2.600e+01 3.980e+01 3.420e+01\n",
            " 6.380e+01 1.920e+01 2.020e+01 7.900e+00 6.340e+01 1.800e+01 2.360e+01\n",
            " 1.980e+01 3.660e+01 7.100e+00 1.846e+02 4.300e+01 3.620e+01 1.820e+01\n",
            " 3.700e+01 4.980e+01 1.500e+01 4.860e+01 2.960e+01 4.440e+01 7.160e+01\n",
            " 1.216e+02 5.740e+01 2.980e+01 3.220e+01 3.240e+01 1.442e+02 6.100e+01\n",
            " 1.280e+02 8.900e+01 2.860e+01 1.860e+01 2.520e+01 2.640e+01 2.660e+01\n",
            " 6.060e+01 2.160e+01 3.500e+01 8.380e+01 3.300e+00 5.620e+01 1.090e+02\n",
            " 6.440e+01 5.580e+01 2.040e+01 6.460e+01 4.820e+01 1.152e+02 7.860e+01\n",
            " 4.060e+01 5.880e+01 3.140e+01 1.720e+01 6.200e+01 4.600e+01 2.140e+01\n",
            " 2.840e+01 3.860e+01 3.520e+01 6.620e+01 5.960e+01 3.460e+01 6.700e+01\n",
            " 4.040e+01 2.440e+01 3.320e+01 1.822e+02 2.400e+01 4.380e+01 3.820e+01\n",
            " 3.780e+01 4.640e+01 4.800e+01 4.080e+01 3.760e+01 3.340e+01 1.460e+01\n",
            " 5.600e+01 1.034e+02 4.420e+01 4.540e+01 1.300e+00 5.800e+01 1.500e+00\n",
            " 6.420e+01 2.000e+01 1.580e+01 1.940e+01 4.100e+01 4.460e+01 3.540e+01\n",
            " 6.140e+01 5.240e+01 3.900e+01 2.760e+01 2.368e+02 9.040e+01 6.600e+01\n",
            " 5.780e+01 5.500e+01 6.400e+01 3.680e+01 2.500e+01 7.800e+01 5.140e+01\n",
            " 7.060e+01 8.400e+01 1.154e+02 7.260e+01 3.360e+01 8.060e+01 3.940e+01\n",
            " 2.880e+01 6.280e+01 5.560e+01 8.800e+01 5.000e-01 4.760e+01 7.080e+01\n",
            " 8.240e+01 7.500e+01 4.200e+01 1.590e+01 3.960e+01 4.900e+00 4.740e+01\n",
            " 4.700e+00 5.320e+01 6.500e+00 4.120e+01 7.000e-01 3.200e+01 6.900e+00\n",
            " 9.320e+01 2.460e+01 2.240e+01 3.040e+01 2.300e+00 5.420e+01 2.900e+00\n",
            " 7.420e+01 6.300e+00 5.160e+01 6.520e+01 3.720e+01 3.900e+00 2.100e+00\n",
            " 4.500e+00 1.180e+02 1.110e+02 4.220e+01 1.700e+00 1.050e+02 5.300e+01\n",
            " 6.000e+01 2.820e+01 4.000e+01 2.920e+01 1.100e+00 4.140e+01 1.834e+02\n",
            " 7.520e+01 8.180e+01 6.780e+01]\n",
            "Penguapan [ 4.4  5.2  1.2  2.8  1.  17.6  8.4  2.6  1.4  3.2  9.6  5.4  1.6  3.8\n",
            " 12.4  2.   3.6  4.6 10.2  4.   0.4 12.2  8.6  5.   6.   3.4  0.6  6.4\n",
            "  9.8  0.2  8.   9.4 10.8  5.6  2.9  0.8 13.6 10.6  6.8  7.   2.4  9.\n",
            " 11.2  5.8  7.6  4.2  7.4  8.8  7.2  7.8  3.   7.7  9.2  8.2  6.6  0.\n",
            " 11.6  2.2 22.4 10.4 15.2 11.4  1.8 11.8  6.2  4.8  2.7 11.   6.5 17.\n",
            " 16.  26.   4.3 10.  12.  14.2 10.1 12.6  6.7  9.1 15.6 23.6  2.1 19.2\n",
            " 35.8 12.8  3.7 14.6 18.6 13.4 13.  14.  21.  30.4  1.1  5.7  2.3  1.9\n",
            " 36.8 15.4  3.3 36.6 10.9 20.6 14.4  8.5 27.2  5.3 14.8 28.6  3.5  3.1\n",
            " 15.  13.8  5.1 10.5  8.7 15.8 13.2 16.2 16.6 14.5 35.4 33.6  2.5 52.4\n",
            "  1.3  7.5 32.  24.   4.1  1.7 18.8 19.  17.4 21.6 16.4 14.7 20.8 24.6\n",
            " 18.4 11.9 30.8 18.  20.  28.   4.7 19.8 27.8 56.   0.3 25.4 19.6 36.\n",
            "  7.9 32.2 40.4 54.  23.   1.5 22.6  6.3 24.2 25.  16.8 19.1 68.8  0.9\n",
            " 12.1 35.   9.3  7.1  4.9 22.1 23.2 21.2 22.   6.9  0.7 34.2 21.4 32.8\n",
            "  5.9 19.7  5.5  8.3 17.8 20.2  0.1 18.2 17.2 22.2 13.3 20.4 39.2 42.8\n",
            " 44.4 22.8 13.1 29.8 23.3 25.6 64.   6.1 37.6 34.  34.5  3.9 38.4 11.1\n",
            " 31.  59.8 13.9 46.6 37.4  0.5 41.2 11.7 23.4]\n",
            "SinarMatahari [ 7.   6.7  0.2  0.   1.5 13.2  1.8  8.3  6.2  8.7  2.3  6.5  5.5  6.3\n",
            "  4.9  4.1  3.1  0.5  4.3  4.   5.2  3.6  9.2  4.5 10.  10.5  3.2  7.3\n",
            "  5.1  3.8  7.6  8.   0.6  2.1  1.4  6.8  4.2  9.1  0.4  3.4  8.5  1.6\n",
            "  4.7  2.   3.9  2.9  0.1  1.9  9.3  7.4  0.7  5.3  4.8  1.1  8.4  2.7\n",
            "  7.1 10.9 10.7  4.4  1.   5.7  0.8  8.6  5.   6.   2.2  0.9  4.6  8.2\n",
            "  5.6  6.4  5.9 11.4  7.5  9.8 12.5  3.5 11.3  3.   2.4  7.7  8.1  3.3\n",
            "  0.3  7.2 11.   8.8  1.3 11.1  7.9 12.8  9.9  3.7  7.8 10.1  6.6  9.\n",
            " 11.8 12.3  9.6 12.9  6.9  2.8 10.2 10.4  2.5  2.6 12.1  8.9  5.8 12.2\n",
            " 13.   1.7 11.7 12.6  1.2 11.6  9.7  5.4  9.4  6.1 11.5 11.9 10.6 10.3\n",
            " 12.4  9.5 13.8 11.2 13.4 10.8 12.  12.7 13.1 13.9 13.3 13.6 13.7 13.5\n",
            " 14.3 14.  14.5 14.1]\n",
            "ArahAnginTerkencang [11  6  0 10  5 13  8  3 14  7  1 15 12  9  4  2]\n",
            "KecepatanAnginTerkencang [ 72.  28.  43.  39.  35.  33.  30.  56.  48.  37.  41.  74.  31.  20.\n",
            "  57.  81.  52.  54.  50.  46.  26.  44.  17.  91.  24.  59.  69.  78.\n",
            "  61.  13.  63.  70.  22.  65.  67.  76.  89.  19.  15.  80.  93.  83.\n",
            "   9.  85.  96.  87.  98. 100. 104. 106.  94.  11. 109. 107.   7. 102.\n",
            " 115.   6. 122.]\n",
            "ArahAngin9am [11  1  4  8  3 13 10  2  7  9 15 14  5  6 12  0]\n",
            "ArahAngin3pm [11  2  5  6  8  9 10  0 12  7 15  1 13 14  4  3]\n",
            "KecepatanAngin9am [31.  7.  9. 17.  0. 15. 19. 11. 13.  2. 24.  4. 22. 26. 20. 39. 28.  6.\n",
            " 33. 30. 43. 37. 46. 44. 41. 35. 50. 48. 57. 52. 65. 63. 54. 61. 83. 56.\n",
            " 59.]\n",
            "KecepatanAngin3pm [26. 17. 11. 13. 15. 28. 19. 20. 22.  9. 33. 24.  7. 35.  4. 31.  2. 65.\n",
            " 39. 30. 44.  6. 43.  0. 50. 37. 48. 46. 56. 41. 57. 61. 52. 59. 83. 54.]\n",
            "Kelembaban9am [ 98.  67.  81.  74. 100.  71.  93.  94.  73.  97.  72.  63.  76.  75.\n",
            "  91.  84.  83.  41.  96.  70.  80.  95.  66.  99.  85.  87.  78.  47.\n",
            "  77.  88.  53.  62.  46.  64.  79.  55.  61.  65.  69.  86.  50.  90.\n",
            "  54.  45.  59.  82.  43.  92.   6.  56.  68.  36.  57.  52.  39.  28.\n",
            "  48.  16.  58.  60.  89.  33.  49.  35.  15.  25.  22.  51.  12.  32.\n",
            "  24.  23.  31.  40.  20.  37.  42.  38.  26.  44.  13.  19.  21.  18.\n",
            "  14.  17.  27.  11.  34.  30.   8.   9.  29.   4.  10.   5.   3.   7.\n",
            "   2.]\n",
            "Kelembaban3pm [ 98.  58.  63.  66.  75.  67.  92.  46.  90.  42.  32.  97.  84.  94.\n",
            "  87.  71.  33.  81.  65.  39.  60.  93.  86.  64.  49.  74.  56.  89.\n",
            "  73.  91.  72.  47.  27.  78.  95. 100.  52.  40.  88.  83.  59.  55.\n",
            "  37.  80.  53.  35.  43.  79.  45.  44.  62.  82.  70.  61.  68.  77.\n",
            "   7.  96.  36.  76.  30.   9.  54.  69.  48.  51.  85.  50.  57.  38.\n",
            "  99.  28.  23.  22.  25.  29.  19.  34.  11.  13.  12.  41.  17.   5.\n",
            "  21.  14.  31.  26.  18.  20.  24.  16.  15.   6.   4.  10.   8.   3.\n",
            "   2.   1.]\n",
            "Tekanan9am [1012.  1025.  1011.8 1006.7 1019.2 1026.1 1016.4 1009.4 1024.2 1024.7\n",
            " 1017.4 1017.  1013.7  999.3 1002.8 1012.2 1022.2 1013.3 1009.2 1023.3\n",
            " 1004.2 1024.1 1014.8 1015.2 1013.  1000.6 1001.9 1019.  1012.1 1011.6\n",
            " 1020.3 1000.7 1017.3 1015.4 1008.8 1016.5 1015.6 1006.1 1024.4 1010.8\n",
            " 1018.6 1015.9 1009.6 1011.7 1007.2 1025.5 1005.2 1010.2 1024.8 1016.2\n",
            " 1002.4 1012.4  997.3  998.5 1018.1 1015.  1012.7 1007.4 1017.7 1018.2\n",
            "  986.7 1021.2 1012.8 1019.5 1022.  1020.5 1011.5 1002.1 1005.8 1016.9\n",
            " 1017.6 1008.9 1023.8 1011.  1003.5 1015.3 1016.3 1011.1 1018.7 1013.6\n",
            " 1007.3  997.2 1022.6 1006.  1029.8 1021.1 1016.7 1025.9 1007.5 1011.4\n",
            " 1013.2 1012.9 1010.9 1014.2 1009.7 1007.8 1014.3 1014.1 1017.2 1017.5\n",
            " 1023.1 1020.1 1006.8 1019.8 1030.9 1013.9 1019.1 1020.9 1003.3 1021.3\n",
            " 1028.4 1003.7 1007.6 1007.  1010.5 1012.5 1029.7 1005.5 1008.5 1005.3\n",
            " 1008.6  987.2 1008.7 1015.5 1018.  1033.5 1004.5 1001.7 1011.2  999.9\n",
            " 1005.7 1013.4 1009.9 1021.4 1014.4 1004.1 1023.5 1028.9 1027.4 1009.1\n",
            " 1020.8 1005.4 1010.1 1011.9 1003.9 1024.3 1014.  1018.3 1015.7 1008.3\n",
            " 1017.1 1010.6 1002.2 1010.7 1019.9 1019.6 1023.2 1025.8 1026.4 1005.9\n",
            " 1019.7 1016.1 1014.6 1004.4 1012.6 1028.  1008.4 1031.6  996.1  991.3\n",
            "  997.4 1015.8 1010.4 1030.3 1018.8 1014.5 1014.7 1020.4 1036.2 1008.2\n",
            " 1016.6 1004.  1013.8 1013.5 1010.3 1002.3 1010.  1028.1 1019.4 1016.8\n",
            " 1011.3 1007.7 1022.5 1007.9 1024.6 1015.1 1031.5 1009.3  992.  1023.6\n",
            " 1005.  1009.8 1022.9 1021.8 1026.3 1005.6 1027.6 1021.9  999.5 1001.1\n",
            " 1006.2 1003.8 1001.8 1004.7 1008.1 1017.9 1012.3 1019.3 1006.6 1001.\n",
            " 1027.3 1026.2 1017.8  997.5 1005.1 1004.3 1006.5 1022.7  995.5 1009.\n",
            " 1028.5 1003.2 1028.6 1024.5 1020.2 1004.9 1027.7 1020.  1006.9 1007.1\n",
            " 1024.   994.9  997.  1025.6 1032.3 1009.5 1006.4 1002.5 1018.9 1016.\n",
            " 1008.  1023.  1029.9 1003.6 1028.3 1022.1 1013.1 1025.2 1021.5  998.3\n",
            "  992.7 1021.  1023.9 1029.4 1022.8  998.9 1020.7 1031.7 1014.9 1027.\n",
            " 1018.4 1029.5 1026.9 1025.4  995.3  999.7 1021.7 1030.7 1022.3 1026.\n",
            "  992.3 1036.7  997.1 1006.3  994.6 1032.1 1000.3  999.2 1030.1 1018.5\n",
            " 1031.4 1001.6 1027.8 1030.6 1004.6 1001.5  990.8 1031.3 1026.6 1026.5\n",
            "  996.5  999.4  985.1 1036.8 1038.  1030.4 1036.1 1027.5 1002.7  998.1\n",
            " 1029.1 1023.4 1027.2 1030.  1029.  1025.1 1023.7  999.8 1002.6 1025.7\n",
            "  995.9 1034.2 1003.   992.1 1001.4 1030.5  995.1  995.6 1003.4 1028.2\n",
            " 1028.7 1002.9 1025.3  994.3 1024.9 1003.1 1031.   998.4 1000.5  989.6\n",
            " 1001.2 1004.8  999.   994.7 1028.8  991.9 1032.7  995.2 1001.3 1002.\n",
            "  993.3 1021.6 1026.8 1027.1 1030.2 1026.7  997.9 1029.3 1020.6 1000.1\n",
            " 1029.2 1022.4 1030.8 1000.2 1027.9  994.1 1000.9  982.3  996.6  984.4\n",
            "  992.6 1034.9  998.6  996.3 1034.   998.8 1000.8 1035.7  989.7 1000.\n",
            "  989.4  999.1  992.9  997.8  992.8  985.9  991.8  996.7  995.   991.6\n",
            " 1031.1  996.  1032.   998.7  996.8  987.3  990.2 1032.6 1034.3 1037.\n",
            " 1034.8 1036.4 1033.9 1031.9 1029.6 1033.3 1033.1 1034.4 1032.9 1033.6\n",
            " 1032.8 1032.2 1031.8 1033.2 1031.2 1034.7 1035.4 1039.9  996.4 1032.5\n",
            " 1035.  1033.8 1037.8 1035.1 1037.7  993.1 1035.8 1033.7 1033.4 1032.4\n",
            " 1037.9 1035.6 1037.1 1034.5  994.2 1037.4 1040.3 1037.6 1035.5 1035.2\n",
            " 1036.6 1037.5 1038.5  997.6 1036.5 1036.3 1039.2 1035.9 1034.1  996.9\n",
            "  993.7  999.6 1035.3 1033.   998.2 1039.  1040.6 1037.3 1034.6 1036.\n",
            "  988.9 1039.3  994.   995.4 1038.8  987.9 1037.2 1039.6 1036.9  989.8]\n",
            "Tekanan3pm [1014.3 1020.2 1009.5 1005.4 1016.3 1024.  1014.  1005.9 1022.1 1020.1\n",
            " 1011.  1015.2 1012.1 1002.4 1006.1 1008.4 1021.  1010.5 1007.2 1020.\n",
            "  997.6 1008.3 1015.  1014.1  997.3 1012.  1003.2 1017.8 1013.8 1014.5\n",
            " 1008.9 1010.2 1018.2 1005.7 1010.8 1011.5 1013.9 1015.8 1012.3 1004.2\n",
            " 1009.6 1024.1 1014.8 1014.4 1009.4 1006.  1005.5 1023.6 1023.2 1000.4\n",
            " 1004.6 1008.7 1016.6 1021.8 1013.1 1001.  1015.5 1024.5  991.8  991.5\n",
            " 1017.6 1006.4 1016.  1017.2 1003.9 1017.7 1016.5 1013.   991.  1018.5\n",
            " 1011.3 1020.7 1016.9 1006.9 1018.6 1005.  1014.2 1001.3 1003.  1012.8\n",
            " 1015.9 1005.3 1001.9 1016.7 1014.7 1004.1 1015.1  998.9 1019.1 1008.1\n",
            " 1028.1 1007.6 1014.9 1007.9 1023.8 1003.5 1005.2 1010.7 1009.3 1011.1\n",
            " 1006.6 1013.3 1012.9 1013.5 1011.7 1011.8  998.5 1016.2 1022.  1017.9\n",
            " 1003.4 1013.2 1016.8 1029.  1011.6 1019.5 1006.8 1007.5 1019.3 1026.3\n",
            " 1010.1 1009.9 1019.9  999.1 1020.3 1010.6 1026.5 1009.1 1000.1 1005.1\n",
            " 1003.3 1012.4  984.5 1032.1 1002.2 1001.2 1007.   997.9 1013.7 1017.\n",
            " 1021.7  999.9 1018.8 1016.1 1018.4 1016.4 1012.2 1015.6 1026.8 1028.3\n",
            " 1005.8 1008.2 1006.7 1007.3 1009.7 1000.8 1011.2 1007.4 1021.4 1012.7\n",
            " 1004.5 1019.2 1009.8 1024.9 1012.5 1006.3 1010.  1011.4 1008.  1010.4\n",
            " 1004.9 1024.6 1009.   996.7  987.7 1001.5 1015.4 1015.3 1013.4 1025.3\n",
            " 1000.7 1017.1 1008.5 1030.6 1018.7 1033.8 1013.6 1030.3 1019.7 1006.2\n",
            " 1004.4 1021.2 1012.6 1019.  1030.1  994.2 1015.7 1007.1 1024.8 1021.1\n",
            " 1022.6 1017.3 1026.6 1000.9  999.4 1004.7 1021.9 1021.5 1019.6 1019.4\n",
            "  993.3 1002.3 1024.7  994.5 1023.4 1004.3 1007.7  999.5  994.9 1003.6\n",
            " 1018.3 1010.3 1004.8 1014.6  995.2 1022.4 1004.  1017.4 1002.6 1025.8\n",
            " 1006.5 1023.7 1025.  1018.9 1025.5 1003.7 1003.1 1024.3  994.6 1025.7\n",
            " 1002.7 1022.8 1025.9 1007.8 1030.5 1010.9 1023.9 1002.5 1018.  1008.6\n",
            " 1009.2 1022.2 1030.7 1005.6 1020.9 1020.6 1019.8 1024.4 1021.6  997.8\n",
            "  993.9  988.3  999.  1020.5 1018.1 1026.1  999.8 1027.  1029.1 1027.5\n",
            " 1029.4 1026.4  996.2 1003.8 1000.2 1008.8  992.8 1021.3 1031.4  999.7\n",
            " 1001.6  995.5  999.6 1034.1  995.  1028.   995.9  996.3  997.4 1028.9\n",
            " 1017.5 1029.3 1026.9 1002.9 1002.   995.1 1029.6 1001.4 1011.9 1020.8\n",
            "  984.9 1035.  1023.5 1034.9 1022.3 1028.4 1032.7 1026.7 1028.7  996.9\n",
            " 1027.7 1002.8 1022.7 1027.8 1035.6 1023.1  997.7 1028.6 1020.4 1001.1\n",
            "  996.1 1031.  1024.2 1027.6  992.2  994.  1022.9 1028.5 1023.   991.6\n",
            " 1025.1 1001.8  998.3  993.   998.7 1000.   997.5 1000.5  989.2 1022.5\n",
            "  992.9  992.4 1026.   989.  1030.9 1033.1  998.2 1027.4 1023.3  991.3\n",
            "  994.7  998.6  998.   995.7 1028.2 1002.1 1030.4  998.1 1032.2  998.8\n",
            " 1025.2 1000.3 1001.7 1027.2  999.2 1027.3  997.  1026.2 1025.6  986.4\n",
            "  986.9  988.   989.7  990.1 1033.4  999.3 1027.9 1032.6  987.3  998.4\n",
            "  996.8  985.4  994.3  996.6  986.6  997.2 1000.6  997.1 1029.7  996.4\n",
            " 1032.9  986.2  985.1  989.8  994.1 1025.4 1027.1 1029.9 1031.6 1035.7\n",
            " 1030.2 1033.5 1029.5 1031.3 1029.2 1031.2  992.1 1031.1 1028.8 1032.4\n",
            " 1029.8 1031.5 1030.8 1034.2 1035.3 1036.  1032.3 1034.5 1031.8 1031.9\n",
            " 1035.1  993.7 1030.  1031.7 1034.6 1036.4  996.  1034.  1033.9  995.3\n",
            " 1032.5 1037.6  994.8 1032.  1033.7 1035.9 1034.4 1035.4 1034.7 1033.2\n",
            "  990.6  995.8  995.6 1033.6 1037.8 1037.7 1033.3 1032.8 1034.3 1037.9\n",
            "  995.4 1033.  1036.7 1038.4 1035.5 1034.8 1037.3 1036.2  990.8  992.3]\n",
            "Awan9am [8. 1. 6. 7. 0. 4. 2. 5. 3.]\n",
            "Awan3pm [8. 3. 6. 7. 1. 5. 4. 2. 0.]\n",
            "Suhu9am [ 7.  16.2  8.9 25.5  5.5 14.7 19.6 19.2 18.2 29.1 16.1  7.5  9.4 10.7\n",
            "  3.3 25.8 22.8 13.1 26.7 13.9 17.   8.6 15.8 14.  10.1 11.8 11.6 10.\n",
            " 21.8 15.1 17.1 19.7  7.6 28.3 23.1 10.3 12.4  2.2 12.7 16.5 25.1 15.4\n",
            " 17.8 27.3 16.8 19.1 28.1 11.  12.2 26.2 13.4 14.2 23.4 18.4 22.9 15.6\n",
            " 28.5 28.7 23.3 13.5 12.3 14.6 23.9 15.2 14.4 14.3 12.1 11.9 22.7 21.1\n",
            " 17.3  8.3 20.6 13.8 11.2 15.3 15.9 13.3 25.6 24.1 24.  23.8 16.7 27.5\n",
            " 12.8 16.3  5.1 13.  11.5  4.8  8.5 21.  29.2 22.4  4.6 14.5 14.1 21.9\n",
            " 13.2 18.7 14.8 25.  23.7 21.2 20.1 19.  23.  21.6 11.4 17.5 20.9 18.1\n",
            "  8.  22.5 21.3 16.9 18.  19.4 23.6 20.8 15.7 29.6 26.5  9.2 30.  22.6\n",
            " 18.3 12.   7.3 24.5 11.3 28.  29.3 30.1 25.2 11.1 19.9  4.3 21.7 30.9\n",
            " 10.9 26.8 21.5 26.1 22.  20.3  9.6 19.3 19.5 13.7 15.5 17.6 10.6  8.4\n",
            " 32.8 29.8 29.4  0.7 10.4 12.5 28.4 28.8 10.8 22.2 26.  30.5 20.2  8.8\n",
            " 20.  14.9  7.1 13.6 18.6 20.4  4.9 24.9 11.7  6.9 10.5 19.8 23.2 26.6\n",
            " 33.6 17.2 28.9  9.5  5.2 29.9 26.9  5.6 17.7 31.8 20.7 17.9  6.1  8.1\n",
            "  9.3 26.3 15.  16.4  9.7 27.2 24.6 28.2 16.6 18.9 18.8 25.4  9.8 24.2\n",
            "  6.2  5.8 12.6  4.1 27.4  9.  25.3 10.2  2.1  4.7 18.5  7.4 30.4 17.4\n",
            " 24.4  2.7 16.  22.3  6.4 23.5 20.5 27.9 21.4 24.8  7.8 31.   6.5 30.7\n",
            "  1.2 27.1  7.9  9.1  3.8  9.9  6.  32.  32.6  8.7  8.2  7.2  7.7 24.3\n",
            " 12.9  6.8  5.4  5.7 29.  22.1 31.5 24.7 29.7  5.   6.6  3.5 25.7 -1.\n",
            " 30.8  1.6  3.9 27.8 27.  27.6 32.2  1.5 25.9 31.3  4.5 30.3  3.  26.4\n",
            "  2.5 30.2  1.  -0.9  3.6 27.7  1.3  3.1  3.7  4.2 34.3 28.6  4.4 29.5\n",
            "  2.4 30.6  4.   6.7  3.4  6.3 31.6 33.   5.9 34.4  1.4 32.7  0.8 33.2\n",
            " 34.2  2.6 31.2  0.   5.3 31.1 31.7  2.8 32.3 34.  -1.3 32.5  2.9  0.9\n",
            " 32.4  2.  -0.1  3.2 33.5 33.1 -0.3  0.3 31.9  1.8 33.8  0.6 -0.6 35.2\n",
            " 31.4 37.7  1.1 33.3  1.7 34.5 33.7 -0.5 34.8 32.9 33.4 -2.   1.9 32.1\n",
            " -0.4 34.1 -0.7  0.2  2.3 -1.5 35.5 34.7 -2.4  0.1 35.3 -1.1  0.5 34.9\n",
            " -2.9 35.1 -0.2  0.4 35.7 36.2]\n",
            "Suhu3pm [ 8.6 21.  12.5 27.2 11.5 18.6 22.8 19.3 20.6 31.6 17.5 14.4 15.7 18.9\n",
            "  3.  24.8 20.9 14.3 29.5 17.3 13.9 23.2 18.  14.6 13.1 16.  13.5 12.7\n",
            " 24.4 20.2 23.  19.1 11.1 16.4 25.1 25.4 13.  15.5 14.7  5.4 21.4 15.6\n",
            " 25.2 17.8 23.1 29.  11.8 21.9 17.9 24.5 11.4 11.  25.6 17.6 25.3 18.1\n",
            " 24.3 17.2 30.1 35.2 13.8 27.  16.7 17.1 21.6 12.9 16.3 15.1 15.3 19.\n",
            " 16.8 21.2 18.4 17.  15.  28.5 20.8 26.6 29.8 27.8 32.  14.9 12.4 17.4\n",
            " 12.  13.3  6.3  9.7 26.8 28.4 18.2 27.5 21.8 34.8  6.8 16.5 26.2 19.6\n",
            "  8.9 27.1 23.9 22.1 19.7 30.2 22.4 29.9 22.5 24.2 13.4 28.9 31.3 25.\n",
            " 10.1 32.6 16.2 24.1 33.3 18.3 22.7 14.2 28.7 15.2 20.1 16.9 33.9 20.5\n",
            " 30.3 20.  14.5 13.2 16.6  9.5 14.8 30.6 23.7 33.6 19.4 23.5 23.4 26.1\n",
            " 12.1 10.  18.7 15.4 22.  24.  15.8 11.7  2.8  8.4 16.1 12.8 31.4 31.1\n",
            " 21.3 31.9 34.  14.  26.5 28.2 37.2  6.9 33.1  7.7 27.4 27.9 28.1 21.1\n",
            " 28.3 26.4 21.5  7.2 26.9 21.7 12.6 17.7 12.3 27.7 10.2 22.2 30.9 19.2\n",
            "  8.2 11.9 18.5 31.5 41.2 19.5 29.1 12.2 36.9 25.8 24.7 11.6 20.3 37.4\n",
            " 10.4  9.8 22.6 35.5 23.3 36.8 24.9 31.2 18.8 26.7 24.6 19.9 30.4 20.4\n",
            " 15.9 10.7 10.8  9.3  1.1 30.   4.1  4.8 10.6 36.1 27.6 10.5 29.7  9.\n",
            " 20.7 33.4 13.7 29.2 27.3 23.6 19.8  8.1  9.6 28.8 32.9 30.8 29.4 11.2\n",
            "  8.3 33.5 10.9  9.1 30.7 -1.2 26.  32.4 11.3 34.9 22.3  8.7  8.5 34.4\n",
            " 33.2 26.3 41.5 10.3 31.  13.6  7.9  9.9 25.7 25.5  5.1  6.7 14.1 29.3\n",
            " 31.7 36.6 28.6 38.7 32.2 32.5 34.2  7.1 32.3  3.9 32.7 28.  22.9  4.4\n",
            " 23.8 29.6 38.9  7.6  8.8 34.6 32.1  6.6 38.1  8.   0.2 34.3 34.5 25.9\n",
            " 32.8  7.8  1.8  0.8  4.3  6.   7.5 37.1  2.  36.   2.4 33.7  6.2 36.7\n",
            " 38.   9.2  6.1  5.  35.7 37.  35.  37.3 42.3 31.8  5.3  9.4 37.5 35.4\n",
            " 30.5  7.  35.1  5.2 39.8 41.3  1.6  2.7 35.6 37.7 34.1 37.6  2.5 33.8\n",
            "  0.7 35.9  0.9  2.2 39.5 39.  36.2 40.1 38.2 39.1 33.  40.5 35.3 38.8\n",
            "  4.6  5.8 36.5 37.8 38.3  3.5  4.7  4.5 39.4 39.2 41.1 35.8 38.4 34.7\n",
            "  0.1 40.8 38.6  6.5 38.5  7.3 40.9  4.2 39.7 37.9 36.4 36.3 40.6 39.9\n",
            "  2.6  3.4  2.3 42.  41.  40.  39.6 42.2  1.   5.6  5.7  4.9 40.7 39.3\n",
            " 41.8  4.  41.9  3.7 40.3  5.9  5.5  1.3  3.2 -0.7  3.8  3.1 40.2  7.4\n",
            " 41.7  2.9]\n",
            "BersaljuHariIni [1 0]\n",
            "Class [1 0]\n"
          ],
          "name": "stdout"
        }
      ]
    },
    {
      "cell_type": "markdown",
      "metadata": {
        "id": "cFABqPyGijeD"
      },
      "source": [
        "# Data Preparation\n",
        "x = Feature<br>\n",
        "y = Class Target"
      ]
    },
    {
      "cell_type": "code",
      "metadata": {
        "id": "wRfqixkain78"
      },
      "source": [
        "#Data train\n",
        "x_train = salju_train_sampling.drop(['Class'], axis=1)\n",
        "y_train = salju_train_sampling['Class'].values"
      ],
      "execution_count": null,
      "outputs": []
    },
    {
      "cell_type": "code",
      "metadata": {
        "id": "oMYFOZhkglJU"
      },
      "source": [
        "x_train = x_train.values"
      ],
      "execution_count": null,
      "outputs": []
    },
    {
      "cell_type": "code",
      "metadata": {
        "id": "tHRzpEPcgV9j"
      },
      "source": [
        "#Data test\n",
        "x_test = salju_test_sampling.drop(['Class'], axis=1)\n",
        "y_test = salju_test_sampling['Class'].values"
      ],
      "execution_count": null,
      "outputs": []
    },
    {
      "cell_type": "code",
      "metadata": {
        "id": "gGupf6zAgiQI"
      },
      "source": [
        "x_test = x_test.values"
      ],
      "execution_count": null,
      "outputs": []
    },
    {
      "cell_type": "code",
      "metadata": {
        "colab": {
          "base_uri": "https://localhost:8080/"
        },
        "id": "mQiEu6Zgrpqt",
        "outputId": "ed0b48f3-6853-4883-d9a0-b78493a94f13"
      },
      "source": [
        "len(salju_train_sampling.columns)"
      ],
      "execution_count": null,
      "outputs": [
        {
          "output_type": "execute_result",
          "data": {
            "text/plain": [
              "23"
            ]
          },
          "metadata": {
            "tags": []
          },
          "execution_count": 208
        }
      ]
    },
    {
      "cell_type": "code",
      "metadata": {
        "colab": {
          "base_uri": "https://localhost:8080/"
        },
        "id": "E5iNV2hErymd",
        "outputId": "415c49c5-f77a-4656-c48e-e5e4c86d8e5e"
      },
      "source": [
        "len(salju_train_sampling.columns)"
      ],
      "execution_count": null,
      "outputs": [
        {
          "output_type": "execute_result",
          "data": {
            "text/plain": [
              "23"
            ]
          },
          "metadata": {
            "tags": []
          },
          "execution_count": 209
        }
      ]
    },
    {
      "cell_type": "markdown",
      "metadata": {
        "id": "f-dq2cATg0Hq"
      },
      "source": [
        "# Model"
      ]
    },
    {
      "cell_type": "markdown",
      "metadata": {
        "id": "IuILCzy7g7qa"
      },
      "source": [
        "## Decision Tree"
      ]
    },
    {
      "cell_type": "code",
      "metadata": {
        "colab": {
          "base_uri": "https://localhost:8080/"
        },
        "id": "KV4BJvYThAA4",
        "outputId": "f5d65a62-a2d8-4fac-b6af-ed9787c23dd9"
      },
      "source": [
        "clf =  tree.DecisionTreeClassifier(class_weight = 'balanced', min_samples_leaf = 15, random_state = 32)\n",
        "clf.fit(x_train, y_train)"
      ],
      "execution_count": null,
      "outputs": [
        {
          "output_type": "execute_result",
          "data": {
            "text/plain": [
              "DecisionTreeClassifier(ccp_alpha=0.0, class_weight='balanced', criterion='gini',\n",
              "                       max_depth=None, max_features=None, max_leaf_nodes=None,\n",
              "                       min_impurity_decrease=0.0, min_impurity_split=None,\n",
              "                       min_samples_leaf=15, min_samples_split=2,\n",
              "                       min_weight_fraction_leaf=0.0, presort='deprecated',\n",
              "                       random_state=32, splitter='best')"
            ]
          },
          "metadata": {
            "tags": []
          },
          "execution_count": 210
        }
      ]
    },
    {
      "cell_type": "code",
      "metadata": {
        "id": "o87j862_hhg0"
      },
      "source": [
        "y_pred_clf = clf.predict(x_test)"
      ],
      "execution_count": null,
      "outputs": []
    },
    {
      "cell_type": "code",
      "metadata": {
        "id": "BYyTv42V0NHg",
        "colab": {
          "base_uri": "https://localhost:8080/"
        },
        "outputId": "f1c025f1-39ed-4c2c-cb83-f0c1b3a96360"
      },
      "source": [
        "#Showing Confusion Matrix to know True Positive, False Positive, True Negative and False Negative\n",
        "cm_df = pd.DataFrame(cm, \n",
        "                      columns = ['Predicted Negative', 'Predicted Positive'], \n",
        "                      index = ['Actual Negative', 'Actual Positive'])\n",
        "\n",
        "#Assign True Positive, False Positive, True Negative and False Negative intu variable\n",
        "TN = cm_df.loc['Actual Negative','Predicted Negative']\n",
        "FN = cm_df.loc['Actual Positive','Predicted Negative']\n",
        "FP = cm_df.loc['Actual Negative','Predicted Positive']\n",
        "TP = cm_df.loc['Actual Positive','Predicted Positive']\n",
        "ACC = (TP+TN)/(TP+TN+FP+FN)\n",
        "print('Accuracy       : ',ACC)\n",
        "print('')\n",
        "print(classification_report(y_test,y_pred_clf))"
      ],
      "execution_count": null,
      "outputs": [
        {
          "output_type": "stream",
          "text": [
            "Accuracy       :  0.7355633035519721\n",
            "\n",
            "              precision    recall  f1-score   support\n",
            "\n",
            "           0       0.70      0.81      0.75     13773\n",
            "           1       0.77      0.66      0.71     13765\n",
            "\n",
            "    accuracy                           0.73     27538\n",
            "   macro avg       0.74      0.73      0.73     27538\n",
            "weighted avg       0.74      0.73      0.73     27538\n",
            "\n"
          ],
          "name": "stdout"
        }
      ]
    },
    {
      "cell_type": "markdown",
      "metadata": {
        "id": "mPeIq67puG0j"
      },
      "source": [
        "## Logistic Regression"
      ]
    },
    {
      "cell_type": "code",
      "metadata": {
        "id": "kEFspLhTkHRI",
        "colab": {
          "base_uri": "https://localhost:8080/"
        },
        "outputId": "27233ca3-91bc-4a5a-cde6-026581b74f4c"
      },
      "source": [
        "logreg = LogisticRegression()\n",
        "logreg.fit(x_train, y_train)"
      ],
      "execution_count": null,
      "outputs": [
        {
          "output_type": "stream",
          "text": [
            "/usr/local/lib/python3.7/dist-packages/sklearn/linear_model/_logistic.py:940: ConvergenceWarning: lbfgs failed to converge (status=1):\n",
            "STOP: TOTAL NO. of ITERATIONS REACHED LIMIT.\n",
            "\n",
            "Increase the number of iterations (max_iter) or scale the data as shown in:\n",
            "    https://scikit-learn.org/stable/modules/preprocessing.html\n",
            "Please also refer to the documentation for alternative solver options:\n",
            "    https://scikit-learn.org/stable/modules/linear_model.html#logistic-regression\n",
            "  extra_warning_msg=_LOGISTIC_SOLVER_CONVERGENCE_MSG)\n"
          ],
          "name": "stderr"
        },
        {
          "output_type": "execute_result",
          "data": {
            "text/plain": [
              "LogisticRegression(C=1.0, class_weight=None, dual=False, fit_intercept=True,\n",
              "                   intercept_scaling=1, l1_ratio=None, max_iter=100,\n",
              "                   multi_class='auto', n_jobs=None, penalty='l2',\n",
              "                   random_state=None, solver='lbfgs', tol=0.0001, verbose=0,\n",
              "                   warm_start=False)"
            ]
          },
          "metadata": {
            "tags": []
          },
          "execution_count": 213
        }
      ]
    },
    {
      "cell_type": "code",
      "metadata": {
        "id": "ZyqGMfoKkKJ7",
        "colab": {
          "base_uri": "https://localhost:8080/"
        },
        "outputId": "7c2ee27e-0445-4937-e5eb-7e8dcc1040f9"
      },
      "source": [
        "y_pred = logreg.predict(x_test)\n",
        "print('Accuracy: {:.2f}'.format(logreg.score(x_test, y_test)))\n",
        "print('')\n",
        "print(classification_report(y_test,y_pred))"
      ],
      "execution_count": null,
      "outputs": [
        {
          "output_type": "stream",
          "text": [
            "Accuracy: 0.76\n",
            "\n",
            "              precision    recall  f1-score   support\n",
            "\n",
            "           0       0.75      0.79      0.77     13773\n",
            "           1       0.78      0.74      0.76     13765\n",
            "\n",
            "    accuracy                           0.76     27538\n",
            "   macro avg       0.77      0.76      0.76     27538\n",
            "weighted avg       0.77      0.76      0.76     27538\n",
            "\n"
          ],
          "name": "stdout"
        }
      ]
    },
    {
      "cell_type": "markdown",
      "metadata": {
        "id": "vF4_w2g9uPMV"
      },
      "source": [
        "## Naive Bayes"
      ]
    },
    {
      "cell_type": "code",
      "metadata": {
        "id": "G0YaW_02uSx7"
      },
      "source": [
        "gnb = GaussianNB()\n",
        "gnb.fit(x_train, y_train.ravel())\n",
        "y_pred = gnb.predict(x_test)"
      ],
      "execution_count": null,
      "outputs": []
    },
    {
      "cell_type": "code",
      "metadata": {
        "id": "q-V8xj98ujqg",
        "colab": {
          "base_uri": "https://localhost:8080/"
        },
        "outputId": "ac682d88-d425-4442-81ad-3acbec73439d"
      },
      "source": [
        "print(\"Accuracy :\",metrics.accuracy_score(y_test, y_pred))\n",
        "print('')\n",
        "print(classification_report(y_test,y_pred))"
      ],
      "execution_count": null,
      "outputs": [
        {
          "output_type": "stream",
          "text": [
            "Accuracy : 0.7407219115404169\n",
            "\n",
            "              precision    recall  f1-score   support\n",
            "\n",
            "           0       0.72      0.78      0.75     13773\n",
            "           1       0.76      0.70      0.73     13765\n",
            "\n",
            "    accuracy                           0.74     27538\n",
            "   macro avg       0.74      0.74      0.74     27538\n",
            "weighted avg       0.74      0.74      0.74     27538\n",
            "\n"
          ],
          "name": "stdout"
        }
      ]
    },
    {
      "cell_type": "markdown",
      "metadata": {
        "id": "3zkCOWIGu0hK"
      },
      "source": [
        "# Kesimpulan Akurasi"
      ]
    },
    {
      "cell_type": "code",
      "metadata": {
        "id": "AEJbkEniu4zi",
        "colab": {
          "base_uri": "https://localhost:8080/"
        },
        "outputId": "8f6d3d80-c54d-42b4-d83b-67abfd182428"
      },
      "source": [
        "print('Decision Tree')\n",
        "print('Accuracy       : ',ACC)\n",
        "print('')\n",
        "print('Logistic Regression')\n",
        "print('Accuracy       : {:.2f}'.format(logreg.score(x_test, y_test)))\n",
        "print('')\n",
        "print('Naive bayes')\n",
        "print('Accuracy       :',metrics.accuracy_score(y_test, y_pred))"
      ],
      "execution_count": null,
      "outputs": [
        {
          "output_type": "stream",
          "text": [
            "Decision Tree\n",
            "Accuracy       :  0.7355633035519721\n",
            "\n",
            "Logistic Regression\n",
            "Accuracy       : 0.76\n",
            "\n",
            "Naive bayes\n",
            "Accuracy       : 0.7407219115404169\n"
          ],
          "name": "stdout"
        }
      ]
    }
  ]
}